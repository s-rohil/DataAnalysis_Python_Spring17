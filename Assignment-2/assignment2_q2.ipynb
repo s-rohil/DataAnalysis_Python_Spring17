{
 "cells": [
  {
   "cell_type": "markdown",
   "metadata": {
    "collapsed": true
   },
   "source": [
    "# Question 2:\n",
    "- Part 1:\n",
    "- Reading the json files under a directory and sorting them according to any category\n",
    "- Part 2:\n",
    "- Reading the json files containg key= 'restaurants' and output the details to an excel sheet"
   ]
  },
  {
   "cell_type": "code",
   "execution_count": 13,
   "metadata": {
    "collapsed": true
   },
   "outputs": [],
   "source": [
    "import glob\n",
    "import json\n",
    "import os\n",
    "import shutil"
   ]
  },
  {
   "cell_type": "code",
   "execution_count": 38,
   "metadata": {
    "collapsed": false
   },
   "outputs": [
    {
     "name": "stdout",
     "output_type": "stream",
     "text": [
      "1-abercrombie-lane-sydney.json\n"
     ]
    }
   ],
   "source": [
    "t=glob.glob('/Users/kvs25/Desktop/Data_Analysis_python/Data/*')[:1][0][47:]\n",
    "print(t)"
   ]
  },
  {
   "cell_type": "code",
   "execution_count": 29,
   "metadata": {
    "collapsed": false
   },
   "outputs": [
    {
     "name": "stdout",
     "output_type": "stream",
     "text": [
      "{'coordinates': {'latitude': 29.72796, 'longitude': -95.37673}, 'review_count': 102, 'id': '1-chicken-rice-and-seafood-houston', 'phone': '', 'photos': ['https://s3-media1.fl.yelpcdn.com/bphoto/_Eia4Ygk5pO3N0B_DmMwWw/o.jpg', 'https://s3-media3.fl.yelpcdn.com/bphoto/N6TVgiyNO-W_ijaLEbFqXg/o.jpg', 'https://s3-media1.fl.yelpcdn.com/bphoto/VIrPJv3unwE002zoPR5e8Q/o.jpg'], 'rating': 4.0, 'image_url': 'https://s3-media3.fl.yelpcdn.com/bphoto/_Eia4Ygk5pO3N0B_DmMwWw/o.jpg', 'is_closed': False, 'price': '$', 'is_claimed': True, 'hours': [{'hours_type': 'REGULAR', 'open': [{'day': 0, 'end': '2030', 'is_overnight': False, 'start': '1030'}, {'day': 1, 'end': '2030', 'is_overnight': False, 'start': '1030'}, {'day': 2, 'end': '2030', 'is_overnight': False, 'start': '1030'}, {'day': 3, 'end': '2030', 'is_overnight': False, 'start': '1030'}, {'day': 4, 'end': '2030', 'is_overnight': False, 'start': '1030'}, {'day': 5, 'end': '2000', 'is_overnight': False, 'start': '1030'}], 'is_open_now': False}], 'url': 'https://www.yelp.com/biz/1-chicken-rice-and-seafood-houston?adjust_creative=92p07_JjKyriZTQxAXRiKQ&utm_campaign=yelp_api_v3&utm_medium=api_v3_business_lookup&utm_source=92p07_JjKyriZTQxAXRiKQ', 'term': 'restaurants', 'location': {'address3': '', 'zip_code': '77004', 'address2': '', 'address1': '4621 Almeda Rd', 'city': 'Houston', 'country': 'US', 'state': 'TX'}, 'name': '#1 Chicken Rice & Seafood', 'categories': [{'alias': 'burgers', 'title': 'Burgers'}, {'alias': 'seafood', 'title': 'Seafood'}, {'alias': 'chickenshop', 'title': 'Chicken Shop'}]}\n"
     ]
    }
   ],
   "source": [
    "with open('/Users/kvs25/Desktop/Data_Analysis_python/Data/1-abercrombie-lane-sydney.json') as temp:\n",
    "    print(json.load(temp))"
   ]
  },
  {
   "cell_type": "code",
   "execution_count": 30,
   "metadata": {
    "collapsed": false
   },
   "outputs": [
    {
     "name": "stdout",
     "output_type": "stream",
     "text": [
      "/Users/kvs25/Desktop/Data_Analysis_python/s_rohil_spring17/Assignment-2/DataProcessed/US\n",
      "/Users/kvs25/Desktop/Data_Analysis_python/s_rohil_spring17/Assignment-2/DataProcessed/\n"
     ]
    }
   ],
   "source": [
    "print(os.getcwd())\n",
    "os.path.dirname('/Users/kvs25/Desktop/Data_Analysis_python/s_rohil_spring17/Assignment-2')\n",
    "os.path.exists('/Users/kvs25/Desktop/Data_Analysis_python/s_rohil_spring17/Assignment-2/DataProcessed/')\n",
    "x=os.path.join('/Users/kvs25/Desktop/','Data_Analysis_python/s_rohil_spring17/','Assignment-2/DataProcessed/')\n",
    "print(x)"
   ]
  },
  {
   "cell_type": "code",
   "execution_count": 44,
   "metadata": {
    "collapsed": false
   },
   "outputs": [],
   "source": [
    "#f=glob.glob('/Users/kvs25/Desktop/Data_Analysis_python/Data/1-abercrombie-lane-sydney.json')\n",
    "directory='/Users/kvs25/Desktop/Data_Analysis_python/s_rohil_spring17/Assignment-2/DataProcessed'\n",
    "if not os.path.exists(directory):\n",
    "    os.makedirs(directory)\n",
    "    #print(\"success\") \n",
    "for file in glob.glob('/Users/kvs25/Desktop/Data_Analysis_python/Data/*'):\n",
    "    with open(file) as json_data:\n",
    "        data = json.load(json_data)\n",
    "        country_path= data['location']['country']\n",
    "        term_path=data['term']\n",
    "        if not os.path.exists(os.path.join(directory,country_path)):\n",
    "            os.makedirs(os.path.join(directory,country_path))\n",
    "            #os.chdir(os.path.join(directory,t))\n",
    "            if not os.path.exists(os.path.join(directory,country_path,term_path)):\n",
    "                os.makedirs(os.path.join(directory,country_path,term_path))\n",
    "                os.chdir(os.path.join(directory,country_path,term_path))\n",
    "                with open(file[47:],'w') as json_file:\n",
    "                    json.dump(data, json_file)\n",
    "        else:\n",
    "            if not os.path.exists(os.path.join(directory,country_path,term_path)):\n",
    "                os.makedirs(os.path.join(directory,country_path,term_path))\n",
    "                os.chdir(os.path.join(directory,country_path,term_path))\n",
    "                with open(file[47:],'w') as json_file:\n",
    "                    json.dump(data, json_file)\n",
    "            else:\n",
    "                os.chdir(os.path.join(directory,country_path,term_path))\n",
    "                with open(file[47:],'w') as json_file:\n",
    "                    json.dump(data, json_file)\n"
   ]
  },
  {
   "cell_type": "markdown",
   "metadata": {},
   "source": [
    "# Part 2 \n"
   ]
  },
  {
   "cell_type": "code",
   "execution_count": 51,
   "metadata": {
    "collapsed": false
   },
   "outputs": [
    {
     "name": "stdout",
     "output_type": "stream",
     "text": [
      "/Users/kvs25/Desktop/Data_Analysis_python/s_rohil_spring17/Assignment-2/DataProcessed/US/restaurants\n"
     ]
    },
    {
     "ename": "FileNotFoundError",
     "evalue": "[Errno 2] No such file or directory: '1-abercrombie-lane-sydney.json'",
     "output_type": "error",
     "traceback": [
      "\u001b[0;31m---------------------------------------------------------------------------\u001b[0m",
      "\u001b[0;31mFileNotFoundError\u001b[0m                         Traceback (most recent call last)",
      "\u001b[0;32m<ipython-input-51-bbedbd346951>\u001b[0m in \u001b[0;36m<module>\u001b[0;34m()\u001b[0m\n\u001b[1;32m      2\u001b[0m \u001b[0;32mfor\u001b[0m \u001b[0mdirectory\u001b[0m\u001b[0;34m,\u001b[0m \u001b[0msubdir\u001b[0m\u001b[0;34m,\u001b[0m \u001b[0mfiles\u001b[0m \u001b[0;32min\u001b[0m \u001b[0mos\u001b[0m\u001b[0;34m.\u001b[0m\u001b[0mwalk\u001b[0m\u001b[0;34m(\u001b[0m\u001b[0mdirectory\u001b[0m\u001b[0;34m)\u001b[0m\u001b[0;34m:\u001b[0m\u001b[0;34m\u001b[0m\u001b[0m\n\u001b[1;32m      3\u001b[0m     \u001b[0;32mfor\u001b[0m \u001b[0mfile\u001b[0m \u001b[0;32min\u001b[0m \u001b[0mfiles\u001b[0m\u001b[0;34m:\u001b[0m\u001b[0;34m\u001b[0m\u001b[0m\n\u001b[0;32m----> 4\u001b[0;31m         \u001b[0;32mwith\u001b[0m \u001b[0mopen\u001b[0m\u001b[0;34m(\u001b[0m\u001b[0mfile\u001b[0m\u001b[0;34m)\u001b[0m \u001b[0;32mas\u001b[0m \u001b[0mjson_input\u001b[0m\u001b[0;34m:\u001b[0m\u001b[0;34m\u001b[0m\u001b[0m\n\u001b[0m\u001b[1;32m      5\u001b[0m             \u001b[0;32mif\u001b[0m \u001b[0mjson\u001b[0m\u001b[0;34m.\u001b[0m\u001b[0mload\u001b[0m\u001b[0;34m(\u001b[0m\u001b[0mjson_input\u001b[0m\u001b[0;34m)\u001b[0m\u001b[0;34m[\u001b[0m\u001b[0;34m'term'\u001b[0m\u001b[0;34m]\u001b[0m \u001b[0;34m==\u001b[0m \u001b[0;34m'restaurants'\u001b[0m\u001b[0;34m:\u001b[0m\u001b[0;34m\u001b[0m\u001b[0m\n\u001b[1;32m      6\u001b[0m                 \u001b[0mprint\u001b[0m\u001b[0;34m(\u001b[0m\u001b[0mtest\u001b[0m\u001b[0;34m)\u001b[0m\u001b[0;34m\u001b[0m\u001b[0m\n",
      "\u001b[0;31mFileNotFoundError\u001b[0m: [Errno 2] No such file or directory: '1-abercrombie-lane-sydney.json'"
     ]
    }
   ],
   "source": [
    "print(directory)\n",
    "for directory, subdir, files in os.walk(directory):\n",
    "    for file in files:\n",
    "        with open(file) as json_input:\n",
    "            if json.load(json_input)['term'] == 'restaurants':\n",
    "                print(test)"
   ]
  },
  {
   "cell_type": "code",
   "execution_count": null,
   "metadata": {
    "collapsed": true
   },
   "outputs": [],
   "source": []
  }
 ],
 "metadata": {
  "anaconda-cloud": {},
  "kernelspec": {
   "display_name": "Python [conda root]",
   "language": "python",
   "name": "conda-root-py"
  },
  "language_info": {
   "codemirror_mode": {
    "name": "ipython",
    "version": 3
   },
   "file_extension": ".py",
   "mimetype": "text/x-python",
   "name": "python",
   "nbconvert_exporter": "python",
   "pygments_lexer": "ipython3",
   "version": "3.5.2"
  }
 },
 "nbformat": 4,
 "nbformat_minor": 1
}
