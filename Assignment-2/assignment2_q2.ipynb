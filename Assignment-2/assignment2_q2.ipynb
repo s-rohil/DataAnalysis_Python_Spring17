{
 "cells": [
  {
   "cell_type": "markdown",
   "metadata": {
    "collapsed": true
   },
   "source": [
    "# Question 2:\n",
    "- Part 1:\n",
    "- Reading the json files under a directory and sorting them into directories and sub-directories according to Country and term category\n",
    "- Part 2:\n",
    "- Reading the json files with term as 'restaurants' and displaying details of working hours to an excel sheet"
   ]
  },
  {
   "cell_type": "code",
   "execution_count": 2,
   "metadata": {
    "collapsed": true
   },
   "outputs": [],
   "source": [
    "import glob\n",
    "import json\n",
    "import os\n",
    "import datetime\n",
    "import csv\n",
    "#import shutil"
   ]
  },
  {
   "cell_type": "code",
   "execution_count": 114,
   "metadata": {
    "collapsed": false
   },
   "outputs": [
    {
     "name": "stdout",
     "output_type": "stream",
     "text": [
      "['/Users/kvs25/Desktop/Data_Analysis_python/Data/1-abercrombie-lane-sydney.json', '/Users/kvs25/Desktop/Data_Analysis_python/Data/1-chicken-rice-and-seafood-houston.json', '/Users/kvs25/Desktop/Data_Analysis_python/Data/1-chinese-kitchen-san-jose-2.json', '/Users/kvs25/Desktop/Data_Analysis_python/Data/10-custom-pizzeria-braddon.json', '/Users/kvs25/Desktop/Data_Analysis_python/Data/10-downing-street-london.json']\n"
     ]
    }
   ],
   "source": [
    "t=glob.glob('/Users/kvs25/Desktop/Data_Analysis_python/Data/*')[:5] #[:1][0][47:]\n",
    "print(t)"
   ]
  },
  {
   "cell_type": "code",
   "execution_count": 115,
   "metadata": {
    "collapsed": false
   },
   "outputs": [
    {
     "name": "stdout",
     "output_type": "stream",
     "text": [
      "{'image_url': 'https://s3-media2.fl.yelpcdn.com/bphoto/2TqNOBATRkHgBVSwnpJQ0g/o.jpg', 'term': 'restaurants', 'is_closed': False, 'categories': [{'alias': 'pizza', 'title': 'Pizza'}], 'review_count': 3, 'is_claimed': False, 'phone': '+61262471010', 'name': \"10' Custom Pizzeria\", 'photos': ['https://s3-media4.fl.yelpcdn.com/bphoto/2TqNOBATRkHgBVSwnpJQ0g/o.jpg', 'https://s3-media4.fl.yelpcdn.com/bphoto/rlhn8dwjWahZZLR-SCiryw/o.jpg', 'https://s3-media2.fl.yelpcdn.com/bphoto/sG4Ey_FdUdE2n5L5aawlfQ/o.jpg'], 'rating': 4.5, 'location': {'city': 'Braddon', 'address2': '', 'address1': '16 Lonsdale St', 'address3': '', 'state': 'ACT', 'zip_code': '2612', 'country': 'AU'}, 'price': '$$', 'hours': [{'is_open_now': False, 'open': [{'is_overnight': False, 'day': 0, 'start': '1130', 'end': '1500'}, {'is_overnight': False, 'day': 0, 'start': '1730', 'end': '0000'}, {'is_overnight': False, 'day': 1, 'start': '1130', 'end': '1500'}, {'is_overnight': False, 'day': 1, 'start': '1730', 'end': '0000'}, {'is_overnight': False, 'day': 2, 'start': '1130', 'end': '1500'}, {'is_overnight': False, 'day': 2, 'start': '1730', 'end': '0000'}, {'is_overnight': False, 'day': 3, 'start': '1130', 'end': '1500'}, {'is_overnight': False, 'day': 3, 'start': '1730', 'end': '0000'}, {'is_overnight': False, 'day': 4, 'start': '1130', 'end': '1500'}, {'is_overnight': False, 'day': 4, 'start': '1730', 'end': '0000'}, {'is_overnight': False, 'day': 5, 'start': '1130', 'end': '1500'}, {'is_overnight': False, 'day': 5, 'start': '1730', 'end': '0000'}, {'is_overnight': False, 'day': 6, 'start': '1130', 'end': '1500'}, {'is_overnight': False, 'day': 6, 'start': '1730', 'end': '0000'}], 'hours_type': 'REGULAR'}], 'id': '10-custom-pizzeria-braddon', 'coordinates': {'latitude': -35.2739105, 'longitude': 149.1329041}, 'url': 'https://www.yelp.com/biz/10-custom-pizzeria-braddon?adjust_creative=92p07_JjKyriZTQxAXRiKQ&utm_campaign=yelp_api_v3&utm_medium=api_v3_business_lookup&utm_source=92p07_JjKyriZTQxAXRiKQ'}\n",
      "14\n",
      "2\n",
      "17\n"
     ]
    }
   ],
   "source": [
    "with open('/Users/kvs25/Desktop/Data_Analysis_python/Data/10-custom-pizzeria-braddon.json') as t:\n",
    "    #print(json.load(temp))\n",
    "    q= json.load(t)\n",
    "    print(q)\n",
    "    test=q['hours'][0]['open'][4]['day']\n",
    "    zz= q['hours'][0]['open'][1]['start']\n",
    "    zz_d=datetime.datetime.strptime(zz,'%H%M')\n",
    "    print(len(q['hours'][0]['open']))\n",
    "    print(test)\n",
    "    print(zz_d.hour)"
   ]
  },
  {
   "cell_type": "code",
   "execution_count": 116,
   "metadata": {
    "collapsed": false
   },
   "outputs": [
    {
     "name": "stdout",
     "output_type": "stream",
     "text": [
      "/Users/kvs25/Desktop/Data_Analysis_python/s_rohil_spring17/Assignment-2/DataProcessed/FR/attractions\n",
      "/Users/kvs25/Desktop/Data_Analysis_python/s_rohil_spring17/Assignment-2/DataProcessed/\n"
     ]
    }
   ],
   "source": [
    "print(os.getcwd())\n",
    "os.path.dirname('/Users/kvs25/Desktop/Data_Analysis_python/s_rohil_spring17/Assignment-2')\n",
    "os.path.exists('/Users/kvs25/Desktop/Data_Analysis_python/s_rohil_spring17/Assignment-2/DataProcessed/')\n",
    "x=os.path.join('/Users/kvs25/Desktop/','Data_Analysis_python/s_rohil_spring17/','Assignment-2/DataProcessed/')\n",
    "print(x)"
   ]
  },
  {
   "cell_type": "code",
   "execution_count": 120,
   "metadata": {
    "collapsed": false
   },
   "outputs": [],
   "source": [
    "#f=glob.glob('/Users/kvs25/Desktop/Data_Analysis_python/Data/1-abercrombie-lane-sydney.json')\n",
    "directory='/Users/kvs25/Desktop/Data_Analysis_python/s_rohil_spring17/Assignment-2/DataProcessed'\n",
    "if not os.path.exists(directory):\n",
    "    os.makedirs(directory)\n",
    "    #print(\"success\") \n",
    "for file in glob.glob('/Users/kvs25/Desktop/Data_Analysis_python/Data/*'):\n",
    "    with open(file) as json_data:\n",
    "        data = json.load(json_data)\n",
    "        country_path= data['location']['country']\n",
    "        term_path=data['term']\n",
    "        if not os.path.exists(os.path.join(directory,country_path)):\n",
    "            os.makedirs(os.path.join(directory,country_path))\n",
    "            #os.chdir(os.path.join(directory,t))\n",
    "            if not os.path.exists(os.path.join(directory,country_path,term_path)):\n",
    "                os.makedirs(os.path.join(directory,country_path,term_path))\n",
    "                os.chdir(os.path.join(directory,country_path,term_path))\n",
    "                with open(file[47:],'w') as json_file:\n",
    "                    json.dump(data, json_file)\n",
    "        else:\n",
    "            if not os.path.exists(os.path.join(directory,country_path,term_path)):\n",
    "                os.makedirs(os.path.join(directory,country_path,term_path))\n",
    "                os.chdir(os.path.join(directory,country_path,term_path))\n",
    "                with open(file[47:],'w') as json_file:\n",
    "                    json.dump(data, json_file)\n",
    "            else:\n",
    "                os.chdir(os.path.join(directory,country_path,term_path))\n",
    "                with open(file[47:],'w') as json_file:\n",
    "                    json.dump(data, json_file)\n"
   ]
  },
  {
   "cell_type": "markdown",
   "metadata": {},
   "source": [
    "# Part 2 \n"
   ]
  },
  {
   "cell_type": "code",
   "execution_count": 1,
   "metadata": {
    "collapsed": false,
    "scrolled": true
   },
   "outputs": [
    {
     "ename": "NameError",
     "evalue": "name 'os' is not defined",
     "output_type": "error",
     "traceback": [
      "\u001b[0;31m---------------------------------------------------------------------------\u001b[0m",
      "\u001b[0;31mNameError\u001b[0m                                 Traceback (most recent call last)",
      "\u001b[0;32m<ipython-input-1-13c32ec76b37>\u001b[0m in \u001b[0;36m<module>\u001b[0;34m()\u001b[0m\n\u001b[1;32m      2\u001b[0m \u001b[0;31m#count=0\u001b[0m\u001b[0;34m\u001b[0m\u001b[0;34m\u001b[0m\u001b[0m\n\u001b[1;32m      3\u001b[0m \u001b[0;31m#c=0\u001b[0m\u001b[0;34m\u001b[0m\u001b[0;34m\u001b[0m\u001b[0m\n\u001b[0;32m----> 4\u001b[0;31m \u001b[0mos\u001b[0m\u001b[0;34m.\u001b[0m\u001b[0mchdir\u001b[0m\u001b[0;34m(\u001b[0m\u001b[0;34m'/Users/kvs25/Desktop/Data_Analysis_python/s_rohil_spring17/Assignment-2/'\u001b[0m\u001b[0;34m)\u001b[0m\u001b[0;34m\u001b[0m\u001b[0m\n\u001b[0m\u001b[1;32m      5\u001b[0m \u001b[0;32mwith\u001b[0m \u001b[0mopen\u001b[0m\u001b[0;34m(\u001b[0m\u001b[0;34m'output.csv'\u001b[0m\u001b[0;34m,\u001b[0m\u001b[0;34m'w'\u001b[0m\u001b[0;34m)\u001b[0m \u001b[0;32mas\u001b[0m \u001b[0mcsvfile\u001b[0m\u001b[0;34m:\u001b[0m\u001b[0;34m\u001b[0m\u001b[0m\n\u001b[1;32m      6\u001b[0m     \u001b[0mwriter\u001b[0m \u001b[0;34m=\u001b[0m \u001b[0mcsv\u001b[0m\u001b[0;34m.\u001b[0m\u001b[0mwriter\u001b[0m\u001b[0;34m(\u001b[0m\u001b[0mcsvfile\u001b[0m\u001b[0;34m)\u001b[0m\u001b[0;34m\u001b[0m\u001b[0m\n",
      "\u001b[0;31mNameError\u001b[0m: name 'os' is not defined"
     ]
    }
   ],
   "source": [
    "default_dir= '/Users/kvs25/Desktop/Data_Analysis_python/s_rohil_spring17/Assignment-2/DataProcessed'\n",
    "#count=0\n",
    "#c=0\n",
    "os.chdir('/Users/kvs25/Desktop/Data_Analysis_python/s_rohil_spring17/Assignment-2/')\n",
    "with open('output.csv','w') as csvfile:\n",
    "    writer = csv.writer(csvfile)\n",
    "    writer.writerow(['Name of Restaurants','City','Country Code','Day of Week','Start time(hour)','Start time(mins)','End time(hour)','End time(mins)'])\n",
    "    for direct, subdir, files in os.walk(default_dir):\n",
    "        for file in files:\n",
    "            #print(file)\n",
    "            if file.endswith('.json'): #removing the files like .DS_Store\n",
    "                 with open(os.path.join(direct,file),'r',encoding='utf-8', errors='ignore') as json_input:\n",
    "                        temp= json.load(json_input)\n",
    "                        #print(temp)\n",
    "                        if temp['term'] == 'restaurants':\n",
    "                            #print(file)\n",
    "                            if 'hours' in temp.keys():\n",
    "                                for i in range(len(temp['hours'][0]['open'])):\n",
    "                                    morning_start=temp['hours'][0]['open'][i]['start']\n",
    "                                    ms_date=datetime.datetime.strptime(morning_start,'%H%M')\n",
    "                                    mornign_end=temp['hours'][0]['open'][i]['end']\n",
    "                                    me_date=datetime.datetime.strptime(mornign_end,'%H%M')\n",
    "                                    #evening_start=temp['hours'][0]['open'][i+1]['start']\n",
    "                                    #es_date=datetime.datetime.strptime(evening_start,'%H%M')\n",
    "                                    #evening_end=temp['hours'][0]['open'][i+1]['end']\n",
    "                                    #ee_date=datetime.datetime.strptime(evening_end,'%H%M')\n",
    "                                    writer.writerow([temp['name'],temp['location']['city'],temp['location']['country'],temp['hours'][0]['open'][i]['day'],ms_date.hour,ms_date.minute,me_date.hour,me_date.minute])\n",
    "                                 "
   ]
  },
  {
   "cell_type": "code",
   "execution_count": null,
   "metadata": {
    "collapsed": false,
    "scrolled": true
   },
   "outputs": [],
   "source": []
  },
  {
   "cell_type": "code",
   "execution_count": null,
   "metadata": {
    "collapsed": true
   },
   "outputs": [],
   "source": []
  }
 ],
 "metadata": {
  "anaconda-cloud": {},
  "kernelspec": {
   "display_name": "Python [conda root]",
   "language": "python",
   "name": "conda-root-py"
  },
  "language_info": {
   "codemirror_mode": {
    "name": "ipython",
    "version": 3
   },
   "file_extension": ".py",
   "mimetype": "text/x-python",
   "name": "python",
   "nbconvert_exporter": "python",
   "pygments_lexer": "ipython3",
   "version": "3.5.2"
  }
 },
 "nbformat": 4,
 "nbformat_minor": 1
}
