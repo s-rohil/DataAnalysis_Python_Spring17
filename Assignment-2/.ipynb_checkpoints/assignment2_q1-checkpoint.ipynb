{
 "cells": [
  {
   "cell_type": "markdown",
   "metadata": {},
   "source": [
    "# Question 1:\n",
    "- Proving if Zipf's law works in Natural Language using glob, matplotlib and functions with an arbitrary dataset\n",
    "\n"
   ]
  },
  {
   "cell_type": "code",
   "execution_count": 1,
   "metadata": {
    "collapsed": false
   },
   "outputs": [],
   "source": [
    "import nltk.corpus\n",
    "import glob\n",
    "import csv\n",
    "import math\n",
    "import matplotlib.pyplot as plt"
   ]
  },
  {
   "cell_type": "code",
   "execution_count": 2,
   "metadata": {
    "collapsed": false
   },
   "outputs": [],
   "source": [
    "from nltk.corpus import reuters"
   ]
  },
  {
   "cell_type": "code",
   "execution_count": 3,
   "metadata": {
    "collapsed": false
   },
   "outputs": [],
   "source": [
    "#reuters.fileids()[:15]\n",
    "#ask if we have to make graph manually or through code in ecel"
   ]
  },
  {
   "cell_type": "code",
   "execution_count": 10,
   "metadata": {
    "collapsed": false
   },
   "outputs": [
    {
     "data": {
      "text/plain": [
       "64"
      ]
     },
     "execution_count": 10,
     "metadata": {},
     "output_type": "execute_result"
    }
   ],
   "source": [
    "#for file in reuters.fileids()[:15]:\n",
    "#taking all the files starting from \"100\" in reuters/training\n",
    "len(glob.glob('/Users/kvs25/nltk_data/corpora/reuters/training/100*'))\n"
   ]
  },
  {
   "cell_type": "code",
   "execution_count": 5,
   "metadata": {
    "collapsed": false
   },
   "outputs": [],
   "source": [
    "words=[]\n",
    "#count={}\n",
    "#Using files starting from '100' under the training set in reuters corpura \n",
    "for name in glob.glob('/Users/kvs25/nltk_data/corpora/reuters/training/100*'):\n",
    "    #print(reuters.words(name)) #for words in reuters.words(name)\n",
    "    [words.append(word.lower()) for word in reuters.words(name) if word.isalpha()]\n",
    "#print(words)    "
   ]
  },
  {
   "cell_type": "code",
   "execution_count": 6,
   "metadata": {
    "collapsed": false
   },
   "outputs": [],
   "source": [
    "def word_count(l=[]):\n",
    "    freq_count={}\n",
    "    for word in l:\n",
    "        freq_count[word]=freq_count.get(word,0)+1\n",
    "    sorted_list=sorted(freq_count.items(), key=lambda x: x[1])\n",
    "    list= sorted(sorted_list,key=lambda x: x[1],reverse=True)\n",
    "    return list"
   ]
  },
  {
   "cell_type": "code",
   "execution_count": 7,
   "metadata": {
    "collapsed": false
   },
   "outputs": [],
   "source": [
    "count=1\n",
    "#print(words)\n",
    "list = word_count(words)\n",
    "with open('data.csv', 'w') as csvfile:\n",
    "    #rows=['Word1','Rank','Frequency']\n",
    "    writer = csv.writer(csvfile)\n",
    "    writer.writerow(['Word','Rank','Frequency'])\n",
    "    for item in list:\n",
    "        writer.writerow([item[0],count,item[1]])  #sucessfully written sorted data according to rank to csv file \n",
    "        count+=1\n",
    "    #for i in range(1,len(list)):\n",
    "        #if i==1:\n",
    "            #writer.writerow([list[i][0],count,list[i][1]])\n",
    "        #elif list[i-1][1]==list[i][1]:\n",
    "            #writer.writerow([list[i][0],count,list[i][1]])\n",
    "        #elif list[i-1][1]!=list[i][1]:\n",
    "            #count+=1\n",
    "            #writer.writerow([list[i][0],count,list[i][1]])\n",
    "    \n",
    "    "
   ]
  },
  {
   "cell_type": "code",
   "execution_count": 8,
   "metadata": {
    "collapsed": false
   },
   "outputs": [
    {
     "data": {
      "image/png": "[encoded data removed]",
      "text/plain": [
       "<matplotlib.figure.Figure at 0x10eb56898>"
      ]
     },
     "metadata": {},
     "output_type": "display_data"
    }
   ],
   "source": [
    "x=[]\n",
    "y=[]\n",
    "with open('data.csv','r') as file:\n",
    "    reader=csv.reader(file)\n",
    "    next(reader,None) #Ignoring the headers from the csv file\n",
    "    for row in reader:\n",
    "        x.append(math.log10(int(row[1])))\n",
    "        y.append(math.log10(int(row[2])))\n",
    "plt.plot(x,y)\n",
    "plt.xlabel('Log-Rank',fontweight='bold')\n",
    "plt.ylabel('Log-Frequency',fontweight='bold')\n",
    "plt.title(\"Zipf's Law for reuters corpora\",fontweight='bold')\n",
    "plt.show()"
   ]
  },
  {
   "cell_type": "markdown",
   "metadata": {},
   "source": [
    "# Conclusion - \n",
    "- The above graph shows that the curve between Log(Frequency) vs Log(Rank) graph is almost a straight line with a slope of -1. Hence, proving the Zipf's Law."
   ]
  },
  {
   "cell_type": "code",
   "execution_count": null,
   "metadata": {
    "collapsed": true
   },
   "outputs": [],
   "source": []
  }
 ],
 "metadata": {
  "anaconda-cloud": {},
  "kernelspec": {
   "display_name": "Python [conda root]",
   "language": "python",
   "name": "conda-root-py"
  },
  "language_info": {
   "codemirror_mode": {
    "name": "ipython",
    "version": 3
   },
   "file_extension": ".py",
   "mimetype": "text/x-python",
   "name": "python",
   "nbconvert_exporter": "python",
   "pygments_lexer": "ipython3",
   "version": "3.5.2"
  }
 },
 "nbformat": 4,
 "nbformat_minor": 1
}
