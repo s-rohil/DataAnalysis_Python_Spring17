{
 "cells": [
  {
   "cell_type": "markdown",
   "metadata": {
    "collapsed": true
   },
   "source": [
    "# Question 2:\n",
    "- Part 1:\n",
    "- Reading the json files under a directory and sorting them according to any category\n",
    "- Part 2:\n",
    "- Reading the json files containg key= 'restaurants' and output the details to an excel sheet"
   ]
  },
  {
   "cell_type": "code",
   "execution_count": 43,
   "metadata": {
    "collapsed": true
   },
   "outputs": [],
   "source": [
    "import glob\n",
    "import json\n",
    "import os\n",
    "import datetime\n",
    "#import shutil"
   ]
  },
  {
   "cell_type": "code",
   "execution_count": 38,
   "metadata": {
    "collapsed": false
   },
   "outputs": [
    {
     "name": "stdout",
     "output_type": "stream",
     "text": [
      "['/Users/kvs25/Desktop/Data_Analysis_python/Data/1-abercrombie-lane-sydney.json', '/Users/kvs25/Desktop/Data_Analysis_python/Data/1-chicken-rice-and-seafood-houston.json', '/Users/kvs25/Desktop/Data_Analysis_python/Data/1-chinese-kitchen-san-jose-2.json', '/Users/kvs25/Desktop/Data_Analysis_python/Data/10-custom-pizzeria-braddon.json', '/Users/kvs25/Desktop/Data_Analysis_python/Data/10-downing-street-london.json']\n"
     ]
    }
   ],
   "source": [
    "t=glob.glob('/Users/kvs25/Desktop/Data_Analysis_python/Data/*')[:5] #[:1][0][47:]\n",
    "print(t)"
   ]
  },
  {
   "cell_type": "code",
   "execution_count": 65,
   "metadata": {
    "collapsed": false
   },
   "outputs": [
    {
     "name": "stdout",
     "output_type": "stream",
     "text": [
      "{'image_url': 'https://s3-media2.fl.yelpcdn.com/bphoto/2TqNOBATRkHgBVSwnpJQ0g/o.jpg', 'term': 'restaurants', 'is_closed': False, 'categories': [{'alias': 'pizza', 'title': 'Pizza'}], 'review_count': 3, 'is_claimed': False, 'phone': '+61262471010', 'name': \"10' Custom Pizzeria\", 'photos': ['https://s3-media4.fl.yelpcdn.com/bphoto/2TqNOBATRkHgBVSwnpJQ0g/o.jpg', 'https://s3-media4.fl.yelpcdn.com/bphoto/rlhn8dwjWahZZLR-SCiryw/o.jpg', 'https://s3-media2.fl.yelpcdn.com/bphoto/sG4Ey_FdUdE2n5L5aawlfQ/o.jpg'], 'rating': 4.5, 'location': {'city': 'Braddon', 'address2': '', 'address1': '16 Lonsdale St', 'address3': '', 'state': 'ACT', 'zip_code': '2612', 'country': 'AU'}, 'price': '$$', 'hours': [{'is_open_now': False, 'open': [{'is_overnight': False, 'day': 0, 'start': '1130', 'end': '1500'}, {'is_overnight': False, 'day': 0, 'start': '1730', 'end': '0000'}, {'is_overnight': False, 'day': 1, 'start': '1130', 'end': '1500'}, {'is_overnight': False, 'day': 1, 'start': '1730', 'end': '0000'}, {'is_overnight': False, 'day': 2, 'start': '1130', 'end': '1500'}, {'is_overnight': False, 'day': 2, 'start': '1730', 'end': '0000'}, {'is_overnight': False, 'day': 3, 'start': '1130', 'end': '1500'}, {'is_overnight': False, 'day': 3, 'start': '1730', 'end': '0000'}, {'is_overnight': False, 'day': 4, 'start': '1130', 'end': '1500'}, {'is_overnight': False, 'day': 4, 'start': '1730', 'end': '0000'}, {'is_overnight': False, 'day': 5, 'start': '1130', 'end': '1500'}, {'is_overnight': False, 'day': 5, 'start': '1730', 'end': '0000'}, {'is_overnight': False, 'day': 6, 'start': '1130', 'end': '1500'}, {'is_overnight': False, 'day': 6, 'start': '1730', 'end': '0000'}], 'hours_type': 'REGULAR'}], 'id': '10-custom-pizzeria-braddon', 'coordinates': {'latitude': -35.2739105, 'longitude': 149.1329041}, 'url': 'https://www.yelp.com/biz/10-custom-pizzeria-braddon?adjust_creative=92p07_JjKyriZTQxAXRiKQ&utm_campaign=yelp_api_v3&utm_medium=api_v3_business_lookup&utm_source=92p07_JjKyriZTQxAXRiKQ'}\n",
      "2\n",
      "17\n"
     ]
    }
   ],
   "source": [
    "with open('/Users/kvs25/Desktop/Data_Analysis_python/Data/10-custom-pizzeria-braddon.json') as t:\n",
    "    #print(json.load(temp))\n",
    "    q= json.load(t)\n",
    "    print(q)\n",
    "    test=q['hours'][0]['open'][4]['day']\n",
    "    zz= q['hours'][0]['open'][1]['start']\n",
    "    zz_d=datetime.datetime.strptime(zz,'%H%M')\n",
    "    print(test)\n",
    "    print(zz_d.hour)"
   ]
  },
  {
   "cell_type": "code",
   "execution_count": 6,
   "metadata": {
    "collapsed": false
   },
   "outputs": [
    {
     "name": "stdout",
     "output_type": "stream",
     "text": [
      "/Users/kvs25/Desktop/Data_Analysis_python/s_rohil_spring17/Assignment-2\n",
      "/Users/kvs25/Desktop/Data_Analysis_python/s_rohil_spring17/Assignment-2/DataProcessed/\n"
     ]
    }
   ],
   "source": [
    "print(os.getcwd())\n",
    "os.path.dirname('/Users/kvs25/Desktop/Data_Analysis_python/s_rohil_spring17/Assignment-2')\n",
    "os.path.exists('/Users/kvs25/Desktop/Data_Analysis_python/s_rohil_spring17/Assignment-2/DataProcessed/')\n",
    "x=os.path.join('/Users/kvs25/Desktop/','Data_Analysis_python/s_rohil_spring17/','Assignment-2/DataProcessed/')\n",
    "print(x)"
   ]
  },
  {
   "cell_type": "code",
   "execution_count": 22,
   "metadata": {
    "collapsed": false
   },
   "outputs": [],
   "source": [
    "#f=glob.glob('/Users/kvs25/Desktop/Data_Analysis_python/Data/1-abercrombie-lane-sydney.json')\n",
    "directory='/Users/kvs25/Desktop/Data_Analysis_python/s_rohil_spring17/Assignment-2/DataProcessed'\n",
    "if not os.path.exists(directory):\n",
    "    os.makedirs(directory)\n",
    "    #print(\"success\") \n",
    "for file in glob.glob('/Users/kvs25/Desktop/Data_Analysis_python/Data/*'):\n",
    "    with open(file) as json_data:\n",
    "        data = json.load(json_data)\n",
    "        country_path= data['location']['country']\n",
    "        term_path=data['term']\n",
    "        if not os.path.exists(os.path.join(directory,country_path)):\n",
    "            os.makedirs(os.path.join(directory,country_path))\n",
    "            #os.chdir(os.path.join(directory,t))\n",
    "            if not os.path.exists(os.path.join(directory,country_path,term_path)):\n",
    "                os.makedirs(os.path.join(directory,country_path,term_path))\n",
    "                os.chdir(os.path.join(directory,country_path,term_path))\n",
    "                with open(file[47:],'w') as json_file:\n",
    "                    json.dump(data, json_file)\n",
    "        else:\n",
    "            if not os.path.exists(os.path.join(directory,country_path,term_path)):\n",
    "                os.makedirs(os.path.join(directory,country_path,term_path))\n",
    "                os.chdir(os.path.join(directory,country_path,term_path))\n",
    "                with open(file[47:],'w') as json_file:\n",
    "                    json.dump(data, json_file)\n",
    "            else:\n",
    "                os.chdir(os.path.join(directory,country_path,term_path))\n",
    "                with open(file[47:],'w') as json_file:\n",
    "                    json.dump(data, json_file)\n"
   ]
  },
  {
   "cell_type": "markdown",
   "metadata": {},
   "source": [
    "# Part 2 \n"
   ]
  },
  {
   "cell_type": "code",
   "execution_count": 75,
   "metadata": {
    "collapsed": false
   },
   "outputs": [
    {
     "ename": "JSONDecodeError",
     "evalue": "Expecting value: line 1 column 1 (char 0)",
     "output_type": "error",
     "traceback": [
      "\u001b[0;31m---------------------------------------------------------------------------\u001b[0m",
      "\u001b[0;31mJSONDecodeError\u001b[0m                           Traceback (most recent call last)",
      "\u001b[0;32m<ipython-input-75-34b6ed1dc7ae>\u001b[0m in \u001b[0;36m<module>\u001b[0;34m()\u001b[0m\n\u001b[1;32m      7\u001b[0m             \u001b[0;31m#print(file)\u001b[0m\u001b[0;34m\u001b[0m\u001b[0;34m\u001b[0m\u001b[0m\n\u001b[1;32m      8\u001b[0m             \u001b[0;32mwith\u001b[0m \u001b[0mopen\u001b[0m\u001b[0;34m(\u001b[0m\u001b[0mos\u001b[0m\u001b[0;34m.\u001b[0m\u001b[0mpath\u001b[0m\u001b[0;34m.\u001b[0m\u001b[0mjoin\u001b[0m\u001b[0;34m(\u001b[0m\u001b[0mdirect\u001b[0m\u001b[0;34m,\u001b[0m\u001b[0mfile\u001b[0m\u001b[0;34m)\u001b[0m\u001b[0;34m,\u001b[0m\u001b[0;34m'r'\u001b[0m\u001b[0;34m,\u001b[0m \u001b[0mencoding\u001b[0m\u001b[0;34m=\u001b[0m\u001b[0;34m'Windows-1252'\u001b[0m\u001b[0;34m)\u001b[0m \u001b[0;32mas\u001b[0m \u001b[0mjson_input\u001b[0m\u001b[0;34m:\u001b[0m\u001b[0;34m\u001b[0m\u001b[0m\n\u001b[0;32m----> 9\u001b[0;31m                 \u001b[0mtemp\u001b[0m\u001b[0;34m=\u001b[0m \u001b[0mjson\u001b[0m\u001b[0;34m.\u001b[0m\u001b[0mload\u001b[0m\u001b[0;34m(\u001b[0m\u001b[0mjson_input\u001b[0m\u001b[0;34m)\u001b[0m\u001b[0;34m\u001b[0m\u001b[0m\n\u001b[0m\u001b[1;32m     10\u001b[0m                 \u001b[0;31m#print(os.path.join(direct,file))\u001b[0m\u001b[0;34m\u001b[0m\u001b[0;34m\u001b[0m\u001b[0m\n\u001b[1;32m     11\u001b[0m                 \u001b[0;32mif\u001b[0m \u001b[0;32mnot\u001b[0m \u001b[0mfile\u001b[0m\u001b[0;34m.\u001b[0m\u001b[0mstartswith\u001b[0m\u001b[0;34m(\u001b[0m\u001b[0;34m'.'\u001b[0m\u001b[0;34m)\u001b[0m\u001b[0;34m:\u001b[0m \u001b[0;31m#removing the files like .DS_Store\u001b[0m\u001b[0;34m\u001b[0m\u001b[0m\n",
      "\u001b[0;32m/Users/kvs25/anaconda3/lib/python3.5/json/__init__.py\u001b[0m in \u001b[0;36mload\u001b[0;34m(fp, cls, object_hook, parse_float, parse_int, parse_constant, object_pairs_hook, **kw)\u001b[0m\n\u001b[1;32m    266\u001b[0m         \u001b[0mcls\u001b[0m\u001b[0;34m=\u001b[0m\u001b[0mcls\u001b[0m\u001b[0;34m,\u001b[0m \u001b[0mobject_hook\u001b[0m\u001b[0;34m=\u001b[0m\u001b[0mobject_hook\u001b[0m\u001b[0;34m,\u001b[0m\u001b[0;34m\u001b[0m\u001b[0m\n\u001b[1;32m    267\u001b[0m         \u001b[0mparse_float\u001b[0m\u001b[0;34m=\u001b[0m\u001b[0mparse_float\u001b[0m\u001b[0;34m,\u001b[0m \u001b[0mparse_int\u001b[0m\u001b[0;34m=\u001b[0m\u001b[0mparse_int\u001b[0m\u001b[0;34m,\u001b[0m\u001b[0;34m\u001b[0m\u001b[0m\n\u001b[0;32m--> 268\u001b[0;31m         parse_constant=parse_constant, object_pairs_hook=object_pairs_hook, **kw)\n\u001b[0m\u001b[1;32m    269\u001b[0m \u001b[0;34m\u001b[0m\u001b[0m\n\u001b[1;32m    270\u001b[0m \u001b[0;34m\u001b[0m\u001b[0m\n",
      "\u001b[0;32m/Users/kvs25/anaconda3/lib/python3.5/json/__init__.py\u001b[0m in \u001b[0;36mloads\u001b[0;34m(s, encoding, cls, object_hook, parse_float, parse_int, parse_constant, object_pairs_hook, **kw)\u001b[0m\n\u001b[1;32m    317\u001b[0m             \u001b[0mparse_int\u001b[0m \u001b[0;32mis\u001b[0m \u001b[0;32mNone\u001b[0m \u001b[0;32mand\u001b[0m \u001b[0mparse_float\u001b[0m \u001b[0;32mis\u001b[0m \u001b[0;32mNone\u001b[0m \u001b[0;32mand\u001b[0m\u001b[0;34m\u001b[0m\u001b[0m\n\u001b[1;32m    318\u001b[0m             parse_constant is None and object_pairs_hook is None and not kw):\n\u001b[0;32m--> 319\u001b[0;31m         \u001b[0;32mreturn\u001b[0m \u001b[0m_default_decoder\u001b[0m\u001b[0;34m.\u001b[0m\u001b[0mdecode\u001b[0m\u001b[0;34m(\u001b[0m\u001b[0ms\u001b[0m\u001b[0;34m)\u001b[0m\u001b[0;34m\u001b[0m\u001b[0m\n\u001b[0m\u001b[1;32m    320\u001b[0m     \u001b[0;32mif\u001b[0m \u001b[0mcls\u001b[0m \u001b[0;32mis\u001b[0m \u001b[0;32mNone\u001b[0m\u001b[0;34m:\u001b[0m\u001b[0;34m\u001b[0m\u001b[0m\n\u001b[1;32m    321\u001b[0m         \u001b[0mcls\u001b[0m \u001b[0;34m=\u001b[0m \u001b[0mJSONDecoder\u001b[0m\u001b[0;34m\u001b[0m\u001b[0m\n",
      "\u001b[0;32m/Users/kvs25/anaconda3/lib/python3.5/json/decoder.py\u001b[0m in \u001b[0;36mdecode\u001b[0;34m(self, s, _w)\u001b[0m\n\u001b[1;32m    337\u001b[0m \u001b[0;34m\u001b[0m\u001b[0m\n\u001b[1;32m    338\u001b[0m         \"\"\"\n\u001b[0;32m--> 339\u001b[0;31m         \u001b[0mobj\u001b[0m\u001b[0;34m,\u001b[0m \u001b[0mend\u001b[0m \u001b[0;34m=\u001b[0m \u001b[0mself\u001b[0m\u001b[0;34m.\u001b[0m\u001b[0mraw_decode\u001b[0m\u001b[0;34m(\u001b[0m\u001b[0ms\u001b[0m\u001b[0;34m,\u001b[0m \u001b[0midx\u001b[0m\u001b[0;34m=\u001b[0m\u001b[0m_w\u001b[0m\u001b[0;34m(\u001b[0m\u001b[0ms\u001b[0m\u001b[0;34m,\u001b[0m \u001b[0;36m0\u001b[0m\u001b[0;34m)\u001b[0m\u001b[0;34m.\u001b[0m\u001b[0mend\u001b[0m\u001b[0;34m(\u001b[0m\u001b[0;34m)\u001b[0m\u001b[0;34m)\u001b[0m\u001b[0;34m\u001b[0m\u001b[0m\n\u001b[0m\u001b[1;32m    340\u001b[0m         \u001b[0mend\u001b[0m \u001b[0;34m=\u001b[0m \u001b[0m_w\u001b[0m\u001b[0;34m(\u001b[0m\u001b[0ms\u001b[0m\u001b[0;34m,\u001b[0m \u001b[0mend\u001b[0m\u001b[0;34m)\u001b[0m\u001b[0;34m.\u001b[0m\u001b[0mend\u001b[0m\u001b[0;34m(\u001b[0m\u001b[0;34m)\u001b[0m\u001b[0;34m\u001b[0m\u001b[0m\n\u001b[1;32m    341\u001b[0m         \u001b[0;32mif\u001b[0m \u001b[0mend\u001b[0m \u001b[0;34m!=\u001b[0m \u001b[0mlen\u001b[0m\u001b[0;34m(\u001b[0m\u001b[0ms\u001b[0m\u001b[0;34m)\u001b[0m\u001b[0;34m:\u001b[0m\u001b[0;34m\u001b[0m\u001b[0m\n",
      "\u001b[0;32m/Users/kvs25/anaconda3/lib/python3.5/json/decoder.py\u001b[0m in \u001b[0;36mraw_decode\u001b[0;34m(self, s, idx)\u001b[0m\n\u001b[1;32m    355\u001b[0m             \u001b[0mobj\u001b[0m\u001b[0;34m,\u001b[0m \u001b[0mend\u001b[0m \u001b[0;34m=\u001b[0m \u001b[0mself\u001b[0m\u001b[0;34m.\u001b[0m\u001b[0mscan_once\u001b[0m\u001b[0;34m(\u001b[0m\u001b[0ms\u001b[0m\u001b[0;34m,\u001b[0m \u001b[0midx\u001b[0m\u001b[0;34m)\u001b[0m\u001b[0;34m\u001b[0m\u001b[0m\n\u001b[1;32m    356\u001b[0m         \u001b[0;32mexcept\u001b[0m \u001b[0mStopIteration\u001b[0m \u001b[0;32mas\u001b[0m \u001b[0merr\u001b[0m\u001b[0;34m:\u001b[0m\u001b[0;34m\u001b[0m\u001b[0m\n\u001b[0;32m--> 357\u001b[0;31m             \u001b[0;32mraise\u001b[0m \u001b[0mJSONDecodeError\u001b[0m\u001b[0;34m(\u001b[0m\u001b[0;34m\"Expecting value\"\u001b[0m\u001b[0;34m,\u001b[0m \u001b[0ms\u001b[0m\u001b[0;34m,\u001b[0m \u001b[0merr\u001b[0m\u001b[0;34m.\u001b[0m\u001b[0mvalue\u001b[0m\u001b[0;34m)\u001b[0m \u001b[0;32mfrom\u001b[0m \u001b[0;32mNone\u001b[0m\u001b[0;34m\u001b[0m\u001b[0m\n\u001b[0m\u001b[1;32m    358\u001b[0m         \u001b[0;32mreturn\u001b[0m \u001b[0mobj\u001b[0m\u001b[0;34m,\u001b[0m \u001b[0mend\u001b[0m\u001b[0;34m\u001b[0m\u001b[0m\n",
      "\u001b[0;31mJSONDecodeError\u001b[0m: Expecting value: line 1 column 1 (char 0)"
     ]
    }
   ],
   "source": [
    "default_dir= '/Users/kvs25/Desktop/Data_Analysis_python/s_rohil_spring17/Assignment-2/DataProcessed'\n",
    "#count=0\n",
    "#c=0\n",
    "with open('data.csv','w') as csvfile:\n",
    "    for direct, subdir, files in os.walk(default_dir):\n",
    "        for file in files:\n",
    "            #print(file)\n",
    "            with open(os.path.join(direct,file),'r', encoding='Windows-1252') as json_input:\n",
    "                temp= json.load(json_input)\n",
    "                #print(os.path.join(direct,file))\n",
    "                if not file.startswith('.'): #removing the files like .DS_Store\n",
    "                    #c+=1\n",
    "                    if temp['term'] == 'restaurants':\n",
    "                        writer = csv.writer(csvfile)\n",
    "                        writer.writerow(['Name of Restaurants','City','Country Code','Day of Week','Morning start time(hour)','Morning start time(mins)','Morning end time(hour)','Morning end time(mins)','Evening start time(hour)','Evening start time(mins)','Evening end time(hour)','Evening end time(mins)'])\n",
    "                        for i in range(0,13,2):\n",
    "                            morning_start=temp['hours'][0]['open'][i]['start']\n",
    "                            ms_date=datetime.datetime.strptime(morning_start,'%H%M')\n",
    "                            mornign_end=temp['hours'][0]['open'][i]['end']\n",
    "                            me_date=datetime.datetime.strptime(mornign_end,'%H%M')\n",
    "                            evening_start=temp['hours'][0]['open'][i+1]['start']\n",
    "                            es_date=datetime.datetime.strptime(evening_start,'%H%M')\n",
    "                            evening_end=temp['hours'][0]['open'][i+1]['end']\n",
    "                            ee_date=datetime.datetime.strptime(evening_end,'%H%M')\n",
    "                            writer.writerow(temp['name'],temp['location']['city'],temp['location']['country'],temp['hours'][0]['open'][i]['day'],ms_date.hour,ms_date.minute,me_date.hour,me_date.minute,es_date.hour,es_date.minute,ee_date.hour,ee_date.minute)\n",
    "    \n",
    "\n",
    "                        \n",
    "                    \n",
    "            \n",
    "#print(count)\n",
    "#print(c)"
   ]
  },
  {
   "cell_type": "code",
   "execution_count": null,
   "metadata": {
    "collapsed": true
   },
   "outputs": [],
   "source": []
  }
 ],
 "metadata": {
  "anaconda-cloud": {},
  "kernelspec": {
   "display_name": "Python [conda root]",
   "language": "python",
   "name": "conda-root-py"
  },
  "language_info": {
   "codemirror_mode": {
    "name": "ipython",
    "version": 3
   },
   "file_extension": ".py",
   "mimetype": "text/x-python",
   "name": "python",
   "nbconvert_exporter": "python",
   "pygments_lexer": "ipython3",
   "version": "3.5.2"
  }
 },
 "nbformat": 4,
 "nbformat_minor": 1
}
