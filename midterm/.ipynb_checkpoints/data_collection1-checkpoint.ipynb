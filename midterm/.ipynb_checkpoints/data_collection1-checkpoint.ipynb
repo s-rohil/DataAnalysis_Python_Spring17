{
 "cells": [
  {
   "cell_type": "markdown",
   "metadata": {},
   "source": [
    "# Question 2: Data collection for Analysis 1 & 2\n",
    "- Downloading the Article Search API from NYTimes.\n",
    "- Taking all the Sports articles from the year 2016 for analysis\n"
   ]
  },
  {
   "cell_type": "code",
   "execution_count": 2,
   "metadata": {
    "collapsed": false
   },
   "outputs": [],
   "source": [
    "import os\n",
    "import requests\n",
    "import csv\n",
    "import json\n",
    "import datetime\n",
    "import collections\n",
    "article_search_key = os.getenv('article_search_key')"
   ]
  },
  {
   "cell_type": "code",
   "execution_count": 3,
   "metadata": {
    "collapsed": true
   },
   "outputs": [],
   "source": [
    "r = requests.get('https://api.github.com/events')"
   ]
  },
  {
   "cell_type": "code",
   "execution_count": 4,
   "metadata": {
    "collapsed": false
   },
   "outputs": [
    {
     "name": "stdout",
     "output_type": "stream",
     "text": [
      "/Users/kvs25/Desktop/Data_Analysis_python/s_rohil_spring17/midterm\n",
      "/Users/kvs25/Desktop/Data_Analysis_python/s_rohil_spring17/midterm\n"
     ]
    }
   ],
   "source": []
  },
  {
   "cell_type": "code",
   "execution_count": 3,
   "metadata": {
    "collapsed": false,
    "scrolled": false
   },
   "outputs": [
    {
     "name": "stdout",
     "output_type": "stream",
     "text": [
      "{'status': 'OK', 'copyright': 'Copyright (c) 2013 The New York Times Company.  All Rights Reserved.', 'response': {'docs': [{'web_url': 'http://www.nytimes.com/reuters/2016/09/30/sports/soccer/30reuters-soccer-england-eve-cry.html', 'pub_date': '2016-09-30T21:30:12Z', 'byline': {'person': [], 'organization': 'REUTERS', 'original': 'By REUTERS'}, 'keywords': [], 'section_name': 'Sports', 'document_type': 'article', 'lead_paragraph': 'Everton moved up to third place in the Premier League despite being held to a 1-1 draw by Crystal Palace as Belgium strikers Christian Benteke and Romelu Lukaku both got on the scoresheet in a battling encounter on Friday.', 'slideshow_credits': None, 'headline': {'print_headline': 'Everton Up to Third Despite Being Held by Palace', 'main': 'Everton Up to Third Despite Being Held by Palace'}, 'snippet': 'Everton moved up to third place in the Premier League despite being held to a 1-1 draw by Crystal Palace as Belgium strikers Christian Benteke and Romelu Lukaku both got on the scoresheet in a battling encounter on Friday....', 'abstract': None, 'news_desk': 'None', 'blog': [], 'word_count': None, 'multimedia': [], 'source': '', 'print_page': None, '_id': '57eeda2f95d0e021d798971e', 'subsection_name': 'Soccer', 'type_of_material': 'News'}, {'web_url': 'http://www.nytimes.com/aponline/2016/09/30/sports/football/ap-fbn-nfl-fines.html', 'pub_date': '2016-09-30T21:21:02Z', 'byline': {'person': [], 'organization': 'THE ASSOCIATED PRESS', 'original': 'By THE ASSOCIATED PRESS'}, 'keywords': [], 'section_name': 'Sports', 'document_type': 'article', 'lead_paragraph': 'Washington Redskins cornerback Josh Norman was fined $48,620 by the NFL on Friday for his unnecessary roughness foul on New York Giants wide receiver Sterling Shepard last week.', 'slideshow_credits': None, 'headline': {'print_headline': \"Redskins' Norman Fined $48,620 for Hit vs. Giants Receiver\", 'main': \"Redskins' Norman Fined $48,620 for Hit vs. Giants Receiver\"}, 'snippet': 'Washington Redskins cornerback Josh Norman was fined $48,620 by the NFL on Friday for his unnecessary roughness foul on New York Giants wide receiver Sterling Shepard last week....', 'abstract': None, 'news_desk': 'None', 'blog': [], 'word_count': None, 'multimedia': [], 'source': '', 'print_page': None, '_id': '57eed83495d0e021d7989714', 'subsection_name': 'Pro Football', 'type_of_material': 'News'}, {'web_url': 'http://www.nytimes.com/aponline/2016/09/30/sports/ap-car-nascar-dover.html', 'pub_date': '2016-09-30T21:01:33Z', 'byline': {'person': [], 'organization': 'THE ASSOCIATED PRESS', 'original': 'By THE ASSOCIATED PRESS'}, 'keywords': [], 'section_name': 'Sports', 'document_type': 'article', 'lead_paragraph': 'Jimmie Johnson was despondent in the garage, his Dover dominance and championship drive over.', 'slideshow_credits': None, 'headline': {'print_headline': 'Dover Downer: Johnson Eager to Avoid Repeat Elimination', 'main': 'Dover Downer: Johnson Eager to Avoid Repeat Elimination'}, 'snippet': 'Jimmie Johnson was despondent in the garage, his Dover dominance and championship drive over....', 'abstract': None, 'news_desk': 'None', 'blog': [], 'word_count': None, 'multimedia': [], 'source': '', 'print_page': None, '_id': '57eed35d95d0e021d7989702', 'subsection_name': None, 'type_of_material': 'News'}, {'web_url': 'http://www.nytimes.com/aponline/2016/09/30/sports/baseball/ap-bbn-padres-enberg-retires-.html', 'pub_date': '2016-09-30T21:01:05Z', 'byline': {'person': [], 'organization': 'THE ASSOCIATED PRESS', 'original': 'By THE ASSOCIATED PRESS'}, 'keywords': [], 'section_name': 'Sports', 'document_type': 'article', 'lead_paragraph': 'Dick Enberg spent many Midwestern nights and Saturday afternoons listening to baseball and football broadcasts on the radio. As soon as he could, he got behind a microphone himself.', 'slideshow_credits': None, 'headline': {'print_headline': 'Oh My! Enberg in Final Innings of Long Broadcasting Career', 'main': 'Oh My! Enberg in Final Innings of Long Broadcasting Career'}, 'snippet': 'Dick Enberg spent many Midwestern nights and Saturday afternoons listening to baseball and football broadcasts on the radio. As soon as he could, he got behind a microphone himself....', 'abstract': None, 'news_desk': 'None', 'blog': [], 'word_count': None, 'multimedia': [], 'source': '', 'print_page': None, '_id': '57eed34395d0e021d7989701', 'subsection_name': 'Baseball', 'type_of_material': 'News'}, {'web_url': 'http://www.nytimes.com/aponline/2016/09/30/sports/football/ap-fbn-on-football-the-clock.html', 'pub_date': '2016-09-30T20:24:58Z', 'byline': {'person': [], 'organization': 'THE ASSOCIATED PRESS', 'original': 'By THE ASSOCIATED PRESS'}, 'keywords': [], 'section_name': 'Sports', 'document_type': 'article', 'lead_paragraph': 'Imagine driving down a highway with no signs. No speed limit indicators. No exit alerts.', 'slideshow_credits': None, 'headline': {'print_headline': 'Managing the Clock: Staying Calm Along the Chaos', 'main': 'Managing the Clock: Staying Calm Along the Chaos'}, 'snippet': 'Imagine driving down a highway with no signs. No speed limit indicators. No exit alerts....', 'abstract': None, 'news_desk': 'None', 'blog': [], 'word_count': None, 'multimedia': [], 'source': '', 'print_page': None, '_id': '57eecaf295d0e021d79896f3', 'subsection_name': 'Pro Football', 'type_of_material': 'News'}, {'web_url': 'http://www.nytimes.com/aponline/2016/09/30/sports/ap-car-nascar-qualifying.html', 'pub_date': '2016-09-30T20:23:38Z', 'byline': {'person': [], 'organization': 'THE ASSOCIATED PRESS', 'original': 'By THE ASSOCIATED PRESS'}, 'keywords': [], 'section_name': 'Sports', 'document_type': 'article', 'lead_paragraph': 'Brad Keselowski says having all 16 Chase drivers start in the front of the field will be \"fun to watch.\"', 'slideshow_credits': None, 'headline': {'print_headline': 'Keselowski Sits on 3rd Chase Race Pole After Rain at Dover', 'main': 'Keselowski Sits on 3rd Chase Race Pole After Rain at Dover'}, 'snippet': 'Brad Keselowski says having all 16 Chase drivers start in the front of the field will be \"fun to watch.\"...', 'abstract': None, 'news_desk': 'None', 'blog': [], 'word_count': None, 'multimedia': [], 'source': '', 'print_page': None, '_id': '57eeca6595d0e021d79896ef', 'subsection_name': None, 'type_of_material': 'News'}, {'web_url': 'http://www.nytimes.com/aponline/2016/09/30/sports/basketball/ap-bkn-cavaliers-lebrons-gripe.html', 'pub_date': '2016-09-30T20:06:21Z', 'byline': {'person': [], 'organization': 'THE ASSOCIATED PRESS', 'original': 'By THE ASSOCIATED PRESS'}, 'keywords': [], 'section_name': 'Sports', 'document_type': 'article', 'lead_paragraph': \"LeBron James didn't hold back in weighing in on J.R. Smith's contract impasse with the Cavaliers.\", 'slideshow_credits': None, 'headline': {'print_headline': 'LeBron James Puts Pressure on Cavs to Sign JR Smith', 'main': 'LeBron James Puts Pressure on Cavs to Sign JR Smith'}, 'snippet': \"LeBron James didn't hold back in weighing in on J.R. Smith's contract impasse with the Cavaliers....\", 'abstract': None, 'news_desk': 'None', 'blog': [], 'word_count': None, 'multimedia': [], 'source': '', 'print_page': None, '_id': '57eec69f95d0e021d79896e2', 'subsection_name': 'Pro Basketball', 'type_of_material': 'News'}, {'web_url': 'http://www.nytimes.com/aponline/2016/09/30/sports/hockey/ap-hkn-season-preview.html', 'pub_date': '2016-09-30T19:52:04Z', 'byline': {'person': [], 'organization': 'THE ASSOCIATED PRESS', 'original': 'By THE ASSOCIATED PRESS'}, 'keywords': [], 'section_name': 'Sports', 'document_type': 'article', 'lead_paragraph': \"After the Penguins paraded the Stanley Cup through the streets of Pittsburgh, Sidney Crosby took it to his hometown of Cole Harbour, Nova Scotia, Evgeni Malkin to Moscow and Phil Kessel to a children's hospital in Toronto as part of the summer-long celebration.\", 'slideshow_credits': None, 'headline': {'print_headline': 'NHL 2016-17: Odds Stacked Against Penguins Repeating', 'main': 'NHL 2016-17: Odds Stacked Against Penguins Repeating'}, 'snippet': \"After the Penguins paraded the Stanley Cup through the streets of Pittsburgh, Sidney Crosby took it to his hometown of Cole Harbour, Nova Scotia, Evgeni Malkin to Moscow and Phil Kessel to a children's hospital in Toronto as part of the summer-lon...\", 'abstract': None, 'news_desk': 'None', 'blog': [], 'word_count': None, 'multimedia': [], 'source': '', 'print_page': None, '_id': '57eec32195d0e021d79896dd', 'subsection_name': 'Hockey', 'type_of_material': 'News'}, {'web_url': 'http://www.nytimes.com/aponline/2016/09/30/sports/golf/ap-glf-ryder-cup-capsules.html', 'pub_date': '2016-09-30T19:28:35Z', 'byline': {'person': [], 'organization': 'THE ASSOCIATED PRESS', 'original': 'By THE ASSOCIATED PRESS'}, 'keywords': [], 'section_name': 'Sports', 'document_type': 'article', 'lead_paragraph': \"A capsule look at Friday's matches from the Ryder Cup:\", 'slideshow_credits': None, 'headline': {'print_headline': 'Ryder Cup Capsules', 'main': 'Ryder Cup Capsules'}, 'snippet': \"A capsule look at Friday's matches from the Ryder Cup:...\", 'abstract': None, 'news_desk': 'None', 'blog': [], 'word_count': None, 'multimedia': [], 'source': '', 'print_page': None, '_id': '57eebd8d95d0e021d79896c7', 'subsection_name': 'Golf', 'type_of_material': 'News'}, {'web_url': 'http://www.nytimes.com/reuters/2016/09/30/sports/golf/30reuters-golf-ryder-foursomes-quotes.html', 'pub_date': '2016-09-30T19:22:20Z', 'byline': {'person': [], 'organization': 'REUTERS', 'original': 'By REUTERS'}, 'keywords': [], 'section_name': 'Sports', 'document_type': 'article', 'lead_paragraph': 'Quotes from the opening foursomes session at the Ryder Cup matches between teams representing the United States and Europe at Hazeltine National Golf Club on Friday.', 'slideshow_credits': None, 'headline': {'print_headline': 'Quotes From Ryder Cup Foursomes', 'main': 'Quotes From Ryder Cup Foursomes'}, 'snippet': 'Quotes from the opening foursomes session at the Ryder Cup matches between teams representing the United States and Europe at Hazeltine National Golf Club on Friday....', 'abstract': None, 'news_desk': 'None', 'blog': [], 'word_count': None, 'multimedia': [], 'source': '', 'print_page': None, '_id': '57eebbf695d0e021d79896c3', 'subsection_name': 'Golf', 'type_of_material': 'News'}], 'meta': {'offset': 10, 'hits': 3475, 'time': 57}}}\n"
     ]
    }
   ],
   "source": [
    "url = \"https://api.nytimes.com/svc/search/v2/articlesearch.json\"\n",
    "my_params= {'api-key': article_search_key,'fq': \"section_name:(\\\"Sports\\\")\", 'begin_date': \"20160901\",'end_date': \"20160930\",'sort': \"newest\",'page': 1}\n",
    "\n",
    "with open('temp.json','w') as data:\n",
    "    temp = requests.get(url,params=my_params)\n",
    "    #temp.write(requests.get(url,params=my_params))\n",
    "    json.dump(temp.json(), data)\n",
    "print(temp.json())\n",
    "#temp['docs'][0]['']"
   ]
  },
  {
   "cell_type": "code",
   "execution_count": 19,
   "metadata": {
    "collapsed": false
   },
   "outputs": [
    {
     "name": "stdout",
     "output_type": "stream",
     "text": [
      "--------\n",
      "9\n",
      "<class 'dict'>\n",
      "<class 'dict'>\n"
     ]
    }
   ],
   "source": [
    "\n",
    "temp={n: {} for n in range(1, 13)}\n",
    "with open('temp.json','r') as read:\n",
    "    data = json.load(read)\n",
    "    print('--------')\n",
    "    #you have to iterate through 0-len(docs) to get all the articles of a particular page\n",
    "    #print(data['response']['docs'][0]['pub_date'])\n",
    "    d= data['response']['docs'][0]['pub_date']\n",
    "    date = datetime.datetime.strptime(d[:10],'%Y-%m-%d').date()\n",
    "    print(date.month)\n",
    "    #print(data['response']['docs'])\n",
    "    t = data['response']['docs'][8]['byline']\n",
    "    print(type(t))\n",
    "    #print(t)\n",
    "    print(type(data['response']['docs'][8]['byline']))\n",
    "\n"
   ]
  },
  {
   "cell_type": "code",
   "execution_count": 18,
   "metadata": {
    "collapsed": false
   },
   "outputs": [],
   "source": [
    "directory = 'Data'\n",
    "if not os.path.exists(os.path.join(directory,'Sports')):\n",
    "    print('true')\n",
    "    os.makedirs(os.path.join(directory,'Sports'))\n",
    "for i in range(1,121):\n",
    "    url = \"https://api.nytimes.com/svc/search/v2/articlesearch.json\"\n",
    "    \n",
    "    my_params= {'api-key': article_search_key,'fq': \"section_name:(\\\"Sports\\\")\", 'begin_date': \"20161201\",'end_date': \"20161231\",'sort': \"newest\",'page': i}\n",
    "    temp = requests.get(url,params=my_params)\n",
    "    data=temp.json()\n",
    "    if 'response' in data.keys():\n",
    "         for j in range(len(data['response']['docs'])):\n",
    "                subsection_name= data['response']['docs'][j]['subsection_name']\n",
    "                \n",
    "                file_name=data['response']['docs'][j]['_id']+'.json'\n",
    "                \n",
    "                if subsection_name!= None:\n",
    "                    if not os.path.exists(os.path.join(directory,'Sports',subsection_name)):\n",
    "                        os.makedirs(os.path.join(directory,'Sports',subsection_name))\n",
    "                        \n",
    "                        with open(os.path.join(directory,'Sports',subsection_name,file_name),'w') as json_file:\n",
    "                            json.dump(data['response']['docs'][j], json_file)\n",
    "                    else:\n",
    "                        with open(os.path.join(directory,'Sports',subsection_name,file_name),'w') as json_file:\n",
    "                            json.dump(data['response']['docs'][j], json_file)\n",
    "        \n",
    "   \n",
    "            \n",
    "        \n",
    "            "
   ]
  },
  {
   "cell_type": "code",
   "execution_count": null,
   "metadata": {
    "collapsed": false
   },
   "outputs": [],
   "source": []
  },
  {
   "cell_type": "code",
   "execution_count": null,
   "metadata": {
    "collapsed": true
   },
   "outputs": [],
   "source": []
  }
 ],
 "metadata": {
  "anaconda-cloud": {},
  "kernelspec": {
   "display_name": "Python [conda root]",
   "language": "python",
   "name": "conda-root-py"
  },
  "language_info": {
   "codemirror_mode": {
    "name": "ipython",
    "version": 3
   },
   "file_extension": ".py",
   "mimetype": "text/x-python",
   "name": "python",
   "nbconvert_exporter": "python",
   "pygments_lexer": "ipython3",
   "version": "3.5.2"
  }
 },
 "nbformat": 4,
 "nbformat_minor": 1
}
