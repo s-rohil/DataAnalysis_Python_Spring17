{
 "cells": [
  {
   "cell_type": "markdown",
   "metadata": {},
   "source": [
    "# Question 1 - Analysis 3:\n",
    "- Finding all possible connections to Andrew Fastow(main conspirator to hide all the losses of Enron)\n"
   ]
  },
  {
   "cell_type": "code",
   "execution_count": 11,
   "metadata": {
    "collapsed": true
   },
   "outputs": [],
   "source": [
    "from email.parser import Parser\n",
    "import os\n",
    "import datetime\n",
    "import csv\n",
    "import email\n"
   ]
  },
  {
   "cell_type": "code",
   "execution_count": 12,
   "metadata": {
    "collapsed": false
   },
   "outputs": [],
   "source": [
    "path='analysis3'\n",
    "file_name='output3.csv'\n",
    "if not os.path.exists(path):\n",
    "    os.makedirs(path)\n",
    "with open(os.path.join(path,file_name),'w') as csvfile:\n",
    "    output = csv.writer(csvfile)\n",
    "    output.writerow(['Directory','File_name','Date'])\n",
    "    for directory,subdir,files in os.walk(os.path.join('../Data/Enron')):\n",
    "        for file in files:\n",
    "            if not file.startswith('.'):\n",
    "                with open(os.path.join(directory,file),'r',encoding='utf-8',errors='ignore') as temp:\n",
    "                    data = temp.read()\n",
    "                    email = Parser().parsestr(data)\n",
    "                    date=email['Date']\n",
    "                    new_date = datetime.datetime.strptime(date[:-12],'%a, %d %b %Y %H:%M:%S')\n",
    "                    #month = new_date.month\n",
    "                    new_data = email.get_payload().lower()\n",
    "                    str_data = email.as_string().lower()\n",
    "                    receiver = email['To']\n",
    "                    sender = email['From']\n",
    "                    if receiver!=None:\n",
    "                        if 'fastow' in receiver:\n",
    "                            #print('receiver',directory,file,date)\n",
    "                            output.writerow([directory,file,date[:-12]])\n",
    "#                         elif 'fastow' in str_data:\n",
    "#                             print('full mail',directory,file) # no results\n",
    "#                         elif 'fastow' in new_data:\n",
    "#                             print('payload',directory,file) #no results\n",
    "                    elif 'fastow' in sender:\n",
    "                        output.writerow([directory,file,date[:-12]]) #no results\n",
    "                        #print('sender',directory,file)"
   ]
  },
  {
   "cell_type": "code",
   "execution_count": null,
   "metadata": {
    "collapsed": true
   },
   "outputs": [],
   "source": []
  }
 ],
 "metadata": {
  "anaconda-cloud": {},
  "kernelspec": {
   "display_name": "Python [conda root]",
   "language": "python",
   "name": "conda-root-py"
  },
  "language_info": {
   "codemirror_mode": {
    "name": "ipython",
    "version": 3
   },
   "file_extension": ".py",
   "mimetype": "text/x-python",
   "name": "python",
   "nbconvert_exporter": "python",
   "pygments_lexer": "ipython3",
   "version": "3.5.2"
  }
 },
 "nbformat": 4,
 "nbformat_minor": 1
}
