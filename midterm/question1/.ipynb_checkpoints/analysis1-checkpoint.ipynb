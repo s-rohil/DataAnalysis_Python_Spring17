{
 "cells": [
  {
   "cell_type": "markdown",
   "metadata": {},
   "source": [
    "# Question 1 - Analysis 1:\n",
    "- Finding the e-mails relevant to Enron's business and scandal during Jeffrey Skilling's tenure as CEO.\n",
    "- Matching e-mail content with a list of words specific to Enron's business"
   ]
  },
  {
   "cell_type": "code",
   "execution_count": 60,
   "metadata": {
    "collapsed": false
   },
   "outputs": [],
   "source": []
  },
  {
   "cell_type": "code",
   "execution_count": 1,
   "metadata": {
    "collapsed": false
   },
   "outputs": [],
   "source": [
    "from email.parser import Parser\n",
    "import os\n",
    "import datetime\n",
    "import csv\n",
    "import email"
   ]
  },
  {
   "cell_type": "code",
   "execution_count": 7,
   "metadata": {
    "collapsed": false
   },
   "outputs": [],
   "source": [
    "#.getcwd()\n",
    "#os.path.exists(os.path.join('../Data/Enron'))\n",
    "path='analysis1'\n",
    "file_name='output1.csv'\n",
    "match_list=['stocks','shares','gas','fax','deal'] \n",
    "#finding the list of e-mails which contain words relevant to the business during Jeffrey Skilling's tenure as the CEO\n",
    "if not os.path.exists(path):\n",
    "    os.makedirs(path)\n",
    "with open(os.path.join(path,file_name),'w') as csvfile:\n",
    "        output= csv.writer(csvfile)\n",
    "        output.writerow(['Directory','file_name','Sender','Date','Word'])\n",
    "        for directory,subdir,files in os.walk(os.path.join('../Data/Enron')):\n",
    "            #print(directory)\n",
    "            #print(subdir)\n",
    "            if('skilling-j' in directory):\n",
    "                #print(directory)\n",
    "                for file in files:\n",
    "                    #print(file)\n",
    "                    if not file.startswith('.'):\n",
    "                        with open(os.path.join(directory,file),'r',encoding='utf-8',errors='ignore') as temp:\n",
    "                            data = temp.read()\n",
    "                            new_email = Parser().parsestr(data)\n",
    "                            email = new_email.get_payload()\n",
    "                            #sender = email[\"From\"]\n",
    "                            #receiver = email['To']\n",
    "                            date=new_email['Date']\n",
    "                            #print(file)\n",
    "                            new_date = datetime.datetime.strptime(date[:-12],'%a, %d %b %Y %H:%M:%S')\n",
    "                            start= datetime.datetime.strptime('12 feb 2001 00:00:00','%d %b %Y %H:%M:%S')\n",
    "                            end= datetime.datetime.strptime('14 aug 2001 23:59:59','%d %b %Y %H:%M:%S')\n",
    "                            while new_date<end and new_date>start:\n",
    "                                temp_email = new_email.as_string()\n",
    "                                str_email = temp_email.lower()\n",
    "                                for word in match_list:\n",
    "                                    if word in str_email:\n",
    "                                        output.writerow([directory,file,new_email['From'],new_date,word])\n",
    "                                start = start+datetime.timedelta(days=1)\n",
    "                        \n",
    "            \n",
    "            \n",
    "            "
   ]
  },
  {
   "cell_type": "code",
   "execution_count": 13,
   "metadata": {
    "collapsed": true
   },
   "outputs": [],
   "source": []
  },
  {
   "cell_type": "code",
   "execution_count": 102,
   "metadata": {
    "collapsed": false
   },
   "outputs": [
    {
     "name": "stdout",
     "output_type": "stream",
     "text": [
      "Mon, 11 Dec 2000 09:20:00\n",
      "Wed, 6 Dec 2000 07:49:00\n",
      "Wed, 6 Dec 2000 07:49:00\n",
      "Wed, 16 Dec 2000 07:49:00\n"
     ]
    }
   ],
   "source": [
    "# -----TEST CASES-----\n",
    "\n",
    "#email1 = Parser().parsestr(email)\n",
    "with open('/Users/kvs25/Desktop/Data_Analysis_python/Enron/beck-s/_sent_mail/2.','r') as temp:\n",
    "    email = temp.read()\n",
    "    email1 = Parser().parsestr(email)\n",
    "    \n",
    "#print(email1)\n",
    "\n",
    "#msg = email.message_from_string(email)\n",
    "#print(msg)\n",
    "#print(type(email1))\n",
    "e = email1.as_string()\n",
    "#print(email1.as_string())\n",
    "#print(type(email1.as_string()))\n",
    "s=e.lower()\n",
    "#print(s)\n",
    "# for line in e:\n",
    "#     print(line)\n",
    "#     #for word in line:\n",
    "#         #print(word.lower())\n",
    "d=email1['Date']\n",
    "print(d[:25])\n",
    "c = 'Wed, 6 Dec 2000 07:49:00 -0800 (PST)'\n",
    "c1 = 'Wed, 16 Dec 2000 07:49:00 -0800 (PST)'\n",
    "print(c[:24])\n",
    "print(c[:-12])\n",
    "print(c1[:-12])\n",
    "#new_date = datetime.datetime.strptime(c[:25],'%a,m%d %b %Y %H:%M:%S')\n",
    "#print((new_date.month))\n",
    "#print(new_date)\n",
    "#print(d)\n",
    "#print(email1)\n",
    "# for word in email1:\n",
    "#     print(word.lower())\n"
   ]
  },
  {
   "cell_type": "code",
   "execution_count": null,
   "metadata": {
    "collapsed": true
   },
   "outputs": [],
   "source": []
  },
  {
   "cell_type": "code",
   "execution_count": null,
   "metadata": {
    "collapsed": true
   },
   "outputs": [],
   "source": []
  }
 ],
 "metadata": {
  "anaconda-cloud": {},
  "kernelspec": {
   "display_name": "Python [conda root]",
   "language": "python",
   "name": "conda-root-py"
  },
  "language_info": {
   "codemirror_mode": {
    "name": "ipython",
    "version": 3
   },
   "file_extension": ".py",
   "mimetype": "text/x-python",
   "name": "python",
   "nbconvert_exporter": "python",
   "pygments_lexer": "ipython3",
   "version": "3.5.2"
  }
 },
 "nbformat": 4,
 "nbformat_minor": 1
}
