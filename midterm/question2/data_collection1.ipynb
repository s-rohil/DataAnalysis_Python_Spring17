{
 "cells": [
  {
   "cell_type": "markdown",
   "metadata": {},
   "source": [
    "# Question 2: Data collection for Analysis 1 & 2\n",
    "- Downloading the Article Search API from NYTimes.\n",
    "- Taking all the Sports articles from the year 2016 for analysis\n"
   ]
  },
  {
   "cell_type": "code",
   "execution_count": 1,
   "metadata": {
    "collapsed": false
   },
   "outputs": [],
   "source": [
    "import os\n",
    "import requests\n",
    "import csv\n",
    "import json\n",
    "import datetime\n",
    "import collections\n",
    "article_search_key = os.getenv('article_search_key')"
   ]
  },
  {
   "cell_type": "code",
   "execution_count": 2,
   "metadata": {
    "collapsed": true
   },
   "outputs": [],
   "source": [
    "r = requests.get('https://api.github.com/events')"
   ]
  },
  {
   "cell_type": "code",
   "execution_count": null,
   "metadata": {
    "collapsed": false
   },
   "outputs": [],
   "source": []
  },
  {
   "cell_type": "code",
   "execution_count": 3,
   "metadata": {
    "collapsed": false,
    "scrolled": false
   },
   "outputs": [],
   "source": [
    "url = \"https://api.nytimes.com/svc/search/v2/articlesearch.json\"\n",
    "my_params= {'api-key': article_search_key,'fq': \"section_name:(\\\"Sports\\\")\", 'begin_date': \"20160901\",'end_date': \"20160930\",'sort': \"newest\",'page': 1}\n",
    "\n",
    "with open('temp.json','w') as data:\n",
    "    temp = requests.get(url,params=my_params)\n",
    "    #temp.write(requests.get(url,params=my_params))\n",
    "    json.dump(temp.json(), data)\n",
    "#print(temp.json())\n",
    "#temp['docs'][0]['']"
   ]
  },
  {
   "cell_type": "code",
   "execution_count": 19,
   "metadata": {
    "collapsed": false
   },
   "outputs": [
    {
     "name": "stdout",
     "output_type": "stream",
     "text": [
      "--------\n",
      "9\n",
      "<class 'dict'>\n",
      "<class 'dict'>\n"
     ]
    }
   ],
   "source": [
    "\n",
    "temp={n: {} for n in range(1, 13)}\n",
    "with open('temp.json','r') as read:\n",
    "    data = json.load(read)\n",
    "    print('--------')\n",
    "    #you have to iterate through 0-len(docs) to get all the articles of a particular page\n",
    "    #print(data['response']['docs'][0]['pub_date'])\n",
    "    d= data['response']['docs'][0]['pub_date']\n",
    "    date = datetime.datetime.strptime(d[:10],'%Y-%m-%d').date()\n",
    "    print(date.month)\n",
    "    #print(data['response']['docs'])\n",
    "    t = data['response']['docs'][8]['byline']\n",
    "    print(type(t))\n",
    "    #print(t)\n",
    "    print(type(data['response']['docs'][8]['byline']))\n",
    "\n"
   ]
  },
  {
   "cell_type": "code",
   "execution_count": 18,
   "metadata": {
    "collapsed": false
   },
   "outputs": [],
   "source": [
    "directory = 'Data'\n",
    "if not os.path.exists(os.path.join(directory,'Sports')):\n",
    "    print('true')\n",
    "    os.makedirs(os.path.join(directory,'Sports'))\n",
    "for i in range(1,121):\n",
    "    url = \"https://api.nytimes.com/svc/search/v2/articlesearch.json\"\n",
    "    \n",
    "    my_params= {'api-key': article_search_key,'fq': \"section_name:(\\\"Sports\\\")\", 'begin_date': \"20161201\",'end_date': \"20161231\",'sort': \"newest\",'page': i}\n",
    "    temp = requests.get(url,params=my_params)\n",
    "    data=temp.json()\n",
    "    if 'response' in data.keys():\n",
    "         for j in range(len(data['response']['docs'])):\n",
    "                subsection_name= data['response']['docs'][j]['subsection_name']\n",
    "                \n",
    "                file_name=data['response']['docs'][j]['_id']+'.json'\n",
    "                \n",
    "                if subsection_name!= None:\n",
    "                    if not os.path.exists(os.path.join(directory,'Sports',subsection_name)):\n",
    "                        os.makedirs(os.path.join(directory,'Sports',subsection_name))\n",
    "                        \n",
    "                        with open(os.path.join(directory,'Sports',subsection_name,file_name),'w') as json_file:\n",
    "                            json.dump(data['response']['docs'][j], json_file)\n",
    "                    else:\n",
    "                        with open(os.path.join(directory,'Sports',subsection_name,file_name),'w') as json_file:\n",
    "                            json.dump(data['response']['docs'][j], json_file)\n",
    "        \n",
    "   \n",
    "            \n",
    "        \n",
    "            "
   ]
  },
  {
   "cell_type": "code",
   "execution_count": null,
   "metadata": {
    "collapsed": false
   },
   "outputs": [],
   "source": []
  },
  {
   "cell_type": "code",
   "execution_count": null,
   "metadata": {
    "collapsed": true
   },
   "outputs": [],
   "source": []
  }
 ],
 "metadata": {
  "anaconda-cloud": {},
  "kernelspec": {
   "display_name": "Python [conda root]",
   "language": "python",
   "name": "conda-root-py"
  },
  "language_info": {
   "codemirror_mode": {
    "name": "ipython",
    "version": 3
   },
   "file_extension": ".py",
   "mimetype": "text/x-python",
   "name": "python",
   "nbconvert_exporter": "python",
   "pygments_lexer": "ipython3",
   "version": "3.5.2"
  }
 },
 "nbformat": 4,
 "nbformat_minor": 1
}
