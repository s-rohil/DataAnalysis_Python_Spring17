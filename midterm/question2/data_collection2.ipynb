{
 "cells": [
  {
   "cell_type": "markdown",
   "metadata": {},
   "source": [
    "# Question 2 : Data collection for Analysis 3\n",
    "- Downloading data from Archive API of New York Times\n",
    "- The data consists of Archived articles since 2010"
   ]
  },
  {
   "cell_type": "code",
   "execution_count": 1,
   "metadata": {
    "collapsed": true
   },
   "outputs": [],
   "source": [
    "import os\n",
    "import requests\n",
    "import csv\n",
    "import json\n",
    "import datetime\n",
    "archive_key = os.getenv('archive_key')"
   ]
  },
  {
   "cell_type": "code",
   "execution_count": 48,
   "metadata": {
    "collapsed": false,
    "scrolled": true
   },
   "outputs": [
    {
     "name": "stdout",
     "output_type": "stream",
     "text": [
      "{'document_type': 'multimedia', 'byline': [], 'slideshow_credits': None, 'abstract': None, 'multimedia': [], 'headline': {'main': 'Sudoku — Medium'}, 'print_page': None, 'keywords': [], 'snippet': 'Every day on NYTimes.com you can solve a new sudoku puzzle that matches your level of expertise.', 'source': 'The New York Times', 'lead_paragraph': 'Every day on NYTimes.com you can solve a new sudoku puzzle that matches your level of expertise.', 'word_count': '278', 'news_desk': 'Crosswords & Games', 'subsection_name': None, 'blog': [], 'type_of_material': 'Interactive Feature', 'section_name': 'Crosswords & Games', 'web_url': 'http://www.nytimes.com/interactive/crosswords/sudoku-puzzle-medium.html', '_id': '52b357fb38f0d867be2da6d1', 'pub_date': '2014-01-16T19:11:36Z'}\n"
     ]
    }
   ],
   "source": [
    "# #temp_url = 'https://api.nytimes.com/svc/archive/v1/'#+null+\"/\"+null+\".json\"\n",
    "# my_params = {'api-key' : \"4899f3cc26eb428ebf25f6b185c8ef54\"}\n",
    "# temp_url = \"https://api.nytimes.com/svc/archive/v1/2014/1.json\"\n",
    "# temp_data = requests.get(temp_url,params = my_params)\n",
    "with open(os.path.join(os.getcwd(),'../Data/Archives/2014/1/52b357fb38f0d867be2da6d1.json'),'r') as t:\n",
    "#     temp_data = requests.get(temp_url,params=my_params)\n",
    "    #temp.write(requests.get(url,params=my_params))\n",
    "    #json.dump(temp_data.json(), data)\n",
    "    x=json.load(t)\n",
    "    print(x)\n",
    "#print(temp.json())\n",
    "#print(temp_data.json())\n"
   ]
  },
  {
   "cell_type": "code",
   "execution_count": 46,
   "metadata": {
    "collapsed": false
   },
   "outputs": [],
   "source": [
    "#Data Collection and Storage\n",
    "\n",
    "my_params = {'api-key' : archive_key}\n",
    "temp_url = \"https://api.nytimes.com/svc/archive/v1/\"\n",
    "#temp_data = requests.get(temp_url,params = my_params)\n",
    "# with open('data_c2.json','w') as data:\n",
    "#     temp_data = requests.get(temp_url,params=my_params)\n",
    "#     json.dump(temp_data.json(), data)\n",
    "path = '../Data/Archives'\n",
    "if not os.path.exists(path):\n",
    "    os.makedirs(path)\n",
    "for i in range(2016,2017):\n",
    "    for k in range(1,13):\n",
    "        url=temp_url+str(i)+'/'+str(k)+'.json'\n",
    "        temp = requests.get(url,params = my_params)\n",
    "        read = temp.json()\n",
    "        if 'response' in read.keys():\n",
    "            for j in range(len(read['response']['docs'])):\n",
    "                file_name=read['response']['docs'][j]['_id']+'.json'\n",
    "                d= read['response']['docs'][j]['pub_date']\n",
    "                date = datetime.datetime.strptime(d[:10],'%Y-%m-%d').date()\n",
    "                folder1=str(date.year)\n",
    "                folder2=str(date.month)\n",
    "                if not os.path.exists(os.path.join(path,folder1)):\n",
    "                    os.makedirs((os.path.join(path,folder1)))\n",
    "                    if not os.path.exists(os.path.join(path,folder1,folder2)):\n",
    "                        os.makedirs(os.path.join(path,folder1,folder2))\n",
    "                        with open(os.path.join(path,folder1,folder2,file_name),'w') as json_file:\n",
    "                            json.dump(read['response']['docs'][j], json_file)\n",
    "                    else:\n",
    "                        with open(os.path.join(path,folder1,folder2,file_name),'w') as json_file:\n",
    "                            json.dump(read['response']['docs'][j], json_file)\n",
    "                else:\n",
    "                    if not os.path.exists(os.path.join(path,folder1,folder2)):\n",
    "                        os.makedirs(os.path.join(path,folder1,folder2))\n",
    "                        with open(os.path.join(path,folder1,folder2,file_name),'w') as json_file:\n",
    "                            json.dump(read['response']['docs'][j], json_file)\n",
    "                    else:\n",
    "                        with open(os.path.join(path,folder1,folder2,file_name),'w') as json_file:\n",
    "                            json.dump(read['response']['docs'][j], json_file)"
   ]
  },
  {
   "cell_type": "code",
   "execution_count": 25,
   "metadata": {
    "collapsed": false
   },
   "outputs": [
    {
     "name": "stdout",
     "output_type": "stream",
     "text": [
      "False\n"
     ]
    }
   ],
   "source": []
  },
  {
   "cell_type": "code",
   "execution_count": 41,
   "metadata": {
    "collapsed": false
   },
   "outputs": [
    {
     "name": "stdout",
     "output_type": "stream",
     "text": [
      "10\n"
     ]
    }
   ],
   "source": []
  },
  {
   "cell_type": "code",
   "execution_count": null,
   "metadata": {
    "collapsed": true
   },
   "outputs": [],
   "source": []
  }
 ],
 "metadata": {
  "anaconda-cloud": {},
  "kernelspec": {
   "display_name": "Python [conda root]",
   "language": "python",
   "name": "conda-root-py"
  },
  "language_info": {
   "codemirror_mode": {
    "name": "ipython",
    "version": 3
   },
   "file_extension": ".py",
   "mimetype": "text/x-python",
   "name": "python",
   "nbconvert_exporter": "python",
   "pygments_lexer": "ipython3",
   "version": "3.5.2"
  }
 },
 "nbformat": 4,
 "nbformat_minor": 1
}
