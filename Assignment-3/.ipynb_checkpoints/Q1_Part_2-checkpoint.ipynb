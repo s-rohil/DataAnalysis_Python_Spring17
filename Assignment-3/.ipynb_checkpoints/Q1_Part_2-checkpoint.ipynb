{
 "cells": [
  {
   "cell_type": "code",
   "execution_count": null,
   "metadata": {
    "collapsed": true
   },
   "outputs": [],
   "source": []
  },
  {
   "cell_type": "code",
   "execution_count": 2,
   "metadata": {
    "collapsed": false
   },
   "outputs": [
    {
     "name": "stderr",
     "output_type": "stream",
     "text": [
      "/Users/kvs25/anaconda3/lib/python3.5/site-packages/numexpr/cpuinfo.py:53: UserWarning: [Errno 2] No such file or directory: 'arch'\n",
      "  stacklevel=stacklevel + 1)\n",
      "/Users/kvs25/anaconda3/lib/python3.5/site-packages/numexpr/cpuinfo.py:53: UserWarning: [Errno 2] No such file or directory: 'machine'\n",
      "  stacklevel=stacklevel + 1)\n",
      "/Users/kvs25/anaconda3/lib/python3.5/site-packages/numexpr/cpuinfo.py:76: UserWarning: [Errno 2] No such file or directory: 'sysctl'\n",
      "  stacklevel=stacklevel + 1):\n"
     ]
    }
   ],
   "source": [
    "import pandas as pd\n",
    "import os\n",
    "import datetime\n",
    "import numpy as np\n",
    "import calendar"
   ]
  },
  {
   "cell_type": "code",
   "execution_count": 3,
   "metadata": {
    "collapsed": true
   },
   "outputs": [],
   "source": [
    "df = pd.read_csv('vehicle_collisions.csv',parse_dates=['DATE'],infer_datetime_format=True)"
   ]
  },
  {
   "cell_type": "code",
   "execution_count": 4,
   "metadata": {
    "collapsed": false
   },
   "outputs": [],
   "source": [
    "#df=df.replace(np.nan, '', regex=True)\n",
    "df.columns = [c.replace(' ', '_') for c in df.columns]"
   ]
  },
  {
   "cell_type": "code",
   "execution_count": 5,
   "metadata": {
    "collapsed": false
   },
   "outputs": [
    {
     "data": {
      "text/html": [
       "<div>\n",
       "<table border=\"1\" class=\"dataframe\">\n",
       "  <thead>\n",
       "    <tr style=\"text-align: right;\">\n",
       "      <th></th>\n",
       "      <th>UNIQUE_KEY</th>\n",
       "      <th>DATE</th>\n",
       "      <th>TIME</th>\n",
       "      <th>BOROUGH</th>\n",
       "      <th>ZIP_CODE</th>\n",
       "      <th>LATITUDE</th>\n",
       "      <th>LONGITUDE</th>\n",
       "      <th>LOCATION</th>\n",
       "      <th>ON_STREET_NAME</th>\n",
       "      <th>CROSS_STREET_NAME</th>\n",
       "      <th>...</th>\n",
       "      <th>VEHICLE_1_TYPE</th>\n",
       "      <th>VEHICLE_2_TYPE</th>\n",
       "      <th>VEHICLE_3_TYPE</th>\n",
       "      <th>VEHICLE_4_TYPE</th>\n",
       "      <th>VEHICLE_5_TYPE</th>\n",
       "      <th>VEHICLE_1_FACTOR</th>\n",
       "      <th>VEHICLE_2_FACTOR</th>\n",
       "      <th>VEHICLE_3_FACTOR</th>\n",
       "      <th>VEHICLE_4_FACTOR</th>\n",
       "      <th>VEHICLE_5_FACTOR</th>\n",
       "    </tr>\n",
       "  </thead>\n",
       "  <tbody>\n",
       "    <tr>\n",
       "      <th>0</th>\n",
       "      <td>3146911</td>\n",
       "      <td>2015-01-01</td>\n",
       "      <td>0:20</td>\n",
       "      <td>QUEENS</td>\n",
       "      <td>11358.0</td>\n",
       "      <td>40.751847</td>\n",
       "      <td>-73.787862</td>\n",
       "      <td>(40.7518471, -73.787862)</td>\n",
       "      <td>47 AVENUE</td>\n",
       "      <td>193 STREET</td>\n",
       "      <td>...</td>\n",
       "      <td>SPORT UTILITY/STATION WAGON</td>\n",
       "      <td>NaN</td>\n",
       "      <td>NaN</td>\n",
       "      <td>NaN</td>\n",
       "      <td>NaN</td>\n",
       "      <td>TRAFFIC CONTROL DISREGARDED</td>\n",
       "      <td>NaN</td>\n",
       "      <td>NaN</td>\n",
       "      <td>NaN</td>\n",
       "      <td>NaN</td>\n",
       "    </tr>\n",
       "    <tr>\n",
       "      <th>1</th>\n",
       "      <td>3146180</td>\n",
       "      <td>2015-01-01</td>\n",
       "      <td>0:20</td>\n",
       "      <td>NaN</td>\n",
       "      <td>NaN</td>\n",
       "      <td>40.771289</td>\n",
       "      <td>-73.946693</td>\n",
       "      <td>(40.7712888, -73.9466928)</td>\n",
       "      <td>NaN</td>\n",
       "      <td>NaN</td>\n",
       "      <td>...</td>\n",
       "      <td>PASSENGER VEHICLE</td>\n",
       "      <td>NaN</td>\n",
       "      <td>NaN</td>\n",
       "      <td>NaN</td>\n",
       "      <td>NaN</td>\n",
       "      <td>ANIMALS ACTION</td>\n",
       "      <td>NaN</td>\n",
       "      <td>NaN</td>\n",
       "      <td>NaN</td>\n",
       "      <td>NaN</td>\n",
       "    </tr>\n",
       "    <tr>\n",
       "      <th>2</th>\n",
       "      <td>3146384</td>\n",
       "      <td>2015-01-01</td>\n",
       "      <td>0:21</td>\n",
       "      <td>BROOKLYN</td>\n",
       "      <td>11205.0</td>\n",
       "      <td>40.689445</td>\n",
       "      <td>-73.955121</td>\n",
       "      <td>(40.6894449, -73.9551212)</td>\n",
       "      <td>BEDFORD AVENUE</td>\n",
       "      <td>LAFAYETTE AVENUE</td>\n",
       "      <td>...</td>\n",
       "      <td>PASSENGER VEHICLE</td>\n",
       "      <td>UNKNOWN</td>\n",
       "      <td>NaN</td>\n",
       "      <td>NaN</td>\n",
       "      <td>NaN</td>\n",
       "      <td>FATIGUED/DROWSY</td>\n",
       "      <td>UNSPECIFIED</td>\n",
       "      <td>NaN</td>\n",
       "      <td>NaN</td>\n",
       "      <td>NaN</td>\n",
       "    </tr>\n",
       "    <tr>\n",
       "      <th>3</th>\n",
       "      <td>3146013</td>\n",
       "      <td>2015-01-01</td>\n",
       "      <td>0:30</td>\n",
       "      <td>BROOKLYN</td>\n",
       "      <td>11213.0</td>\n",
       "      <td>40.673845</td>\n",
       "      <td>-73.925080</td>\n",
       "      <td>(40.6738445, -73.9250801)</td>\n",
       "      <td>BUFFALO AVENUE</td>\n",
       "      <td>SAINT MARKS AVENUE</td>\n",
       "      <td>...</td>\n",
       "      <td>BUS</td>\n",
       "      <td>PASSENGER VEHICLE</td>\n",
       "      <td>NaN</td>\n",
       "      <td>NaN</td>\n",
       "      <td>NaN</td>\n",
       "      <td>LOST CONSCIOUSNESS</td>\n",
       "      <td>NaN</td>\n",
       "      <td>NaN</td>\n",
       "      <td>NaN</td>\n",
       "      <td>NaN</td>\n",
       "    </tr>\n",
       "    <tr>\n",
       "      <th>4</th>\n",
       "      <td>3146120</td>\n",
       "      <td>2015-01-01</td>\n",
       "      <td>0:33</td>\n",
       "      <td>NaN</td>\n",
       "      <td>NaN</td>\n",
       "      <td>NaN</td>\n",
       "      <td>NaN</td>\n",
       "      <td>NaN</td>\n",
       "      <td>RICHMOND TERRACE</td>\n",
       "      <td>SOUTH AVENUE</td>\n",
       "      <td>...</td>\n",
       "      <td>UNKNOWN</td>\n",
       "      <td>PASSENGER VEHICLE</td>\n",
       "      <td>NaN</td>\n",
       "      <td>NaN</td>\n",
       "      <td>NaN</td>\n",
       "      <td>UNSPECIFIED</td>\n",
       "      <td>UNSPECIFIED</td>\n",
       "      <td>NaN</td>\n",
       "      <td>NaN</td>\n",
       "      <td>NaN</td>\n",
       "    </tr>\n",
       "  </tbody>\n",
       "</table>\n",
       "<p>5 rows × 29 columns</p>\n",
       "</div>"
      ],
      "text/plain": [
       "   UNIQUE_KEY       DATE  TIME   BOROUGH  ZIP_CODE   LATITUDE  LONGITUDE  \\\n",
       "0     3146911 2015-01-01  0:20    QUEENS   11358.0  40.751847 -73.787862   \n",
       "1     3146180 2015-01-01  0:20       NaN       NaN  40.771289 -73.946693   \n",
       "2     3146384 2015-01-01  0:21  BROOKLYN   11205.0  40.689445 -73.955121   \n",
       "3     3146013 2015-01-01  0:30  BROOKLYN   11213.0  40.673845 -73.925080   \n",
       "4     3146120 2015-01-01  0:33       NaN       NaN        NaN        NaN   \n",
       "\n",
       "                    LOCATION    ON_STREET_NAME   CROSS_STREET_NAME  \\\n",
       "0   (40.7518471, -73.787862)         47 AVENUE          193 STREET   \n",
       "1  (40.7712888, -73.9466928)               NaN                 NaN   \n",
       "2  (40.6894449, -73.9551212)    BEDFORD AVENUE    LAFAYETTE AVENUE   \n",
       "3  (40.6738445, -73.9250801)    BUFFALO AVENUE  SAINT MARKS AVENUE   \n",
       "4                        NaN  RICHMOND TERRACE        SOUTH AVENUE   \n",
       "\n",
       "        ...                      VEHICLE_1_TYPE     VEHICLE_2_TYPE  \\\n",
       "0       ...         SPORT UTILITY/STATION WAGON                NaN   \n",
       "1       ...                   PASSENGER VEHICLE                NaN   \n",
       "2       ...                   PASSENGER VEHICLE            UNKNOWN   \n",
       "3       ...                                 BUS  PASSENGER VEHICLE   \n",
       "4       ...                             UNKNOWN  PASSENGER VEHICLE   \n",
       "\n",
       "   VEHICLE_3_TYPE  VEHICLE_4_TYPE  VEHICLE_5_TYPE  \\\n",
       "0             NaN             NaN             NaN   \n",
       "1             NaN             NaN             NaN   \n",
       "2             NaN             NaN             NaN   \n",
       "3             NaN             NaN             NaN   \n",
       "4             NaN             NaN             NaN   \n",
       "\n",
       "              VEHICLE_1_FACTOR  VEHICLE_2_FACTOR  VEHICLE_3_FACTOR  \\\n",
       "0  TRAFFIC CONTROL DISREGARDED               NaN               NaN   \n",
       "1               ANIMALS ACTION               NaN               NaN   \n",
       "2              FATIGUED/DROWSY       UNSPECIFIED               NaN   \n",
       "3           LOST CONSCIOUSNESS               NaN               NaN   \n",
       "4                  UNSPECIFIED       UNSPECIFIED               NaN   \n",
       "\n",
       "   VEHICLE_4_FACTOR VEHICLE_5_FACTOR  \n",
       "0               NaN              NaN  \n",
       "1               NaN              NaN  \n",
       "2               NaN              NaN  \n",
       "3               NaN              NaN  \n",
       "4               NaN              NaN  \n",
       "\n",
       "[5 rows x 29 columns]"
      ]
     },
     "execution_count": 5,
     "metadata": {},
     "output_type": "execute_result"
    }
   ],
   "source": [
    "df.head()"
   ]
  },
  {
   "cell_type": "code",
   "execution_count": 6,
   "metadata": {
    "collapsed": false
   },
   "outputs": [],
   "source": [
    "#df.BOROUGH.notnull()"
   ]
  },
  {
   "cell_type": "code",
   "execution_count": 7,
   "metadata": {
    "collapsed": false
   },
   "outputs": [
    {
     "data": {
      "text/plain": [
       "UNIQUE_KEY             83602\n",
       "DATE                   83602\n",
       "TIME                   83602\n",
       "BOROUGH                83602\n",
       "ZIP_CODE               83600\n",
       "LATITUDE               77163\n",
       "LONGITUDE              77163\n",
       "LOCATION               77163\n",
       "ON_STREET_NAME         73613\n",
       "CROSS_STREET_NAME      73614\n",
       "OFF_STREET_NAME         9975\n",
       "PERSONS_INJURED        83602\n",
       "PERSONS_KILLED         83602\n",
       "PEDESTRIANS_INJURED    83602\n",
       "PEDESTRIANS_KILLED     83602\n",
       "CYCLISTS_INJURED       83602\n",
       "CYCLISTS_KILLED        83602\n",
       "MOTORISTS_INJURED      83602\n",
       "MOTORISTS_KILLED       83602\n",
       "VEHICLE_1_TYPE         82801\n",
       "VEHICLE_2_TYPE         69483\n",
       "VEHICLE_3_TYPE          2525\n",
       "VEHICLE_4_TYPE           501\n",
       "VEHICLE_5_TYPE           129\n",
       "VEHICLE_1_FACTOR       82737\n",
       "VEHICLE_2_FACTOR       71940\n",
       "VEHICLE_3_FACTOR        2661\n",
       "VEHICLE_4_FACTOR         544\n",
       "VEHICLE_5_FACTOR         145\n",
       "dtype: int64"
      ]
     },
     "execution_count": 7,
     "metadata": {},
     "output_type": "execute_result"
    }
   ],
   "source": [
    "df[df.BOROUGH=='MANHATTAN'].notnull().sum()"
   ]
  },
  {
   "cell_type": "code",
   "execution_count": 9,
   "metadata": {
    "collapsed": false
   },
   "outputs": [],
   "source": [
    "#testing for getting only the output where Borough = Queens\n",
    "manhattan_data=df[df.BOROUGH=='QUEENS']"
   ]
  },
  {
   "cell_type": "code",
   "execution_count": 11,
   "metadata": {
    "collapsed": false
   },
   "outputs": [
    {
     "data": {
      "text/html": [
       "<div>\n",
       "<table border=\"1\" class=\"dataframe\">\n",
       "  <thead>\n",
       "    <tr style=\"text-align: right;\">\n",
       "      <th></th>\n",
       "      <th>UNIQUE_KEY</th>\n",
       "      <th>DATE</th>\n",
       "      <th>TIME</th>\n",
       "      <th>BOROUGH</th>\n",
       "      <th>ZIP_CODE</th>\n",
       "      <th>LATITUDE</th>\n",
       "      <th>LONGITUDE</th>\n",
       "      <th>LOCATION</th>\n",
       "      <th>ON_STREET_NAME</th>\n",
       "      <th>CROSS_STREET_NAME</th>\n",
       "      <th>...</th>\n",
       "      <th>VEHICLE_1_TYPE</th>\n",
       "      <th>VEHICLE_2_TYPE</th>\n",
       "      <th>VEHICLE_3_TYPE</th>\n",
       "      <th>VEHICLE_4_TYPE</th>\n",
       "      <th>VEHICLE_5_TYPE</th>\n",
       "      <th>VEHICLE_1_FACTOR</th>\n",
       "      <th>VEHICLE_2_FACTOR</th>\n",
       "      <th>VEHICLE_3_FACTOR</th>\n",
       "      <th>VEHICLE_4_FACTOR</th>\n",
       "      <th>VEHICLE_5_FACTOR</th>\n",
       "    </tr>\n",
       "  </thead>\n",
       "  <tbody>\n",
       "    <tr>\n",
       "      <th>0</th>\n",
       "      <td>3146911</td>\n",
       "      <td>2015-01-01</td>\n",
       "      <td>0:20</td>\n",
       "      <td>QUEENS</td>\n",
       "      <td>11358.0</td>\n",
       "      <td>40.751847</td>\n",
       "      <td>-73.787862</td>\n",
       "      <td>(40.7518471, -73.787862)</td>\n",
       "      <td>47 AVENUE</td>\n",
       "      <td>193 STREET</td>\n",
       "      <td>...</td>\n",
       "      <td>SPORT UTILITY/STATION WAGON</td>\n",
       "      <td>NaN</td>\n",
       "      <td>NaN</td>\n",
       "      <td>NaN</td>\n",
       "      <td>NaN</td>\n",
       "      <td>TRAFFIC CONTROL DISREGARDED</td>\n",
       "      <td>NaN</td>\n",
       "      <td>NaN</td>\n",
       "      <td>NaN</td>\n",
       "      <td>NaN</td>\n",
       "    </tr>\n",
       "    <tr>\n",
       "      <th>6</th>\n",
       "      <td>3146102</td>\n",
       "      <td>2015-01-01</td>\n",
       "      <td>10:00</td>\n",
       "      <td>QUEENS</td>\n",
       "      <td>11105.0</td>\n",
       "      <td>40.776519</td>\n",
       "      <td>-73.915920</td>\n",
       "      <td>(40.7765195, -73.91592)</td>\n",
       "      <td>26 STREET</td>\n",
       "      <td>23 AVENUE</td>\n",
       "      <td>...</td>\n",
       "      <td>PASSENGER VEHICLE</td>\n",
       "      <td>PASSENGER VEHICLE</td>\n",
       "      <td>SPORT UTILITY/STATION WAGON</td>\n",
       "      <td>NaN</td>\n",
       "      <td>NaN</td>\n",
       "      <td>ALCOHOL INVOLVEMENT</td>\n",
       "      <td>UNSPECIFIED</td>\n",
       "      <td>UNSPECIFIED</td>\n",
       "      <td>NaN</td>\n",
       "      <td>NaN</td>\n",
       "    </tr>\n",
       "    <tr>\n",
       "      <th>13</th>\n",
       "      <td>3146083</td>\n",
       "      <td>2015-01-01</td>\n",
       "      <td>10:30</td>\n",
       "      <td>QUEENS</td>\n",
       "      <td>11354.0</td>\n",
       "      <td>40.769353</td>\n",
       "      <td>-73.832577</td>\n",
       "      <td>(40.7693526, -73.8325765)</td>\n",
       "      <td>LINDEN PLACE</td>\n",
       "      <td>31 ROAD</td>\n",
       "      <td>...</td>\n",
       "      <td>PASSENGER VEHICLE</td>\n",
       "      <td>SPORT UTILITY/STATION WAGON</td>\n",
       "      <td>NaN</td>\n",
       "      <td>NaN</td>\n",
       "      <td>NaN</td>\n",
       "      <td>UNSPECIFIED</td>\n",
       "      <td>UNSPECIFIED</td>\n",
       "      <td>NaN</td>\n",
       "      <td>NaN</td>\n",
       "      <td>NaN</td>\n",
       "    </tr>\n",
       "    <tr>\n",
       "      <th>14</th>\n",
       "      <td>3146907</td>\n",
       "      <td>2015-01-01</td>\n",
       "      <td>10:36</td>\n",
       "      <td>QUEENS</td>\n",
       "      <td>11368.0</td>\n",
       "      <td>40.740039</td>\n",
       "      <td>-73.852880</td>\n",
       "      <td>(40.740039, -73.8528801)</td>\n",
       "      <td>WESTSIDE AVENUE</td>\n",
       "      <td>VANDOREN STREET</td>\n",
       "      <td>...</td>\n",
       "      <td>PASSENGER VEHICLE</td>\n",
       "      <td>UNKNOWN</td>\n",
       "      <td>NaN</td>\n",
       "      <td>NaN</td>\n",
       "      <td>NaN</td>\n",
       "      <td>UNSPECIFIED</td>\n",
       "      <td>UNSPECIFIED</td>\n",
       "      <td>NaN</td>\n",
       "      <td>NaN</td>\n",
       "      <td>NaN</td>\n",
       "    </tr>\n",
       "    <tr>\n",
       "      <th>18</th>\n",
       "      <td>3146046</td>\n",
       "      <td>2015-01-01</td>\n",
       "      <td>11:20</td>\n",
       "      <td>QUEENS</td>\n",
       "      <td>11419.0</td>\n",
       "      <td>40.689710</td>\n",
       "      <td>-73.826856</td>\n",
       "      <td>(40.6897104, -73.8268556)</td>\n",
       "      <td>101 AVENUE</td>\n",
       "      <td>118 STREET</td>\n",
       "      <td>...</td>\n",
       "      <td>PASSENGER VEHICLE</td>\n",
       "      <td>PASSENGER VEHICLE</td>\n",
       "      <td>NaN</td>\n",
       "      <td>NaN</td>\n",
       "      <td>NaN</td>\n",
       "      <td>UNSPECIFIED</td>\n",
       "      <td>UNSPECIFIED</td>\n",
       "      <td>NaN</td>\n",
       "      <td>NaN</td>\n",
       "      <td>NaN</td>\n",
       "    </tr>\n",
       "  </tbody>\n",
       "</table>\n",
       "<p>5 rows × 29 columns</p>\n",
       "</div>"
      ],
      "text/plain": [
       "    UNIQUE_KEY       DATE   TIME BOROUGH  ZIP_CODE   LATITUDE  LONGITUDE  \\\n",
       "0      3146911 2015-01-01   0:20  QUEENS   11358.0  40.751847 -73.787862   \n",
       "6      3146102 2015-01-01  10:00  QUEENS   11105.0  40.776519 -73.915920   \n",
       "13     3146083 2015-01-01  10:30  QUEENS   11354.0  40.769353 -73.832577   \n",
       "14     3146907 2015-01-01  10:36  QUEENS   11368.0  40.740039 -73.852880   \n",
       "18     3146046 2015-01-01  11:20  QUEENS   11419.0  40.689710 -73.826856   \n",
       "\n",
       "                     LOCATION   ON_STREET_NAME CROSS_STREET_NAME  \\\n",
       "0    (40.7518471, -73.787862)        47 AVENUE        193 STREET   \n",
       "6     (40.7765195, -73.91592)        26 STREET         23 AVENUE   \n",
       "13  (40.7693526, -73.8325765)     LINDEN PLACE           31 ROAD   \n",
       "14   (40.740039, -73.8528801)  WESTSIDE AVENUE   VANDOREN STREET   \n",
       "18  (40.6897104, -73.8268556)       101 AVENUE        118 STREET   \n",
       "\n",
       "         ...                      VEHICLE_1_TYPE               VEHICLE_2_TYPE  \\\n",
       "0        ...         SPORT UTILITY/STATION WAGON                          NaN   \n",
       "6        ...                   PASSENGER VEHICLE            PASSENGER VEHICLE   \n",
       "13       ...                   PASSENGER VEHICLE  SPORT UTILITY/STATION WAGON   \n",
       "14       ...                   PASSENGER VEHICLE                      UNKNOWN   \n",
       "18       ...                   PASSENGER VEHICLE            PASSENGER VEHICLE   \n",
       "\n",
       "                 VEHICLE_3_TYPE  VEHICLE_4_TYPE  VEHICLE_5_TYPE  \\\n",
       "0                           NaN             NaN             NaN   \n",
       "6   SPORT UTILITY/STATION WAGON             NaN             NaN   \n",
       "13                          NaN             NaN             NaN   \n",
       "14                          NaN             NaN             NaN   \n",
       "18                          NaN             NaN             NaN   \n",
       "\n",
       "               VEHICLE_1_FACTOR  VEHICLE_2_FACTOR  VEHICLE_3_FACTOR  \\\n",
       "0   TRAFFIC CONTROL DISREGARDED               NaN               NaN   \n",
       "6           ALCOHOL INVOLVEMENT       UNSPECIFIED       UNSPECIFIED   \n",
       "13                  UNSPECIFIED       UNSPECIFIED               NaN   \n",
       "14                  UNSPECIFIED       UNSPECIFIED               NaN   \n",
       "18                  UNSPECIFIED       UNSPECIFIED               NaN   \n",
       "\n",
       "    VEHICLE_4_FACTOR VEHICLE_5_FACTOR  \n",
       "0                NaN              NaN  \n",
       "6                NaN              NaN  \n",
       "13               NaN              NaN  \n",
       "14               NaN              NaN  \n",
       "18               NaN              NaN  \n",
       "\n",
       "[5 rows x 29 columns]"
      ]
     },
     "execution_count": 11,
     "metadata": {},
     "output_type": "execute_result"
    }
   ],
   "source": [
    "manhattan_data.head()"
   ]
  },
  {
   "cell_type": "code",
   "execution_count": 12,
   "metadata": {
    "collapsed": false
   },
   "outputs": [
    {
     "data": {
      "text/plain": [
       "pandas.core.series.Series"
      ]
     },
     "execution_count": 12,
     "metadata": {},
     "output_type": "execute_result"
    }
   ],
   "source": [
    "type(manhattan_data.VEHICLE_1_TYPE.dropna())"
   ]
  },
  {
   "cell_type": "code",
   "execution_count": 18,
   "metadata": {
    "collapsed": true
   },
   "outputs": [],
   "source": [
    "data1=pd.DataFrame(columns=['Origin','One Vehicle Involved','Two Vehicle Involved','Three Vehicle Involved','More Vehicle Involved'])"
   ]
  },
  {
   "cell_type": "code",
   "execution_count": 19,
   "metadata": {
    "collapsed": false
   },
   "outputs": [
    {
     "name": "stdout",
     "output_type": "stream",
     "text": [
      "12962\n",
      "17375\n",
      "13318\n",
      "8627\n",
      "2343\n"
     ]
    }
   ],
   "source": [
    "#excluding the data which has no Borough, counting all the accidents involving different count of vehicles\n",
    "for origin in df.BOROUGH.unique():\n",
    "    #print(origin)\n",
    "    if not pd.isnull(origin):\n",
    "        #print(origin)\n",
    "        manhattan_data=df[df.BOROUGH==origin]\n",
    "        two_vehicles=str(manhattan_data[(manhattan_data.VEHICLE_1_TYPE.notnull()) & (manhattan_data.VEHICLE_2_TYPE.notnull())&(manhattan_data.VEHICLE_3_TYPE.isnull())&(manhattan_data.VEHICLE_4_TYPE.isnull())&(manhattan_data.VEHICLE_5_TYPE.isnull())].shape[0])\n",
    "        one_vehicle= str(manhattan_data[(manhattan_data.VEHICLE_1_TYPE.notnull()) & (manhattan_data.VEHICLE_2_TYPE.isnull())&(manhattan_data.VEHICLE_3_TYPE.isnull())&(manhattan_data.VEHICLE_4_TYPE.isnull())&(manhattan_data.VEHICLE_5_TYPE.isnull())].shape[0])\n",
    "        three_vehicle=str(manhattan_data[(manhattan_data.VEHICLE_1_TYPE.notnull()) & (manhattan_data.VEHICLE_2_TYPE.notnull())&(manhattan_data.VEHICLE_3_TYPE.notnull())&(manhattan_data.VEHICLE_4_TYPE.isnull())&(manhattan_data.VEHICLE_5_TYPE.isnull())].shape[0])\n",
    "        more_vehicles=str(manhattan_data[(manhattan_data.VEHICLE_1_TYPE.notnull()) & (manhattan_data.VEHICLE_2_TYPE.notnull())&(manhattan_data.VEHICLE_3_TYPE.notnull())&(manhattan_data.VEHICLE_4_TYPE.notnull())&(manhattan_data.VEHICLE_5_TYPE.isnull())].shape[0]+manhattan_data[(manhattan_data.VEHICLE_1_TYPE.notnull()) & (manhattan_data.VEHICLE_2_TYPE.notnull())&(manhattan_data.VEHICLE_3_TYPE.notnull())&(manhattan_data.VEHICLE_4_TYPE.notnull())&(manhattan_data.VEHICLE_5_TYPE.notnull())].shape[0])\n",
    "        #dataFrame = pd.DataFrame(data=[origin,one_vehicle,two_vehicles,three_vehicle,more_vehicles])\n",
    "        #data1.append(dataFrame,ignore_index=True)\n",
    "        #print(one_vehicle)\n",
    "        data1 = data1.append(pd.Series([origin,one_vehicle,two_vehicles,three_vehicle,more_vehicles],index=['Origin','One Vehicle Involved','Two Vehicle Involved','Three Vehicle Involved','More Vehicle Involved']),ignore_index=True)\n",
    "        #columns={'Origin': origin,'One Vehicle Involved':one_vehicle,'Two Vehicle Involved':two_vehicles,'Three Vehicles Involved':three_vehicle,'More Vehicle Involved':more_vehicles}"
   ]
  },
  {
   "cell_type": "code",
   "execution_count": 20,
   "metadata": {
    "collapsed": false
   },
   "outputs": [
    {
     "data": {
      "text/html": [
       "<div>\n",
       "<table border=\"1\" class=\"dataframe\">\n",
       "  <thead>\n",
       "    <tr style=\"text-align: right;\">\n",
       "      <th></th>\n",
       "      <th>Origin</th>\n",
       "      <th>One Vehicle Involved</th>\n",
       "      <th>Two Vehicle Involved</th>\n",
       "      <th>Three Vehicle Involved</th>\n",
       "      <th>More Vehicle Involved</th>\n",
       "    </tr>\n",
       "  </thead>\n",
       "  <tbody>\n",
       "    <tr>\n",
       "      <th>0</th>\n",
       "      <td>QUEENS</td>\n",
       "      <td>12962</td>\n",
       "      <td>70260</td>\n",
       "      <td>4498</td>\n",
       "      <td>1420</td>\n",
       "    </tr>\n",
       "    <tr>\n",
       "      <th>1</th>\n",
       "      <td>BROOKLYN</td>\n",
       "      <td>17375</td>\n",
       "      <td>80207</td>\n",
       "      <td>4980</td>\n",
       "      <td>1612</td>\n",
       "    </tr>\n",
       "    <tr>\n",
       "      <th>2</th>\n",
       "      <td>MANHATTAN</td>\n",
       "      <td>13318</td>\n",
       "      <td>66958</td>\n",
       "      <td>2024</td>\n",
       "      <td>501</td>\n",
       "    </tr>\n",
       "    <tr>\n",
       "      <th>3</th>\n",
       "      <td>BRONX</td>\n",
       "      <td>8627</td>\n",
       "      <td>34385</td>\n",
       "      <td>1962</td>\n",
       "      <td>625</td>\n",
       "    </tr>\n",
       "    <tr>\n",
       "      <th>4</th>\n",
       "      <td>STATEN ISLAND</td>\n",
       "      <td>2343</td>\n",
       "      <td>10676</td>\n",
       "      <td>759</td>\n",
       "      <td>165</td>\n",
       "    </tr>\n",
       "  </tbody>\n",
       "</table>\n",
       "</div>"
      ],
      "text/plain": [
       "          Origin One Vehicle Involved Two Vehicle Involved  \\\n",
       "0         QUEENS                12962                70260   \n",
       "1       BROOKLYN                17375                80207   \n",
       "2      MANHATTAN                13318                66958   \n",
       "3          BRONX                 8627                34385   \n",
       "4  STATEN ISLAND                 2343                10676   \n",
       "\n",
       "  Three Vehicle Involved More Vehicle Involved  \n",
       "0                   4498                  1420  \n",
       "1                   4980                  1612  \n",
       "2                   2024                   501  \n",
       "3                   1962                   625  \n",
       "4                    759                   165  "
      ]
     },
     "execution_count": 20,
     "metadata": {},
     "output_type": "execute_result"
    }
   ],
   "source": [
    "data1.head()"
   ]
  },
  {
   "cell_type": "code",
   "execution_count": 21,
   "metadata": {
    "collapsed": false
   },
   "outputs": [],
   "source": [
    "data1.to_csv(path_or_buf=os.path.join(os.getcwd(),'Q1P2.csv'))"
   ]
  },
  {
   "cell_type": "code",
   "execution_count": null,
   "metadata": {
    "collapsed": false
   },
   "outputs": [],
   "source": []
  },
  {
   "cell_type": "code",
   "execution_count": null,
   "metadata": {
    "collapsed": true
   },
   "outputs": [],
   "source": []
  }
 ],
 "metadata": {
  "anaconda-cloud": {},
  "kernelspec": {
   "display_name": "Python [conda root]",
   "language": "python",
   "name": "conda-root-py"
  },
  "language_info": {
   "codemirror_mode": {
    "name": "ipython",
    "version": 3
   },
   "file_extension": ".py",
   "mimetype": "text/x-python",
   "name": "python",
   "nbconvert_exporter": "python",
   "pygments_lexer": "ipython3",
   "version": "3.5.2"
  }
 },
 "nbformat": 4,
 "nbformat_minor": 1
}
