{
 "cells": [
  {
   "cell_type": "code",
   "execution_count": null,
   "metadata": {
    "collapsed": false
   },
   "outputs": [],
   "source": []
  },
  {
   "cell_type": "code",
   "execution_count": 1,
   "metadata": {
    "collapsed": false
   },
   "outputs": [
    {
     "name": "stderr",
     "output_type": "stream",
     "text": [
      "/Users/kvs25/anaconda3/lib/python3.5/site-packages/numexpr/cpuinfo.py:53: UserWarning: [Errno 2] No such file or directory: 'machine'\n",
      "  stacklevel=stacklevel + 1)\n",
      "/Users/kvs25/anaconda3/lib/python3.5/site-packages/numexpr/cpuinfo.py:53: UserWarning: [Errno 2] No such file or directory: 'arch'\n",
      "  stacklevel=stacklevel + 1)\n",
      "/Users/kvs25/anaconda3/lib/python3.5/site-packages/numexpr/cpuinfo.py:76: UserWarning: [Errno 2] No such file or directory: 'sysctl'\n",
      "  stacklevel=stacklevel + 1):\n"
     ]
    }
   ],
   "source": [
    "import pandas as pd\n"
   ]
  },
  {
   "cell_type": "code",
   "execution_count": 2,
   "metadata": {
    "collapsed": true
   },
   "outputs": [],
   "source": [
    "import os\n",
    "import datetime\n",
    "import numpy as np"
   ]
  },
  {
   "cell_type": "code",
   "execution_count": 3,
   "metadata": {
    "collapsed": false
   },
   "outputs": [
    {
     "data": {
      "text/plain": [
       "'/Users/kvs25/Desktop/Data_Analysis_python/s_rohil_spring17/Assignment-3'"
      ]
     },
     "execution_count": 3,
     "metadata": {},
     "output_type": "execute_result"
    }
   ],
   "source": [
    "import calendar\n"
   ]
  },
  {
   "cell_type": "code",
   "execution_count": 4,
   "metadata": {
    "collapsed": false
   },
   "outputs": [
    {
     "data": {
      "text/plain": [
       "True"
      ]
     },
     "execution_count": 4,
     "metadata": {},
     "output_type": "execute_result"
    }
   ],
   "source": []
  },
  {
   "cell_type": "code",
   "execution_count": 5,
   "metadata": {
    "collapsed": true
   },
   "outputs": [],
   "source": [
    "df = pd.read_csv('vehicle_collisions.csv',parse_dates=['DATE'],infer_datetime_format=True)"
   ]
  },
  {
   "cell_type": "code",
   "execution_count": 6,
   "metadata": {
    "collapsed": false
   },
   "outputs": [
    {
     "data": {
      "text/html": [
       "<div>\n",
       "<table border=\"1\" class=\"dataframe\">\n",
       "  <thead>\n",
       "    <tr style=\"text-align: right;\">\n",
       "      <th></th>\n",
       "      <th>UNIQUE_KEY</th>\n",
       "      <th>DATE</th>\n",
       "      <th>TIME</th>\n",
       "      <th>BOROUGH</th>\n",
       "      <th>ZIP_CODE</th>\n",
       "      <th>LATITUDE</th>\n",
       "      <th>LONGITUDE</th>\n",
       "      <th>LOCATION</th>\n",
       "      <th>ON_STREET_NAME</th>\n",
       "      <th>CROSS_STREET_NAME</th>\n",
       "      <th>...</th>\n",
       "      <th>VEHICLE_1_TYPE</th>\n",
       "      <th>VEHICLE_2_TYPE</th>\n",
       "      <th>VEHICLE_3_TYPE</th>\n",
       "      <th>VEHICLE_4_TYPE</th>\n",
       "      <th>VEHICLE_5_TYPE</th>\n",
       "      <th>VEHICLE_1_FACTOR</th>\n",
       "      <th>VEHICLE_2_FACTOR</th>\n",
       "      <th>VEHICLE_3_FACTOR</th>\n",
       "      <th>VEHICLE_4_FACTOR</th>\n",
       "      <th>VEHICLE_5_FACTOR</th>\n",
       "    </tr>\n",
       "  </thead>\n",
       "  <tbody>\n",
       "    <tr>\n",
       "      <th>0</th>\n",
       "      <td>3146911</td>\n",
       "      <td>2015-01-01</td>\n",
       "      <td>0:20</td>\n",
       "      <td>QUEENS</td>\n",
       "      <td>11358.0</td>\n",
       "      <td>40.751847</td>\n",
       "      <td>-73.787862</td>\n",
       "      <td>(40.7518471, -73.787862)</td>\n",
       "      <td>47 AVENUE</td>\n",
       "      <td>193 STREET</td>\n",
       "      <td>...</td>\n",
       "      <td>SPORT UTILITY/STATION WAGON</td>\n",
       "      <td>NaN</td>\n",
       "      <td>NaN</td>\n",
       "      <td>NaN</td>\n",
       "      <td>NaN</td>\n",
       "      <td>TRAFFIC CONTROL DISREGARDED</td>\n",
       "      <td>NaN</td>\n",
       "      <td>NaN</td>\n",
       "      <td>NaN</td>\n",
       "      <td>NaN</td>\n",
       "    </tr>\n",
       "    <tr>\n",
       "      <th>1</th>\n",
       "      <td>3146180</td>\n",
       "      <td>2015-01-01</td>\n",
       "      <td>0:20</td>\n",
       "      <td>NaN</td>\n",
       "      <td>NaN</td>\n",
       "      <td>40.771289</td>\n",
       "      <td>-73.946693</td>\n",
       "      <td>(40.7712888, -73.9466928)</td>\n",
       "      <td>NaN</td>\n",
       "      <td>NaN</td>\n",
       "      <td>...</td>\n",
       "      <td>PASSENGER VEHICLE</td>\n",
       "      <td>NaN</td>\n",
       "      <td>NaN</td>\n",
       "      <td>NaN</td>\n",
       "      <td>NaN</td>\n",
       "      <td>ANIMALS ACTION</td>\n",
       "      <td>NaN</td>\n",
       "      <td>NaN</td>\n",
       "      <td>NaN</td>\n",
       "      <td>NaN</td>\n",
       "    </tr>\n",
       "    <tr>\n",
       "      <th>2</th>\n",
       "      <td>3146384</td>\n",
       "      <td>2015-01-01</td>\n",
       "      <td>0:21</td>\n",
       "      <td>BROOKLYN</td>\n",
       "      <td>11205.0</td>\n",
       "      <td>40.689445</td>\n",
       "      <td>-73.955121</td>\n",
       "      <td>(40.6894449, -73.9551212)</td>\n",
       "      <td>BEDFORD AVENUE</td>\n",
       "      <td>LAFAYETTE AVENUE</td>\n",
       "      <td>...</td>\n",
       "      <td>PASSENGER VEHICLE</td>\n",
       "      <td>UNKNOWN</td>\n",
       "      <td>NaN</td>\n",
       "      <td>NaN</td>\n",
       "      <td>NaN</td>\n",
       "      <td>FATIGUED/DROWSY</td>\n",
       "      <td>UNSPECIFIED</td>\n",
       "      <td>NaN</td>\n",
       "      <td>NaN</td>\n",
       "      <td>NaN</td>\n",
       "    </tr>\n",
       "  </tbody>\n",
       "</table>\n",
       "<p>3 rows × 29 columns</p>\n",
       "</div>"
      ],
      "text/plain": [
       "   UNIQUE_KEY       DATE  TIME   BOROUGH  ZIP_CODE   LATITUDE  LONGITUDE  \\\n",
       "0     3146911 2015-01-01  0:20    QUEENS   11358.0  40.751847 -73.787862   \n",
       "1     3146180 2015-01-01  0:20       NaN       NaN  40.771289 -73.946693   \n",
       "2     3146384 2015-01-01  0:21  BROOKLYN   11205.0  40.689445 -73.955121   \n",
       "\n",
       "                    LOCATION  ON_STREET_NAME CROSS_STREET_NAME  \\\n",
       "0   (40.7518471, -73.787862)       47 AVENUE        193 STREET   \n",
       "1  (40.7712888, -73.9466928)             NaN               NaN   \n",
       "2  (40.6894449, -73.9551212)  BEDFORD AVENUE  LAFAYETTE AVENUE   \n",
       "\n",
       "        ...                      VEHICLE_1_TYPE  VEHICLE_2_TYPE  \\\n",
       "0       ...         SPORT UTILITY/STATION WAGON             NaN   \n",
       "1       ...                   PASSENGER VEHICLE             NaN   \n",
       "2       ...                   PASSENGER VEHICLE         UNKNOWN   \n",
       "\n",
       "   VEHICLE_3_TYPE  VEHICLE_4_TYPE  VEHICLE_5_TYPE  \\\n",
       "0             NaN             NaN             NaN   \n",
       "1             NaN             NaN             NaN   \n",
       "2             NaN             NaN             NaN   \n",
       "\n",
       "              VEHICLE_1_FACTOR  VEHICLE_2_FACTOR  VEHICLE_3_FACTOR  \\\n",
       "0  TRAFFIC CONTROL DISREGARDED               NaN               NaN   \n",
       "1               ANIMALS ACTION               NaN               NaN   \n",
       "2              FATIGUED/DROWSY       UNSPECIFIED               NaN   \n",
       "\n",
       "   VEHICLE_4_FACTOR VEHICLE_5_FACTOR  \n",
       "0               NaN              NaN  \n",
       "1               NaN              NaN  \n",
       "2               NaN              NaN  \n",
       "\n",
       "[3 rows x 29 columns]"
      ]
     },
     "execution_count": 6,
     "metadata": {},
     "output_type": "execute_result"
    }
   ],
   "source": [
    "df.columns = [c.replace(' ', '_') for c in df.columns]\n",
    "df.head(3)"
   ]
  },
  {
   "cell_type": "code",
   "execution_count": 7,
   "metadata": {
    "collapsed": false
   },
   "outputs": [],
   "source": [
    "#converting DATE column to datetime datatype and taking entries of only the year 2016\n",
    "df['DATE'] = pd.to_datetime(df['DATE'], format='%d/%m/%Y',errors='ignore')\n",
    "df = df[(df.DATE.dt.year==2016)]"
   ]
  },
  {
   "cell_type": "code",
   "execution_count": 8,
   "metadata": {
    "collapsed": false
   },
   "outputs": [],
   "source": [
    "#taking only entries of Manhattan and the year 2016\n",
    "data = df[(df.BOROUGH=='MANHATTAN') & (df.DATE.dt.year==2016)]"
   ]
  },
  {
   "cell_type": "code",
   "execution_count": 9,
   "metadata": {
    "collapsed": false
   },
   "outputs": [
    {
     "data": {
      "text/html": [
       "<div>\n",
       "<table border=\"1\" class=\"dataframe\">\n",
       "  <thead>\n",
       "    <tr style=\"text-align: right;\">\n",
       "      <th></th>\n",
       "      <th>UNIQUE_KEY</th>\n",
       "      <th>DATE</th>\n",
       "      <th>TIME</th>\n",
       "      <th>BOROUGH</th>\n",
       "      <th>ZIP_CODE</th>\n",
       "      <th>LATITUDE</th>\n",
       "      <th>LONGITUDE</th>\n",
       "      <th>LOCATION</th>\n",
       "      <th>ON_STREET_NAME</th>\n",
       "      <th>CROSS_STREET_NAME</th>\n",
       "      <th>...</th>\n",
       "      <th>VEHICLE_1_TYPE</th>\n",
       "      <th>VEHICLE_2_TYPE</th>\n",
       "      <th>VEHICLE_3_TYPE</th>\n",
       "      <th>VEHICLE_4_TYPE</th>\n",
       "      <th>VEHICLE_5_TYPE</th>\n",
       "      <th>VEHICLE_1_FACTOR</th>\n",
       "      <th>VEHICLE_2_FACTOR</th>\n",
       "      <th>VEHICLE_3_FACTOR</th>\n",
       "      <th>VEHICLE_4_FACTOR</th>\n",
       "      <th>VEHICLE_5_FACTOR</th>\n",
       "    </tr>\n",
       "  </thead>\n",
       "  <tbody>\n",
       "    <tr>\n",
       "      <th>217539</th>\n",
       "      <td>3374565</td>\n",
       "      <td>2016-01-01</td>\n",
       "      <td>0:01</td>\n",
       "      <td>MANHATTAN</td>\n",
       "      <td>10022.0</td>\n",
       "      <td>40.760223</td>\n",
       "      <td>-73.967462</td>\n",
       "      <td>(40.7602226, -73.967462)</td>\n",
       "      <td>EAST 57 STREET</td>\n",
       "      <td>3 AVENUE</td>\n",
       "      <td>...</td>\n",
       "      <td>PASSENGER VEHICLE</td>\n",
       "      <td>PASSENGER VEHICLE</td>\n",
       "      <td>NaN</td>\n",
       "      <td>NaN</td>\n",
       "      <td>NaN</td>\n",
       "      <td>OTHER VEHICULAR</td>\n",
       "      <td>OTHER VEHICULAR</td>\n",
       "      <td>NaN</td>\n",
       "      <td>NaN</td>\n",
       "      <td>NaN</td>\n",
       "    </tr>\n",
       "    <tr>\n",
       "      <th>217541</th>\n",
       "      <td>3363408</td>\n",
       "      <td>2016-01-01</td>\n",
       "      <td>0:01</td>\n",
       "      <td>MANHATTAN</td>\n",
       "      <td>10035.0</td>\n",
       "      <td>40.805057</td>\n",
       "      <td>-73.939034</td>\n",
       "      <td>(40.8050573, -73.9390342)</td>\n",
       "      <td>EAST 125 STREET</td>\n",
       "      <td>PARK AVENUE</td>\n",
       "      <td>...</td>\n",
       "      <td>PASSENGER VEHICLE</td>\n",
       "      <td>NaN</td>\n",
       "      <td>NaN</td>\n",
       "      <td>NaN</td>\n",
       "      <td>NaN</td>\n",
       "      <td>UNSPECIFIED</td>\n",
       "      <td>NaN</td>\n",
       "      <td>NaN</td>\n",
       "      <td>NaN</td>\n",
       "      <td>NaN</td>\n",
       "    </tr>\n",
       "    <tr>\n",
       "      <th>217542</th>\n",
       "      <td>3364610</td>\n",
       "      <td>2016-01-01</td>\n",
       "      <td>0:05</td>\n",
       "      <td>MANHATTAN</td>\n",
       "      <td>10035.0</td>\n",
       "      <td>40.799258</td>\n",
       "      <td>-73.939050</td>\n",
       "      <td>(40.7992577, -73.9390504)</td>\n",
       "      <td>3 AVENUE</td>\n",
       "      <td>EAST 118 STREET</td>\n",
       "      <td>...</td>\n",
       "      <td>PASSENGER VEHICLE</td>\n",
       "      <td>PASSENGER VEHICLE</td>\n",
       "      <td>NaN</td>\n",
       "      <td>NaN</td>\n",
       "      <td>NaN</td>\n",
       "      <td>UNSPECIFIED</td>\n",
       "      <td>UNSPECIFIED</td>\n",
       "      <td>NaN</td>\n",
       "      <td>NaN</td>\n",
       "      <td>NaN</td>\n",
       "    </tr>\n",
       "    <tr>\n",
       "      <th>217543</th>\n",
       "      <td>3363371</td>\n",
       "      <td>2016-01-01</td>\n",
       "      <td>0:15</td>\n",
       "      <td>MANHATTAN</td>\n",
       "      <td>10011.0</td>\n",
       "      <td>40.738552</td>\n",
       "      <td>-73.999682</td>\n",
       "      <td>(40.738552, -73.9996824)</td>\n",
       "      <td>7 AVENUE</td>\n",
       "      <td>WEST 14 STREET</td>\n",
       "      <td>...</td>\n",
       "      <td>SPORT UTILITY/STATION WAGON</td>\n",
       "      <td>OTHER</td>\n",
       "      <td>NaN</td>\n",
       "      <td>NaN</td>\n",
       "      <td>NaN</td>\n",
       "      <td>LOST CONSCIOUSNESS</td>\n",
       "      <td>UNSPECIFIED</td>\n",
       "      <td>NaN</td>\n",
       "      <td>NaN</td>\n",
       "      <td>NaN</td>\n",
       "    </tr>\n",
       "    <tr>\n",
       "      <th>217549</th>\n",
       "      <td>3370573</td>\n",
       "      <td>2016-01-01</td>\n",
       "      <td>0:51</td>\n",
       "      <td>MANHATTAN</td>\n",
       "      <td>10040.0</td>\n",
       "      <td>40.863572</td>\n",
       "      <td>-73.926012</td>\n",
       "      <td>(40.8635725, -73.9260124)</td>\n",
       "      <td>SHERMAN AVENUE</td>\n",
       "      <td>DYCKMAN STREET</td>\n",
       "      <td>...</td>\n",
       "      <td>PASSENGER VEHICLE</td>\n",
       "      <td>PASSENGER VEHICLE</td>\n",
       "      <td>NaN</td>\n",
       "      <td>NaN</td>\n",
       "      <td>NaN</td>\n",
       "      <td>OTHER VEHICULAR</td>\n",
       "      <td>LOST CONSCIOUSNESS</td>\n",
       "      <td>NaN</td>\n",
       "      <td>NaN</td>\n",
       "      <td>NaN</td>\n",
       "    </tr>\n",
       "  </tbody>\n",
       "</table>\n",
       "<p>5 rows × 29 columns</p>\n",
       "</div>"
      ],
      "text/plain": [
       "        UNIQUE_KEY       DATE  TIME    BOROUGH  ZIP_CODE   LATITUDE  \\\n",
       "217539     3374565 2016-01-01  0:01  MANHATTAN   10022.0  40.760223   \n",
       "217541     3363408 2016-01-01  0:01  MANHATTAN   10035.0  40.805057   \n",
       "217542     3364610 2016-01-01  0:05  MANHATTAN   10035.0  40.799258   \n",
       "217543     3363371 2016-01-01  0:15  MANHATTAN   10011.0  40.738552   \n",
       "217549     3370573 2016-01-01  0:51  MANHATTAN   10040.0  40.863572   \n",
       "\n",
       "        LONGITUDE                   LOCATION   ON_STREET_NAME  \\\n",
       "217539 -73.967462   (40.7602226, -73.967462)   EAST 57 STREET   \n",
       "217541 -73.939034  (40.8050573, -73.9390342)  EAST 125 STREET   \n",
       "217542 -73.939050  (40.7992577, -73.9390504)         3 AVENUE   \n",
       "217543 -73.999682   (40.738552, -73.9996824)         7 AVENUE   \n",
       "217549 -73.926012  (40.8635725, -73.9260124)   SHERMAN AVENUE   \n",
       "\n",
       "       CROSS_STREET_NAME       ...                      VEHICLE_1_TYPE  \\\n",
       "217539          3 AVENUE       ...                   PASSENGER VEHICLE   \n",
       "217541       PARK AVENUE       ...                   PASSENGER VEHICLE   \n",
       "217542   EAST 118 STREET       ...                   PASSENGER VEHICLE   \n",
       "217543    WEST 14 STREET       ...         SPORT UTILITY/STATION WAGON   \n",
       "217549    DYCKMAN STREET       ...                   PASSENGER VEHICLE   \n",
       "\n",
       "           VEHICLE_2_TYPE  VEHICLE_3_TYPE  VEHICLE_4_TYPE  VEHICLE_5_TYPE  \\\n",
       "217539  PASSENGER VEHICLE             NaN             NaN             NaN   \n",
       "217541                NaN             NaN             NaN             NaN   \n",
       "217542  PASSENGER VEHICLE             NaN             NaN             NaN   \n",
       "217543              OTHER             NaN             NaN             NaN   \n",
       "217549  PASSENGER VEHICLE             NaN             NaN             NaN   \n",
       "\n",
       "          VEHICLE_1_FACTOR    VEHICLE_2_FACTOR  VEHICLE_3_FACTOR  \\\n",
       "217539     OTHER VEHICULAR     OTHER VEHICULAR               NaN   \n",
       "217541         UNSPECIFIED                 NaN               NaN   \n",
       "217542         UNSPECIFIED         UNSPECIFIED               NaN   \n",
       "217543  LOST CONSCIOUSNESS         UNSPECIFIED               NaN   \n",
       "217549     OTHER VEHICULAR  LOST CONSCIOUSNESS               NaN   \n",
       "\n",
       "        VEHICLE_4_FACTOR VEHICLE_5_FACTOR  \n",
       "217539               NaN              NaN  \n",
       "217541               NaN              NaN  \n",
       "217542               NaN              NaN  \n",
       "217543               NaN              NaN  \n",
       "217549               NaN              NaN  \n",
       "\n",
       "[5 rows x 29 columns]"
      ]
     },
     "execution_count": 9,
     "metadata": {},
     "output_type": "execute_result"
    }
   ],
   "source": [
    "data.head()\n",
    "\n"
   ]
  },
  {
   "cell_type": "code",
   "execution_count": 15,
   "metadata": {
    "collapsed": false
   },
   "outputs": [],
   "source": [
    "man_data=data.groupby([data.DATE.dt.month])['UNIQUE_KEY'].count()"
   ]
  },
  {
   "cell_type": "code",
   "execution_count": 16,
   "metadata": {
    "collapsed": false
   },
   "outputs": [],
   "source": [
    "nyc_data=df.groupby([df.DATE.dt.month])['UNIQUE_KEY'].count()"
   ]
  },
  {
   "cell_type": "code",
   "execution_count": 17,
   "metadata": {
    "collapsed": false
   },
   "outputs": [],
   "source": [
    "percentage=man_data/nyc_data"
   ]
  },
  {
   "cell_type": "code",
   "execution_count": 20,
   "metadata": {
    "collapsed": false
   },
   "outputs": [],
   "source": [
    "#taking the month_name to be used in the dataframe\n",
    "month_dict={n: {} for n in range(1,13)}\n",
    "for i in range(1,13):\n",
    "    month_dict[i]=calendar.month_name[i]"
   ]
  },
  {
   "cell_type": "code",
   "execution_count": 21,
   "metadata": {
    "collapsed": false
   },
   "outputs": [],
   "source": [
    "#taking list of columns for preparing the dataframe\n",
    "data=[month_dict,man_data,nyc_data,percentage]"
   ]
  },
  {
   "cell_type": "code",
   "execution_count": 22,
   "metadata": {
    "collapsed": false
   },
   "outputs": [],
   "source": [
    "dataframe = pd.DataFrame.from_records(data,index=['Month','Manhattan','NYC','Percentage']).transpose()"
   ]
  },
  {
   "cell_type": "code",
   "execution_count": 23,
   "metadata": {
    "collapsed": false
   },
   "outputs": [],
   "source": [
    "dataframe.to_csv(path_or_buf=os.path.join(os.getcwd(),'Q1P1.csv'))"
   ]
  },
  {
   "cell_type": "code",
   "execution_count": 24,
   "metadata": {
    "collapsed": false
   },
   "outputs": [],
   "source": []
  },
  {
   "cell_type": "code",
   "execution_count": null,
   "metadata": {
    "collapsed": true
   },
   "outputs": [],
   "source": []
  }
 ],
 "metadata": {
  "anaconda-cloud": {},
  "kernelspec": {
   "display_name": "Python [conda root]",
   "language": "python",
   "name": "conda-root-py"
  },
  "language_info": {
   "codemirror_mode": {
    "name": "ipython",
    "version": 3
   },
   "file_extension": ".py",
   "mimetype": "text/x-python",
   "name": "python",
   "nbconvert_exporter": "python",
   "pygments_lexer": "ipython3",
   "version": "3.5.2"
  }
 },
 "nbformat": 4,
 "nbformat_minor": 1
}
