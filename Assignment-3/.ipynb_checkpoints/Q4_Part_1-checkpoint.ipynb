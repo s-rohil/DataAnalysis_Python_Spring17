{
 "cells": [
  {
   "cell_type": "code",
   "execution_count": 518,
   "metadata": {
    "collapsed": false
   },
   "outputs": [],
   "source": [
    "import pandas as pd\n",
    "import os\n",
    "import datetime\n",
    "import numpy as np\n",
    "import re"
   ]
  },
  {
   "cell_type": "code",
   "execution_count": 519,
   "metadata": {
    "collapsed": true
   },
   "outputs": [],
   "source": [
    "df = pd.read_csv('movies_awards.csv')"
   ]
  },
  {
   "cell_type": "code",
   "execution_count": 520,
   "metadata": {
    "collapsed": false
   },
   "outputs": [
    {
     "data": {
      "text/html": [
       "<div>\n",
       "<table border=\"1\" class=\"dataframe\">\n",
       "  <thead>\n",
       "    <tr style=\"text-align: right;\">\n",
       "      <th></th>\n",
       "      <th>totalSeasons</th>\n",
       "      <th>Plot</th>\n",
       "      <th>Rated</th>\n",
       "      <th>Response</th>\n",
       "      <th>Language</th>\n",
       "      <th>Title</th>\n",
       "      <th>Country</th>\n",
       "      <th>Writer</th>\n",
       "      <th>Metascore</th>\n",
       "      <th>imdbRating</th>\n",
       "      <th>...</th>\n",
       "      <th>Released</th>\n",
       "      <th>Actors</th>\n",
       "      <th>Year</th>\n",
       "      <th>Genre</th>\n",
       "      <th>Awards</th>\n",
       "      <th>Runtime</th>\n",
       "      <th>Type</th>\n",
       "      <th>Poster</th>\n",
       "      <th>imdbVotes</th>\n",
       "      <th>imdbID</th>\n",
       "    </tr>\n",
       "  </thead>\n",
       "  <tbody>\n",
       "    <tr>\n",
       "      <th>0</th>\n",
       "      <td>none</td>\n",
       "      <td>NaN</td>\n",
       "      <td>NaN</td>\n",
       "      <td>True</td>\n",
       "      <td>English</td>\n",
       "      <td>Book of Love: The Definitive Reason Why Men Ar...</td>\n",
       "      <td>USA</td>\n",
       "      <td>Jeffrey W. Byrd; Eric George</td>\n",
       "      <td>NaN</td>\n",
       "      <td>6.6</td>\n",
       "      <td>...</td>\n",
       "      <td>14 Feb 2002</td>\n",
       "      <td>40 Glocc; Angelle Brooks; David Brown; Qadr Ca...</td>\n",
       "      <td>2002</td>\n",
       "      <td>Romance; Comedy</td>\n",
       "      <td>NaN</td>\n",
       "      <td>91 min</td>\n",
       "      <td>movie</td>\n",
       "      <td>NaN</td>\n",
       "      <td>79.0</td>\n",
       "      <td>tt0156376</td>\n",
       "    </tr>\n",
       "    <tr>\n",
       "      <th>1</th>\n",
       "      <td>none</td>\n",
       "      <td>NaN</td>\n",
       "      <td>NaN</td>\n",
       "      <td>True</td>\n",
       "      <td>Swedish</td>\n",
       "      <td>Anderssons älskarinna</td>\n",
       "      <td>Sweden</td>\n",
       "      <td>NaN</td>\n",
       "      <td>NaN</td>\n",
       "      <td>7.4</td>\n",
       "      <td>...</td>\n",
       "      <td>12 Feb 2001</td>\n",
       "      <td>Jakob Eklund; Ebba Forsberg; Örjan Landström; ...</td>\n",
       "      <td>2001</td>\n",
       "      <td>Drama</td>\n",
       "      <td>NaN</td>\n",
       "      <td>347 min</td>\n",
       "      <td>movie</td>\n",
       "      <td>NaN</td>\n",
       "      <td>34.0</td>\n",
       "      <td>tt0201374</td>\n",
       "    </tr>\n",
       "    <tr>\n",
       "      <th>2</th>\n",
       "      <td>none</td>\n",
       "      <td>NaN</td>\n",
       "      <td>NaN</td>\n",
       "      <td>True</td>\n",
       "      <td>English</td>\n",
       "      <td>Bad Blood</td>\n",
       "      <td>UK</td>\n",
       "      <td>Tony Marchant</td>\n",
       "      <td>NaN</td>\n",
       "      <td>5.6</td>\n",
       "      <td>...</td>\n",
       "      <td>11 Jan 2001</td>\n",
       "      <td>Emilia Fox; Serban Celea; Alex Jennings; Steve...</td>\n",
       "      <td>2001</td>\n",
       "      <td>NaN</td>\n",
       "      <td>NaN</td>\n",
       "      <td>NaN</td>\n",
       "      <td>movie</td>\n",
       "      <td>NaN</td>\n",
       "      <td>8.0</td>\n",
       "      <td>tt0207989</td>\n",
       "    </tr>\n",
       "    <tr>\n",
       "      <th>3</th>\n",
       "      <td>none</td>\n",
       "      <td>A historical classic drama in three acts; reto...</td>\n",
       "      <td>NaN</td>\n",
       "      <td>True</td>\n",
       "      <td>Portuguese</td>\n",
       "      <td>Who Are You?</td>\n",
       "      <td>Portugal</td>\n",
       "      <td>João Botelho; Almeida Garrett (play)</td>\n",
       "      <td>NaN</td>\n",
       "      <td>6.1</td>\n",
       "      <td>...</td>\n",
       "      <td>23 Nov 2001</td>\n",
       "      <td>Patrícia Guerreiro; Suzana Borges; Rui Morisso...</td>\n",
       "      <td>2001</td>\n",
       "      <td>Drama; History</td>\n",
       "      <td>1 win &amp; 2 nominations.</td>\n",
       "      <td>112 min</td>\n",
       "      <td>movie</td>\n",
       "      <td>http://ia.media-imdb.com/images/M/MV5BMTM1Mjdi...</td>\n",
       "      <td>189.0</td>\n",
       "      <td>tt0210930</td>\n",
       "    </tr>\n",
       "    <tr>\n",
       "      <th>4</th>\n",
       "      <td>none</td>\n",
       "      <td>A father (Williams) suspects his son (Jackson)...</td>\n",
       "      <td>R</td>\n",
       "      <td>True</td>\n",
       "      <td>English</td>\n",
       "      <td>Skeletons in the Closet</td>\n",
       "      <td>USA</td>\n",
       "      <td>Donna Powers; Wayne Powers</td>\n",
       "      <td>NaN</td>\n",
       "      <td>5.4</td>\n",
       "      <td>...</td>\n",
       "      <td>24 Jul 2001</td>\n",
       "      <td>Treat Williams; Linda Hamilton; Jonathan Jacks...</td>\n",
       "      <td>2001</td>\n",
       "      <td>Crime; Drama; Mystery</td>\n",
       "      <td>1 win.</td>\n",
       "      <td>100 min</td>\n",
       "      <td>movie</td>\n",
       "      <td>http://ia.media-imdb.com/images/M/MV5BMjA0NjA2...</td>\n",
       "      <td>603.0</td>\n",
       "      <td>tt0212513</td>\n",
       "    </tr>\n",
       "  </tbody>\n",
       "</table>\n",
       "<p>5 rows × 21 columns</p>\n",
       "</div>"
      ],
      "text/plain": [
       "  totalSeasons                                               Plot Rated  \\\n",
       "0         none                                                NaN   NaN   \n",
       "1         none                                                NaN   NaN   \n",
       "2         none                                                NaN   NaN   \n",
       "3         none  A historical classic drama in three acts; reto...   NaN   \n",
       "4         none  A father (Williams) suspects his son (Jackson)...     R   \n",
       "\n",
       "  Response    Language                                              Title  \\\n",
       "0     True     English  Book of Love: The Definitive Reason Why Men Ar...   \n",
       "1     True     Swedish                              Anderssons älskarinna   \n",
       "2     True     English                                          Bad Blood   \n",
       "3     True  Portuguese                                       Who Are You?   \n",
       "4     True     English                            Skeletons in the Closet   \n",
       "\n",
       "    Country                                Writer  Metascore  imdbRating  \\\n",
       "0       USA          Jeffrey W. Byrd; Eric George        NaN         6.6   \n",
       "1    Sweden                                   NaN        NaN         7.4   \n",
       "2        UK                         Tony Marchant        NaN         5.6   \n",
       "3  Portugal  João Botelho; Almeida Garrett (play)        NaN         6.1   \n",
       "4       USA            Donna Powers; Wayne Powers        NaN         5.4   \n",
       "\n",
       "     ...         Released                                             Actors  \\\n",
       "0    ...      14 Feb 2002  40 Glocc; Angelle Brooks; David Brown; Qadr Ca...   \n",
       "1    ...      12 Feb 2001  Jakob Eklund; Ebba Forsberg; Örjan Landström; ...   \n",
       "2    ...      11 Jan 2001  Emilia Fox; Serban Celea; Alex Jennings; Steve...   \n",
       "3    ...      23 Nov 2001  Patrícia Guerreiro; Suzana Borges; Rui Morisso...   \n",
       "4    ...      24 Jul 2001  Treat Williams; Linda Hamilton; Jonathan Jacks...   \n",
       "\n",
       "   Year                  Genre                  Awards  Runtime   Type  \\\n",
       "0  2002        Romance; Comedy                     NaN   91 min  movie   \n",
       "1  2001                  Drama                     NaN  347 min  movie   \n",
       "2  2001                    NaN                     NaN      NaN  movie   \n",
       "3  2001         Drama; History  1 win & 2 nominations.  112 min  movie   \n",
       "4  2001  Crime; Drama; Mystery                  1 win.  100 min  movie   \n",
       "\n",
       "                                              Poster imdbVotes     imdbID  \n",
       "0                                                NaN      79.0  tt0156376  \n",
       "1                                                NaN      34.0  tt0201374  \n",
       "2                                                NaN       8.0  tt0207989  \n",
       "3  http://ia.media-imdb.com/images/M/MV5BMTM1Mjdi...     189.0  tt0210930  \n",
       "4  http://ia.media-imdb.com/images/M/MV5BMjA0NjA2...     603.0  tt0212513  \n",
       "\n",
       "[5 rows x 21 columns]"
      ]
     },
     "execution_count": 520,
     "metadata": {},
     "output_type": "execute_result"
    }
   ],
   "source": [
    "df.head()"
   ]
  },
  {
   "cell_type": "code",
   "execution_count": 521,
   "metadata": {
    "collapsed": true
   },
   "outputs": [],
   "source": [
    "df.columns = [c.replace(' ', '_') for c in df.columns]"
   ]
  },
  {
   "cell_type": "code",
   "execution_count": 522,
   "metadata": {
    "collapsed": true
   },
   "outputs": [],
   "source": [
    "data=pd.DataFrame(df,columns=['Awards'])"
   ]
  },
  {
   "cell_type": "code",
   "execution_count": 523,
   "metadata": {
    "collapsed": false
   },
   "outputs": [
    {
     "data": {
      "text/html": [
       "<div>\n",
       "<table border=\"1\" class=\"dataframe\">\n",
       "  <thead>\n",
       "    <tr style=\"text-align: right;\">\n",
       "      <th></th>\n",
       "      <th>Awards</th>\n",
       "    </tr>\n",
       "  </thead>\n",
       "  <tbody>\n",
       "    <tr>\n",
       "      <th>0</th>\n",
       "      <td>NaN</td>\n",
       "    </tr>\n",
       "    <tr>\n",
       "      <th>1</th>\n",
       "      <td>NaN</td>\n",
       "    </tr>\n",
       "    <tr>\n",
       "      <th>2</th>\n",
       "      <td>NaN</td>\n",
       "    </tr>\n",
       "    <tr>\n",
       "      <th>3</th>\n",
       "      <td>1 win &amp; 2 nominations.</td>\n",
       "    </tr>\n",
       "    <tr>\n",
       "      <th>4</th>\n",
       "      <td>1 win.</td>\n",
       "    </tr>\n",
       "  </tbody>\n",
       "</table>\n",
       "</div>"
      ],
      "text/plain": [
       "                   Awards\n",
       "0                     NaN\n",
       "1                     NaN\n",
       "2                     NaN\n",
       "3  1 win & 2 nominations.\n",
       "4                  1 win."
      ]
     },
     "execution_count": 523,
     "metadata": {},
     "output_type": "execute_result"
    }
   ],
   "source": [
    "data.head()"
   ]
  },
  {
   "cell_type": "code",
   "execution_count": 524,
   "metadata": {
    "collapsed": true
   },
   "outputs": [],
   "source": [
    "list=[]\n",
    "for award in df.Awards.unique():\n",
    "    if not pd.isnull(award):\n",
    "        list.append(award)\n",
    "# Creating a new dataframe with only the Awards column\n",
    "data1=pd.DataFrame(list,columns=['Awards'])\n"
   ]
  },
  {
   "cell_type": "code",
   "execution_count": 525,
   "metadata": {
    "collapsed": false
   },
   "outputs": [],
   "source": [
    "data1['Awards'] = data1['Awards'].str.lower()"
   ]
  },
  {
   "cell_type": "code",
   "execution_count": 526,
   "metadata": {
    "collapsed": false
   },
   "outputs": [
    {
     "data": {
      "text/html": [
       "<div>\n",
       "<table border=\"1\" class=\"dataframe\">\n",
       "  <thead>\n",
       "    <tr style=\"text-align: right;\">\n",
       "      <th></th>\n",
       "      <th>Awards</th>\n",
       "    </tr>\n",
       "  </thead>\n",
       "  <tbody>\n",
       "    <tr>\n",
       "      <th>0</th>\n",
       "      <td>1 win &amp; 2 nominations.</td>\n",
       "    </tr>\n",
       "    <tr>\n",
       "      <th>1</th>\n",
       "      <td>1 win.</td>\n",
       "    </tr>\n",
       "    <tr>\n",
       "      <th>2</th>\n",
       "      <td>1 nomination.</td>\n",
       "    </tr>\n",
       "    <tr>\n",
       "      <th>3</th>\n",
       "      <td>3 wins &amp; 2 nominations.</td>\n",
       "    </tr>\n",
       "    <tr>\n",
       "      <th>4</th>\n",
       "      <td>1 win &amp; 1 nomination.</td>\n",
       "    </tr>\n",
       "  </tbody>\n",
       "</table>\n",
       "</div>"
      ],
      "text/plain": [
       "                    Awards\n",
       "0   1 win & 2 nominations.\n",
       "1                   1 win.\n",
       "2            1 nomination.\n",
       "3  3 wins & 2 nominations.\n",
       "4    1 win & 1 nomination."
      ]
     },
     "execution_count": 526,
     "metadata": {},
     "output_type": "execute_result"
    }
   ],
   "source": [
    "data1.head()"
   ]
  },
  {
   "cell_type": "code",
   "execution_count": 527,
   "metadata": {
    "collapsed": false
   },
   "outputs": [],
   "source": [
    "#split the column into 2 using '.' as delimiter\n",
    "temp = pd.DataFrame(data1.Awards.str.split('.').tolist())"
   ]
  },
  {
   "cell_type": "code",
   "execution_count": 528,
   "metadata": {
    "collapsed": false
   },
   "outputs": [
    {
     "data": {
      "text/html": [
       "<div>\n",
       "<table border=\"1\" class=\"dataframe\">\n",
       "  <thead>\n",
       "    <tr style=\"text-align: right;\">\n",
       "      <th></th>\n",
       "      <th>0</th>\n",
       "      <th>1</th>\n",
       "      <th>2</th>\n",
       "    </tr>\n",
       "  </thead>\n",
       "  <tbody>\n",
       "    <tr>\n",
       "      <th>0</th>\n",
       "      <td>1 win &amp; 2 nominations</td>\n",
       "      <td></td>\n",
       "      <td>0</td>\n",
       "    </tr>\n",
       "    <tr>\n",
       "      <th>1</th>\n",
       "      <td>1 win</td>\n",
       "      <td></td>\n",
       "      <td>0</td>\n",
       "    </tr>\n",
       "    <tr>\n",
       "      <th>2</th>\n",
       "      <td>1 nomination</td>\n",
       "      <td></td>\n",
       "      <td>0</td>\n",
       "    </tr>\n",
       "    <tr>\n",
       "      <th>3</th>\n",
       "      <td>3 wins &amp; 2 nominations</td>\n",
       "      <td></td>\n",
       "      <td>0</td>\n",
       "    </tr>\n",
       "    <tr>\n",
       "      <th>4</th>\n",
       "      <td>1 win &amp; 1 nomination</td>\n",
       "      <td></td>\n",
       "      <td>0</td>\n",
       "    </tr>\n",
       "  </tbody>\n",
       "</table>\n",
       "</div>"
      ],
      "text/plain": [
       "                        0 1  2\n",
       "0   1 win & 2 nominations    0\n",
       "1                   1 win    0\n",
       "2            1 nomination    0\n",
       "3  3 wins & 2 nominations    0\n",
       "4    1 win & 1 nomination    0"
      ]
     },
     "execution_count": 528,
     "metadata": {},
     "output_type": "execute_result"
    }
   ],
   "source": [
    "temp.head(15)\n",
    "temp.fillna(value=0, inplace=True)\n",
    "temp.head()"
   ]
  },
  {
   "cell_type": "code",
   "execution_count": 529,
   "metadata": {
    "collapsed": false
   },
   "outputs": [],
   "source": [
    "#taking the first column from temp and splitting on &\n",
    "temp0 = pd.DataFrame(temp[0].str.split('&').tolist())"
   ]
  },
  {
   "cell_type": "code",
   "execution_count": 530,
   "metadata": {
    "collapsed": false
   },
   "outputs": [
    {
     "data": {
      "text/html": [
       "<div>\n",
       "<table border=\"1\" class=\"dataframe\">\n",
       "  <thead>\n",
       "    <tr style=\"text-align: right;\">\n",
       "      <th></th>\n",
       "      <th>0</th>\n",
       "      <th>1</th>\n",
       "    </tr>\n",
       "  </thead>\n",
       "  <tbody>\n",
       "    <tr>\n",
       "      <th>0</th>\n",
       "      <td>1 win</td>\n",
       "      <td>2 nominations</td>\n",
       "    </tr>\n",
       "    <tr>\n",
       "      <th>1</th>\n",
       "      <td>1 win</td>\n",
       "      <td>None</td>\n",
       "    </tr>\n",
       "    <tr>\n",
       "      <th>2</th>\n",
       "      <td>1 nomination</td>\n",
       "      <td>None</td>\n",
       "    </tr>\n",
       "    <tr>\n",
       "      <th>3</th>\n",
       "      <td>3 wins</td>\n",
       "      <td>2 nominations</td>\n",
       "    </tr>\n",
       "    <tr>\n",
       "      <th>4</th>\n",
       "      <td>1 win</td>\n",
       "      <td>1 nomination</td>\n",
       "    </tr>\n",
       "  </tbody>\n",
       "</table>\n",
       "</div>"
      ],
      "text/plain": [
       "              0               1\n",
       "0        1 win    2 nominations\n",
       "1         1 win            None\n",
       "2  1 nomination            None\n",
       "3       3 wins    2 nominations\n",
       "4        1 win     1 nomination"
      ]
     },
     "execution_count": 530,
     "metadata": {},
     "output_type": "execute_result"
    }
   ],
   "source": [
    "temp0.head()"
   ]
  },
  {
   "cell_type": "code",
   "execution_count": 531,
   "metadata": {
    "collapsed": false
   },
   "outputs": [],
   "source": [
    "\n",
    "# using the 0th column of the dataframe temp0 after split on . and & for preparing the output\n",
    "# making dataframe of specific keywords used for further processing\n",
    "bafta=pd.DataFrame(temp0[0][temp0[0].str.contains(('bafta'), regex=True)])\n",
    "globes=pd.DataFrame(temp0[0][temp0[0].str.contains(('golden'), regex=True)])\n",
    "oscar=pd.DataFrame(temp0[0][temp0[0].str.contains(('oscar'), regex=True)])\n",
    "wins=pd.DataFrame(temp0[0][temp0[0].str.contains(('win|wins|won'), regex=True)])\n",
    "nominates=pd.DataFrame(temp0[0][temp0[0].str.contains(('nomin'), regex=True)])\n",
    "emmy=pd.DataFrame(temp0[0][temp0[0].str.contains(('emmy'), regex=True)])\n",
    "only_wins=(pd.DataFrame(temp0[0][~temp0[0].str.contains('emmy|oscar|bafta|golden|nomin')]))\n",
    "only_nominations=(pd.DataFrame(temp0[0][~temp0[0].str.contains('emmy|oscar|bafta|golden|win|wins|won')]))\n",
    "#data1['win']=temp0[0].str.extract('(\\d)', expand=True)"
   ]
  },
  {
   "cell_type": "code",
   "execution_count": 532,
   "metadata": {
    "collapsed": false
   },
   "outputs": [
    {
     "data": {
      "text/html": [
       "<div>\n",
       "<table border=\"1\" class=\"dataframe\">\n",
       "  <thead>\n",
       "    <tr style=\"text-align: right;\">\n",
       "      <th></th>\n",
       "      <th>0</th>\n",
       "    </tr>\n",
       "  </thead>\n",
       "  <tbody>\n",
       "    <tr>\n",
       "      <th>2</th>\n",
       "      <td>1 nomination</td>\n",
       "    </tr>\n",
       "    <tr>\n",
       "      <th>5</th>\n",
       "      <td>5 nominations</td>\n",
       "    </tr>\n",
       "    <tr>\n",
       "      <th>7</th>\n",
       "      <td>nominated for 1 oscar</td>\n",
       "    </tr>\n",
       "    <tr>\n",
       "      <th>9</th>\n",
       "      <td>nominated for 1 golden globe</td>\n",
       "    </tr>\n",
       "    <tr>\n",
       "      <th>13</th>\n",
       "      <td>2 nominations</td>\n",
       "    </tr>\n",
       "    <tr>\n",
       "      <th>17</th>\n",
       "      <td>nominated for 4 primetime emmys</td>\n",
       "    </tr>\n",
       "    <tr>\n",
       "      <th>24</th>\n",
       "      <td>nominated for 3 bafta film awards</td>\n",
       "    </tr>\n",
       "    <tr>\n",
       "      <th>25</th>\n",
       "      <td>6 nominations</td>\n",
       "    </tr>\n",
       "    <tr>\n",
       "      <th>29</th>\n",
       "      <td>nominated for 1 golden globe</td>\n",
       "    </tr>\n",
       "    <tr>\n",
       "      <th>30</th>\n",
       "      <td>nominated for 1 primetime emmy</td>\n",
       "    </tr>\n",
       "  </tbody>\n",
       "</table>\n",
       "</div>"
      ],
      "text/plain": [
       "                                    0\n",
       "2                        1 nomination\n",
       "5                       5 nominations\n",
       "7               nominated for 1 oscar\n",
       "9        nominated for 1 golden globe\n",
       "13                      2 nominations\n",
       "17    nominated for 4 primetime emmys\n",
       "24  nominated for 3 bafta film awards\n",
       "25                      6 nominations\n",
       "29       nominated for 1 golden globe\n",
       "30     nominated for 1 primetime emmy"
      ]
     },
     "execution_count": 532,
     "metadata": {},
     "output_type": "execute_result"
    }
   ],
   "source": [
    "nominates.head(10)"
   ]
  },
  {
   "cell_type": "code",
   "execution_count": 533,
   "metadata": {
    "collapsed": false
   },
   "outputs": [],
   "source": [
    "#nominates.merge(bafta, how='inner', left_index=True, right_index=True)"
   ]
  },
  {
   "cell_type": "code",
   "execution_count": 534,
   "metadata": {
    "collapsed": false
   },
   "outputs": [],
   "source": [
    "#joining nomination/wins with the respective awards and then extracting the number from the column\n",
    "data1['Nominated_BAFTA']= nominates.join(bafta, how='inner',lsuffix='test')['0'].str.extract('(\\d{1,3})', expand=True)"
   ]
  },
  {
   "cell_type": "code",
   "execution_count": 535,
   "metadata": {
    "collapsed": false
   },
   "outputs": [],
   "source": [
    "data1['Winner_BAFTA']=wins.join(bafta, how='inner',lsuffix='test')['0'].str.extract('(\\d{1,3})', expand=True)"
   ]
  },
  {
   "cell_type": "code",
   "execution_count": 536,
   "metadata": {
    "collapsed": true
   },
   "outputs": [],
   "source": [
    "data1['Winner_OSCAR']=wins.join(oscar, how='inner',lsuffix='test')['0'].str.extract('(\\d{1,3})', expand=True)"
   ]
  },
  {
   "cell_type": "code",
   "execution_count": 537,
   "metadata": {
    "collapsed": true
   },
   "outputs": [],
   "source": [
    "data1['Nominated_OSCAR']=nominates.join(oscar, how='inner',lsuffix='test')['0'].str.extract('(\\d{1,3})', expand=True)"
   ]
  },
  {
   "cell_type": "code",
   "execution_count": 538,
   "metadata": {
    "collapsed": true
   },
   "outputs": [],
   "source": [
    "data1['Winner_Emmy']=wins.join(emmy, how='inner',lsuffix='test')['0'].str.extract('(\\d{1,3})', expand=True)"
   ]
  },
  {
   "cell_type": "code",
   "execution_count": 539,
   "metadata": {
    "collapsed": true
   },
   "outputs": [],
   "source": [
    "data1['Nominated_Emmy']=nominates.join(emmy, how='inner',lsuffix='test')['0'].str.extract('(\\d{1,3})', expand=True)"
   ]
  },
  {
   "cell_type": "code",
   "execution_count": 540,
   "metadata": {
    "collapsed": true
   },
   "outputs": [],
   "source": [
    "data1['Winner_Globes']=wins.join(globes, how='inner',lsuffix='test')['0'].str.extract('(\\d{1,3})', expand=True)"
   ]
  },
  {
   "cell_type": "code",
   "execution_count": 541,
   "metadata": {
    "collapsed": true
   },
   "outputs": [],
   "source": [
    "data1['Nominated_Globes']=nominates.join(globes, how='inner',lsuffix='test')['0'].str.extract('(\\d{1,3})', expand=True)"
   ]
  },
  {
   "cell_type": "code",
   "execution_count": 542,
   "metadata": {
    "collapsed": false
   },
   "outputs": [],
   "source": [
    "data1['Awards_Won']=only_wins[0].str.extract('(\\d{1,3})', expand=True)"
   ]
  },
  {
   "cell_type": "code",
   "execution_count": 543,
   "metadata": {
    "collapsed": false
   },
   "outputs": [
    {
     "data": {
      "text/html": [
       "<div>\n",
       "<table border=\"1\" class=\"dataframe\">\n",
       "  <thead>\n",
       "    <tr style=\"text-align: right;\">\n",
       "      <th></th>\n",
       "      <th>Awards</th>\n",
       "      <th>Nominated_BAFTA</th>\n",
       "      <th>Winner_BAFTA</th>\n",
       "      <th>Winner_OSCAR</th>\n",
       "      <th>Nominated_OSCAR</th>\n",
       "      <th>Winner_Emmy</th>\n",
       "      <th>Nominated_Emmy</th>\n",
       "      <th>Winner_Globes</th>\n",
       "      <th>Nominated_Globes</th>\n",
       "      <th>Awards_Won</th>\n",
       "    </tr>\n",
       "  </thead>\n",
       "  <tbody>\n",
       "    <tr>\n",
       "      <th>0</th>\n",
       "      <td>1 win &amp; 2 nominations.</td>\n",
       "      <td>NaN</td>\n",
       "      <td>NaN</td>\n",
       "      <td>NaN</td>\n",
       "      <td>NaN</td>\n",
       "      <td>NaN</td>\n",
       "      <td>NaN</td>\n",
       "      <td>NaN</td>\n",
       "      <td>NaN</td>\n",
       "      <td>1</td>\n",
       "    </tr>\n",
       "    <tr>\n",
       "      <th>1</th>\n",
       "      <td>1 win.</td>\n",
       "      <td>NaN</td>\n",
       "      <td>NaN</td>\n",
       "      <td>NaN</td>\n",
       "      <td>NaN</td>\n",
       "      <td>NaN</td>\n",
       "      <td>NaN</td>\n",
       "      <td>NaN</td>\n",
       "      <td>NaN</td>\n",
       "      <td>1</td>\n",
       "    </tr>\n",
       "    <tr>\n",
       "      <th>2</th>\n",
       "      <td>1 nomination.</td>\n",
       "      <td>NaN</td>\n",
       "      <td>NaN</td>\n",
       "      <td>NaN</td>\n",
       "      <td>NaN</td>\n",
       "      <td>NaN</td>\n",
       "      <td>NaN</td>\n",
       "      <td>NaN</td>\n",
       "      <td>NaN</td>\n",
       "      <td>NaN</td>\n",
       "    </tr>\n",
       "    <tr>\n",
       "      <th>3</th>\n",
       "      <td>3 wins &amp; 2 nominations.</td>\n",
       "      <td>NaN</td>\n",
       "      <td>NaN</td>\n",
       "      <td>NaN</td>\n",
       "      <td>NaN</td>\n",
       "      <td>NaN</td>\n",
       "      <td>NaN</td>\n",
       "      <td>NaN</td>\n",
       "      <td>NaN</td>\n",
       "      <td>3</td>\n",
       "    </tr>\n",
       "    <tr>\n",
       "      <th>4</th>\n",
       "      <td>1 win &amp; 1 nomination.</td>\n",
       "      <td>NaN</td>\n",
       "      <td>NaN</td>\n",
       "      <td>NaN</td>\n",
       "      <td>NaN</td>\n",
       "      <td>NaN</td>\n",
       "      <td>NaN</td>\n",
       "      <td>NaN</td>\n",
       "      <td>NaN</td>\n",
       "      <td>1</td>\n",
       "    </tr>\n",
       "  </tbody>\n",
       "</table>\n",
       "</div>"
      ],
      "text/plain": [
       "                    Awards Nominated_BAFTA Winner_BAFTA Winner_OSCAR  \\\n",
       "0   1 win & 2 nominations.             NaN          NaN          NaN   \n",
       "1                   1 win.             NaN          NaN          NaN   \n",
       "2            1 nomination.             NaN          NaN          NaN   \n",
       "3  3 wins & 2 nominations.             NaN          NaN          NaN   \n",
       "4    1 win & 1 nomination.             NaN          NaN          NaN   \n",
       "\n",
       "  Nominated_OSCAR Winner_Emmy Nominated_Emmy Winner_Globes Nominated_Globes  \\\n",
       "0             NaN         NaN            NaN           NaN              NaN   \n",
       "1             NaN         NaN            NaN           NaN              NaN   \n",
       "2             NaN         NaN            NaN           NaN              NaN   \n",
       "3             NaN         NaN            NaN           NaN              NaN   \n",
       "4             NaN         NaN            NaN           NaN              NaN   \n",
       "\n",
       "  Awards_Won  \n",
       "0          1  \n",
       "1          1  \n",
       "2        NaN  \n",
       "3          3  \n",
       "4          1  "
      ]
     },
     "execution_count": 543,
     "metadata": {},
     "output_type": "execute_result"
    }
   ],
   "source": [
    "data1.head()"
   ]
  },
  {
   "cell_type": "code",
   "execution_count": 544,
   "metadata": {
    "collapsed": false
   },
   "outputs": [],
   "source": [
    "#taking the second column from temp and splitting on &\n",
    "temp1 = pd.DataFrame(temp[1].str.split('&').tolist())"
   ]
  },
  {
   "cell_type": "code",
   "execution_count": 545,
   "metadata": {
    "collapsed": true
   },
   "outputs": [],
   "source": [
    "#Part 2/6th of getting the output\n",
    "data1['Nominations']=temp0[1].str.extract('(\\d{1,3})', expand=True)"
   ]
  },
  {
   "cell_type": "code",
   "execution_count": 546,
   "metadata": {
    "collapsed": false
   },
   "outputs": [],
   "source": [
    "data1.Nominations.fillna(only_nominations[0].str.extract('(\\d{1,3})', expand=True)[0], inplace=True)"
   ]
  },
  {
   "cell_type": "code",
   "execution_count": 547,
   "metadata": {
    "collapsed": false
   },
   "outputs": [
    {
     "data": {
      "text/html": [
       "<div>\n",
       "<table border=\"1\" class=\"dataframe\">\n",
       "  <thead>\n",
       "    <tr style=\"text-align: right;\">\n",
       "      <th></th>\n",
       "      <th>Awards</th>\n",
       "      <th>Nominated_BAFTA</th>\n",
       "      <th>Winner_BAFTA</th>\n",
       "      <th>Winner_OSCAR</th>\n",
       "      <th>Nominated_OSCAR</th>\n",
       "      <th>Winner_Emmy</th>\n",
       "      <th>Nominated_Emmy</th>\n",
       "      <th>Winner_Globes</th>\n",
       "      <th>Nominated_Globes</th>\n",
       "      <th>Awards_Won</th>\n",
       "      <th>Nominations</th>\n",
       "    </tr>\n",
       "  </thead>\n",
       "  <tbody>\n",
       "    <tr>\n",
       "      <th>0</th>\n",
       "      <td>1 win &amp; 2 nominations.</td>\n",
       "      <td>NaN</td>\n",
       "      <td>NaN</td>\n",
       "      <td>NaN</td>\n",
       "      <td>NaN</td>\n",
       "      <td>NaN</td>\n",
       "      <td>NaN</td>\n",
       "      <td>NaN</td>\n",
       "      <td>NaN</td>\n",
       "      <td>1</td>\n",
       "      <td>2</td>\n",
       "    </tr>\n",
       "    <tr>\n",
       "      <th>1</th>\n",
       "      <td>1 win.</td>\n",
       "      <td>NaN</td>\n",
       "      <td>NaN</td>\n",
       "      <td>NaN</td>\n",
       "      <td>NaN</td>\n",
       "      <td>NaN</td>\n",
       "      <td>NaN</td>\n",
       "      <td>NaN</td>\n",
       "      <td>NaN</td>\n",
       "      <td>1</td>\n",
       "      <td>NaN</td>\n",
       "    </tr>\n",
       "    <tr>\n",
       "      <th>2</th>\n",
       "      <td>1 nomination.</td>\n",
       "      <td>NaN</td>\n",
       "      <td>NaN</td>\n",
       "      <td>NaN</td>\n",
       "      <td>NaN</td>\n",
       "      <td>NaN</td>\n",
       "      <td>NaN</td>\n",
       "      <td>NaN</td>\n",
       "      <td>NaN</td>\n",
       "      <td>NaN</td>\n",
       "      <td>1</td>\n",
       "    </tr>\n",
       "    <tr>\n",
       "      <th>3</th>\n",
       "      <td>3 wins &amp; 2 nominations.</td>\n",
       "      <td>NaN</td>\n",
       "      <td>NaN</td>\n",
       "      <td>NaN</td>\n",
       "      <td>NaN</td>\n",
       "      <td>NaN</td>\n",
       "      <td>NaN</td>\n",
       "      <td>NaN</td>\n",
       "      <td>NaN</td>\n",
       "      <td>3</td>\n",
       "      <td>2</td>\n",
       "    </tr>\n",
       "    <tr>\n",
       "      <th>4</th>\n",
       "      <td>1 win &amp; 1 nomination.</td>\n",
       "      <td>NaN</td>\n",
       "      <td>NaN</td>\n",
       "      <td>NaN</td>\n",
       "      <td>NaN</td>\n",
       "      <td>NaN</td>\n",
       "      <td>NaN</td>\n",
       "      <td>NaN</td>\n",
       "      <td>NaN</td>\n",
       "      <td>1</td>\n",
       "      <td>1</td>\n",
       "    </tr>\n",
       "  </tbody>\n",
       "</table>\n",
       "</div>"
      ],
      "text/plain": [
       "                    Awards Nominated_BAFTA Winner_BAFTA Winner_OSCAR  \\\n",
       "0   1 win & 2 nominations.             NaN          NaN          NaN   \n",
       "1                   1 win.             NaN          NaN          NaN   \n",
       "2            1 nomination.             NaN          NaN          NaN   \n",
       "3  3 wins & 2 nominations.             NaN          NaN          NaN   \n",
       "4    1 win & 1 nomination.             NaN          NaN          NaN   \n",
       "\n",
       "  Nominated_OSCAR Winner_Emmy Nominated_Emmy Winner_Globes Nominated_Globes  \\\n",
       "0             NaN         NaN            NaN           NaN              NaN   \n",
       "1             NaN         NaN            NaN           NaN              NaN   \n",
       "2             NaN         NaN            NaN           NaN              NaN   \n",
       "3             NaN         NaN            NaN           NaN              NaN   \n",
       "4             NaN         NaN            NaN           NaN              NaN   \n",
       "\n",
       "  Awards_Won Nominations  \n",
       "0          1           2  \n",
       "1          1         NaN  \n",
       "2        NaN           1  \n",
       "3          3           2  \n",
       "4          1           1  "
      ]
     },
     "execution_count": 547,
     "metadata": {},
     "output_type": "execute_result"
    }
   ],
   "source": [
    "data1.head()"
   ]
  },
  {
   "cell_type": "code",
   "execution_count": 548,
   "metadata": {
    "collapsed": false
   },
   "outputs": [],
   "source": [
    "temp1.head(15)\n",
    "temp1.fillna(value='', inplace=True)"
   ]
  },
  {
   "cell_type": "code",
   "execution_count": 549,
   "metadata": {
    "collapsed": false
   },
   "outputs": [],
   "source": [
    "#part3 and 4 of getting the output. Working with sub-columns of column '1' of df temp after splitting on '&'\n",
    "\n",
    "only_wins1=(pd.DataFrame(temp1[0][~temp1[0].str.contains('emmy|oscar|bafta|golden|nomin')]))\n",
    "only_nominations1=(pd.DataFrame(temp1[0][~temp1[0].str.contains('emmy|oscar|bafta|golden|win|wins|won')]))\n",
    "only_nominations11=(pd.DataFrame(temp1[1][~temp1[1].str.contains('win|wins|won')]))\n",
    "#data1['Nominations']=temp0[1].str.extract('(\\d)', expand=True)\n",
    "data1.Nominations.fillna(only_nominations1[0].str.extract('(\\d{1,3})', expand=True)[0], inplace=True)\n",
    "data1.Nominations.fillna(only_nominations11[1].str.extract('(\\d{1,3})', expand=True)[0], inplace=True)\n",
    "data1.Awards_Won.fillna(only_wins1[0].str.extract('(\\d{1,3})', expand=True)[0], inplace=True)"
   ]
  },
  {
   "cell_type": "code",
   "execution_count": 550,
   "metadata": {
    "collapsed": false
   },
   "outputs": [
    {
     "data": {
      "text/html": [
       "<div>\n",
       "<table border=\"1\" class=\"dataframe\">\n",
       "  <thead>\n",
       "    <tr style=\"text-align: right;\">\n",
       "      <th></th>\n",
       "      <th>Awards</th>\n",
       "      <th>Nominated_BAFTA</th>\n",
       "      <th>Winner_BAFTA</th>\n",
       "      <th>Winner_OSCAR</th>\n",
       "      <th>Nominated_OSCAR</th>\n",
       "      <th>Winner_Emmy</th>\n",
       "      <th>Nominated_Emmy</th>\n",
       "      <th>Winner_Globes</th>\n",
       "      <th>Nominated_Globes</th>\n",
       "      <th>Awards_Won</th>\n",
       "      <th>Nominations</th>\n",
       "    </tr>\n",
       "  </thead>\n",
       "  <tbody>\n",
       "    <tr>\n",
       "      <th>0</th>\n",
       "      <td>1 win &amp; 2 nominations.</td>\n",
       "      <td>NaN</td>\n",
       "      <td>NaN</td>\n",
       "      <td>NaN</td>\n",
       "      <td>NaN</td>\n",
       "      <td>NaN</td>\n",
       "      <td>NaN</td>\n",
       "      <td>NaN</td>\n",
       "      <td>NaN</td>\n",
       "      <td>1</td>\n",
       "      <td>2</td>\n",
       "    </tr>\n",
       "    <tr>\n",
       "      <th>1</th>\n",
       "      <td>1 win.</td>\n",
       "      <td>NaN</td>\n",
       "      <td>NaN</td>\n",
       "      <td>NaN</td>\n",
       "      <td>NaN</td>\n",
       "      <td>NaN</td>\n",
       "      <td>NaN</td>\n",
       "      <td>NaN</td>\n",
       "      <td>NaN</td>\n",
       "      <td>1</td>\n",
       "      <td>NaN</td>\n",
       "    </tr>\n",
       "    <tr>\n",
       "      <th>2</th>\n",
       "      <td>1 nomination.</td>\n",
       "      <td>NaN</td>\n",
       "      <td>NaN</td>\n",
       "      <td>NaN</td>\n",
       "      <td>NaN</td>\n",
       "      <td>NaN</td>\n",
       "      <td>NaN</td>\n",
       "      <td>NaN</td>\n",
       "      <td>NaN</td>\n",
       "      <td>NaN</td>\n",
       "      <td>1</td>\n",
       "    </tr>\n",
       "    <tr>\n",
       "      <th>3</th>\n",
       "      <td>3 wins &amp; 2 nominations.</td>\n",
       "      <td>NaN</td>\n",
       "      <td>NaN</td>\n",
       "      <td>NaN</td>\n",
       "      <td>NaN</td>\n",
       "      <td>NaN</td>\n",
       "      <td>NaN</td>\n",
       "      <td>NaN</td>\n",
       "      <td>NaN</td>\n",
       "      <td>3</td>\n",
       "      <td>2</td>\n",
       "    </tr>\n",
       "    <tr>\n",
       "      <th>4</th>\n",
       "      <td>1 win &amp; 1 nomination.</td>\n",
       "      <td>NaN</td>\n",
       "      <td>NaN</td>\n",
       "      <td>NaN</td>\n",
       "      <td>NaN</td>\n",
       "      <td>NaN</td>\n",
       "      <td>NaN</td>\n",
       "      <td>NaN</td>\n",
       "      <td>NaN</td>\n",
       "      <td>1</td>\n",
       "      <td>1</td>\n",
       "    </tr>\n",
       "  </tbody>\n",
       "</table>\n",
       "</div>"
      ],
      "text/plain": [
       "                    Awards Nominated_BAFTA Winner_BAFTA Winner_OSCAR  \\\n",
       "0   1 win & 2 nominations.             NaN          NaN          NaN   \n",
       "1                   1 win.             NaN          NaN          NaN   \n",
       "2            1 nomination.             NaN          NaN          NaN   \n",
       "3  3 wins & 2 nominations.             NaN          NaN          NaN   \n",
       "4    1 win & 1 nomination.             NaN          NaN          NaN   \n",
       "\n",
       "  Nominated_OSCAR Winner_Emmy Nominated_Emmy Winner_Globes Nominated_Globes  \\\n",
       "0             NaN         NaN            NaN           NaN              NaN   \n",
       "1             NaN         NaN            NaN           NaN              NaN   \n",
       "2             NaN         NaN            NaN           NaN              NaN   \n",
       "3             NaN         NaN            NaN           NaN              NaN   \n",
       "4             NaN         NaN            NaN           NaN              NaN   \n",
       "\n",
       "  Awards_Won Nominations  \n",
       "0          1           2  \n",
       "1          1         NaN  \n",
       "2        NaN           1  \n",
       "3          3           2  \n",
       "4          1           1  "
      ]
     },
     "execution_count": 550,
     "metadata": {},
     "output_type": "execute_result"
    }
   ],
   "source": [
    "data1.head()"
   ]
  },
  {
   "cell_type": "code",
   "execution_count": 551,
   "metadata": {
    "collapsed": false
   },
   "outputs": [],
   "source": [
    "data1=data1.fillna(0)"
   ]
  },
  {
   "cell_type": "code",
   "execution_count": 552,
   "metadata": {
    "collapsed": false
   },
   "outputs": [],
   "source": [
    "data1.to_csv(path_or_buf=os.path.join(os.getcwd(),'Q4.csv'))"
   ]
  },
  {
   "cell_type": "code",
   "execution_count": null,
   "metadata": {
    "collapsed": true
   },
   "outputs": [],
   "source": []
  }
 ],
 "metadata": {
  "anaconda-cloud": {},
  "kernelspec": {
   "display_name": "Python [conda root]",
   "language": "python",
   "name": "conda-root-py"
  },
  "language_info": {
   "codemirror_mode": {
    "name": "ipython",
    "version": 3
   },
   "file_extension": ".py",
   "mimetype": "text/x-python",
   "name": "python",
   "nbconvert_exporter": "python",
   "pygments_lexer": "ipython3",
   "version": "3.5.2"
  }
 },
 "nbformat": 4,
 "nbformat_minor": 1
}
