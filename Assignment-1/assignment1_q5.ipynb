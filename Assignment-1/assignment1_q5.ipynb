{
 "cells": [
  {
   "cell_type": "markdown",
   "metadata": {},
   "source": [
    "# Question 5\n",
    "- Finding out the top 50 words from Shakespeare books and webtext"
   ]
  },
  {
   "cell_type": "code",
   "execution_count": 3,
   "metadata": {
    "collapsed": true
   },
   "outputs": [],
   "source": [
    "from nltk.corpus import gutenberg,webtext,stopwords"
   ]
  },
  {
   "cell_type": "code",
   "execution_count": 4,
   "metadata": {
    "collapsed": false
   },
   "outputs": [
    {
     "data": {
      "text/plain": [
       "['austen-emma.txt',\n",
       " 'austen-persuasion.txt',\n",
       " 'austen-sense.txt',\n",
       " 'bible-kjv.txt',\n",
       " 'blake-poems.txt',\n",
       " 'bryant-stories.txt',\n",
       " 'burgess-busterbrown.txt',\n",
       " 'carroll-alice.txt',\n",
       " 'chesterton-ball.txt',\n",
       " 'chesterton-brown.txt',\n",
       " 'chesterton-thursday.txt',\n",
       " 'edgeworth-parents.txt',\n",
       " 'melville-moby_dick.txt',\n",
       " 'milton-paradise.txt',\n",
       " 'shakespeare-caesar.txt',\n",
       " 'shakespeare-hamlet.txt',\n",
       " 'shakespeare-macbeth.txt',\n",
       " 'whitman-leaves.txt']"
      ]
     },
     "execution_count": 4,
     "metadata": {},
     "output_type": "execute_result"
    }
   ],
   "source": [
    "gutenberg.fileids()"
   ]
  },
  {
   "cell_type": "code",
   "execution_count": 40,
   "metadata": {
    "collapsed": false
   },
   "outputs": [
    {
     "name": "stdout",
     "output_type": "stream",
     "text": [
      "['haue', 'ham', 'thou', 'shall', 'lord', 'come', 'king', 'enter', 'good', 'let', 'thy', 'caesar', 'vs', 'know', 'thee', 'would', 'vpon', 'like', 'brutus', 'bru', 'well', 'hath', 'selfe', 'man', 'may', 'macb', 'yet', 'heere', 'say', 'must', 'tis', 'th', 'speake', 'make', 'loue', 'giue', 'see', 'time', 'sir', 'night', 'one', 'st', 'cassi', 'ile', 'doe', 'hamlet', 'go', 'men', 'hor', 'vp']\n"
     ]
    }
   ],
   "source": [
    "caeser_words=[word.lower() for word in gutenberg.words('shakespeare-caesar.txt')]\n",
    "hamlet_words=[word.lower() for word in gutenberg.words('shakespeare-hamlet.txt')]\n",
    "macbeth_words=[word.lower() for word in gutenberg.words('shakespeare-macbeth.txt')]\n",
    "full_list=caeser_words+hamlet_words+macbeth_words\n",
    "unique_words=set(full_list)\n",
    "#print(unique_words)\n",
    "freq_word={}\n",
    "for unique_words in full_list:\n",
    "    if (unique_words not in stopwords.words('english') and unique_words.isalpha()):\n",
    "        freq_word[unique_words]=freq_word.get(unique_words,0)+1\n",
    "\n",
    "sorted_list=[(value,key) for (key, value) in sorted(freq_word.items())]\n",
    "new_sorted_list=sorted(sorted_list, reverse=True)\n",
    "list1 = new_sorted_list[:50]\n",
    "shakespeare_list=[i[1] for i in list1]\n",
    "print(shakespeare_list)"
   ]
  },
  {
   "cell_type": "code",
   "execution_count": 25,
   "metadata": {
    "collapsed": false
   },
   "outputs": [
    {
     "data": {
      "text/plain": [
       "['firefox.txt',\n",
       " 'grail.txt',\n",
       " 'overheard.txt',\n",
       " 'pirates.txt',\n",
       " 'singles.txt',\n",
       " 'wine.txt']"
      ]
     },
     "execution_count": 25,
     "metadata": {},
     "output_type": "execute_result"
    }
   ],
   "source": [
    "file=webtext.fileids()\n"
   ]
  },
  {
   "cell_type": "code",
   "execution_count": 46,
   "metadata": {
    "collapsed": false
   },
   "outputs": [
    {
     "name": "stdout",
     "output_type": "stream",
     "text": [
      "['girl', 'guy', 'like', 'man', 'know', 'woman', 'yeah', 'page', 'firefox', 'get', 'new', 'chick', 'one', 'oh', 'open', 'window', 'good', 'bookmarks', 'teen', 'well', 'firebird', 'cell', 'right', 'go', 'work', 'bar', 'menu', 'tab', 'lady', 'toolbar', 'boy', 'want', 'think', 'browser', 'jack', 'bookmark', 'old', 'really', 'going', 'download', 'url', 'back', 'time', 'black', 'manager', 'little', 'got', 'crash', 'would', 'button']\n"
     ]
    }
   ],
   "source": [
    "firefox_words=[word.lower() for word in webtext.words('firefox.txt')]\n",
    "grail_words=[word.lower() for word in webtext.words('grail.txt')]\n",
    "overheard_words=[word.lower() for word in webtext.words('overheard.txt')]\n",
    "pirates_words=[word.lower() for word in webtext.words('pirates.txt')]\n",
    "wine_words=[word.lower() for word in webtext.words('wine.txt')]\n",
    "singles_words=[word.lower() for word in webtext.words('singles.txt')]\n",
    "\n",
    "# One single list for all the words and using set operation on the list\n",
    "word_list=firefox_words+grail_words+overheard_words+pirates_words+wine_words+singles_words\n",
    "unique_common_words=set(word_list)\n",
    "#print(unique_words)\n",
    "freq_common_word={}\n",
    "for unique_common_words in word_list:\n",
    "    if (unique_common_words not in stopwords.words('english') and unique_common_words.isalpha()):\n",
    "        freq_common_word[unique_common_words]=freq_common_word.get(unique_common_words,0)+1\n",
    "\n",
    "sorted_common_list=[(value,key) for \n",
    "                    (key, value) in sorted(freq_common_word.items())]\n",
    "new_sorted_common_list=sorted(sorted_common_list, reverse=True)\n",
    "#print(new_sorted_common_list[:50])\n",
    "list2 = new_sorted_common_list[:50]\n",
    "common_list=[i[1] for i in list2]\n",
    "print(common_list)"
   ]
  },
  {
   "cell_type": "code",
   "execution_count": 48,
   "metadata": {
    "collapsed": false
   },
   "outputs": [
    {
     "name": "stdout",
     "output_type": "stream",
     "text": [
      "The top 5 common words in books of Shakespeare and webtext are: ['good', 'know', 'would', 'like', 'well']\n"
     ]
    }
   ],
   "source": [
    "word=[word for word in shakespeare_list if word in common_list]\n",
    "\n",
    "#FINAL SOLUTION\n",
    "print(\"The top 5 common words in books of Shakespeare and webtext are:\", word[:5])\n"
   ]
  },
  {
   "cell_type": "markdown",
   "metadata": {
    "collapsed": true
   },
   "source": []
  }
 ],
 "metadata": {
  "anaconda-cloud": {},
  "kernelspec": {
   "display_name": "Python [conda root]",
   "language": "python",
   "name": "conda-root-py"
  },
  "language_info": {
   "codemirror_mode": {
    "name": "ipython",
    "version": 3
   },
   "file_extension": ".py",
   "mimetype": "text/x-python",
   "name": "python",
   "nbconvert_exporter": "python",
   "pygments_lexer": "ipython3",
   "version": "3.5.2"
  }
 },
 "nbformat": 4,
 "nbformat_minor": 1
}
