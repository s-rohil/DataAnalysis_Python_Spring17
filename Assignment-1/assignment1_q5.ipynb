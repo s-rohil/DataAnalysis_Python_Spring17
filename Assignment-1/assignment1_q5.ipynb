{
 "cells": [
  {
   "cell_type": "markdown",
   "metadata": {},
   "source": [
    "# Question 5\n",
    "- Finding out the top 5 words that Shakespeare used but we do not use currently"
   ]
  },
  {
   "cell_type": "code",
   "execution_count": 3,
   "metadata": {
    "collapsed": true
   },
   "outputs": [],
   "source": [
    "from nltk.corpus import gutenberg,webtext,stopwords"
   ]
  },
  {
   "cell_type": "code",
   "execution_count": 4,
   "metadata": {
    "collapsed": false
   },
   "outputs": [
    {
     "data": {
      "text/plain": [
       "['austen-emma.txt',\n",
       " 'austen-persuasion.txt',\n",
       " 'austen-sense.txt',\n",
       " 'bible-kjv.txt',\n",
       " 'blake-poems.txt',\n",
       " 'bryant-stories.txt',\n",
       " 'burgess-busterbrown.txt',\n",
       " 'carroll-alice.txt',\n",
       " 'chesterton-ball.txt',\n",
       " 'chesterton-brown.txt',\n",
       " 'chesterton-thursday.txt',\n",
       " 'edgeworth-parents.txt',\n",
       " 'melville-moby_dick.txt',\n",
       " 'milton-paradise.txt',\n",
       " 'shakespeare-caesar.txt',\n",
       " 'shakespeare-hamlet.txt',\n",
       " 'shakespeare-macbeth.txt',\n",
       " 'whitman-leaves.txt']"
      ]
     },
     "execution_count": 4,
     "metadata": {},
     "output_type": "execute_result"
    }
   ],
   "source": [
    "gutenberg.fileids()"
   ]
  },
  {
   "cell_type": "code",
   "execution_count": 39,
   "metadata": {
    "collapsed": false
   },
   "outputs": [
    {
     "name": "stdout",
     "output_type": "stream",
     "text": [
      "[(448, 'haue'), (337, 'ham'), (312, 'thou'), (300, 'shall'), (293, 'lord'), (232, 'come'), (231, 'king'), (230, 'enter'), (218, 'good'), (217, 'let'), (202, 'thy'), (193, 'caesar'), (184, 'vs'), (176, 'know'), (174, 'thee'), (170, 'would'), (162, 'vpon'), (162, 'like'), (162, 'brutus'), (153, 'bru'), (152, 'well'), (144, 'hath'), (143, 'selfe'), (139, 'man'), (138, 'may'), (137, 'macb'), (136, 'yet'), (135, 'heere'), (130, 'say'), (130, 'must'), (129, 'tis'), (125, 'th'), (119, 'speake'), (119, 'make'), (119, 'loue'), (118, 'giue'), (116, 'see'), (115, 'time'), (114, 'sir'), (114, 'night'), (112, 'one'), (110, 'st'), (107, 'cassi'), (106, 'ile'), (103, 'doe'), (100, 'hamlet'), (100, 'go'), (96, 'men'), (95, 'hor'), (94, 'vp')]\n"
     ]
    }
   ],
   "source": [
    "caeser_words=[word.lower() for word in gutenberg.words('shakespeare-caesar.txt')]\n",
    "hamlet_words=[word.lower() for word in gutenberg.words('shakespeare-hamlet.txt')]\n",
    "macbeth_words=[word.lower() for word in gutenberg.words('shakespeare-macbeth.txt')]\n",
    "full_list=caeser_words+hamlet_words+macbeth_words\n",
    "unique_words=set(full_list)\n",
    "#print(unique_words)\n",
    "freq_word={}\n",
    "for unique_words in full_list:\n",
    "    if (unique_words not in stopwords.words('english') and unique_words.isalpha()):\n",
    "        freq_word[unique_words]=freq_word.get(unique_words,0)+1\n",
    "\n",
    "sorted_list=[(value,key) for (key, value) in sorted(freq_word.items())]\n",
    "new_sorted_list=sorted(sorted_list, reverse=True)\n",
    "print(new_sorted_list[:50])\n"
   ]
  },
  {
   "cell_type": "code",
   "execution_count": 25,
   "metadata": {
    "collapsed": false
   },
   "outputs": [
    {
     "data": {
      "text/plain": [
       "['firefox.txt',\n",
       " 'grail.txt',\n",
       " 'overheard.txt',\n",
       " 'pirates.txt',\n",
       " 'singles.txt',\n",
       " 'wine.txt']"
      ]
     },
     "execution_count": 25,
     "metadata": {},
     "output_type": "execute_result"
    }
   ],
   "source": [
    "file=webtext.fileids()\n"
   ]
  },
  {
   "cell_type": "code",
   "execution_count": 36,
   "metadata": {
    "collapsed": false
   },
   "outputs": [
    {
     "name": "stdout",
     "output_type": "stream",
     "text": [
      "[(2956, 'girl'), (2751, 'guy'), (1696, 'like'), (1075, 'man'), (1025, 'know'), (998, 'woman'), (895, 'yeah'), (887, 'page'), (879, 'firefox'), (869, 'get'), (790, 'new'), (714, 'chick'), (700, 'one'), (682, 'oh'), (679, 'open'), (670, 'window'), (644, 'good'), (598, 'bookmarks'), (587, 'teen'), (586, 'well'), (583, 'firebird'), (577, 'cell'), (576, 'right'), (564, 'go'), (537, 'work'), (536, 'bar'), (530, 'menu'), (529, 'tab'), (524, 'lady'), (518, 'toolbar'), (488, 'boy'), (485, 'want'), (484, 'think'), (484, 'browser'), (483, 'jack'), (482, 'bookmark'), (475, 'old'), (473, 'really'), (460, 'going'), (442, 'download'), (440, 'url'), (434, 'back'), (432, 'time'), (422, 'black'), (420, 'manager'), (419, 'little'), (409, 'got'), (396, 'crash'), (392, 'would'), (386, 'button')]\n"
     ]
    }
   ],
   "source": [
    "firefox_words=[word.lower() for word in webtext.words('firefox.txt')]\n",
    "grail_words=[word.lower() for word in webtext.words('grail.txt')]\n",
    "overheard_words=[word.lower() for word in webtext.words('overheard.txt')]\n",
    "pirates_words=[word.lower() for word in webtext.words('pirates.txt')]\n",
    "wine_words=[word.lower() for word in webtext.words('wine.txt')]\n",
    "singles_words=[word.lower() for word in webtext.words('singles.txt')]\n",
    "word_list=firefox_words+grail_words+overheard_words+pirates_words+wine_words+singles_words\n",
    "unique_common_words=set(word_list)\n",
    "#print(unique_words)\n",
    "freq_common_word={}\n",
    "for unique_common_words in word_list:\n",
    "    if (unique_common_words not in stopwords.words('english') and unique_common_words.isalpha()):\n",
    "        freq_common_word[unique_common_words]=freq_common_word.get(unique_common_words,0)+1\n",
    "\n",
    "sorted_common_list=[(value,key) for (key, value) in sorted(freq_common_word.items())]\n",
    "new_sorted_common_list=sorted(sorted_common_list, reverse=True)\n",
    "print(new_sorted_common_list[:50])"
   ]
  },
  {
   "cell_type": "code",
   "execution_count": null,
   "metadata": {
    "collapsed": true
   },
   "outputs": [],
   "source": []
  }
 ],
 "metadata": {
  "anaconda-cloud": {},
  "kernelspec": {
   "display_name": "Python [conda root]",
   "language": "python",
   "name": "conda-root-py"
  },
  "language_info": {
   "codemirror_mode": {
    "name": "ipython",
    "version": 3
   },
   "file_extension": ".py",
   "mimetype": "text/x-python",
   "name": "python",
   "nbconvert_exporter": "python",
   "pygments_lexer": "ipython3",
   "version": "3.5.2"
  }
 },
 "nbformat": 4,
 "nbformat_minor": 1
}
