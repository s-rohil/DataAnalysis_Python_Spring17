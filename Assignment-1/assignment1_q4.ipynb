{
 "cells": [
  {
   "cell_type": "markdown",
   "metadata": {},
   "source": [
    "# Question 4:\n",
    "- Checking files under nps_chat package\n",
    "- Counting the number of posts by 'user121'\n",
    "- finding unique users in each age range group(20's,30's)"
   ]
  },
  {
   "cell_type": "code",
   "execution_count": 54,
   "metadata": {
    "collapsed": true
   },
   "outputs": [],
   "source": [
    "from nltk.corpus import nps_chat\n",
    "from xml.dom import minidom\n",
    "from xml.dom.minidom import parse\n",
    "import xml.dom.minidom\n",
    "import os"
   ]
  },
  {
   "cell_type": "code",
   "execution_count": 84,
   "metadata": {
    "collapsed": false
   },
   "outputs": [
    {
     "data": {
      "text/plain": [
       "['20s', '20s', '20s']"
      ]
     },
     "execution_count": 84,
     "metadata": {},
     "output_type": "execute_result"
    }
   ],
   "source": [
    "file=nps_chat.fileids()\n",
    "#print(file)\n",
    "[file[6:9] for file in file if '20s' in file]\n",
    "#print(nps_chat.raw('10-19-20s_706posts.xml'))\n"
   ]
  },
  {
   "cell_type": "code",
   "execution_count": 83,
   "metadata": {
    "collapsed": false
   },
   "outputs": [],
   "source": [
    "raw=nps_chat.raw('11-08-adults_705posts.xml')\n",
    "#print(raw)\n"
   ]
  },
  {
   "cell_type": "code",
   "execution_count": 82,
   "metadata": {
    "collapsed": false
   },
   "outputs": [
    {
     "name": "stdout",
     "output_type": "stream",
     "text": [
      "The total number of posts by User121 is: 132\n",
      "The total number of unique users in the age group '20s' is: 162\n",
      "The total number of unique users in the age group '30s' is: 44\n",
      "The total number of unique users in the age group '40s' is: 80\n",
      "The total number of unique users in the age group 'adults' is: 138\n",
      "The total number of unique users in the age group 'teens' is: 206\n"
     ]
    }
   ],
   "source": [
    "#file1=abspath(nps_chat.fileids('10-19-20s_706posts.xml'))\n",
    "count=0\n",
    "#unique_count={'20s'}\n",
    "list_20=[]\n",
    "list_30=[]\n",
    "list_40=[]\n",
    "list_teens=[]\n",
    "list_adults=[]\n",
    "for temp in nps_chat.fileids():\n",
    "    file = nps_chat.abspath(temp)\n",
    "    source = xml.dom.minidom.parse(file)\n",
    "    #file=temp1[40:]\n",
    "    #print(file)\n",
    "    \n",
    "    #print(len(source.getElementsByTagName('Post')))\n",
    "\n",
    "    for i in range(0,len(source.getElementsByTagName('Post'))):\n",
    "        tags= source.getElementsByTagName('Post')[i]\n",
    "        user=tags.attributes['user'].value\n",
    "        #unique_count[user]= unique_count.get(user,0)+1\n",
    "        if('User121' in user):\n",
    "            #print(user)\n",
    "            count+=1\n",
    "        #if('20s' in temp):\n",
    "            #print(list.append('tst'))\n",
    "            #key=temp[6:9]\n",
    "            #unique_count['20s'].insert(user)\n",
    "            #[list_20.append(user) for user in list_20 if user[9:] not in list_20]\n",
    "        if('20s' in user):\n",
    "            list_20.append(user[9:])\n",
    "        elif('30s' in user):\n",
    "            list_30.append(user[9:])\n",
    "        elif('40s' in user):\n",
    "            list_40.append(user[9:])\n",
    "        elif('adults' in user):\n",
    "            list_adults.append(user[12:])    \n",
    "        elif('teens' in user):\n",
    "            list_teens.append(user[11:])\n",
    "        #elif('30s' in temp):\n",
    "            #unique_count['30s']= unique_count['30s'].append(user)\n",
    "        #elif('adults' in temp):\n",
    "            #unique_count['adults']= unique_count['adults'].append(user)\n",
    "        #elif('40s' in temp):\n",
    "            #unique_count['40s']= unique_count['40s'].append(user)\n",
    "        #elif('teens' in temp):\n",
    "            #unique_count['teens']= unique_count['teens'].append(user)\n",
    "#FINAL SOLUTION PART 1\n",
    "print(\"The total number of posts by User121 is:\", count)\n",
    "#print(set(list_20))\n",
    "\n",
    "#FINAL SOLUTION PART 2\n",
    "print(\"The total number of unique users in the age group '20s' is:\", len(set(list_20)))\n",
    "print(\"The total number of unique users in the age group '30s' is:\", len(set(list_30)))\n",
    "print(\"The total number of unique users in the age group '40s' is:\", len(set(list_40)))\n",
    "print(\"The total number of unique users in the age group 'adults' is:\", len(set(list_adults)))\n",
    "print(\"The total number of unique users in the age group 'teens' is:\", len(set(list_teens)))\n",
    "\n",
    "\n"
   ]
  },
  {
   "cell_type": "markdown",
   "metadata": {},
   "source": []
  },
  {
   "cell_type": "code",
   "execution_count": null,
   "metadata": {
    "collapsed": true
   },
   "outputs": [],
   "source": [
    "\n"
   ]
  }
 ],
 "metadata": {
  "anaconda-cloud": {},
  "kernelspec": {
   "display_name": "Python [conda root]",
   "language": "python",
   "name": "conda-root-py"
  },
  "language_info": {
   "codemirror_mode": {
    "name": "ipython",
    "version": 3
   },
   "file_extension": ".py",
   "mimetype": "text/x-python",
   "name": "python",
   "nbconvert_exporter": "python",
   "pygments_lexer": "ipython3",
   "version": "3.5.2"
  }
 },
 "nbformat": 4,
 "nbformat_minor": 1
}
