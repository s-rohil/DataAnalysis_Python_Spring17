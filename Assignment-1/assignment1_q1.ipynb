{
 "cells": [
  {
   "cell_type": "markdown",
   "metadata": {},
   "source": [
    "# Question 1\n",
    "- Count the number of words and number of unique words in 'austen-persuasion.txt'\n",
    "- Show the top 10 frequently occuring words in 'austen-persuasion.txt'\n"
   ]
  },
  {
   "cell_type": "code",
   "execution_count": 2,
   "metadata": {
    "collapsed": true
   },
   "outputs": [],
   "source": [
    "from nltk.corpus import gutenberg"
   ]
  },
  {
   "cell_type": "code",
   "execution_count": 50,
   "metadata": {
    "collapsed": false
   },
   "outputs": [
    {
     "name": "stdout",
     "output_type": "stream",
     "text": [
      "Number of words in 'austen-persuasion.txt:' 98171\n",
      "Number of unique words in 'austen-persuasion.txt:' 5835\n"
     ]
    }
   ],
   "source": [
    "words=gutenberg.words('austen-persuasion.txt')\n",
    "words=[word.lower() for word in words]\n",
    "#print(words)\n",
    "print(\"Number of words in 'austen-persuasion.txt:'\", len(words))\n",
    "#unique_words=set(word.lower() for word in words)\n",
    "unique_words=set(words)\n",
    "print(\"Number of unique words in 'austen-persuasion.txt:'\", len(set(words)))"
   ]
  },
  {
   "cell_type": "code",
   "execution_count": 74,
   "metadata": {
    "collapsed": false
   },
   "outputs": [
    {
     "name": "stdout",
     "output_type": "stream",
     "text": [
      "The top 10 frequently occuring words in austen-persuasion.txt: [(6750, ','), (3329, 'the'), (2808, 'to'), (2801, 'and'), (2741, '.'), (2570, 'of'), (1595, 'a'), (1389, 'in'), (1337, 'was'), (1290, ';')]\n"
     ]
    }
   ],
   "source": [
    "freq_word={}\n",
    "for unique_words in words:\n",
    "    freq_word[unique_words]=freq_word.get(unique_words,0)+1\n",
    "#print(freq_word)\n",
    "sorted_list =[(value,key) for (key, value) in sorted(freq_word.items())]\n",
    "#print(sorted_list)\n",
    "new_sorted_list=sorted(sorted_list, reverse=True)\n",
    "#print(sorted_list.sort(reverse=True))\n",
    "#sorted_list=sorted(freq_word, key=freq_word.get, reverse=True)\n",
    "\n",
    "\n",
    "#FINAL SOLUTION\n",
    "print(\"The top 10 frequently occuring words in austen-persuasion.txt:\" ,new_sorted_list[:10])"
   ]
  },
  {
   "cell_type": "code",
   "execution_count": null,
   "metadata": {
    "collapsed": true
   },
   "outputs": [],
   "source": []
  }
 ],
 "metadata": {
  "anaconda-cloud": {},
  "kernelspec": {
   "display_name": "Python [conda root]",
   "language": "python",
   "name": "conda-root-py"
  },
  "language_info": {
   "codemirror_mode": {
    "name": "ipython",
    "version": 3
   },
   "file_extension": ".py",
   "mimetype": "text/x-python",
   "name": "python",
   "nbconvert_exporter": "python",
   "pygments_lexer": "ipython3",
   "version": "3.5.2"
  }
 },
 "nbformat": 4,
 "nbformat_minor": 1
}
