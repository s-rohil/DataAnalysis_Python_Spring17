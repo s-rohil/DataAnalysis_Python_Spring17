{
 "cells": [
  {
   "cell_type": "markdown",
   "metadata": {},
   "source": [
    "# Question 8:\n",
    "- Finding out how many unusual words(Heyyyy, gr8...) are spoken in chats"
   ]
  },
  {
   "cell_type": "code",
   "execution_count": 83,
   "metadata": {
    "collapsed": true
   },
   "outputs": [],
   "source": [
    "from nltk.corpus import nps_chat\n",
    "from nltk.corpus import words\n",
    "#from xml.dom import minidom\n",
    "#from xml.dom.minidom import parse\n",
    "#import xml.dom.minidom\n",
    "import os"
   ]
  },
  {
   "cell_type": "code",
   "execution_count": 63,
   "metadata": {
    "collapsed": false
   },
   "outputs": [],
   "source": [
    "#print(nps_chat.raw('10-19-20s_706posts.xml'))"
   ]
  },
  {
   "cell_type": "code",
   "execution_count": 62,
   "metadata": {
    "collapsed": false
   },
   "outputs": [],
   "source": [
    "#print(nps_chat.posts('10-19-20s_706posts.xml'))"
   ]
  },
  {
   "cell_type": "code",
   "execution_count": 11,
   "metadata": {
    "collapsed": false
   },
   "outputs": [],
   "source": [
    "#posts = nps.xml_posts()\n",
    "#print(posts[:10])"
   ]
  },
  {
   "cell_type": "code",
   "execution_count": 86,
   "metadata": {
    "collapsed": false
   },
   "outputs": [],
   "source": [
    "posts=[]\n",
    "file=nps_chat.fileids()\n",
    "for f in file:\n",
    "    #print(f)\n",
    "    posts= nps_chat.posts(f)\n",
    "\n",
    "# keeping a single list of all the unique words that have been written in the posts under nps_chat\n",
    "full_list = [word.lower() for post in posts for word in post] \n",
    "unique_list=set(full_list)\n",
    "#print(unique_list)\n",
    "    \n",
    "    \n",
    "\n",
    "        \n",
    "    \n",
    "\n"
   ]
  },
  {
   "cell_type": "code",
   "execution_count": 68,
   "metadata": {
    "collapsed": false
   },
   "outputs": [],
   "source": [
    "word_list= [word.lower() for word in words.words()]\n",
    "#print(set(word_list))"
   ]
  },
  {
   "cell_type": "code",
   "execution_count": 27,
   "metadata": {
    "collapsed": false
   },
   "outputs": [],
   "source": [
    "#nps_chat.abspath('10-19-20s_706posts.xml')"
   ]
  },
  {
   "cell_type": "code",
   "execution_count": 75,
   "metadata": {
    "collapsed": false
   },
   "outputs": [
    {
     "name": "stdout",
     "output_type": "stream",
     "text": [
      "The number of words that are uncommon between nps_chat and wordlist are: 350\n",
      "\n",
      "The words that are uncommon between nps_chat and wordlist are\n",
      " ['luv', ':|', 'brwn', '33982', 'waddles', '@', 'u148', '15', 'yarrrr', '247', 'names', 'dipset', 's3x0r', 'u164', 'impressed', 'peeps', 'flippin', 'cuz', 'looks', 'feeds', 'usa', '.', 'o.o', 'vs.', 'fraggle', 'heys', 'u149', 'rubs', '!!!!!!!!!!!!!!!!!!!!!!!!!!!!!!!!!!!!!!!!!!!!!!!!!!!!!!', '246', '...', 'insuklting', 'ballin', 'xd', '>_>', ',', 'typr', 'happened', '280', 'knows', 'wildcard', '9', 'bloooooooooooood', 'currious', 'gals', '(', 'tv', \"'m\", 'msn', ':)', '?!', 'girls', 'wants', 'asked', 'msg', 'uh', \"'.\", '-', 'rules', 'removes', 'u136', 'u121', 'gorda', 'walks', '59%', 'woah', \"'d\", 'meh', 'goodbye', 'bied', 'tx', '!!', '#14-19teens', 'u181', '18', 'loves', '--', 'tenn', '..', 'sits', 'hott', '99', '=/', ';-)', \"'n'\", '2', 'scared', 'u168', '\"', 'drags', 'u197', 'any1', 'burryed', 'u153', 'baaaaalllllllliiiiiiinnnnnnnnnnn', 'hands', 'cookies', '<33', 'yeh', 'maps', 'lil', 'women', '1', 'kidding', '??????', 'u35', 'u122', 'rutger', 'feet', 'talkiing', 'results', 'chatt', ':', 'ny', 'sincy', 'bloooooooood', 'froogle', ':]', '>.>', 'u150', '=', '.)', \"'ll\", 'plz', 'pounds', 'ussy', '423', 'asking', 'baord', \"e'wjfghky\", 'boed', 'latina', '<33333', 'd=', 'latins', 'kinda', 'freesbee', 'holocaustyourmom', 'u820', 'mooooooooooooooooooooooooooo', 'nm', 'minutes', 'gonna', '8', 'bbbbbyyyyyyyeeeeeeeee', '100', '!!!!!!!!!', 'confusing', '>', 'u190', '!?', 'temples', 'asl', 'myspace', ':p', '!', 'qwertyuiop', 'fl', '!!!!!', 'omg', 'u114', 'ahh', 'il', 'temp.', '<empty>', '......', 'u60', 'chops', 'u9', 'throws', 'hahhaa', 'kool', '???', '11', 'bloooooooooood', 'things', 'aim.com', 'pm', 'u72', 'hav', '6:41', 'proud', 'dj', 'attempted', 'checking', 'caps', 'yoll', 'p.ussy', 'adreniline', 'has', '6:53', 'computor', '<3333', '17', 'guys', 'marlaya', 'u120', 'shows', 'lol', '-stay-', 'telllin', 'wanna', 'u57', 'coughs', 'england', 'sighs', '?', 'finers', 'heyyy', '3333333', 'pics', 'brb', 'p.', 'u142', 'lampert', 'hhehe', 'reschedual', ':d', 'salisbury', 'ovr', '/', '!!!!!!!', 'humple', \"<3's\", '45', 'fkajslf', 'lmao', 'sexi', '????', 'u144', 'dsklgjsdk', 'o<|=d', 'pwns', ':/', 'listens', '<333333333', 'lawl', '!!!!', 'atl', 'u117', 'u98', 'wheeeeeeeeeeeeeeeeeeeeeeeeeeeeeeeeee', 'plays', 'amazingness', '...........', 'u3', \"'\", 'nevermind', 'tisk', ':o', 'irl', 'hahaaaa', 'hours', '.........', 'yall', 'hgfhgfjgf', '12%', ':(', '!!!!!!!!', 'shit', 'nothin', '16', 'mspace', '7:45', '28147', '=p', 'pokkies', 'cramps', '=(', 'est', 'lets', 'fries', '*', 'poeple', '224', 'duh', 'uk', 'wana', '185', 'goths', '!=', 'kittie', 'w/', 'o_o', 'cusion', '65%', 'im', 'slaps', 'booyah', 'toes', 'post-haste', 'u2', \"n't\", \"='s\", 'gurls', 'u25', 'n e', 'okay', 'u819', 'images', ')', 'tellin', 'aussies', '19', 'tastes', 'u104', 'u156', 'argh', 'finds', 'wz', '3', 'books', 'yum', \"'re\", '(.', '6', 'u34', 'wazz', 'ppl', 'groups', '=]', 'heya', 'wanted', \"'s\", '<3', 'pms', '+', 'h0rny', 'uhhh', 'psh', 'horace', 'peoples', 'google', '12', 'u33', 'having', 'whos', 'tryin', 'fingers', '\\\\', 'louisville', 'kicked', 'u172', 'nicks', 'bored', 'eroticaust', '>.>->', 'tacoma', 'birdgang', '=d']\n"
     ]
    }
   ],
   "source": [
    "uncommon_list = [word for word in unique_list if word not in word_list]\n",
    "\n",
    "#FINAL SOLUTION\n",
    "print(\"The number of words that are uncommon between nps_chat and wordlist are:\", len(uncommon_list))\n",
    "print(\"\\nThe words that are uncommon between nps_chat and wordlist are\\n\", uncommon_list)"
   ]
  },
  {
   "cell_type": "code",
   "execution_count": 85,
   "metadata": {
    "collapsed": false
   },
   "outputs": [],
   "source": [
    "#nps_chat.words('10-19-20s_706posts.xml')[:50]"
   ]
  },
  {
   "cell_type": "code",
   "execution_count": 84,
   "metadata": {
    "collapsed": false
   },
   "outputs": [],
   "source": [
    "#nps_chat.posts('10-19-20s_706posts.xml')[:90]"
   ]
  },
  {
   "cell_type": "code",
   "execution_count": null,
   "metadata": {
    "collapsed": true
   },
   "outputs": [],
   "source": []
  }
 ],
 "metadata": {
  "anaconda-cloud": {},
  "kernelspec": {
   "display_name": "Python [conda root]",
   "language": "python",
   "name": "conda-root-py"
  },
  "language_info": {
   "codemirror_mode": {
    "name": "ipython",
    "version": 3
   },
   "file_extension": ".py",
   "mimetype": "text/x-python",
   "name": "python",
   "nbconvert_exporter": "python",
   "pygments_lexer": "ipython3",
   "version": "3.5.2"
  }
 },
 "nbformat": 4,
 "nbformat_minor": 1
}
