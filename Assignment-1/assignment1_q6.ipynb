{
 "cells": [
  {
   "cell_type": "markdown",
   "metadata": {},
   "source": [
    "# Question 6:\n",
    "- Finding out unique words spoken by each President in the speech from the package inaugural"
   ]
  },
  {
   "cell_type": "code",
   "execution_count": 27,
   "metadata": {
    "collapsed": false
   },
   "outputs": [],
   "source": [
    "from nltk.corpus import inaugural\n",
    "clean_names=[]\n",
    "file = inaugural.fileids()\n",
    "#print(file)\n",
    "clean_names=set([name[5:-4] for name in file])\n",
    "#print(len(clean_names))"
   ]
  },
  {
   "cell_type": "code",
   "execution_count": 24,
   "metadata": {
    "collapsed": false
   },
   "outputs": [
    {
     "name": "stdout",
     "output_type": "stream",
     "text": [
      "The unique words spoken by each President is: \n",
      " {'Eisenhower': 585, 'Truman': 739, 'Bush': 731, 'Buchanan': 890, 'Obama': 889, 'Johnson': 524, 'Clinton': 713, 'Roosevelt': 259, 'McKinley': 807, 'Taylor': 481, 'Kennedy': 532, 'Carter': 490, 'Garfield': 965, 'Polk': 1256, 'Washington': 90, 'Adams': 963, 'Nixon': 504, 'VanBuren': 1252, 'Grant': 520, 'Lincoln': 335, 'Cleveland': 794, 'Hoover': 992, 'Monroe': 1193, 'Harding': 1117, 'Reagan': 853, 'Harrison': 1298, 'Taft': 1372, 'Wilson': 523, 'Madison': 518, 'Jackson': 474, 'Hayes': 798, 'Pierce': 1114, 'Coolidge': 1159, 'Jefferson': 777}\n"
     ]
    }
   ],
   "source": [
    "words={}\n",
    "for text in file:\n",
    "    if \"Bush\" in text:\n",
    "        temp = set([word.lower() for word in inaugural.words(text) if word.isalpha()]) #getting all unique words from speeches of Bush\n",
    "        words[text[5:-4]] = len(temp)\n",
    "    else:\n",
    "        temp = set([word.lower() for word in inaugural.words(text) if word.isalpha()]) #getting all unique words from speeches of other Presidents\n",
    "        words[text[5:-4]] = len(temp)\n",
    "\n",
    "        #FINAL SOLUTION    \n",
    "print(\"The unique words spoken by each President is: \\n\", (words))"
   ]
  },
  {
   "cell_type": "code",
   "execution_count": 26,
   "metadata": {
    "collapsed": false
   },
   "outputs": [],
   "source": [
    "#test case for checking my for loop of finding Bush\n",
    "for text in file:\n",
    "    if \"Bush\" in text:\n",
    "        print(\"yes\")"
   ]
  },
  {
   "cell_type": "code",
   "execution_count": 20,
   "metadata": {
    "collapsed": false
   },
   "outputs": [],
   "source": [
    "#TEST CASE\n",
    "temp={}\n",
    "for text in file:\n",
    "    if \"Bush\" in text:\n",
    "        temp[text[5:-4]] = set([word.lower()for word in inaugural.words(text) if word.isalpha()])\n",
    "        \n",
    "#print(temp) # testing for only unique words spoken by Bush"
   ]
  },
  {
   "cell_type": "code",
   "execution_count": null,
   "metadata": {
    "collapsed": true
   },
   "outputs": [],
   "source": []
  }
 ],
 "metadata": {
  "anaconda-cloud": {},
  "kernelspec": {
   "display_name": "Python [conda root]",
   "language": "python",
   "name": "conda-root-py"
  },
  "language_info": {
   "codemirror_mode": {
    "name": "ipython",
    "version": 3
   },
   "file_extension": ".py",
   "mimetype": "text/x-python",
   "name": "python",
   "nbconvert_exporter": "python",
   "pygments_lexer": "ipython3",
   "version": "3.5.2"
  }
 },
 "nbformat": 4,
 "nbformat_minor": 1
}
