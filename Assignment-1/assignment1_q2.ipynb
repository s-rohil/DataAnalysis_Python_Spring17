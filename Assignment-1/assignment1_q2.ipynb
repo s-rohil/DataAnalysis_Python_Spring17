{
 "cells": [
  {
   "cell_type": "markdown",
   "metadata": {},
   "source": [
    "# Question 2\n",
    "- Finding out frequency of 26 characters from file 'melville-moby_dick.txt'\n",
    "- Ordering them in terms of their frequency( most to least)"
   ]
  },
  {
   "cell_type": "code",
   "execution_count": 1,
   "metadata": {
    "collapsed": true
   },
   "outputs": [],
   "source": [
    "from nltk.corpus import gutenberg"
   ]
  },
  {
   "cell_type": "code",
   "execution_count": 11,
   "metadata": {
    "collapsed": false
   },
   "outputs": [
    {
     "name": "stdout",
     "output_type": "stream",
     "text": [
      "The frequency of alphabets in the file melville-moby_dick.txt is:\n",
      " [(117092, 'e'), (87996, 't'), (77916, 'a'), (69326, 'o'), (65617, 'n'), (65434, 'i'), (64231, 's'), (62896, 'h'), (52134, 'r'), (42793, 'l'), (38219, 'd'), (26697, 'u'), (23277, 'm'), (22507, 'c'), (22222, 'w'), (20833, 'f'), (20820, 'g'), (17255, 'p'), (16877, 'b'), (16872, 'y'), (8598, 'v'), (8059, 'k'), (1556, 'q'), (1082, 'j'), (1030, 'x'), (632, 'z')]\n"
     ]
    }
   ],
   "source": [
    "words=gutenberg.words('melville-moby_dick.txt')\n",
    "word_list=[word.lower() for word in words]\n",
    "char_list=[char for word in word_list for char in word if char.isalpha()] #checking if outcome is alphabet from the characters of individual words\n",
    "#char_list=list(word_list)\n",
    "#print(char_list)\n",
    "freq_char={}\n",
    "for char in char_list:\n",
    "    freq_char[char]=freq_char.get(char,0)+1 #creating a dictionary with key and frequency of the alphabets\n",
    "#print(freq_char)\n",
    "sorted_list =[(value,key) for (key, value) in sorted(freq_char.items())]\n",
    "new_sorted_list=sorted(sorted_list, reverse=True)\n",
    "print(\"The frequency of alphabets in the file melville-moby_dick.txt is:\\n\" , new_sorted_list)"
   ]
  },
  {
   "cell_type": "code",
   "execution_count": null,
   "metadata": {
    "collapsed": true
   },
   "outputs": [],
   "source": []
  }
 ],
 "metadata": {
  "anaconda-cloud": {},
  "kernelspec": {
   "display_name": "Python [conda root]",
   "language": "python",
   "name": "conda-root-py"
  },
  "language_info": {
   "codemirror_mode": {
    "name": "ipython",
    "version": 3
   },
   "file_extension": ".py",
   "mimetype": "text/x-python",
   "name": "python",
   "nbconvert_exporter": "python",
   "pygments_lexer": "ipython3",
   "version": "3.5.2"
  }
 },
 "nbformat": 4,
 "nbformat_minor": 1
}
