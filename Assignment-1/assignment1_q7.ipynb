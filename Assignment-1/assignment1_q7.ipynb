{
 "cells": [
  {
   "cell_type": "markdown",
   "metadata": {},
   "source": [
    "# Question 7:\n",
    "- Using Name corpus to determine the probability whether name is a male or female based on last character(s) of Name"
   ]
  },
  {
   "cell_type": "code",
   "execution_count": 26,
   "metadata": {
    "collapsed": false
   },
   "outputs": [],
   "source": [
    "from nltk.corpus import names\n",
    "from string import ascii_lowercase\n",
    "#print(list(string.ascii_lowercase))\n",
    "#for i in ascii_lowercase:\n",
    "    #print(i)"
   ]
  },
  {
   "cell_type": "code",
   "execution_count": null,
   "metadata": {
    "collapsed": false
   },
   "outputs": [],
   "source": [
    "names.fileids()\n",
    "print(list(string.ascii_lowercase))"
   ]
  },
  {
   "cell_type": "code",
   "execution_count": 24,
   "metadata": {
    "collapsed": false
   },
   "outputs": [
    {
     "name": "stdout",
     "output_type": "stream",
     "text": [
      "The probability of male names with respect to female names with the same starting character is:\n",
      " {'z': 50.0, 'x': 58.33, 'o': 44.07, 'n': 32.77, 's': 43.51, 'g': 42.28, 'p': 45.5, 'd': 32.16, 'c': 26.14, 'u': 61.11, 'm': 29.24, 'a': 32.47, 'j': 32.95, 'v': 32.26, 'w': 73.66, 'h': 56.79, 'i': 35.16, 't': 48.7, 'y': 47.06, 'l': 25.39, 'k': 20.23, 'e': 32.16, 'f': 37.66, 'q': 62.5, 'r': 44.74, 'b': 41.29}\n",
      "\n",
      "The probability of female names with respect to male names with the same starting character is:\n",
      " {'z': 50.0, 'x': 41.67, 'o': 55.93, 'n': 67.23, 's': 56.49, 'g': 57.72, 'p': 54.5, 'd': 67.84, 'c': 73.86, 'u': 38.89, 'm': 70.76, 'a': 67.53, 'j': 67.05, 'v': 67.74, 'w': 26.34, 'h': 43.21, 'i': 64.84, 't': 51.3, 'y': 52.94, 'l': 74.61, 'k': 79.77, 'e': 67.84, 'f': 62.34, 'q': 37.5, 'r': 55.26, 'b': 58.71}\n"
     ]
    }
   ],
   "source": [
    "prob_male={}\n",
    "male_count={}\n",
    "female_count={}\n",
    "prob_female={}\n",
    "male_names=[word.lower() for word in names.words('male.txt')]\n",
    "female_names=[word.lower() for word in names.words('female.txt')]\n",
    "#print(male_names)\n",
    "#print(male_names) working till here\n",
    "#[ for char in ascii_lowercase for word in male_names if word.startswith(char)]\n",
    "\n",
    "#getting a dictionary for male last name and its count of person\n",
    "for char in ascii_lowercase:\n",
    "    for name in male_names:\n",
    "        if name.startswith(char):\n",
    "            male_count[char]=male_count.get(char,0)+1\n",
    "#print(male_count)  \n",
    "\n",
    "#getting a dictionary for female last name and its count of person\n",
    "for char in ascii_lowercase:\n",
    "    for name in female_names:\n",
    "        if name.startswith(char):\n",
    "            female_count[char]=female_count.get(char,0)+1\n",
    "#print(female_count)\n",
    "#print(male_count.get('a')) testing for getting the value for a particular key\n",
    "for char in ascii_lowercase:\n",
    "    m=male_count.get(char)\n",
    "    f=female_count.get(char)\n",
    "    prob_male[char]=round(100*(m/(m+f)),2)\n",
    "    prob_female[char]=round(100*(f/(m+f)),2)\n",
    "    \n",
    "    \n",
    "#FINAL SOLUTION    \n",
    "print(\"The probability of male names with respect to female names with the same starting character is:\\n\", prob_male)\n",
    "print(\"\\nThe probability of female names with respect to male names with the same starting character is:\\n\", prob_female)\n",
    "    \n",
    "\n",
    "\n",
    "    \n",
    "\n",
    "    \n"
   ]
  },
  {
   "cell_type": "code",
   "execution_count": null,
   "metadata": {
    "collapsed": true
   },
   "outputs": [],
   "source": []
  },
  {
   "cell_type": "code",
   "execution_count": null,
   "metadata": {
    "collapsed": true
   },
   "outputs": [],
   "source": []
  },
  {
   "cell_type": "code",
   "execution_count": null,
   "metadata": {
    "collapsed": true
   },
   "outputs": [],
   "source": []
  }
 ],
 "metadata": {
  "anaconda-cloud": {},
  "kernelspec": {
   "display_name": "Python [conda root]",
   "language": "python",
   "name": "conda-root-py"
  },
  "language_info": {
   "codemirror_mode": {
    "name": "ipython",
    "version": 3
   },
   "file_extension": ".py",
   "mimetype": "text/x-python",
   "name": "python",
   "nbconvert_exporter": "python",
   "pygments_lexer": "ipython3",
   "version": "3.5.2"
  }
 },
 "nbformat": 4,
 "nbformat_minor": 1
}
