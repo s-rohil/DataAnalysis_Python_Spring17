{
 "cells": [
  {
   "cell_type": "markdown",
   "metadata": {},
   "source": [
    "# Analysis 3\n",
    "- Analyzing the H1B petitions of Computer Programmers across USA\n",
    "- Finding out the mean wages for Computer Programmers applying for H1B w.r.t every Worksite of a State\n",
    "- Ranking the states on the basis of Highest paid Computer Programmers\n",
    "- Finding the most common Job Titles under the generic SOC_NAME of Computer Programmers who applied for H1B"
   ]
  },
  {
   "cell_type": "code",
   "execution_count": 1,
   "metadata": {
    "collapsed": false
   },
   "outputs": [
    {
     "name": "stderr",
     "output_type": "stream",
     "text": [
      "/Users/kvs25/anaconda3/lib/python3.5/site-packages/numexpr/cpuinfo.py:53: UserWarning: [Errno 2] No such file or directory: 'arch'\n",
      "  stacklevel=stacklevel + 1)\n",
      "/Users/kvs25/anaconda3/lib/python3.5/site-packages/numexpr/cpuinfo.py:53: UserWarning: [Errno 2] No such file or directory: 'machine'\n",
      "  stacklevel=stacklevel + 1)\n",
      "/Users/kvs25/anaconda3/lib/python3.5/site-packages/numexpr/cpuinfo.py:76: UserWarning: [Errno 2] No such file or directory: 'sysctl'\n",
      "  stacklevel=stacklevel + 1):\n"
     ]
    }
   ],
   "source": [
    "import pandas as pd\n",
    "import numpy as np\n",
    "import os\n",
    "import datetime\n",
    "import matplotlib.pyplot as plt\n",
    "import seaborn as sns\n",
    "%matplotlib inline"
   ]
  },
  {
   "cell_type": "code",
   "execution_count": 2,
   "metadata": {
    "collapsed": false
   },
   "outputs": [],
   "source": [
    "df = pd.read_csv('data/H1B_petition_dataset.csv', encoding = \"ISO-8859-1\")"
   ]
  },
  {
   "cell_type": "code",
   "execution_count": 3,
   "metadata": {
    "collapsed": false
   },
   "outputs": [],
   "source": [
    "data=df[df.SOC_NAME=='COMPUTER PROGRAMMERS']"
   ]
  },
  {
   "cell_type": "code",
   "execution_count": 4,
   "metadata": {
    "collapsed": false
   },
   "outputs": [
    {
     "data": {
      "text/html": [
       "<div>\n",
       "<table border=\"1\" class=\"dataframe\">\n",
       "  <thead>\n",
       "    <tr style=\"text-align: right;\">\n",
       "      <th></th>\n",
       "      <th>CASE_STATUS</th>\n",
       "      <th>EMPLOYER_NAME</th>\n",
       "      <th>SOC_NAME</th>\n",
       "      <th>JOB_TITLE</th>\n",
       "      <th>FULL_TIME_POSITION</th>\n",
       "      <th>PREVAILING_WAGE</th>\n",
       "      <th>YEAR</th>\n",
       "      <th>WORKSITE</th>\n",
       "      <th>STATE</th>\n",
       "      <th>lon</th>\n",
       "      <th>lat</th>\n",
       "    </tr>\n",
       "  </thead>\n",
       "  <tbody>\n",
       "    <tr>\n",
       "      <th>36</th>\n",
       "      <td>WITHDRAWN</td>\n",
       "      <td>GLOBAL INFOTECH CORPORATION</td>\n",
       "      <td>COMPUTER PROGRAMMERS</td>\n",
       "      <td>COMPUTER PROGRAMMER</td>\n",
       "      <td>Y</td>\n",
       "      <td>4193280.0</td>\n",
       "      <td>2016</td>\n",
       "      <td>SAN FRANCISCO</td>\n",
       "      <td>CALIFORNIA</td>\n",
       "      <td>-122.419415</td>\n",
       "      <td>37.774929</td>\n",
       "    </tr>\n",
       "    <tr>\n",
       "      <th>523</th>\n",
       "      <td>DENIED</td>\n",
       "      <td>3PEA INTERNATIONAL, INC.</td>\n",
       "      <td>COMPUTER PROGRAMMERS</td>\n",
       "      <td>PROGRAMMER ANALYST</td>\n",
       "      <td>N</td>\n",
       "      <td>59654.0</td>\n",
       "      <td>2016</td>\n",
       "      <td>HENDERSON</td>\n",
       "      <td>NEVADA</td>\n",
       "      <td>-114.981721</td>\n",
       "      <td>36.039525</td>\n",
       "    </tr>\n",
       "    <tr>\n",
       "      <th>1392</th>\n",
       "      <td>DENIED</td>\n",
       "      <td>8K MILES HEALTH CLOUD INC</td>\n",
       "      <td>COMPUTER PROGRAMMERS</td>\n",
       "      <td>PROGRAMMER ANALYST</td>\n",
       "      <td>N</td>\n",
       "      <td>54725.0</td>\n",
       "      <td>2016</td>\n",
       "      <td>WEST CHESTER</td>\n",
       "      <td>PENNSYLVANIA</td>\n",
       "      <td>-75.605488</td>\n",
       "      <td>39.960664</td>\n",
       "    </tr>\n",
       "    <tr>\n",
       "      <th>1434</th>\n",
       "      <td>DENIED</td>\n",
       "      <td>8K MILES SOFTWARE SERVICES INC</td>\n",
       "      <td>COMPUTER PROGRAMMERS</td>\n",
       "      <td>PROGRAMMER ANALYST</td>\n",
       "      <td>Y</td>\n",
       "      <td>75795.0</td>\n",
       "      <td>2016</td>\n",
       "      <td>NEW YORK</td>\n",
       "      <td>NEWYORK</td>\n",
       "      <td>-74.005941</td>\n",
       "      <td>40.712784</td>\n",
       "    </tr>\n",
       "    <tr>\n",
       "      <th>1908</th>\n",
       "      <td>DENIED</td>\n",
       "      <td>AA SOLUTIONS INC</td>\n",
       "      <td>COMPUTER PROGRAMMERS</td>\n",
       "      <td>PROGRAMMER ANALYST</td>\n",
       "      <td>N</td>\n",
       "      <td>46280.0</td>\n",
       "      <td>2016</td>\n",
       "      <td>ROCHESTER</td>\n",
       "      <td>NEWYORK</td>\n",
       "      <td>-77.610922</td>\n",
       "      <td>43.161030</td>\n",
       "    </tr>\n",
       "  </tbody>\n",
       "</table>\n",
       "</div>"
      ],
      "text/plain": [
       "     CASE_STATUS                   EMPLOYER_NAME              SOC_NAME  \\\n",
       "36     WITHDRAWN     GLOBAL INFOTECH CORPORATION  COMPUTER PROGRAMMERS   \n",
       "523       DENIED        3PEA INTERNATIONAL, INC.  COMPUTER PROGRAMMERS   \n",
       "1392      DENIED       8K MILES HEALTH CLOUD INC  COMPUTER PROGRAMMERS   \n",
       "1434      DENIED  8K MILES SOFTWARE SERVICES INC  COMPUTER PROGRAMMERS   \n",
       "1908      DENIED                AA SOLUTIONS INC  COMPUTER PROGRAMMERS   \n",
       "\n",
       "                JOB_TITLE FULL_TIME_POSITION  PREVAILING_WAGE  YEAR  \\\n",
       "36    COMPUTER PROGRAMMER                  Y        4193280.0  2016   \n",
       "523    PROGRAMMER ANALYST                  N          59654.0  2016   \n",
       "1392   PROGRAMMER ANALYST                  N          54725.0  2016   \n",
       "1434   PROGRAMMER ANALYST                  Y          75795.0  2016   \n",
       "1908   PROGRAMMER ANALYST                  N          46280.0  2016   \n",
       "\n",
       "           WORKSITE         STATE         lon        lat  \n",
       "36    SAN FRANCISCO    CALIFORNIA -122.419415  37.774929  \n",
       "523       HENDERSON        NEVADA -114.981721  36.039525  \n",
       "1392   WEST CHESTER  PENNSYLVANIA  -75.605488  39.960664  \n",
       "1434       NEW YORK       NEWYORK  -74.005941  40.712784  \n",
       "1908      ROCHESTER       NEWYORK  -77.610922  43.161030  "
      ]
     },
     "execution_count": 4,
     "metadata": {},
     "output_type": "execute_result"
    }
   ],
   "source": [
    "data.head()"
   ]
  },
  {
   "cell_type": "code",
   "execution_count": 5,
   "metadata": {
    "collapsed": false
   },
   "outputs": [],
   "source": [
    "#mean value of wages for Computer Programmers grouped by the State and the Worksite\n",
    "new_data=data.groupby(['STATE','WORKSITE'],as_index=False)[['PREVAILING_WAGE']].mean().sort_values(by=['STATE','PREVAILING_WAGE'],ascending=[True,False])"
   ]
  },
  {
   "cell_type": "code",
   "execution_count": 6,
   "metadata": {
    "collapsed": false
   },
   "outputs": [
    {
     "data": {
      "text/html": [
       "<div>\n",
       "<table border=\"1\" class=\"dataframe\">\n",
       "  <thead>\n",
       "    <tr style=\"text-align: right;\">\n",
       "      <th></th>\n",
       "      <th>STATE</th>\n",
       "      <th>WORKSITE</th>\n",
       "      <th>PREVAILING_WAGE</th>\n",
       "    </tr>\n",
       "  </thead>\n",
       "  <tbody>\n",
       "    <tr>\n",
       "      <th>16</th>\n",
       "      <td>ALABAMA</td>\n",
       "      <td>VANCE</td>\n",
       "      <td>90958.000000</td>\n",
       "    </tr>\n",
       "    <tr>\n",
       "      <th>17</th>\n",
       "      <td>ALABAMA</td>\n",
       "      <td>VESTAVIA</td>\n",
       "      <td>81536.000000</td>\n",
       "    </tr>\n",
       "    <tr>\n",
       "      <th>7</th>\n",
       "      <td>ALABAMA</td>\n",
       "      <td>HUNTSVILLE</td>\n",
       "      <td>70675.285714</td>\n",
       "    </tr>\n",
       "    <tr>\n",
       "      <th>6</th>\n",
       "      <td>ALABAMA</td>\n",
       "      <td>HOOVER</td>\n",
       "      <td>66709.400000</td>\n",
       "    </tr>\n",
       "    <tr>\n",
       "      <th>9</th>\n",
       "      <td>ALABAMA</td>\n",
       "      <td>MADISON</td>\n",
       "      <td>61755.000000</td>\n",
       "    </tr>\n",
       "  </tbody>\n",
       "</table>\n",
       "</div>"
      ],
      "text/plain": [
       "      STATE    WORKSITE  PREVAILING_WAGE\n",
       "16  ALABAMA       VANCE     90958.000000\n",
       "17  ALABAMA    VESTAVIA     81536.000000\n",
       "7   ALABAMA  HUNTSVILLE     70675.285714\n",
       "6   ALABAMA      HOOVER     66709.400000\n",
       "9   ALABAMA     MADISON     61755.000000"
      ]
     },
     "execution_count": 6,
     "metadata": {},
     "output_type": "execute_result"
    }
   ],
   "source": [
    "new_data.head()"
   ]
  },
  {
   "cell_type": "code",
   "execution_count": 7,
   "metadata": {
    "collapsed": false
   },
   "outputs": [],
   "source": [
    "#top 3 locations of every state with respect to wages of Computer Programmers\n",
    "csv_data=new_data.groupby(['STATE']).head(3)"
   ]
  },
  {
   "cell_type": "code",
   "execution_count": 8,
   "metadata": {
    "collapsed": true
   },
   "outputs": [],
   "source": [
    "csv_data.to_csv('ana_3/output.csv')"
   ]
  },
  {
   "cell_type": "code",
   "execution_count": 9,
   "metadata": {
    "collapsed": false
   },
   "outputs": [],
   "source": [
    "result=data.groupby(['STATE'],as_index=False)[['PREVAILING_WAGE']].mean().sort_values(by=['PREVAILING_WAGE'],ascending=False).head(10)"
   ]
  },
  {
   "cell_type": "code",
   "execution_count": 10,
   "metadata": {
    "collapsed": false
   },
   "outputs": [],
   "source": [
    "result=result.reset_index(drop=True)"
   ]
  },
  {
   "cell_type": "code",
   "execution_count": 11,
   "metadata": {
    "collapsed": false
   },
   "outputs": [
    {
     "data": {
      "text/html": [
       "<div>\n",
       "<table border=\"1\" class=\"dataframe\">\n",
       "  <thead>\n",
       "    <tr style=\"text-align: right;\">\n",
       "      <th></th>\n",
       "      <th>STATE</th>\n",
       "      <th>PREVAILING_WAGE</th>\n",
       "    </tr>\n",
       "  </thead>\n",
       "  <tbody>\n",
       "    <tr>\n",
       "      <th>0</th>\n",
       "      <td>WASHINGTON</td>\n",
       "      <td>86655.259163</td>\n",
       "    </tr>\n",
       "    <tr>\n",
       "      <th>1</th>\n",
       "      <td>NEWMEXICO</td>\n",
       "      <td>76912.571429</td>\n",
       "    </tr>\n",
       "    <tr>\n",
       "      <th>2</th>\n",
       "      <td>NEWJERSEY</td>\n",
       "      <td>73040.702769</td>\n",
       "    </tr>\n",
       "    <tr>\n",
       "      <th>3</th>\n",
       "      <td>COLORADO</td>\n",
       "      <td>70742.028049</td>\n",
       "    </tr>\n",
       "    <tr>\n",
       "      <th>4</th>\n",
       "      <td>ALASKA</td>\n",
       "      <td>69992.000000</td>\n",
       "    </tr>\n",
       "  </tbody>\n",
       "</table>\n",
       "</div>"
      ],
      "text/plain": [
       "        STATE  PREVAILING_WAGE\n",
       "0  WASHINGTON     86655.259163\n",
       "1   NEWMEXICO     76912.571429\n",
       "2   NEWJERSEY     73040.702769\n",
       "3    COLORADO     70742.028049\n",
       "4      ALASKA     69992.000000"
      ]
     },
     "execution_count": 11,
     "metadata": {},
     "output_type": "execute_result"
    }
   ],
   "source": [
    "result.head()"
   ]
  },
  {
   "cell_type": "code",
   "execution_count": 29,
   "metadata": {
    "collapsed": false
   },
   "outputs": [
    {
     "data": {
      "image/png": "[encoded data removed]",
      "text/plain": [
       "<matplotlib.figure.Figure at 0x109b64390>"
      ]
     },
     "metadata": {},
     "output_type": "display_data"
    }
   ],
   "source": [
    "#draw a graph for the mean value of salaries of Computer Programmers for the top 10 states\n",
    "result.plot.bar(x='STATE',title='Top 10 state wide Mean Wages of Computer Programmers ',legend=True)\n",
    "plt.tight_layout()\n",
    "plt.gcf().savefig('ana_3/Top10_Comp_Programmers_Places.png')"
   ]
  },
  {
   "cell_type": "code",
   "execution_count": 13,
   "metadata": {
    "collapsed": false
   },
   "outputs": [],
   "source": [
    "#top 10 desginations under the domain as Computer Programmers\n",
    "output=data.groupby('JOB_TITLE')[['JOB_TITLE']].count().sort_values(by='JOB_TITLE',ascending=False).head(10)"
   ]
  },
  {
   "cell_type": "code",
   "execution_count": 14,
   "metadata": {
    "collapsed": true
   },
   "outputs": [],
   "source": [
    "# if you want to be a programmer analyst, which is the place with highest wage"
   ]
  },
  {
   "cell_type": "code",
   "execution_count": 15,
   "metadata": {
    "collapsed": false
   },
   "outputs": [
    {
     "data": {
      "text/html": [
       "<div>\n",
       "<table border=\"1\" class=\"dataframe\">\n",
       "  <thead>\n",
       "    <tr style=\"text-align: right;\">\n",
       "      <th></th>\n",
       "      <th>JOB_TITLE</th>\n",
       "    </tr>\n",
       "    <tr>\n",
       "      <th>JOB_TITLE</th>\n",
       "      <th></th>\n",
       "    </tr>\n",
       "  </thead>\n",
       "  <tbody>\n",
       "    <tr>\n",
       "      <th>PROGRAMMER ANALYST</th>\n",
       "      <td>31771</td>\n",
       "    </tr>\n",
       "    <tr>\n",
       "      <th>COMPUTER PROGRAMMER</th>\n",
       "      <td>11487</td>\n",
       "    </tr>\n",
       "    <tr>\n",
       "      <th>DEVELOPER</th>\n",
       "      <td>5348</td>\n",
       "    </tr>\n",
       "    <tr>\n",
       "      <th>COMPUTER PROGRAMMER ANALYST</th>\n",
       "      <td>1869</td>\n",
       "    </tr>\n",
       "    <tr>\n",
       "      <th>COMPUTER PROGRAMMER/CONFIGURER 2</th>\n",
       "      <td>1704</td>\n",
       "    </tr>\n",
       "  </tbody>\n",
       "</table>\n",
       "</div>"
      ],
      "text/plain": [
       "                                  JOB_TITLE\n",
       "JOB_TITLE                                  \n",
       "PROGRAMMER ANALYST                    31771\n",
       "COMPUTER PROGRAMMER                   11487\n",
       "DEVELOPER                              5348\n",
       "COMPUTER PROGRAMMER ANALYST            1869\n",
       "COMPUTER PROGRAMMER/CONFIGURER 2       1704"
      ]
     },
     "execution_count": 15,
     "metadata": {},
     "output_type": "execute_result"
    }
   ],
   "source": [
    "output.head()"
   ]
  },
  {
   "cell_type": "code",
   "execution_count": 16,
   "metadata": {
    "collapsed": true
   },
   "outputs": [],
   "source": [
    "output=output.rename(index=str, columns={\"JOB_TITLE\": \"JOB_COUNT\"})"
   ]
  },
  {
   "cell_type": "code",
   "execution_count": 17,
   "metadata": {
    "collapsed": false
   },
   "outputs": [],
   "source": [
    "output=output.reset_index(level=0,drop=False)"
   ]
  },
  {
   "cell_type": "code",
   "execution_count": null,
   "metadata": {
    "collapsed": true
   },
   "outputs": [],
   "source": []
  }
 ],
 "metadata": {
  "anaconda-cloud": {},
  "kernelspec": {
   "display_name": "Python [conda root]",
   "language": "python",
   "name": "conda-root-py"
  },
  "language_info": {
   "codemirror_mode": {
    "name": "ipython",
    "version": 3
   },
   "file_extension": ".py",
   "mimetype": "text/x-python",
   "name": "python",
   "nbconvert_exporter": "python",
   "pygments_lexer": "ipython3",
   "version": "3.5.2"
  }
 },
 "nbformat": 4,
 "nbformat_minor": 2
}
