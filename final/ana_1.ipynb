{
 "cells": [
  {
   "cell_type": "markdown",
   "metadata": {},
   "source": [
    "# Analysis 1\n",
    "- Considering only part time position petitions for H1B in 2016.\n",
    "- Analyzing the total CERTIFIED and DENIED H1B petitions of each SOC_NAME of each state.\n",
    "- Calculating the success ratio of H1B petitions from DoL(Dept. of Labor) for each state and finding out the worst 3 SOC_NAME from each state\n",
    "- Plotting the top 10 states with the best success ratio for H1B petitions."
   ]
  },
  {
   "cell_type": "code",
   "execution_count": 1,
   "metadata": {
    "collapsed": false
   },
   "outputs": [
    {
     "name": "stderr",
     "output_type": "stream",
     "text": [
      "/Users/kvs25/anaconda3/lib/python3.5/site-packages/numexpr/cpuinfo.py:53: UserWarning: [Errno 2] No such file or directory: 'arch'\n",
      "  stacklevel=stacklevel + 1)\n",
      "/Users/kvs25/anaconda3/lib/python3.5/site-packages/numexpr/cpuinfo.py:53: UserWarning: [Errno 2] No such file or directory: 'machine'\n",
      "  stacklevel=stacklevel + 1)\n",
      "/Users/kvs25/anaconda3/lib/python3.5/site-packages/numexpr/cpuinfo.py:76: UserWarning: [Errno 2] No such file or directory: 'sysctl'\n",
      "  stacklevel=stacklevel + 1):\n"
     ]
    }
   ],
   "source": [
    "import pandas as pd\n",
    "import numpy as np\n",
    "import os\n",
    "import datetime\n",
    "import seaborn as sns\n",
    "import matplotlib as mpl\n",
    "import matplotlib.pyplot as plt\n",
    "%matplotlib inline"
   ]
  },
  {
   "cell_type": "code",
   "execution_count": 2,
   "metadata": {
    "collapsed": false
   },
   "outputs": [
    {
     "data": {
      "text/plain": [
       "True"
      ]
     },
     "execution_count": 2,
     "metadata": {},
     "output_type": "execute_result"
    }
   ],
   "source": [
    "os.path.exists('data/H1B_petition_dataset.csv')"
   ]
  },
  {
   "cell_type": "code",
   "execution_count": 3,
   "metadata": {
    "collapsed": false
   },
   "outputs": [],
   "source": [
    "df = pd.read_csv('data/H1B_petition_dataset.csv', encoding = \"ISO-8859-1\")"
   ]
  },
  {
   "cell_type": "code",
   "execution_count": 4,
   "metadata": {
    "collapsed": false
   },
   "outputs": [
    {
     "data": {
      "text/html": [
       "<div>\n",
       "<table border=\"1\" class=\"dataframe\">\n",
       "  <thead>\n",
       "    <tr style=\"text-align: right;\">\n",
       "      <th></th>\n",
       "      <th>CASE_STATUS</th>\n",
       "      <th>EMPLOYER_NAME</th>\n",
       "      <th>SOC_NAME</th>\n",
       "      <th>JOB_TITLE</th>\n",
       "      <th>FULL_TIME_POSITION</th>\n",
       "      <th>PREVAILING_WAGE</th>\n",
       "      <th>YEAR</th>\n",
       "      <th>WORKSITE</th>\n",
       "      <th>STATE</th>\n",
       "      <th>lon</th>\n",
       "      <th>lat</th>\n",
       "    </tr>\n",
       "  </thead>\n",
       "  <tbody>\n",
       "    <tr>\n",
       "      <th>0</th>\n",
       "      <td>DENIED</td>\n",
       "      <td>CARNEGIE MELLON UNIVERSITY</td>\n",
       "      <td>COMPUTER AND INFORMATION RESEARCH SCIENTISTS</td>\n",
       "      <td>RESEARCH ASSOCIATE</td>\n",
       "      <td>Y</td>\n",
       "      <td>6044480.0</td>\n",
       "      <td>2016</td>\n",
       "      <td>PITTSBURGH</td>\n",
       "      <td>PENNSYLVANIA</td>\n",
       "      <td>-79.995886</td>\n",
       "      <td>40.440625</td>\n",
       "    </tr>\n",
       "    <tr>\n",
       "      <th>1</th>\n",
       "      <td>DENIED</td>\n",
       "      <td>TIGHTEN CO</td>\n",
       "      <td>WEB DEVELOPERS</td>\n",
       "      <td>WEB DEVELOPER</td>\n",
       "      <td>Y</td>\n",
       "      <td>4316000.0</td>\n",
       "      <td>2016</td>\n",
       "      <td>DALLAS</td>\n",
       "      <td>TEXAS</td>\n",
       "      <td>-96.796988</td>\n",
       "      <td>32.776664</td>\n",
       "    </tr>\n",
       "    <tr>\n",
       "      <th>2</th>\n",
       "      <td>WITHDRAWN</td>\n",
       "      <td>GLOBAL INFOTECH CORPORATION</td>\n",
       "      <td>COMPUTER PROGRAMMERS</td>\n",
       "      <td>COMPUTER PROGRAMMER</td>\n",
       "      <td>Y</td>\n",
       "      <td>4193280.0</td>\n",
       "      <td>2016</td>\n",
       "      <td>SAN FRANCISCO</td>\n",
       "      <td>CALIFORNIA</td>\n",
       "      <td>-122.419415</td>\n",
       "      <td>37.774929</td>\n",
       "    </tr>\n",
       "    <tr>\n",
       "      <th>3</th>\n",
       "      <td>DENIED</td>\n",
       "      <td>SYNTEL INC</td>\n",
       "      <td>COMPUTER SYSTEMS ANALYSTS</td>\n",
       "      <td>PROGRAMMER ANALYST</td>\n",
       "      <td>Y</td>\n",
       "      <td>4087356.0</td>\n",
       "      <td>2016</td>\n",
       "      <td>QUINCY</td>\n",
       "      <td>MASSACHUSETTS</td>\n",
       "      <td>-71.002270</td>\n",
       "      <td>42.252877</td>\n",
       "    </tr>\n",
       "    <tr>\n",
       "      <th>4</th>\n",
       "      <td>WITHDRAWN</td>\n",
       "      <td>IBM INDIA PRIVATE LIMITED</td>\n",
       "      <td>COMPUTER PROGRAMMERS</td>\n",
       "      <td>LEAD DATA SPECIALIST</td>\n",
       "      <td>Y</td>\n",
       "      <td>3277248.0</td>\n",
       "      <td>2016</td>\n",
       "      <td>TAMPA</td>\n",
       "      <td>FLORIDA</td>\n",
       "      <td>-82.457178</td>\n",
       "      <td>27.950575</td>\n",
       "    </tr>\n",
       "  </tbody>\n",
       "</table>\n",
       "</div>"
      ],
      "text/plain": [
       "  CASE_STATUS                EMPLOYER_NAME  \\\n",
       "0      DENIED   CARNEGIE MELLON UNIVERSITY   \n",
       "1      DENIED                   TIGHTEN CO   \n",
       "2   WITHDRAWN  GLOBAL INFOTECH CORPORATION   \n",
       "3      DENIED                   SYNTEL INC   \n",
       "4   WITHDRAWN    IBM INDIA PRIVATE LIMITED   \n",
       "\n",
       "                                       SOC_NAME             JOB_TITLE  \\\n",
       "0  COMPUTER AND INFORMATION RESEARCH SCIENTISTS    RESEARCH ASSOCIATE   \n",
       "1                                WEB DEVELOPERS         WEB DEVELOPER   \n",
       "2                          COMPUTER PROGRAMMERS   COMPUTER PROGRAMMER   \n",
       "3                     COMPUTER SYSTEMS ANALYSTS    PROGRAMMER ANALYST   \n",
       "4                          COMPUTER PROGRAMMERS  LEAD DATA SPECIALIST   \n",
       "\n",
       "  FULL_TIME_POSITION  PREVAILING_WAGE  YEAR       WORKSITE          STATE  \\\n",
       "0                  Y        6044480.0  2016     PITTSBURGH   PENNSYLVANIA   \n",
       "1                  Y        4316000.0  2016         DALLAS          TEXAS   \n",
       "2                  Y        4193280.0  2016  SAN FRANCISCO     CALIFORNIA   \n",
       "3                  Y        4087356.0  2016         QUINCY  MASSACHUSETTS   \n",
       "4                  Y        3277248.0  2016          TAMPA        FLORIDA   \n",
       "\n",
       "          lon        lat  \n",
       "0  -79.995886  40.440625  \n",
       "1  -96.796988  32.776664  \n",
       "2 -122.419415  37.774929  \n",
       "3  -71.002270  42.252877  \n",
       "4  -82.457178  27.950575  "
      ]
     },
     "execution_count": 4,
     "metadata": {},
     "output_type": "execute_result"
    }
   ],
   "source": [
    "df.head()"
   ]
  },
  {
   "cell_type": "code",
   "execution_count": 5,
   "metadata": {
    "collapsed": false
   },
   "outputs": [
    {
     "data": {
      "text/plain": [
       "(647731, 11)"
      ]
     },
     "execution_count": 5,
     "metadata": {},
     "output_type": "execute_result"
    }
   ],
   "source": [
    "df.shape"
   ]
  },
  {
   "cell_type": "code",
   "execution_count": 6,
   "metadata": {
    "collapsed": true
   },
   "outputs": [],
   "source": [
    "#Analyzing only the H1B criteria for part time positions\n",
    "data= df[df.FULL_TIME_POSITION=='N']"
   ]
  },
  {
   "cell_type": "code",
   "execution_count": 7,
   "metadata": {
    "collapsed": false
   },
   "outputs": [
    {
     "data": {
      "text/html": [
       "<div>\n",
       "<table border=\"1\" class=\"dataframe\">\n",
       "  <thead>\n",
       "    <tr style=\"text-align: right;\">\n",
       "      <th></th>\n",
       "      <th>CASE_STATUS</th>\n",
       "      <th>EMPLOYER_NAME</th>\n",
       "      <th>SOC_NAME</th>\n",
       "      <th>JOB_TITLE</th>\n",
       "      <th>FULL_TIME_POSITION</th>\n",
       "      <th>PREVAILING_WAGE</th>\n",
       "      <th>YEAR</th>\n",
       "      <th>WORKSITE</th>\n",
       "      <th>STATE</th>\n",
       "      <th>lon</th>\n",
       "      <th>lat</th>\n",
       "    </tr>\n",
       "  </thead>\n",
       "  <tbody>\n",
       "    <tr>\n",
       "      <th>296590</th>\n",
       "      <td>CERTIFIED</td>\n",
       "      <td>LIGHT &amp; STAR USA INC</td>\n",
       "      <td>CHIEF EXECUTIVES</td>\n",
       "      <td>CHIEF FINANACIAL OFFICER</td>\n",
       "      <td>N</td>\n",
       "      <td>70000.0</td>\n",
       "      <td>2016</td>\n",
       "      <td>NEW YORK</td>\n",
       "      <td>NEWYORK</td>\n",
       "      <td>-74.005941</td>\n",
       "      <td>40.712784</td>\n",
       "    </tr>\n",
       "    <tr>\n",
       "      <th>296591</th>\n",
       "      <td>CERTIFIED</td>\n",
       "      <td>NATIONAL OILWELL VARCO, L.P.</td>\n",
       "      <td>MARKETING MANAGERS</td>\n",
       "      <td>COMMERCIALIZATION SERVICES MANAGER</td>\n",
       "      <td>N</td>\n",
       "      <td>70000.0</td>\n",
       "      <td>2016</td>\n",
       "      <td>HOUSTON</td>\n",
       "      <td>TEXAS</td>\n",
       "      <td>-95.369803</td>\n",
       "      <td>29.760427</td>\n",
       "    </tr>\n",
       "    <tr>\n",
       "      <th>296592</th>\n",
       "      <td>CERTIFIED</td>\n",
       "      <td>BELLY, INC</td>\n",
       "      <td>MARKETING MANAGERS</td>\n",
       "      <td>DEMAND GENERATION MANAGER</td>\n",
       "      <td>N</td>\n",
       "      <td>70000.0</td>\n",
       "      <td>2016</td>\n",
       "      <td>CHICAGO</td>\n",
       "      <td>ILLINOIS</td>\n",
       "      <td>-87.629798</td>\n",
       "      <td>41.878114</td>\n",
       "    </tr>\n",
       "    <tr>\n",
       "      <th>296593</th>\n",
       "      <td>CERTIFIED</td>\n",
       "      <td>AMERICAN BEVERAGE DEPOT LLC</td>\n",
       "      <td>MARKETING MANAGERS</td>\n",
       "      <td>PRODUCT MARKETING MANAGER</td>\n",
       "      <td>N</td>\n",
       "      <td>70000.0</td>\n",
       "      <td>2016</td>\n",
       "      <td>MEDLEY</td>\n",
       "      <td>FLORIDA</td>\n",
       "      <td>-80.326440</td>\n",
       "      <td>25.840653</td>\n",
       "    </tr>\n",
       "    <tr>\n",
       "      <th>296594</th>\n",
       "      <td>CERTIFIED</td>\n",
       "      <td>NATIONAL OILWELL VARCO, L.P.</td>\n",
       "      <td>MARKETING MANAGERS</td>\n",
       "      <td>COMMERCIALIZATION SERVICES MANAGER</td>\n",
       "      <td>N</td>\n",
       "      <td>70000.0</td>\n",
       "      <td>2016</td>\n",
       "      <td>HOUSTON</td>\n",
       "      <td>TEXAS</td>\n",
       "      <td>-95.369803</td>\n",
       "      <td>29.760427</td>\n",
       "    </tr>\n",
       "  </tbody>\n",
       "</table>\n",
       "</div>"
      ],
      "text/plain": [
       "       CASE_STATUS                 EMPLOYER_NAME            SOC_NAME  \\\n",
       "296590   CERTIFIED          LIGHT & STAR USA INC    CHIEF EXECUTIVES   \n",
       "296591   CERTIFIED  NATIONAL OILWELL VARCO, L.P.  MARKETING MANAGERS   \n",
       "296592   CERTIFIED                    BELLY, INC  MARKETING MANAGERS   \n",
       "296593   CERTIFIED   AMERICAN BEVERAGE DEPOT LLC  MARKETING MANAGERS   \n",
       "296594   CERTIFIED  NATIONAL OILWELL VARCO, L.P.  MARKETING MANAGERS   \n",
       "\n",
       "                                 JOB_TITLE FULL_TIME_POSITION  \\\n",
       "296590            CHIEF FINANACIAL OFFICER                  N   \n",
       "296591  COMMERCIALIZATION SERVICES MANAGER                  N   \n",
       "296592           DEMAND GENERATION MANAGER                  N   \n",
       "296593           PRODUCT MARKETING MANAGER                  N   \n",
       "296594  COMMERCIALIZATION SERVICES MANAGER                  N   \n",
       "\n",
       "        PREVAILING_WAGE  YEAR  WORKSITE     STATE        lon        lat  \n",
       "296590          70000.0  2016  NEW YORK   NEWYORK -74.005941  40.712784  \n",
       "296591          70000.0  2016   HOUSTON     TEXAS -95.369803  29.760427  \n",
       "296592          70000.0  2016   CHICAGO  ILLINOIS -87.629798  41.878114  \n",
       "296593          70000.0  2016    MEDLEY   FLORIDA -80.326440  25.840653  \n",
       "296594          70000.0  2016   HOUSTON     TEXAS -95.369803  29.760427  "
      ]
     },
     "execution_count": 7,
     "metadata": {},
     "output_type": "execute_result"
    }
   ],
   "source": [
    "data.head()"
   ]
  },
  {
   "cell_type": "code",
   "execution_count": 8,
   "metadata": {
    "collapsed": false
   },
   "outputs": [],
   "source": [
    "#taking only cases where the status has been 'CERTIFIED' by the DoL\n",
    "success = data['CASE_STATUS'] == 'CERTIFIED'\n"
   ]
  },
  {
   "cell_type": "code",
   "execution_count": 9,
   "metadata": {
    "collapsed": false
   },
   "outputs": [],
   "source": [
    "new_data =data[success]"
   ]
  },
  {
   "cell_type": "code",
   "execution_count": 10,
   "metadata": {
    "collapsed": false
   },
   "outputs": [
    {
     "data": {
      "text/html": [
       "<div>\n",
       "<table border=\"1\" class=\"dataframe\">\n",
       "  <thead>\n",
       "    <tr style=\"text-align: right;\">\n",
       "      <th></th>\n",
       "      <th>CASE_STATUS</th>\n",
       "      <th>EMPLOYER_NAME</th>\n",
       "      <th>SOC_NAME</th>\n",
       "      <th>JOB_TITLE</th>\n",
       "      <th>FULL_TIME_POSITION</th>\n",
       "      <th>PREVAILING_WAGE</th>\n",
       "      <th>YEAR</th>\n",
       "      <th>WORKSITE</th>\n",
       "      <th>STATE</th>\n",
       "      <th>lon</th>\n",
       "      <th>lat</th>\n",
       "    </tr>\n",
       "  </thead>\n",
       "  <tbody>\n",
       "    <tr>\n",
       "      <th>296590</th>\n",
       "      <td>CERTIFIED</td>\n",
       "      <td>LIGHT &amp; STAR USA INC</td>\n",
       "      <td>CHIEF EXECUTIVES</td>\n",
       "      <td>CHIEF FINANACIAL OFFICER</td>\n",
       "      <td>N</td>\n",
       "      <td>70000.0</td>\n",
       "      <td>2016</td>\n",
       "      <td>NEW YORK</td>\n",
       "      <td>NEWYORK</td>\n",
       "      <td>-74.005941</td>\n",
       "      <td>40.712784</td>\n",
       "    </tr>\n",
       "    <tr>\n",
       "      <th>296591</th>\n",
       "      <td>CERTIFIED</td>\n",
       "      <td>NATIONAL OILWELL VARCO, L.P.</td>\n",
       "      <td>MARKETING MANAGERS</td>\n",
       "      <td>COMMERCIALIZATION SERVICES MANAGER</td>\n",
       "      <td>N</td>\n",
       "      <td>70000.0</td>\n",
       "      <td>2016</td>\n",
       "      <td>HOUSTON</td>\n",
       "      <td>TEXAS</td>\n",
       "      <td>-95.369803</td>\n",
       "      <td>29.760427</td>\n",
       "    </tr>\n",
       "    <tr>\n",
       "      <th>296592</th>\n",
       "      <td>CERTIFIED</td>\n",
       "      <td>BELLY, INC</td>\n",
       "      <td>MARKETING MANAGERS</td>\n",
       "      <td>DEMAND GENERATION MANAGER</td>\n",
       "      <td>N</td>\n",
       "      <td>70000.0</td>\n",
       "      <td>2016</td>\n",
       "      <td>CHICAGO</td>\n",
       "      <td>ILLINOIS</td>\n",
       "      <td>-87.629798</td>\n",
       "      <td>41.878114</td>\n",
       "    </tr>\n",
       "    <tr>\n",
       "      <th>296593</th>\n",
       "      <td>CERTIFIED</td>\n",
       "      <td>AMERICAN BEVERAGE DEPOT LLC</td>\n",
       "      <td>MARKETING MANAGERS</td>\n",
       "      <td>PRODUCT MARKETING MANAGER</td>\n",
       "      <td>N</td>\n",
       "      <td>70000.0</td>\n",
       "      <td>2016</td>\n",
       "      <td>MEDLEY</td>\n",
       "      <td>FLORIDA</td>\n",
       "      <td>-80.326440</td>\n",
       "      <td>25.840653</td>\n",
       "    </tr>\n",
       "    <tr>\n",
       "      <th>296594</th>\n",
       "      <td>CERTIFIED</td>\n",
       "      <td>NATIONAL OILWELL VARCO, L.P.</td>\n",
       "      <td>MARKETING MANAGERS</td>\n",
       "      <td>COMMERCIALIZATION SERVICES MANAGER</td>\n",
       "      <td>N</td>\n",
       "      <td>70000.0</td>\n",
       "      <td>2016</td>\n",
       "      <td>HOUSTON</td>\n",
       "      <td>TEXAS</td>\n",
       "      <td>-95.369803</td>\n",
       "      <td>29.760427</td>\n",
       "    </tr>\n",
       "  </tbody>\n",
       "</table>\n",
       "</div>"
      ],
      "text/plain": [
       "       CASE_STATUS                 EMPLOYER_NAME            SOC_NAME  \\\n",
       "296590   CERTIFIED          LIGHT & STAR USA INC    CHIEF EXECUTIVES   \n",
       "296591   CERTIFIED  NATIONAL OILWELL VARCO, L.P.  MARKETING MANAGERS   \n",
       "296592   CERTIFIED                    BELLY, INC  MARKETING MANAGERS   \n",
       "296593   CERTIFIED   AMERICAN BEVERAGE DEPOT LLC  MARKETING MANAGERS   \n",
       "296594   CERTIFIED  NATIONAL OILWELL VARCO, L.P.  MARKETING MANAGERS   \n",
       "\n",
       "                                 JOB_TITLE FULL_TIME_POSITION  \\\n",
       "296590            CHIEF FINANACIAL OFFICER                  N   \n",
       "296591  COMMERCIALIZATION SERVICES MANAGER                  N   \n",
       "296592           DEMAND GENERATION MANAGER                  N   \n",
       "296593           PRODUCT MARKETING MANAGER                  N   \n",
       "296594  COMMERCIALIZATION SERVICES MANAGER                  N   \n",
       "\n",
       "        PREVAILING_WAGE  YEAR  WORKSITE     STATE        lon        lat  \n",
       "296590          70000.0  2016  NEW YORK   NEWYORK -74.005941  40.712784  \n",
       "296591          70000.0  2016   HOUSTON     TEXAS -95.369803  29.760427  \n",
       "296592          70000.0  2016   CHICAGO  ILLINOIS -87.629798  41.878114  \n",
       "296593          70000.0  2016    MEDLEY   FLORIDA -80.326440  25.840653  \n",
       "296594          70000.0  2016   HOUSTON     TEXAS -95.369803  29.760427  "
      ]
     },
     "execution_count": 10,
     "metadata": {},
     "output_type": "execute_result"
    }
   ],
   "source": [
    "new_data.head()"
   ]
  },
  {
   "cell_type": "code",
   "execution_count": 11,
   "metadata": {
    "collapsed": false
   },
   "outputs": [],
   "source": [
    "output1=new_data.groupby(['STATE','SOC_NAME'],as_index=False)['CASE_STATUS'].count().sort_values(by=['STATE','CASE_STATUS'],ascending=[True,False])"
   ]
  },
  {
   "cell_type": "code",
   "execution_count": 12,
   "metadata": {
    "collapsed": false
   },
   "outputs": [],
   "source": [
    "#output2.head()\n",
    "#output=new_data.groupby(['STATE','SOC_NAME'], as_index=False)[['PREVAILING_WAGE']].mean().sort_values(by=['STATE','PREVAILING_WAGE'],ascending=[True,False])"
   ]
  },
  {
   "cell_type": "code",
   "execution_count": 13,
   "metadata": {
    "collapsed": true
   },
   "outputs": [],
   "source": [
    "output2=data[data.CASE_STATUS=='DENIED'].groupby(['STATE','SOC_NAME'],as_index=False)['CASE_STATUS'].count().sort_values(by=['STATE','CASE_STATUS'],ascending=[True,False])"
   ]
  },
  {
   "cell_type": "code",
   "execution_count": 14,
   "metadata": {
    "collapsed": false
   },
   "outputs": [],
   "source": [
    "#output['CERTIFIED_COUNT']= new_data.groupby(['STATE','SOC_NAME'])[['PREVAILING_WAGE']].count().PREVAILING_WAGE\n",
    "result = pd.merge(output1, output2, how='left', on=['STATE', 'SOC_NAME'])"
   ]
  },
  {
   "cell_type": "code",
   "execution_count": 15,
   "metadata": {
    "collapsed": false
   },
   "outputs": [
    {
     "data": {
      "text/html": [
       "<div>\n",
       "<table border=\"1\" class=\"dataframe\">\n",
       "  <thead>\n",
       "    <tr style=\"text-align: right;\">\n",
       "      <th></th>\n",
       "      <th>STATE</th>\n",
       "      <th>SOC_NAME</th>\n",
       "      <th>CASE_STATUS_x</th>\n",
       "      <th>CASE_STATUS_y</th>\n",
       "    </tr>\n",
       "  </thead>\n",
       "  <tbody>\n",
       "    <tr>\n",
       "      <th>0</th>\n",
       "      <td>ALABAMA</td>\n",
       "      <td>SOFTWARE DEVELOPERS, APPLICATIONS</td>\n",
       "      <td>186</td>\n",
       "      <td>NaN</td>\n",
       "    </tr>\n",
       "    <tr>\n",
       "      <th>1</th>\n",
       "      <td>ALABAMA</td>\n",
       "      <td>COMPUTER SYSTEMS ANALYSTS</td>\n",
       "      <td>156</td>\n",
       "      <td>NaN</td>\n",
       "    </tr>\n",
       "    <tr>\n",
       "      <th>2</th>\n",
       "      <td>ALABAMA</td>\n",
       "      <td>COMPUTER PROGRAMMERS</td>\n",
       "      <td>111</td>\n",
       "      <td>3.0</td>\n",
       "    </tr>\n",
       "    <tr>\n",
       "      <th>3</th>\n",
       "      <td>ALABAMA</td>\n",
       "      <td>MANAGEMENT ANALYSTS</td>\n",
       "      <td>56</td>\n",
       "      <td>NaN</td>\n",
       "    </tr>\n",
       "    <tr>\n",
       "      <th>4</th>\n",
       "      <td>ALABAMA</td>\n",
       "      <td>ACCOUNTANTS AND AUDITORS</td>\n",
       "      <td>48</td>\n",
       "      <td>1.0</td>\n",
       "    </tr>\n",
       "  </tbody>\n",
       "</table>\n",
       "</div>"
      ],
      "text/plain": [
       "     STATE                           SOC_NAME  CASE_STATUS_x  CASE_STATUS_y\n",
       "0  ALABAMA  SOFTWARE DEVELOPERS, APPLICATIONS            186            NaN\n",
       "1  ALABAMA          COMPUTER SYSTEMS ANALYSTS            156            NaN\n",
       "2  ALABAMA               COMPUTER PROGRAMMERS            111            3.0\n",
       "3  ALABAMA                MANAGEMENT ANALYSTS             56            NaN\n",
       "4  ALABAMA           ACCOUNTANTS AND AUDITORS             48            1.0"
      ]
     },
     "execution_count": 15,
     "metadata": {},
     "output_type": "execute_result"
    }
   ],
   "source": [
    "result.head()"
   ]
  },
  {
   "cell_type": "code",
   "execution_count": 16,
   "metadata": {
    "collapsed": false
   },
   "outputs": [],
   "source": [
    "result=result.rename(index=str, columns={\"CASE_STATUS_x\": \"CERTIFIED_COUNT\",\"CASE_STATUS_y\": \"DENIED_COUNT\"})"
   ]
  },
  {
   "cell_type": "code",
   "execution_count": 17,
   "metadata": {
    "collapsed": false
   },
   "outputs": [],
   "source": [
    "result=result.fillna(0)"
   ]
  },
  {
   "cell_type": "code",
   "execution_count": 18,
   "metadata": {
    "collapsed": false
   },
   "outputs": [
    {
     "data": {
      "text/html": [
       "<div>\n",
       "<table border=\"1\" class=\"dataframe\">\n",
       "  <thead>\n",
       "    <tr style=\"text-align: right;\">\n",
       "      <th></th>\n",
       "      <th>STATE</th>\n",
       "      <th>SOC_NAME</th>\n",
       "      <th>CERTIFIED_COUNT</th>\n",
       "      <th>DENIED_COUNT</th>\n",
       "    </tr>\n",
       "  </thead>\n",
       "  <tbody>\n",
       "    <tr>\n",
       "      <th>0</th>\n",
       "      <td>ALABAMA</td>\n",
       "      <td>SOFTWARE DEVELOPERS, APPLICATIONS</td>\n",
       "      <td>186</td>\n",
       "      <td>0.0</td>\n",
       "    </tr>\n",
       "    <tr>\n",
       "      <th>1</th>\n",
       "      <td>ALABAMA</td>\n",
       "      <td>COMPUTER SYSTEMS ANALYSTS</td>\n",
       "      <td>156</td>\n",
       "      <td>0.0</td>\n",
       "    </tr>\n",
       "    <tr>\n",
       "      <th>2</th>\n",
       "      <td>ALABAMA</td>\n",
       "      <td>COMPUTER PROGRAMMERS</td>\n",
       "      <td>111</td>\n",
       "      <td>3.0</td>\n",
       "    </tr>\n",
       "    <tr>\n",
       "      <th>3</th>\n",
       "      <td>ALABAMA</td>\n",
       "      <td>MANAGEMENT ANALYSTS</td>\n",
       "      <td>56</td>\n",
       "      <td>0.0</td>\n",
       "    </tr>\n",
       "    <tr>\n",
       "      <th>4</th>\n",
       "      <td>ALABAMA</td>\n",
       "      <td>ACCOUNTANTS AND AUDITORS</td>\n",
       "      <td>48</td>\n",
       "      <td>1.0</td>\n",
       "    </tr>\n",
       "  </tbody>\n",
       "</table>\n",
       "</div>"
      ],
      "text/plain": [
       "     STATE                           SOC_NAME  CERTIFIED_COUNT  DENIED_COUNT\n",
       "0  ALABAMA  SOFTWARE DEVELOPERS, APPLICATIONS              186           0.0\n",
       "1  ALABAMA          COMPUTER SYSTEMS ANALYSTS              156           0.0\n",
       "2  ALABAMA               COMPUTER PROGRAMMERS              111           3.0\n",
       "3  ALABAMA                MANAGEMENT ANALYSTS               56           0.0\n",
       "4  ALABAMA           ACCOUNTANTS AND AUDITORS               48           1.0"
      ]
     },
     "execution_count": 18,
     "metadata": {},
     "output_type": "execute_result"
    }
   ],
   "source": [
    "#taking the CERTIFIED & DENIED count for each SOC_NAME from each state\n",
    "result.head()"
   ]
  },
  {
   "cell_type": "code",
   "execution_count": 19,
   "metadata": {
    "collapsed": false
   },
   "outputs": [],
   "source": [
    "result['success_ratio']= (result['CERTIFIED_COUNT']/(result['CERTIFIED_COUNT']+result['DENIED_COUNT']))*100"
   ]
  },
  {
   "cell_type": "code",
   "execution_count": 20,
   "metadata": {
    "collapsed": false
   },
   "outputs": [
    {
     "data": {
      "text/html": [
       "<div>\n",
       "<table border=\"1\" class=\"dataframe\">\n",
       "  <thead>\n",
       "    <tr style=\"text-align: right;\">\n",
       "      <th></th>\n",
       "      <th>STATE</th>\n",
       "      <th>SOC_NAME</th>\n",
       "      <th>CERTIFIED_COUNT</th>\n",
       "      <th>DENIED_COUNT</th>\n",
       "      <th>success_ratio</th>\n",
       "    </tr>\n",
       "  </thead>\n",
       "  <tbody>\n",
       "    <tr>\n",
       "      <th>0</th>\n",
       "      <td>ALABAMA</td>\n",
       "      <td>SOFTWARE DEVELOPERS, APPLICATIONS</td>\n",
       "      <td>186</td>\n",
       "      <td>0.0</td>\n",
       "      <td>100.000000</td>\n",
       "    </tr>\n",
       "    <tr>\n",
       "      <th>1</th>\n",
       "      <td>ALABAMA</td>\n",
       "      <td>COMPUTER SYSTEMS ANALYSTS</td>\n",
       "      <td>156</td>\n",
       "      <td>0.0</td>\n",
       "      <td>100.000000</td>\n",
       "    </tr>\n",
       "    <tr>\n",
       "      <th>2</th>\n",
       "      <td>ALABAMA</td>\n",
       "      <td>COMPUTER PROGRAMMERS</td>\n",
       "      <td>111</td>\n",
       "      <td>3.0</td>\n",
       "      <td>97.368421</td>\n",
       "    </tr>\n",
       "    <tr>\n",
       "      <th>3</th>\n",
       "      <td>ALABAMA</td>\n",
       "      <td>MANAGEMENT ANALYSTS</td>\n",
       "      <td>56</td>\n",
       "      <td>0.0</td>\n",
       "      <td>100.000000</td>\n",
       "    </tr>\n",
       "    <tr>\n",
       "      <th>4</th>\n",
       "      <td>ALABAMA</td>\n",
       "      <td>ACCOUNTANTS AND AUDITORS</td>\n",
       "      <td>48</td>\n",
       "      <td>1.0</td>\n",
       "      <td>97.959184</td>\n",
       "    </tr>\n",
       "  </tbody>\n",
       "</table>\n",
       "</div>"
      ],
      "text/plain": [
       "     STATE                           SOC_NAME  CERTIFIED_COUNT  DENIED_COUNT  \\\n",
       "0  ALABAMA  SOFTWARE DEVELOPERS, APPLICATIONS              186           0.0   \n",
       "1  ALABAMA          COMPUTER SYSTEMS ANALYSTS              156           0.0   \n",
       "2  ALABAMA               COMPUTER PROGRAMMERS              111           3.0   \n",
       "3  ALABAMA                MANAGEMENT ANALYSTS               56           0.0   \n",
       "4  ALABAMA           ACCOUNTANTS AND AUDITORS               48           1.0   \n",
       "\n",
       "   success_ratio  \n",
       "0     100.000000  \n",
       "1     100.000000  \n",
       "2      97.368421  \n",
       "3     100.000000  \n",
       "4      97.959184  "
      ]
     },
     "execution_count": 20,
     "metadata": {},
     "output_type": "execute_result"
    }
   ],
   "source": [
    "result.head()"
   ]
  },
  {
   "cell_type": "code",
   "execution_count": 21,
   "metadata": {
    "collapsed": false
   },
   "outputs": [],
   "source": [
    "r4=result.groupby(['STATE']).apply(lambda x:x.sort_values('success_ratio',ascending=True))"
   ]
  },
  {
   "cell_type": "code",
   "execution_count": 22,
   "metadata": {
    "collapsed": true
   },
   "outputs": [],
   "source": [
    "r5=r4.groupby('STATE').head(3)"
   ]
  },
  {
   "cell_type": "code",
   "execution_count": 23,
   "metadata": {
    "collapsed": false
   },
   "outputs": [
    {
     "data": {
      "text/html": [
       "<div>\n",
       "<table border=\"1\" class=\"dataframe\">\n",
       "  <thead>\n",
       "    <tr style=\"text-align: right;\">\n",
       "      <th></th>\n",
       "      <th></th>\n",
       "      <th>STATE</th>\n",
       "      <th>SOC_NAME</th>\n",
       "      <th>CERTIFIED_COUNT</th>\n",
       "      <th>DENIED_COUNT</th>\n",
       "      <th>success_ratio</th>\n",
       "    </tr>\n",
       "    <tr>\n",
       "      <th>STATE</th>\n",
       "      <th></th>\n",
       "      <th></th>\n",
       "      <th></th>\n",
       "      <th></th>\n",
       "      <th></th>\n",
       "      <th></th>\n",
       "    </tr>\n",
       "  </thead>\n",
       "  <tbody>\n",
       "    <tr>\n",
       "      <th rowspan=\"3\" valign=\"top\">ALABAMA</th>\n",
       "      <th>95</th>\n",
       "      <td>ALABAMA</td>\n",
       "      <td>CHEFS AND HEAD COOKS</td>\n",
       "      <td>1</td>\n",
       "      <td>2.0</td>\n",
       "      <td>33.333333</td>\n",
       "    </tr>\n",
       "    <tr>\n",
       "      <th>128</th>\n",
       "      <td>ALABAMA</td>\n",
       "      <td>PSYCHOLOGY TEACHERS, POSTSECONDARY</td>\n",
       "      <td>1</td>\n",
       "      <td>1.0</td>\n",
       "      <td>50.000000</td>\n",
       "    </tr>\n",
       "    <tr>\n",
       "      <th>104</th>\n",
       "      <td>ALABAMA</td>\n",
       "      <td>COUNSELORS, ALL OTHER</td>\n",
       "      <td>1</td>\n",
       "      <td>1.0</td>\n",
       "      <td>50.000000</td>\n",
       "    </tr>\n",
       "    <tr>\n",
       "      <th rowspan=\"2\" valign=\"top\">ALASKA</th>\n",
       "      <th>175</th>\n",
       "      <td>ALASKA</td>\n",
       "      <td>HEALTH SPECIALTIES TEACHERS, POSTSECONDARY</td>\n",
       "      <td>1</td>\n",
       "      <td>1.0</td>\n",
       "      <td>50.000000</td>\n",
       "    </tr>\n",
       "    <tr>\n",
       "      <th>151</th>\n",
       "      <td>ALASKA</td>\n",
       "      <td>ENGINEERS, ALL OTHER</td>\n",
       "      <td>2</td>\n",
       "      <td>2.0</td>\n",
       "      <td>50.000000</td>\n",
       "    </tr>\n",
       "  </tbody>\n",
       "</table>\n",
       "</div>"
      ],
      "text/plain": [
       "               STATE                                    SOC_NAME  \\\n",
       "STATE                                                              \n",
       "ALABAMA 95   ALABAMA                        CHEFS AND HEAD COOKS   \n",
       "        128  ALABAMA          PSYCHOLOGY TEACHERS, POSTSECONDARY   \n",
       "        104  ALABAMA                       COUNSELORS, ALL OTHER   \n",
       "ALASKA  175   ALASKA  HEALTH SPECIALTIES TEACHERS, POSTSECONDARY   \n",
       "        151   ALASKA                        ENGINEERS, ALL OTHER   \n",
       "\n",
       "             CERTIFIED_COUNT  DENIED_COUNT  success_ratio  \n",
       "STATE                                                      \n",
       "ALABAMA 95                 1           2.0      33.333333  \n",
       "        128                1           1.0      50.000000  \n",
       "        104                1           1.0      50.000000  \n",
       "ALASKA  175                1           1.0      50.000000  \n",
       "        151                2           2.0      50.000000  "
      ]
     },
     "execution_count": 23,
     "metadata": {},
     "output_type": "execute_result"
    }
   ],
   "source": [
    "\n",
    "r5.head()"
   ]
  },
  {
   "cell_type": "code",
   "execution_count": 24,
   "metadata": {
    "collapsed": false
   },
   "outputs": [],
   "source": [
    "r6=r5.reset_index(level=1, drop=False)"
   ]
  },
  {
   "cell_type": "code",
   "execution_count": 25,
   "metadata": {
    "collapsed": false
   },
   "outputs": [],
   "source": [
    "del r6['level_1']"
   ]
  },
  {
   "cell_type": "code",
   "execution_count": 26,
   "metadata": {
    "collapsed": false
   },
   "outputs": [],
   "source": [
    "r7=r6.reset_index(level=0, drop=True)"
   ]
  },
  {
   "cell_type": "code",
   "execution_count": 27,
   "metadata": {
    "collapsed": false
   },
   "outputs": [
    {
     "data": {
      "text/html": [
       "<div>\n",
       "<table border=\"1\" class=\"dataframe\">\n",
       "  <thead>\n",
       "    <tr style=\"text-align: right;\">\n",
       "      <th></th>\n",
       "      <th>STATE</th>\n",
       "      <th>SOC_NAME</th>\n",
       "      <th>CERTIFIED_COUNT</th>\n",
       "      <th>DENIED_COUNT</th>\n",
       "      <th>success_ratio</th>\n",
       "    </tr>\n",
       "  </thead>\n",
       "  <tbody>\n",
       "    <tr>\n",
       "      <th>0</th>\n",
       "      <td>ALABAMA</td>\n",
       "      <td>CHEFS AND HEAD COOKS</td>\n",
       "      <td>1</td>\n",
       "      <td>2.0</td>\n",
       "      <td>33.333333</td>\n",
       "    </tr>\n",
       "    <tr>\n",
       "      <th>1</th>\n",
       "      <td>ALABAMA</td>\n",
       "      <td>PSYCHOLOGY TEACHERS, POSTSECONDARY</td>\n",
       "      <td>1</td>\n",
       "      <td>1.0</td>\n",
       "      <td>50.000000</td>\n",
       "    </tr>\n",
       "    <tr>\n",
       "      <th>2</th>\n",
       "      <td>ALABAMA</td>\n",
       "      <td>COUNSELORS, ALL OTHER</td>\n",
       "      <td>1</td>\n",
       "      <td>1.0</td>\n",
       "      <td>50.000000</td>\n",
       "    </tr>\n",
       "    <tr>\n",
       "      <th>3</th>\n",
       "      <td>ALASKA</td>\n",
       "      <td>HEALTH SPECIALTIES TEACHERS, POSTSECONDARY</td>\n",
       "      <td>1</td>\n",
       "      <td>1.0</td>\n",
       "      <td>50.000000</td>\n",
       "    </tr>\n",
       "    <tr>\n",
       "      <th>4</th>\n",
       "      <td>ALASKA</td>\n",
       "      <td>ENGINEERS, ALL OTHER</td>\n",
       "      <td>2</td>\n",
       "      <td>2.0</td>\n",
       "      <td>50.000000</td>\n",
       "    </tr>\n",
       "  </tbody>\n",
       "</table>\n",
       "</div>"
      ],
      "text/plain": [
       "     STATE                                    SOC_NAME  CERTIFIED_COUNT  \\\n",
       "0  ALABAMA                        CHEFS AND HEAD COOKS                1   \n",
       "1  ALABAMA          PSYCHOLOGY TEACHERS, POSTSECONDARY                1   \n",
       "2  ALABAMA                       COUNSELORS, ALL OTHER                1   \n",
       "3   ALASKA  HEALTH SPECIALTIES TEACHERS, POSTSECONDARY                1   \n",
       "4   ALASKA                        ENGINEERS, ALL OTHER                2   \n",
       "\n",
       "   DENIED_COUNT  success_ratio  \n",
       "0           2.0      33.333333  \n",
       "1           1.0      50.000000  \n",
       "2           1.0      50.000000  \n",
       "3           1.0      50.000000  \n",
       "4           2.0      50.000000  "
      ]
     },
     "execution_count": 27,
     "metadata": {},
     "output_type": "execute_result"
    }
   ],
   "source": [
    "#the top 3 jobs in each state having the worst H1B conversion ratio\n",
    "r7.head()"
   ]
  },
  {
   "cell_type": "code",
   "execution_count": 28,
   "metadata": {
    "collapsed": false
   },
   "outputs": [
    {
     "data": {
      "text/html": [
       "<div>\n",
       "<table border=\"1\" class=\"dataframe\">\n",
       "  <thead>\n",
       "    <tr style=\"text-align: right;\">\n",
       "      <th></th>\n",
       "      <th>STATE</th>\n",
       "      <th>SOC_NAME</th>\n",
       "      <th>CERTIFIED_COUNT</th>\n",
       "      <th>DENIED_COUNT</th>\n",
       "      <th>success_ratio</th>\n",
       "    </tr>\n",
       "  </thead>\n",
       "  <tbody>\n",
       "    <tr>\n",
       "      <th>0</th>\n",
       "      <td>ALABAMA</td>\n",
       "      <td>SOFTWARE DEVELOPERS, APPLICATIONS</td>\n",
       "      <td>186</td>\n",
       "      <td>0.0</td>\n",
       "      <td>100.000000</td>\n",
       "    </tr>\n",
       "    <tr>\n",
       "      <th>1</th>\n",
       "      <td>ALABAMA</td>\n",
       "      <td>COMPUTER SYSTEMS ANALYSTS</td>\n",
       "      <td>156</td>\n",
       "      <td>0.0</td>\n",
       "      <td>100.000000</td>\n",
       "    </tr>\n",
       "    <tr>\n",
       "      <th>2</th>\n",
       "      <td>ALABAMA</td>\n",
       "      <td>COMPUTER PROGRAMMERS</td>\n",
       "      <td>111</td>\n",
       "      <td>3.0</td>\n",
       "      <td>97.368421</td>\n",
       "    </tr>\n",
       "    <tr>\n",
       "      <th>3</th>\n",
       "      <td>ALABAMA</td>\n",
       "      <td>MANAGEMENT ANALYSTS</td>\n",
       "      <td>56</td>\n",
       "      <td>0.0</td>\n",
       "      <td>100.000000</td>\n",
       "    </tr>\n",
       "    <tr>\n",
       "      <th>4</th>\n",
       "      <td>ALABAMA</td>\n",
       "      <td>ACCOUNTANTS AND AUDITORS</td>\n",
       "      <td>48</td>\n",
       "      <td>1.0</td>\n",
       "      <td>97.959184</td>\n",
       "    </tr>\n",
       "  </tbody>\n",
       "</table>\n",
       "</div>"
      ],
      "text/plain": [
       "     STATE                           SOC_NAME  CERTIFIED_COUNT  DENIED_COUNT  \\\n",
       "0  ALABAMA  SOFTWARE DEVELOPERS, APPLICATIONS              186           0.0   \n",
       "1  ALABAMA          COMPUTER SYSTEMS ANALYSTS              156           0.0   \n",
       "2  ALABAMA               COMPUTER PROGRAMMERS              111           3.0   \n",
       "3  ALABAMA                MANAGEMENT ANALYSTS               56           0.0   \n",
       "4  ALABAMA           ACCOUNTANTS AND AUDITORS               48           1.0   \n",
       "\n",
       "   success_ratio  \n",
       "0     100.000000  \n",
       "1     100.000000  \n",
       "2      97.368421  \n",
       "3     100.000000  \n",
       "4      97.959184  "
      ]
     },
     "execution_count": 28,
     "metadata": {},
     "output_type": "execute_result"
    }
   ],
   "source": [
    "result.head()"
   ]
  },
  {
   "cell_type": "code",
   "execution_count": 29,
   "metadata": {
    "collapsed": false
   },
   "outputs": [],
   "source": [
    "#finding statewise H1B petitions success rate and sorting according to the best places to apply for H1B in USA"
   ]
  },
  {
   "cell_type": "code",
   "execution_count": 30,
   "metadata": {
    "collapsed": false
   },
   "outputs": [],
   "source": [
    "graph_data=new_data.groupby('STATE')[['CASE_STATUS']].count()"
   ]
  },
  {
   "cell_type": "code",
   "execution_count": 31,
   "metadata": {
    "collapsed": true
   },
   "outputs": [],
   "source": [
    "graph_data['DENIED']=data[data.CASE_STATUS=='DENIED'].groupby('STATE')[['CASE_STATUS']].count()"
   ]
  },
  {
   "cell_type": "code",
   "execution_count": 32,
   "metadata": {
    "collapsed": false
   },
   "outputs": [],
   "source": [
    "graph_data['ratio']= (graph_data['CASE_STATUS']/(graph_data['CASE_STATUS']+graph_data['DENIED']))*100"
   ]
  },
  {
   "cell_type": "code",
   "execution_count": 45,
   "metadata": {
    "collapsed": false
   },
   "outputs": [],
   "source": [
    "graph_data=graph_data.sort_values(by=['ratio'],ascending=False)"
   ]
  },
  {
   "cell_type": "code",
   "execution_count": 46,
   "metadata": {
    "collapsed": true
   },
   "outputs": [],
   "source": [
    "graph_data=graph_data.reset_index(level=0, drop=False)"
   ]
  },
  {
   "cell_type": "code",
   "execution_count": 47,
   "metadata": {
    "collapsed": false
   },
   "outputs": [
    {
     "data": {
      "text/html": [
       "<div>\n",
       "<table border=\"1\" class=\"dataframe\">\n",
       "  <thead>\n",
       "    <tr style=\"text-align: right;\">\n",
       "      <th></th>\n",
       "      <th>level_0</th>\n",
       "      <th>index</th>\n",
       "      <th>STATE</th>\n",
       "      <th>CASE_STATUS</th>\n",
       "      <th>DENIED</th>\n",
       "      <th>ratio</th>\n",
       "    </tr>\n",
       "  </thead>\n",
       "  <tbody>\n",
       "    <tr>\n",
       "      <th>0</th>\n",
       "      <td>0</td>\n",
       "      <td>0</td>\n",
       "      <td>MAINE</td>\n",
       "      <td>411</td>\n",
       "      <td>3</td>\n",
       "      <td>99.275362</td>\n",
       "    </tr>\n",
       "    <tr>\n",
       "      <th>1</th>\n",
       "      <td>1</td>\n",
       "      <td>1</td>\n",
       "      <td>NEWHAMPSHIRE</td>\n",
       "      <td>939</td>\n",
       "      <td>7</td>\n",
       "      <td>99.260042</td>\n",
       "    </tr>\n",
       "    <tr>\n",
       "      <th>2</th>\n",
       "      <td>2</td>\n",
       "      <td>2</td>\n",
       "      <td>DELAWARE</td>\n",
       "      <td>1461</td>\n",
       "      <td>12</td>\n",
       "      <td>99.185336</td>\n",
       "    </tr>\n",
       "    <tr>\n",
       "      <th>3</th>\n",
       "      <td>3</td>\n",
       "      <td>3</td>\n",
       "      <td>MISSOURI</td>\n",
       "      <td>4810</td>\n",
       "      <td>45</td>\n",
       "      <td>99.073120</td>\n",
       "    </tr>\n",
       "    <tr>\n",
       "      <th>4</th>\n",
       "      <td>4</td>\n",
       "      <td>4</td>\n",
       "      <td>NEWJERSEY</td>\n",
       "      <td>25787</td>\n",
       "      <td>245</td>\n",
       "      <td>99.058851</td>\n",
       "    </tr>\n",
       "  </tbody>\n",
       "</table>\n",
       "</div>"
      ],
      "text/plain": [
       "   level_0  index         STATE  CASE_STATUS  DENIED      ratio\n",
       "0        0      0         MAINE          411       3  99.275362\n",
       "1        1      1  NEWHAMPSHIRE          939       7  99.260042\n",
       "2        2      2      DELAWARE         1461      12  99.185336\n",
       "3        3      3      MISSOURI         4810      45  99.073120\n",
       "4        4      4     NEWJERSEY        25787     245  99.058851"
      ]
     },
     "execution_count": 47,
     "metadata": {},
     "output_type": "execute_result"
    }
   ],
   "source": [
    "graph_data.head()"
   ]
  },
  {
   "cell_type": "code",
   "execution_count": 43,
   "metadata": {
    "collapsed": true
   },
   "outputs": [],
   "source": [
    "states_data= graph_data.sort_values(by=['CASE_STATUS'],ascending=False)"
   ]
  },
  {
   "cell_type": "code",
   "execution_count": 48,
   "metadata": {
    "collapsed": false
   },
   "outputs": [],
   "source": [
    "del states_data['index']"
   ]
  },
  {
   "cell_type": "code",
   "execution_count": 49,
   "metadata": {
    "collapsed": false
   },
   "outputs": [
    {
     "data": {
      "image/png": "[encoded data removed]",
      "text/plain": [
       "<matplotlib.figure.Figure at 0x109a9a278>"
      ]
     },
     "metadata": {},
     "output_type": "display_data"
    }
   ],
   "source": [
    "\n",
    "#have to do this again\n",
    "states_data.sort_values(by=['CASE_STATUS'],ascending=False).plot.bar(x='STATE',y='CASE_STATUS',stacked=True,title='Top10_States',legend=True)\n",
    "plt.tight_layout()\n",
    "plt.gcf().savefig('ana_1/Top10_States.png')"
   ]
  },
  {
   "cell_type": "code",
   "execution_count": 50,
   "metadata": {
    "collapsed": false
   },
   "outputs": [
    {
     "data": {
      "image/png": "[encoded data removed]",
      "text/plain": [
       "<matplotlib.figure.Figure at 0x109a9aa58>"
      ]
     },
     "metadata": {},
     "output_type": "display_data"
    }
   ],
   "source": [
    "graph_data.plot.line(x='STATE',y='ratio',title='Top 10 H1B approval rate',legend=True, rot=90,marker='o', color='g')\n",
    "plt.tight_layout()\n",
    "plt.gcf().savefig('ana_1/Top10_ApprovalRate.png')"
   ]
  },
  {
   "cell_type": "code",
   "execution_count": null,
   "metadata": {
    "collapsed": true
   },
   "outputs": [],
   "source": []
  }
 ],
 "metadata": {
  "anaconda-cloud": {},
  "kernelspec": {
   "display_name": "Python [conda root]",
   "language": "python",
   "name": "conda-root-py"
  },
  "language_info": {
   "codemirror_mode": {
    "name": "ipython",
    "version": 3
   },
   "file_extension": ".py",
   "mimetype": "text/x-python",
   "name": "python",
   "nbconvert_exporter": "python",
   "pygments_lexer": "ipython3",
   "version": "3.5.2"
  }
 },
 "nbformat": 4,
 "nbformat_minor": 1
}
