{
 "cells": [
  {
   "cell_type": "markdown",
   "metadata": {},
   "source": [
    "# Analysis 2\n",
    "- Considering the cases where the H1B petitions are for Full time positions and have been certified by the DoL\n",
    "- Plotting the concentration of the applications using a Scatter plot\n",
    "- Randomly sampling 1000 applications and plotting them on the map of USA using folium package\n"
   ]
  },
  {
   "cell_type": "code",
   "execution_count": 1,
   "metadata": {
    "collapsed": false
   },
   "outputs": [
    {
     "name": "stderr",
     "output_type": "stream",
     "text": [
      "/Users/kvs25/anaconda3/lib/python3.5/site-packages/numexpr/cpuinfo.py:53: UserWarning: [Errno 2] No such file or directory: 'machine'\n",
      "  stacklevel=stacklevel + 1)\n",
      "/Users/kvs25/anaconda3/lib/python3.5/site-packages/numexpr/cpuinfo.py:53: UserWarning: [Errno 2] No such file or directory: 'arch'\n",
      "  stacklevel=stacklevel + 1)\n",
      "/Users/kvs25/anaconda3/lib/python3.5/site-packages/numexpr/cpuinfo.py:76: UserWarning: [Errno 2] No such file or directory: 'sysctl'\n",
      "  stacklevel=stacklevel + 1):\n"
     ]
    }
   ],
   "source": [
    "import pandas as pd\n",
    "import numpy as np\n",
    "import os\n",
    "import datetime\n",
    "import plotly.plotly as py\n",
    "import seaborn as sns\n",
    "import matplotlib as mpl\n",
    "import matplotlib.pyplot as plt\n",
    "%matplotlib inline"
   ]
  },
  {
   "cell_type": "code",
   "execution_count": 2,
   "metadata": {
    "collapsed": true
   },
   "outputs": [],
   "source": [
    "df = pd.read_csv('data/H1B_petition_dataset.csv', encoding = \"ISO-8859-1\",index_col=False)"
   ]
  },
  {
   "cell_type": "code",
   "execution_count": 3,
   "metadata": {
    "collapsed": false
   },
   "outputs": [
    {
     "data": {
      "text/html": [
       "<div>\n",
       "<table border=\"1\" class=\"dataframe\">\n",
       "  <thead>\n",
       "    <tr style=\"text-align: right;\">\n",
       "      <th></th>\n",
       "      <th>CASE_STATUS</th>\n",
       "      <th>EMPLOYER_NAME</th>\n",
       "      <th>SOC_NAME</th>\n",
       "      <th>JOB_TITLE</th>\n",
       "      <th>FULL_TIME_POSITION</th>\n",
       "      <th>PREVAILING_WAGE</th>\n",
       "      <th>YEAR</th>\n",
       "      <th>WORKSITE</th>\n",
       "      <th>STATE</th>\n",
       "      <th>lon</th>\n",
       "      <th>lat</th>\n",
       "    </tr>\n",
       "  </thead>\n",
       "  <tbody>\n",
       "    <tr>\n",
       "      <th>0</th>\n",
       "      <td>DENIED</td>\n",
       "      <td>CARNEGIE MELLON UNIVERSITY</td>\n",
       "      <td>COMPUTER AND INFORMATION RESEARCH SCIENTISTS</td>\n",
       "      <td>RESEARCH ASSOCIATE</td>\n",
       "      <td>Y</td>\n",
       "      <td>6044480.0</td>\n",
       "      <td>2016</td>\n",
       "      <td>PITTSBURGH</td>\n",
       "      <td>PENNSYLVANIA</td>\n",
       "      <td>-79.995886</td>\n",
       "      <td>40.440625</td>\n",
       "    </tr>\n",
       "    <tr>\n",
       "      <th>1</th>\n",
       "      <td>DENIED</td>\n",
       "      <td>TIGHTEN CO</td>\n",
       "      <td>WEB DEVELOPERS</td>\n",
       "      <td>WEB DEVELOPER</td>\n",
       "      <td>Y</td>\n",
       "      <td>4316000.0</td>\n",
       "      <td>2016</td>\n",
       "      <td>DALLAS</td>\n",
       "      <td>TEXAS</td>\n",
       "      <td>-96.796988</td>\n",
       "      <td>32.776664</td>\n",
       "    </tr>\n",
       "    <tr>\n",
       "      <th>2</th>\n",
       "      <td>WITHDRAWN</td>\n",
       "      <td>GLOBAL INFOTECH CORPORATION</td>\n",
       "      <td>COMPUTER PROGRAMMERS</td>\n",
       "      <td>COMPUTER PROGRAMMER</td>\n",
       "      <td>Y</td>\n",
       "      <td>4193280.0</td>\n",
       "      <td>2016</td>\n",
       "      <td>SAN FRANCISCO</td>\n",
       "      <td>CALIFORNIA</td>\n",
       "      <td>-122.419415</td>\n",
       "      <td>37.774929</td>\n",
       "    </tr>\n",
       "    <tr>\n",
       "      <th>3</th>\n",
       "      <td>DENIED</td>\n",
       "      <td>SYNTEL INC</td>\n",
       "      <td>COMPUTER SYSTEMS ANALYSTS</td>\n",
       "      <td>PROGRAMMER ANALYST</td>\n",
       "      <td>Y</td>\n",
       "      <td>4087356.0</td>\n",
       "      <td>2016</td>\n",
       "      <td>QUINCY</td>\n",
       "      <td>MASSACHUSETTS</td>\n",
       "      <td>-71.002270</td>\n",
       "      <td>42.252877</td>\n",
       "    </tr>\n",
       "    <tr>\n",
       "      <th>4</th>\n",
       "      <td>WITHDRAWN</td>\n",
       "      <td>IBM INDIA PRIVATE LIMITED</td>\n",
       "      <td>COMPUTER PROGRAMMERS</td>\n",
       "      <td>LEAD DATA SPECIALIST</td>\n",
       "      <td>Y</td>\n",
       "      <td>3277248.0</td>\n",
       "      <td>2016</td>\n",
       "      <td>TAMPA</td>\n",
       "      <td>FLORIDA</td>\n",
       "      <td>-82.457178</td>\n",
       "      <td>27.950575</td>\n",
       "    </tr>\n",
       "  </tbody>\n",
       "</table>\n",
       "</div>"
      ],
      "text/plain": [
       "  CASE_STATUS                EMPLOYER_NAME  \\\n",
       "0      DENIED   CARNEGIE MELLON UNIVERSITY   \n",
       "1      DENIED                   TIGHTEN CO   \n",
       "2   WITHDRAWN  GLOBAL INFOTECH CORPORATION   \n",
       "3      DENIED                   SYNTEL INC   \n",
       "4   WITHDRAWN    IBM INDIA PRIVATE LIMITED   \n",
       "\n",
       "                                       SOC_NAME             JOB_TITLE  \\\n",
       "0  COMPUTER AND INFORMATION RESEARCH SCIENTISTS    RESEARCH ASSOCIATE   \n",
       "1                                WEB DEVELOPERS         WEB DEVELOPER   \n",
       "2                          COMPUTER PROGRAMMERS   COMPUTER PROGRAMMER   \n",
       "3                     COMPUTER SYSTEMS ANALYSTS    PROGRAMMER ANALYST   \n",
       "4                          COMPUTER PROGRAMMERS  LEAD DATA SPECIALIST   \n",
       "\n",
       "  FULL_TIME_POSITION  PREVAILING_WAGE  YEAR       WORKSITE          STATE  \\\n",
       "0                  Y        6044480.0  2016     PITTSBURGH   PENNSYLVANIA   \n",
       "1                  Y        4316000.0  2016         DALLAS          TEXAS   \n",
       "2                  Y        4193280.0  2016  SAN FRANCISCO     CALIFORNIA   \n",
       "3                  Y        4087356.0  2016         QUINCY  MASSACHUSETTS   \n",
       "4                  Y        3277248.0  2016          TAMPA        FLORIDA   \n",
       "\n",
       "          lon        lat  \n",
       "0  -79.995886  40.440625  \n",
       "1  -96.796988  32.776664  \n",
       "2 -122.419415  37.774929  \n",
       "3  -71.002270  42.252877  \n",
       "4  -82.457178  27.950575  "
      ]
     },
     "execution_count": 3,
     "metadata": {},
     "output_type": "execute_result"
    }
   ],
   "source": [
    "df.head()"
   ]
  },
  {
   "cell_type": "code",
   "execution_count": 7,
   "metadata": {
    "collapsed": false
   },
   "outputs": [
    {
     "name": "stderr",
     "output_type": "stream",
     "text": [
      "/Users/kvs25/anaconda3/lib/python3.5/site-packages/ipykernel/__main__.py:1: UserWarning:\n",
      "\n",
      "Boolean Series key will be reindexed to match DataFrame index.\n",
      "\n"
     ]
    }
   ],
   "source": [
    "certi= df[df.CASE_STATUS=='CERTIFIED'][df.FULL_TIME_POSITION=='Y']"
   ]
  },
  {
   "cell_type": "code",
   "execution_count": 8,
   "metadata": {
    "collapsed": false
   },
   "outputs": [
    {
     "data": {
      "text/html": [
       "<div>\n",
       "<table border=\"1\" class=\"dataframe\">\n",
       "  <thead>\n",
       "    <tr style=\"text-align: right;\">\n",
       "      <th></th>\n",
       "      <th>CASE_STATUS</th>\n",
       "      <th>EMPLOYER_NAME</th>\n",
       "      <th>SOC_NAME</th>\n",
       "      <th>JOB_TITLE</th>\n",
       "      <th>FULL_TIME_POSITION</th>\n",
       "      <th>PREVAILING_WAGE</th>\n",
       "      <th>YEAR</th>\n",
       "      <th>WORKSITE</th>\n",
       "      <th>STATE</th>\n",
       "      <th>lon</th>\n",
       "      <th>lat</th>\n",
       "    </tr>\n",
       "  </thead>\n",
       "  <tbody>\n",
       "    <tr>\n",
       "      <th>0</th>\n",
       "      <td>CERTIFIED</td>\n",
       "      <td>SAATCHI &amp; SAATCHI NORTH AMERICA, INC.</td>\n",
       "      <td>CHIEF EXECUTIVES</td>\n",
       "      <td>CHIEF CREATIVE OFFICER</td>\n",
       "      <td>Y</td>\n",
       "      <td>631700.0</td>\n",
       "      <td>2016</td>\n",
       "      <td>TORRANCE</td>\n",
       "      <td>CALIFORNIA</td>\n",
       "      <td>-118.340629</td>\n",
       "      <td>33.835849</td>\n",
       "    </tr>\n",
       "    <tr>\n",
       "      <th>1</th>\n",
       "      <td>CERTIFIED</td>\n",
       "      <td>MERCY PROFESSIONAL CARE CORPORATION</td>\n",
       "      <td>PHYSICIANS AND SURGEONS, ALL OTHER</td>\n",
       "      <td>CARDIOLOGIST PHYSICIAN</td>\n",
       "      <td>Y</td>\n",
       "      <td>488400.0</td>\n",
       "      <td>2016</td>\n",
       "      <td>CANTON</td>\n",
       "      <td>OHIO</td>\n",
       "      <td>-81.378447</td>\n",
       "      <td>40.798947</td>\n",
       "    </tr>\n",
       "    <tr>\n",
       "      <th>2</th>\n",
       "      <td>CERTIFIED</td>\n",
       "      <td>NORTHERN NEVADA MEDICAL GROUP, LLC</td>\n",
       "      <td>PHYSICIANS AND SURGEONS, ALL OTHER</td>\n",
       "      <td>INTERVENTIONAL CARDIOLOGIST</td>\n",
       "      <td>Y</td>\n",
       "      <td>413484.0</td>\n",
       "      <td>2016</td>\n",
       "      <td>SPARKS</td>\n",
       "      <td>NEVADA</td>\n",
       "      <td>-119.752689</td>\n",
       "      <td>39.534911</td>\n",
       "    </tr>\n",
       "    <tr>\n",
       "      <th>3</th>\n",
       "      <td>CERTIFIED</td>\n",
       "      <td>EVANGELICAL MEDICAL SERVICES ORGANIZATION</td>\n",
       "      <td>ANESTHESIOLOGISTS</td>\n",
       "      <td>ANESTHESIOLOGIST</td>\n",
       "      <td>Y</td>\n",
       "      <td>395480.0</td>\n",
       "      <td>2016</td>\n",
       "      <td>LEWISBURG</td>\n",
       "      <td>PENNSYLVANIA</td>\n",
       "      <td>-76.884410</td>\n",
       "      <td>40.964529</td>\n",
       "    </tr>\n",
       "    <tr>\n",
       "      <th>4</th>\n",
       "      <td>CERTIFIED</td>\n",
       "      <td>VIRTUAL EDUCA FOUNDATION</td>\n",
       "      <td>COMMUNITY AND SOCIAL SERVICE SPECIALISTS, ALL</td>\n",
       "      <td>EXECUTIVE DIRECTOR</td>\n",
       "      <td>Y</td>\n",
       "      <td>387132.0</td>\n",
       "      <td>2016</td>\n",
       "      <td>SAN JUAN</td>\n",
       "      <td>PUERTORICO</td>\n",
       "      <td>-66.105735</td>\n",
       "      <td>18.465539</td>\n",
       "    </tr>\n",
       "  </tbody>\n",
       "</table>\n",
       "</div>"
      ],
      "text/plain": [
       "  CASE_STATUS                              EMPLOYER_NAME  \\\n",
       "0   CERTIFIED      SAATCHI & SAATCHI NORTH AMERICA, INC.   \n",
       "1   CERTIFIED        MERCY PROFESSIONAL CARE CORPORATION   \n",
       "2   CERTIFIED         NORTHERN NEVADA MEDICAL GROUP, LLC   \n",
       "3   CERTIFIED  EVANGELICAL MEDICAL SERVICES ORGANIZATION   \n",
       "4   CERTIFIED                   VIRTUAL EDUCA FOUNDATION   \n",
       "\n",
       "                                        SOC_NAME                    JOB_TITLE  \\\n",
       "0                               CHIEF EXECUTIVES       CHIEF CREATIVE OFFICER   \n",
       "1             PHYSICIANS AND SURGEONS, ALL OTHER       CARDIOLOGIST PHYSICIAN   \n",
       "2             PHYSICIANS AND SURGEONS, ALL OTHER  INTERVENTIONAL CARDIOLOGIST   \n",
       "3                              ANESTHESIOLOGISTS             ANESTHESIOLOGIST   \n",
       "4  COMMUNITY AND SOCIAL SERVICE SPECIALISTS, ALL           EXECUTIVE DIRECTOR   \n",
       "\n",
       "  FULL_TIME_POSITION  PREVAILING_WAGE  YEAR   WORKSITE         STATE  \\\n",
       "0                  Y         631700.0  2016   TORRANCE    CALIFORNIA   \n",
       "1                  Y         488400.0  2016     CANTON          OHIO   \n",
       "2                  Y         413484.0  2016     SPARKS        NEVADA   \n",
       "3                  Y         395480.0  2016  LEWISBURG  PENNSYLVANIA   \n",
       "4                  Y         387132.0  2016   SAN JUAN    PUERTORICO   \n",
       "\n",
       "          lon        lat  \n",
       "0 -118.340629  33.835849  \n",
       "1  -81.378447  40.798947  \n",
       "2 -119.752689  39.534911  \n",
       "3  -76.884410  40.964529  \n",
       "4  -66.105735  18.465539  "
      ]
     },
     "execution_count": 8,
     "metadata": {},
     "output_type": "execute_result"
    }
   ],
   "source": [
    "certi=certi.reset_index(drop=True)\n",
    "certi.head()"
   ]
  },
  {
   "cell_type": "code",
   "execution_count": 11,
   "metadata": {
    "collapsed": false
   },
   "outputs": [],
   "source": [
    "certi=certi.dropna()"
   ]
  },
  {
   "cell_type": "code",
   "execution_count": 12,
   "metadata": {
    "collapsed": false
   },
   "outputs": [
    {
     "data": {
      "text/plain": [
       "(257133, 11)"
      ]
     },
     "execution_count": 12,
     "metadata": {},
     "output_type": "execute_result"
    }
   ],
   "source": [
    "certi.shape"
   ]
  },
  {
   "cell_type": "code",
   "execution_count": 22,
   "metadata": {
    "collapsed": false
   },
   "outputs": [],
   "source": [
    "#randomly sampled 1000 applications to check the concentration of the H1B applications\n",
    "graph_data=certi.sample(1000)"
   ]
  },
  {
   "cell_type": "code",
   "execution_count": 6,
   "metadata": {
    "collapsed": false
   },
   "outputs": [],
   "source": [
    "import folium"
   ]
  },
  {
   "cell_type": "code",
   "execution_count": 7,
   "metadata": {
    "collapsed": false
   },
   "outputs": [],
   "source": [
    "#folium.CircleMarker(location=[45.5, -122.3], radius=1000, popup='Portland, OR')"
   ]
  },
  {
   "cell_type": "code",
   "execution_count": 18,
   "metadata": {
    "collapsed": false
   },
   "outputs": [],
   "source": [
    "output = folium.Map(location=[37.0902, -95.7129],zoom_start=4)"
   ]
  },
  {
   "cell_type": "code",
   "execution_count": 19,
   "metadata": {
    "collapsed": false
   },
   "outputs": [],
   "source": [
    "marker_cluster = folium.MarkerCluster().add_to(output)"
   ]
  },
  {
   "cell_type": "code",
   "execution_count": 20,
   "metadata": {
    "collapsed": false
   },
   "outputs": [
    {
     "data": {
      "text/html": [
       "<div style=\"width:100%;\"><div style=\"position:relative;width:100%;height:0;padding-bottom:60%;\"><iframe src=\"data:text/html;charset=utf-8;base64,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\" style=\"position:absolute;width:100%;height:100%;left:0;top:0;border:none !important;\" allowfullscreen webkitallowfullscreen mozallowfullscreen></iframe></div></div>"
      ],
      "text/plain": [
       "<folium.folium.Map at 0x128839ac8>"
      ]
     },
     "execution_count": 20,
     "metadata": {},
     "output_type": "execute_result"
    }
   ],
   "source": [
    "output"
   ]
  },
  {
   "cell_type": "code",
   "execution_count": 25,
   "metadata": {
    "collapsed": true
   },
   "outputs": [],
   "source": [
    "output.save('ana_2/output.html')"
   ]
  },
  {
   "cell_type": "code",
   "execution_count": 23,
   "metadata": {
    "collapsed": false
   },
   "outputs": [],
   "source": [
    "for index,row in graph_data.iterrows():\n",
    "    #print (row['lon'])\n",
    "    if not pd.isnull(row['lon']):\n",
    "        folium.Marker(location = [row['lat'],row['lon']],icon = folium.Icon(color ='green')).add_to(output)\n",
    "    #folium.CircleMarker(location=[row['lat'], row['lon']], radius=30, color='green', fill_color='green').add_to(output)"
   ]
  },
  {
   "cell_type": "code",
   "execution_count": 32,
   "metadata": {
    "collapsed": false
   },
   "outputs": [
    {
     "data": {
      "text/plain": [
       "<matplotlib.collections.PathCollection at 0x1148d2d68>"
      ]
     },
     "execution_count": 32,
     "metadata": {},
     "output_type": "execute_result"
    },
    {
     "data": {
      "image/png": "[encoded data removed]",
      "text/plain": [
       "<matplotlib.figure.Figure at 0x113b1d278>"
      ]
     },
     "metadata": {},
     "output_type": "display_data"
    }
   ],
   "source": [
    "plt.scatter(certi.lon,certi.lat,color='g')"
   ]
  },
  {
   "cell_type": "code",
   "execution_count": null,
   "metadata": {
    "collapsed": true
   },
   "outputs": [],
   "source": []
  }
 ],
 "metadata": {
  "anaconda-cloud": {},
  "kernelspec": {
   "display_name": "Python [conda root]",
   "language": "python",
   "name": "conda-root-py"
  },
  "language_info": {
   "codemirror_mode": {
    "name": "ipython",
    "version": 3
   },
   "file_extension": ".py",
   "mimetype": "text/x-python",
   "name": "python",
   "nbconvert_exporter": "python",
   "pygments_lexer": "ipython3",
   "version": "3.5.2"
  }
 },
 "nbformat": 4,
 "nbformat_minor": 1
}
