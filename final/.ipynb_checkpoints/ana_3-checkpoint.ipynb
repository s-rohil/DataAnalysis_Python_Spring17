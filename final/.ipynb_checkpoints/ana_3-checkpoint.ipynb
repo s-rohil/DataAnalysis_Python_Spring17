{
 "cells": [
  {
   "cell_type": "markdown",
   "metadata": {},
   "source": [
    "# Analysis 3\n",
    "- Analyzing the H1B petitions of Computer Programmers across USA\n",
    "- Finding out the mean wages for Computer Programmers applying for H1B w.r.t every Worksite of a State\n",
    "- Ranking the states on the basis of Highest paid Computer Programmers\n",
    "- Finding the most common Job Titles under the generic SOC_NAME of Computer Programmers who applied for H1B"
   ]
  },
  {
   "cell_type": "code",
   "execution_count": 1,
   "metadata": {
    "collapsed": false
   },
   "outputs": [
    {
     "name": "stderr",
     "output_type": "stream",
     "text": [
      "/Users/kvs25/anaconda3/lib/python3.5/site-packages/numexpr/cpuinfo.py:53: UserWarning: [Errno 2] No such file or directory: 'machine'\n",
      "  stacklevel=stacklevel + 1)\n",
      "/Users/kvs25/anaconda3/lib/python3.5/site-packages/numexpr/cpuinfo.py:53: UserWarning: [Errno 2] No such file or directory: 'arch'\n",
      "  stacklevel=stacklevel + 1)\n",
      "/Users/kvs25/anaconda3/lib/python3.5/site-packages/numexpr/cpuinfo.py:76: UserWarning: [Errno 2] No such file or directory: 'sysctl'\n",
      "  stacklevel=stacklevel + 1):\n"
     ]
    }
   ],
   "source": [
    "import pandas as pd\n",
    "import numpy as np\n",
    "import os\n",
    "import datetime"
   ]
  },
  {
   "cell_type": "code",
   "execution_count": 2,
   "metadata": {
    "collapsed": false
   },
   "outputs": [],
   "source": [
    "df = pd.read_csv('data/H1B_petition_dataset.csv', encoding = \"ISO-8859-1\")"
   ]
  },
  {
   "cell_type": "code",
   "execution_count": 3,
   "metadata": {
    "collapsed": false
   },
   "outputs": [],
   "source": [
    "data=df[df.SOC_NAME=='COMPUTER PROGRAMMERS']"
   ]
  },
  {
   "cell_type": "code",
   "execution_count": 4,
   "metadata": {
    "collapsed": false
   },
   "outputs": [
    {
     "data": {
      "text/html": [
       "<div>\n",
       "<table border=\"1\" class=\"dataframe\">\n",
       "  <thead>\n",
       "    <tr style=\"text-align: right;\">\n",
       "      <th></th>\n",
       "      <th>CASE_STATUS</th>\n",
       "      <th>EMPLOYER_NAME</th>\n",
       "      <th>SOC_NAME</th>\n",
       "      <th>JOB_TITLE</th>\n",
       "      <th>FULL_TIME_POSITION</th>\n",
       "      <th>PREVAILING_WAGE</th>\n",
       "      <th>YEAR</th>\n",
       "      <th>WORKSITE</th>\n",
       "      <th>STATE</th>\n",
       "      <th>lon</th>\n",
       "      <th>lat</th>\n",
       "    </tr>\n",
       "  </thead>\n",
       "  <tbody>\n",
       "    <tr>\n",
       "      <th>535</th>\n",
       "      <td>DENIED</td>\n",
       "      <td>3PEA INTERNATIONAL, INC.</td>\n",
       "      <td>COMPUTER PROGRAMMERS</td>\n",
       "      <td>PROGRAMMER ANALYST</td>\n",
       "      <td>N</td>\n",
       "      <td>59654.0</td>\n",
       "      <td>2016</td>\n",
       "      <td>HENDERSON</td>\n",
       "      <td>NEVADA</td>\n",
       "      <td>-114.981721</td>\n",
       "      <td>36.039525</td>\n",
       "    </tr>\n",
       "    <tr>\n",
       "      <th>1404</th>\n",
       "      <td>DENIED</td>\n",
       "      <td>8K MILES HEALTH CLOUD INC</td>\n",
       "      <td>COMPUTER PROGRAMMERS</td>\n",
       "      <td>PROGRAMMER ANALYST</td>\n",
       "      <td>N</td>\n",
       "      <td>54725.0</td>\n",
       "      <td>2016</td>\n",
       "      <td>WEST CHESTER</td>\n",
       "      <td>PENNSYLVANIA</td>\n",
       "      <td>-75.605488</td>\n",
       "      <td>39.960664</td>\n",
       "    </tr>\n",
       "    <tr>\n",
       "      <th>1446</th>\n",
       "      <td>DENIED</td>\n",
       "      <td>8K MILES SOFTWARE SERVICES INC</td>\n",
       "      <td>COMPUTER PROGRAMMERS</td>\n",
       "      <td>PROGRAMMER ANALYST</td>\n",
       "      <td>Y</td>\n",
       "      <td>75795.0</td>\n",
       "      <td>2016</td>\n",
       "      <td>NEW YORK</td>\n",
       "      <td>NEWYORK</td>\n",
       "      <td>-74.005941</td>\n",
       "      <td>40.712784</td>\n",
       "    </tr>\n",
       "    <tr>\n",
       "      <th>1920</th>\n",
       "      <td>DENIED</td>\n",
       "      <td>AA SOLUTIONS INC</td>\n",
       "      <td>COMPUTER PROGRAMMERS</td>\n",
       "      <td>PROGRAMMER ANALYST</td>\n",
       "      <td>N</td>\n",
       "      <td>46280.0</td>\n",
       "      <td>2016</td>\n",
       "      <td>ROCHESTER</td>\n",
       "      <td>NEWYORK</td>\n",
       "      <td>-77.610922</td>\n",
       "      <td>43.161030</td>\n",
       "    </tr>\n",
       "    <tr>\n",
       "      <th>2107</th>\n",
       "      <td>DENIED</td>\n",
       "      <td>AARDEE SOLUTIONS INC.</td>\n",
       "      <td>COMPUTER PROGRAMMERS</td>\n",
       "      <td>PROGRAMMER ANALYST</td>\n",
       "      <td>N</td>\n",
       "      <td>45136.0</td>\n",
       "      <td>2016</td>\n",
       "      <td>GLENWOOD</td>\n",
       "      <td>ILLINOIS</td>\n",
       "      <td>-87.602266</td>\n",
       "      <td>41.542535</td>\n",
       "    </tr>\n",
       "  </tbody>\n",
       "</table>\n",
       "</div>"
      ],
      "text/plain": [
       "     CASE_STATUS                   EMPLOYER_NAME              SOC_NAME  \\\n",
       "535       DENIED        3PEA INTERNATIONAL, INC.  COMPUTER PROGRAMMERS   \n",
       "1404      DENIED       8K MILES HEALTH CLOUD INC  COMPUTER PROGRAMMERS   \n",
       "1446      DENIED  8K MILES SOFTWARE SERVICES INC  COMPUTER PROGRAMMERS   \n",
       "1920      DENIED                AA SOLUTIONS INC  COMPUTER PROGRAMMERS   \n",
       "2107      DENIED           AARDEE SOLUTIONS INC.  COMPUTER PROGRAMMERS   \n",
       "\n",
       "               JOB_TITLE FULL_TIME_POSITION  PREVAILING_WAGE  YEAR  \\\n",
       "535   PROGRAMMER ANALYST                  N          59654.0  2016   \n",
       "1404  PROGRAMMER ANALYST                  N          54725.0  2016   \n",
       "1446  PROGRAMMER ANALYST                  Y          75795.0  2016   \n",
       "1920  PROGRAMMER ANALYST                  N          46280.0  2016   \n",
       "2107  PROGRAMMER ANALYST                  N          45136.0  2016   \n",
       "\n",
       "          WORKSITE         STATE         lon        lat  \n",
       "535      HENDERSON        NEVADA -114.981721  36.039525  \n",
       "1404  WEST CHESTER  PENNSYLVANIA  -75.605488  39.960664  \n",
       "1446      NEW YORK       NEWYORK  -74.005941  40.712784  \n",
       "1920     ROCHESTER       NEWYORK  -77.610922  43.161030  \n",
       "2107      GLENWOOD      ILLINOIS  -87.602266  41.542535  "
      ]
     },
     "execution_count": 4,
     "metadata": {},
     "output_type": "execute_result"
    }
   ],
   "source": [
    "data.head()"
   ]
  },
  {
   "cell_type": "code",
   "execution_count": 5,
   "metadata": {
    "collapsed": false
   },
   "outputs": [],
   "source": [
    "#mean value of wages for Computer Programmers grouped by the State and the Worksite\n",
    "test = data.groupby(['STATE','WORKSITE'])[['PREVAILING_WAGE']].mean()"
   ]
  },
  {
   "cell_type": "code",
   "execution_count": 6,
   "metadata": {
    "collapsed": false
   },
   "outputs": [],
   "source": [
    "new_data=data.groupby(['STATE','WORKSITE'],as_index=False)[['PREVAILING_WAGE']].mean().sort_values(by=['STATE','PREVAILING_WAGE'],ascending=[True,False])"
   ]
  },
  {
   "cell_type": "code",
   "execution_count": 7,
   "metadata": {
    "collapsed": false
   },
   "outputs": [
    {
     "data": {
      "text/html": [
       "<div>\n",
       "<table border=\"1\" class=\"dataframe\">\n",
       "  <thead>\n",
       "    <tr style=\"text-align: right;\">\n",
       "      <th></th>\n",
       "      <th>STATE</th>\n",
       "      <th>WORKSITE</th>\n",
       "      <th>PREVAILING_WAGE</th>\n",
       "    </tr>\n",
       "  </thead>\n",
       "  <tbody>\n",
       "    <tr>\n",
       "      <th>16</th>\n",
       "      <td>ALABAMA</td>\n",
       "      <td>VANCE</td>\n",
       "      <td>90958.000000</td>\n",
       "    </tr>\n",
       "    <tr>\n",
       "      <th>17</th>\n",
       "      <td>ALABAMA</td>\n",
       "      <td>VESTAVIA</td>\n",
       "      <td>81536.000000</td>\n",
       "    </tr>\n",
       "    <tr>\n",
       "      <th>7</th>\n",
       "      <td>ALABAMA</td>\n",
       "      <td>HUNTSVILLE</td>\n",
       "      <td>70675.285714</td>\n",
       "    </tr>\n",
       "    <tr>\n",
       "      <th>18</th>\n",
       "      <td>ALASKA</td>\n",
       "      <td>ANCHORAGE</td>\n",
       "      <td>69992.000000</td>\n",
       "    </tr>\n",
       "    <tr>\n",
       "      <th>21</th>\n",
       "      <td>ARIZONA</td>\n",
       "      <td>GILBERT</td>\n",
       "      <td>97718.000000</td>\n",
       "    </tr>\n",
       "  </tbody>\n",
       "</table>\n",
       "</div>"
      ],
      "text/plain": [
       "      STATE    WORKSITE  PREVAILING_WAGE\n",
       "16  ALABAMA       VANCE     90958.000000\n",
       "17  ALABAMA    VESTAVIA     81536.000000\n",
       "7   ALABAMA  HUNTSVILLE     70675.285714\n",
       "18   ALASKA   ANCHORAGE     69992.000000\n",
       "21  ARIZONA     GILBERT     97718.000000"
      ]
     },
     "execution_count": 7,
     "metadata": {},
     "output_type": "execute_result"
    }
   ],
   "source": [
    "#top 3 locations of every state with respect to wages of Computer Programmers\n",
    "new_data.groupby(['STATE']).head(3).head()"
   ]
  },
  {
   "cell_type": "code",
   "execution_count": 9,
   "metadata": {
    "collapsed": false
   },
   "outputs": [],
   "source": [
    "result=data.groupby(['STATE'],as_index=False)[['PREVAILING_WAGE']].mean().sort_values(by=['PREVAILING_WAGE'],ascending=False).head(10)"
   ]
  },
  {
   "cell_type": "code",
   "execution_count": 10,
   "metadata": {
    "collapsed": false
   },
   "outputs": [],
   "source": [
    "result=result.reset_index(drop=True)"
   ]
  },
  {
   "cell_type": "code",
   "execution_count": 11,
   "metadata": {
    "collapsed": true
   },
   "outputs": [],
   "source": [
    "import matplotlib.pyplot as plt\n",
    "%matplotlib inline"
   ]
  },
  {
   "cell_type": "code",
   "execution_count": 12,
   "metadata": {
    "collapsed": false
   },
   "outputs": [
    {
     "data": {
      "text/plain": [
       "<matplotlib.figure.Figure at 0x113c31c18>"
      ]
     },
     "metadata": {},
     "output_type": "display_data"
    },
    {
     "data": {
      "image/png": "[encoded data removed]",
      "text/plain": [
       "<matplotlib.figure.Figure at 0x113cc4208>"
      ]
     },
     "metadata": {},
     "output_type": "display_data"
    }
   ],
   "source": [
    "#draw a graph for the mean value of salaries of Computer Programmers for the top 10 states\n",
    "plt.figure()\n",
    "result.plot.bar()\n",
    "plt.show()"
   ]
  },
  {
   "cell_type": "code",
   "execution_count": 13,
   "metadata": {
    "collapsed": false
   },
   "outputs": [
    {
     "data": {
      "text/html": [
       "<div>\n",
       "<table border=\"1\" class=\"dataframe\">\n",
       "  <thead>\n",
       "    <tr style=\"text-align: right;\">\n",
       "      <th></th>\n",
       "      <th>STATE</th>\n",
       "      <th>PREVAILING_WAGE</th>\n",
       "    </tr>\n",
       "  </thead>\n",
       "  <tbody>\n",
       "    <tr>\n",
       "      <th>0</th>\n",
       "      <td>WASHINGTON</td>\n",
       "      <td>245478.218959</td>\n",
       "    </tr>\n",
       "    <tr>\n",
       "      <th>1</th>\n",
       "      <td>CALIFORNIA</td>\n",
       "      <td>86385.351073</td>\n",
       "    </tr>\n",
       "    <tr>\n",
       "      <th>2</th>\n",
       "      <td>NEWMEXICO</td>\n",
       "      <td>76912.571429</td>\n",
       "    </tr>\n",
       "    <tr>\n",
       "      <th>3</th>\n",
       "      <td>NEWJERSEY</td>\n",
       "      <td>73040.702769</td>\n",
       "    </tr>\n",
       "    <tr>\n",
       "      <th>4</th>\n",
       "      <td>COLORADO</td>\n",
       "      <td>70742.028049</td>\n",
       "    </tr>\n",
       "    <tr>\n",
       "      <th>5</th>\n",
       "      <td>ALASKA</td>\n",
       "      <td>69992.000000</td>\n",
       "    </tr>\n",
       "    <tr>\n",
       "      <th>6</th>\n",
       "      <td>CONNECTICUT</td>\n",
       "      <td>69835.752822</td>\n",
       "    </tr>\n",
       "    <tr>\n",
       "      <th>7</th>\n",
       "      <td>DISTRICTOFCOLUMBIA</td>\n",
       "      <td>69110.589982</td>\n",
       "    </tr>\n",
       "    <tr>\n",
       "      <th>8</th>\n",
       "      <td>DELAWARE</td>\n",
       "      <td>68441.900000</td>\n",
       "    </tr>\n",
       "    <tr>\n",
       "      <th>9</th>\n",
       "      <td>MASSACHUSETTS</td>\n",
       "      <td>67489.367624</td>\n",
       "    </tr>\n",
       "  </tbody>\n",
       "</table>\n",
       "</div>"
      ],
      "text/plain": [
       "                STATE  PREVAILING_WAGE\n",
       "0          WASHINGTON    245478.218959\n",
       "1          CALIFORNIA     86385.351073\n",
       "2           NEWMEXICO     76912.571429\n",
       "3           NEWJERSEY     73040.702769\n",
       "4            COLORADO     70742.028049\n",
       "5              ALASKA     69992.000000\n",
       "6         CONNECTICUT     69835.752822\n",
       "7  DISTRICTOFCOLUMBIA     69110.589982\n",
       "8            DELAWARE     68441.900000\n",
       "9       MASSACHUSETTS     67489.367624"
      ]
     },
     "execution_count": 13,
     "metadata": {},
     "output_type": "execute_result"
    }
   ],
   "source": [
    "result"
   ]
  },
  {
   "cell_type": "code",
   "execution_count": 17,
   "metadata": {
    "collapsed": false
   },
   "outputs": [
    {
     "data": {
      "text/html": [
       "<div>\n",
       "<table border=\"1\" class=\"dataframe\">\n",
       "  <thead>\n",
       "    <tr style=\"text-align: right;\">\n",
       "      <th></th>\n",
       "      <th>JOB_TITLE</th>\n",
       "    </tr>\n",
       "    <tr>\n",
       "      <th>JOB_TITLE</th>\n",
       "      <th></th>\n",
       "    </tr>\n",
       "  </thead>\n",
       "  <tbody>\n",
       "    <tr>\n",
       "      <th>PROGRAMMER ANALYST</th>\n",
       "      <td>31772</td>\n",
       "    </tr>\n",
       "    <tr>\n",
       "      <th>COMPUTER PROGRAMMER</th>\n",
       "      <td>11488</td>\n",
       "    </tr>\n",
       "    <tr>\n",
       "      <th>DEVELOPER</th>\n",
       "      <td>5348</td>\n",
       "    </tr>\n",
       "    <tr>\n",
       "      <th>COMPUTER PROGRAMMER ANALYST</th>\n",
       "      <td>1870</td>\n",
       "    </tr>\n",
       "    <tr>\n",
       "      <th>COMPUTER PROGRAMMER/CONFIGURER 2</th>\n",
       "      <td>1704</td>\n",
       "    </tr>\n",
       "    <tr>\n",
       "      <th>PROGRAMMER/ANALYST</th>\n",
       "      <td>1507</td>\n",
       "    </tr>\n",
       "    <tr>\n",
       "      <th>SOFTWARE ENGINEER</th>\n",
       "      <td>1085</td>\n",
       "    </tr>\n",
       "    <tr>\n",
       "      <th>APPLICATION DEVELOPER</th>\n",
       "      <td>1060</td>\n",
       "    </tr>\n",
       "    <tr>\n",
       "      <th>PROGRAMMER ANALYST - II</th>\n",
       "      <td>1003</td>\n",
       "    </tr>\n",
       "    <tr>\n",
       "      <th>SOFTWARE DEVELOPER</th>\n",
       "      <td>804</td>\n",
       "    </tr>\n",
       "  </tbody>\n",
       "</table>\n",
       "</div>"
      ],
      "text/plain": [
       "                                  JOB_TITLE\n",
       "JOB_TITLE                                  \n",
       "PROGRAMMER ANALYST                    31772\n",
       "COMPUTER PROGRAMMER                   11488\n",
       "DEVELOPER                              5348\n",
       "COMPUTER PROGRAMMER ANALYST            1870\n",
       "COMPUTER PROGRAMMER/CONFIGURER 2       1704\n",
       "PROGRAMMER/ANALYST                     1507\n",
       "SOFTWARE ENGINEER                      1085\n",
       "APPLICATION DEVELOPER                  1060\n",
       "PROGRAMMER ANALYST - II                1003\n",
       "SOFTWARE DEVELOPER                      804"
      ]
     },
     "execution_count": 17,
     "metadata": {},
     "output_type": "execute_result"
    }
   ],
   "source": [
    "#top 10 desginations under the domain as Computer Programmers\n",
    "data.groupby('JOB_TITLE')[['JOB_TITLE']].count().sort_values(by='JOB_TITLE',ascending=False).head(10)"
   ]
  },
  {
   "cell_type": "code",
   "execution_count": null,
   "metadata": {
    "collapsed": true
   },
   "outputs": [],
   "source": []
  },
  {
   "cell_type": "code",
   "execution_count": null,
   "metadata": {
    "collapsed": true
   },
   "outputs": [],
   "source": []
  }
 ],
 "metadata": {
  "anaconda-cloud": {},
  "kernelspec": {
   "display_name": "Python [conda root]",
   "language": "python",
   "name": "conda-root-py"
  },
  "language_info": {
   "codemirror_mode": {
    "name": "ipython",
    "version": 3
   },
   "file_extension": ".py",
   "mimetype": "text/x-python",
   "name": "python",
   "nbconvert_exporter": "python",
   "pygments_lexer": "ipython3",
   "version": "3.5.2"
  }
 },
 "nbformat": 4,
 "nbformat_minor": 2
}
