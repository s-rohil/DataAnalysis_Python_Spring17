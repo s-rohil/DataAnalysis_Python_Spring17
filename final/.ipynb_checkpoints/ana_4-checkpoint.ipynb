{
 "cells": [
  {
   "cell_type": "markdown",
   "metadata": {},
   "source": [
    "# Analysis 4\n",
    "- group by employers\n",
    "- highest H1B who submitted\n",
    "- finding the most important role(SOC_NAME) of the top company which applied for H1B\n",
    "- the location of the company which employs the most important role\n",
    "- the average wage of every job title under the role in that location"
   ]
  },
  {
   "cell_type": "code",
   "execution_count": 2,
   "metadata": {
    "collapsed": false
   },
   "outputs": [
    {
     "name": "stderr",
     "output_type": "stream",
     "text": [
      "/Users/kvs25/anaconda3/lib/python3.5/site-packages/numexpr/cpuinfo.py:53: UserWarning: [Errno 2] No such file or directory: 'arch'\n",
      "  stacklevel=stacklevel + 1)\n",
      "/Users/kvs25/anaconda3/lib/python3.5/site-packages/numexpr/cpuinfo.py:53: UserWarning: [Errno 2] No such file or directory: 'machine'\n",
      "  stacklevel=stacklevel + 1)\n",
      "/Users/kvs25/anaconda3/lib/python3.5/site-packages/numexpr/cpuinfo.py:76: UserWarning: [Errno 2] No such file or directory: 'sysctl'\n",
      "  stacklevel=stacklevel + 1):\n"
     ]
    }
   ],
   "source": [
    "import pandas as pd\n",
    "import numpy as np\n",
    "import os\n",
    "import datetime\n",
    "import seaborn as sns\n",
    "import matplotlib as mpl\n",
    "import matplotlib.pyplot as plt\n",
    "%matplotlib inline"
   ]
  },
  {
   "cell_type": "code",
   "execution_count": 3,
   "metadata": {
    "collapsed": true
   },
   "outputs": [],
   "source": [
    "df = pd.read_csv('data/H1B_petition_dataset.csv', encoding = \"ISO-8859-1\")"
   ]
  },
  {
   "cell_type": "code",
   "execution_count": 4,
   "metadata": {
    "collapsed": false
   },
   "outputs": [
    {
     "data": {
      "text/html": [
       "<div>\n",
       "<table border=\"1\" class=\"dataframe\">\n",
       "  <thead>\n",
       "    <tr style=\"text-align: right;\">\n",
       "      <th></th>\n",
       "      <th>CASE_STATUS</th>\n",
       "    </tr>\n",
       "    <tr>\n",
       "      <th>EMPLOYER_NAME</th>\n",
       "      <th></th>\n",
       "    </tr>\n",
       "  </thead>\n",
       "  <tbody>\n",
       "    <tr>\n",
       "      <th>INFOSYS LIMITED</th>\n",
       "      <td>25352</td>\n",
       "    </tr>\n",
       "    <tr>\n",
       "      <th>CAPGEMINI AMERICA INC</th>\n",
       "      <td>16725</td>\n",
       "    </tr>\n",
       "    <tr>\n",
       "      <th>TATA CONSULTANCY SERVICES LIMITED</th>\n",
       "      <td>13134</td>\n",
       "    </tr>\n",
       "    <tr>\n",
       "      <th>WIPRO LIMITED</th>\n",
       "      <td>10607</td>\n",
       "    </tr>\n",
       "    <tr>\n",
       "      <th>IBM INDIA PRIVATE LIMITED</th>\n",
       "      <td>9787</td>\n",
       "    </tr>\n",
       "    <tr>\n",
       "      <th>ACCENTURE LLP</th>\n",
       "      <td>9477</td>\n",
       "    </tr>\n",
       "    <tr>\n",
       "      <th>DELOITTE CONSULTING LLP</th>\n",
       "      <td>7646</td>\n",
       "    </tr>\n",
       "    <tr>\n",
       "      <th>TECH MAHINDRA (AMERICAS),INC.</th>\n",
       "      <td>6745</td>\n",
       "    </tr>\n",
       "    <tr>\n",
       "      <th>COGNIZANT TECHNOLOGY SOLUTIONS U.S. CORPORATION</th>\n",
       "      <td>5370</td>\n",
       "    </tr>\n",
       "    <tr>\n",
       "      <th>MICROSOFT CORPORATION</th>\n",
       "      <td>5029</td>\n",
       "    </tr>\n",
       "    <tr>\n",
       "      <th>HCL AMERICA, INC.</th>\n",
       "      <td>4931</td>\n",
       "    </tr>\n",
       "    <tr>\n",
       "      <th>GOOGLE INC.</th>\n",
       "      <td>4785</td>\n",
       "    </tr>\n",
       "    <tr>\n",
       "      <th>ERNST &amp; YOUNG U.S. LLP</th>\n",
       "      <td>4511</td>\n",
       "    </tr>\n",
       "    <tr>\n",
       "      <th>IBM CORPORATION</th>\n",
       "      <td>2571</td>\n",
       "    </tr>\n",
       "    <tr>\n",
       "      <th>AMAZON CORPORATE LLC</th>\n",
       "      <td>2547</td>\n",
       "    </tr>\n",
       "  </tbody>\n",
       "</table>\n",
       "</div>"
      ],
      "text/plain": [
       "                                                 CASE_STATUS\n",
       "EMPLOYER_NAME                                               \n",
       "INFOSYS LIMITED                                        25352\n",
       "CAPGEMINI AMERICA INC                                  16725\n",
       "TATA CONSULTANCY SERVICES LIMITED                      13134\n",
       "WIPRO LIMITED                                          10607\n",
       "IBM INDIA PRIVATE LIMITED                               9787\n",
       "ACCENTURE LLP                                           9477\n",
       "DELOITTE CONSULTING LLP                                 7646\n",
       "TECH MAHINDRA (AMERICAS),INC.                           6745\n",
       "COGNIZANT TECHNOLOGY SOLUTIONS U.S. CORPORATION         5370\n",
       "MICROSOFT CORPORATION                                   5029\n",
       "HCL AMERICA, INC.                                       4931\n",
       "GOOGLE INC.                                             4785\n",
       "ERNST & YOUNG U.S. LLP                                  4511\n",
       "IBM CORPORATION                                         2571\n",
       "AMAZON CORPORATE LLC                                    2547"
      ]
     },
     "execution_count": 4,
     "metadata": {},
     "output_type": "execute_result"
    }
   ],
   "source": [
    "df.groupby('EMPLOYER_NAME')[['CASE_STATUS']].count().sort_values(by=['CASE_STATUS'],ascending=False).head(15)"
   ]
  },
  {
   "cell_type": "code",
   "execution_count": 5,
   "metadata": {
    "collapsed": false
   },
   "outputs": [],
   "source": [
    "data=df[df.EMPLOYER_NAME=='INFOSYS LIMITED']"
   ]
  },
  {
   "cell_type": "code",
   "execution_count": 6,
   "metadata": {
    "collapsed": false
   },
   "outputs": [
    {
     "data": {
      "text/html": [
       "<div>\n",
       "<table border=\"1\" class=\"dataframe\">\n",
       "  <thead>\n",
       "    <tr style=\"text-align: right;\">\n",
       "      <th></th>\n",
       "      <th>CASE_STATUS</th>\n",
       "      <th>EMPLOYER_NAME</th>\n",
       "      <th>SOC_NAME</th>\n",
       "      <th>JOB_TITLE</th>\n",
       "      <th>FULL_TIME_POSITION</th>\n",
       "      <th>PREVAILING_WAGE</th>\n",
       "      <th>YEAR</th>\n",
       "      <th>WORKSITE</th>\n",
       "      <th>STATE</th>\n",
       "      <th>lon</th>\n",
       "      <th>lat</th>\n",
       "    </tr>\n",
       "  </thead>\n",
       "  <tbody>\n",
       "    <tr>\n",
       "      <th>16788</th>\n",
       "      <td>CERTIFIED</td>\n",
       "      <td>INFOSYS LIMITED</td>\n",
       "      <td>MANAGEMENT ANALYSTS</td>\n",
       "      <td>PRINCIPAL  BUSINESS CONSULTING</td>\n",
       "      <td>Y</td>\n",
       "      <td>130624.0</td>\n",
       "      <td>2016</td>\n",
       "      <td>REDMOND</td>\n",
       "      <td>WASHINGTON</td>\n",
       "      <td>-122.121512</td>\n",
       "      <td>47.673988</td>\n",
       "    </tr>\n",
       "    <tr>\n",
       "      <th>16803</th>\n",
       "      <td>CERTIFIED</td>\n",
       "      <td>INFOSYS LIMITED</td>\n",
       "      <td>MANAGEMENT ANALYSTS</td>\n",
       "      <td>PRINCIPAL CONSULTANT - US</td>\n",
       "      <td>Y</td>\n",
       "      <td>130624.0</td>\n",
       "      <td>2016</td>\n",
       "      <td>SEATTLE</td>\n",
       "      <td>WASHINGTON</td>\n",
       "      <td>-122.332071</td>\n",
       "      <td>47.606209</td>\n",
       "    </tr>\n",
       "    <tr>\n",
       "      <th>16811</th>\n",
       "      <td>CERTIFIED</td>\n",
       "      <td>INFOSYS LIMITED</td>\n",
       "      <td>MANAGEMENT ANALYSTS</td>\n",
       "      <td>PRINCIPAL BUSINESS CONSULTING</td>\n",
       "      <td>Y</td>\n",
       "      <td>130624.0</td>\n",
       "      <td>2016</td>\n",
       "      <td>REDMOND</td>\n",
       "      <td>WASHINGTON</td>\n",
       "      <td>-122.121512</td>\n",
       "      <td>47.673988</td>\n",
       "    </tr>\n",
       "    <tr>\n",
       "      <th>16921</th>\n",
       "      <td>CERTIFIED</td>\n",
       "      <td>INFOSYS LIMITED</td>\n",
       "      <td>MANAGEMENT ANALYST</td>\n",
       "      <td>PRINCIPAL CONSULTANT - US - PROFESSIONAL</td>\n",
       "      <td>Y</td>\n",
       "      <td>130624.0</td>\n",
       "      <td>2016</td>\n",
       "      <td>ISSAQUAH</td>\n",
       "      <td>WASHINGTON</td>\n",
       "      <td>-122.032619</td>\n",
       "      <td>47.530101</td>\n",
       "    </tr>\n",
       "    <tr>\n",
       "      <th>26533</th>\n",
       "      <td>CERTIFIED</td>\n",
       "      <td>INFOSYS LIMITED</td>\n",
       "      <td>MANAGEMENT ANALYSTS</td>\n",
       "      <td>PRINCIPAL CONSULTANT - US</td>\n",
       "      <td>Y</td>\n",
       "      <td>124571.0</td>\n",
       "      <td>2016</td>\n",
       "      <td>SEATTLE</td>\n",
       "      <td>WASHINGTON</td>\n",
       "      <td>-122.332071</td>\n",
       "      <td>47.606209</td>\n",
       "    </tr>\n",
       "  </tbody>\n",
       "</table>\n",
       "</div>"
      ],
      "text/plain": [
       "      CASE_STATUS    EMPLOYER_NAME             SOC_NAME  \\\n",
       "16788   CERTIFIED  INFOSYS LIMITED  MANAGEMENT ANALYSTS   \n",
       "16803   CERTIFIED  INFOSYS LIMITED  MANAGEMENT ANALYSTS   \n",
       "16811   CERTIFIED  INFOSYS LIMITED  MANAGEMENT ANALYSTS   \n",
       "16921   CERTIFIED  INFOSYS LIMITED   MANAGEMENT ANALYST   \n",
       "26533   CERTIFIED  INFOSYS LIMITED  MANAGEMENT ANALYSTS   \n",
       "\n",
       "                                      JOB_TITLE FULL_TIME_POSITION  \\\n",
       "16788            PRINCIPAL  BUSINESS CONSULTING                  Y   \n",
       "16803                 PRINCIPAL CONSULTANT - US                  Y   \n",
       "16811             PRINCIPAL BUSINESS CONSULTING                  Y   \n",
       "16921  PRINCIPAL CONSULTANT - US - PROFESSIONAL                  Y   \n",
       "26533                 PRINCIPAL CONSULTANT - US                  Y   \n",
       "\n",
       "       PREVAILING_WAGE  YEAR  WORKSITE       STATE         lon        lat  \n",
       "16788         130624.0  2016   REDMOND  WASHINGTON -122.121512  47.673988  \n",
       "16803         130624.0  2016   SEATTLE  WASHINGTON -122.332071  47.606209  \n",
       "16811         130624.0  2016   REDMOND  WASHINGTON -122.121512  47.673988  \n",
       "16921         130624.0  2016  ISSAQUAH  WASHINGTON -122.032619  47.530101  \n",
       "26533         124571.0  2016   SEATTLE  WASHINGTON -122.332071  47.606209  "
      ]
     },
     "execution_count": 6,
     "metadata": {},
     "output_type": "execute_result"
    }
   ],
   "source": [
    "data.head()"
   ]
  },
  {
   "cell_type": "code",
   "execution_count": 13,
   "metadata": {
    "collapsed": false
   },
   "outputs": [],
   "source": [
    "temp=data.groupby('SOC_NAME')[['CASE_STATUS']].count().sort_values(by=['CASE_STATUS'],ascending=False).head(10)"
   ]
  },
  {
   "cell_type": "code",
   "execution_count": 15,
   "metadata": {
    "collapsed": false
   },
   "outputs": [],
   "source": [
    "temp= temp.reset_index(level=0,drop=False)"
   ]
  },
  {
   "cell_type": "code",
   "execution_count": 15,
   "metadata": {
    "collapsed": true
   },
   "outputs": [],
   "source": [
    "new_data=data[data.SOC_NAME.str.contains('COMPUTER SYSTEMS ANALYST')]"
   ]
  },
  {
   "cell_type": "code",
   "execution_count": 17,
   "metadata": {
    "collapsed": false
   },
   "outputs": [
    {
     "data": {
      "text/html": [
       "<div>\n",
       "<table border=\"1\" class=\"dataframe\">\n",
       "  <thead>\n",
       "    <tr style=\"text-align: right;\">\n",
       "      <th></th>\n",
       "      <th>CASE_STATUS</th>\n",
       "      <th>EMPLOYER_NAME</th>\n",
       "      <th>SOC_NAME</th>\n",
       "      <th>JOB_TITLE</th>\n",
       "      <th>FULL_TIME_POSITION</th>\n",
       "      <th>PREVAILING_WAGE</th>\n",
       "      <th>YEAR</th>\n",
       "      <th>WORKSITE</th>\n",
       "      <th>STATE</th>\n",
       "      <th>lon</th>\n",
       "      <th>lat</th>\n",
       "    </tr>\n",
       "  </thead>\n",
       "  <tbody>\n",
       "    <tr>\n",
       "      <th>84660</th>\n",
       "      <td>CERTIFIED</td>\n",
       "      <td>INFOSYS LIMITED</td>\n",
       "      <td>COMPUTER SYSTEMS ANALYSTS</td>\n",
       "      <td>TECHNOLOGY LEAD - US</td>\n",
       "      <td>Y</td>\n",
       "      <td>74443.0</td>\n",
       "      <td>2016</td>\n",
       "      <td>HILLSBORO</td>\n",
       "      <td>OREGON</td>\n",
       "      <td>-122.989827</td>\n",
       "      <td>45.522894</td>\n",
       "    </tr>\n",
       "    <tr>\n",
       "      <th>84664</th>\n",
       "      <td>CERTIFIED</td>\n",
       "      <td>INFOSYS LIMITED</td>\n",
       "      <td>COMPUTER SYSTEMS ANALYSTS</td>\n",
       "      <td>TECHNOLOGY ANALYST - US</td>\n",
       "      <td>N</td>\n",
       "      <td>62462.0</td>\n",
       "      <td>2016</td>\n",
       "      <td>EAST HANOVER</td>\n",
       "      <td>NEWJERSEY</td>\n",
       "      <td>-74.364725</td>\n",
       "      <td>40.820062</td>\n",
       "    </tr>\n",
       "    <tr>\n",
       "      <th>84667</th>\n",
       "      <td>CERTIFIED</td>\n",
       "      <td>INFOSYS LIMITED</td>\n",
       "      <td>COMPUTER SYSTEMS ANALYSTS</td>\n",
       "      <td>TECHNOLOGY ANALYST - US</td>\n",
       "      <td>N</td>\n",
       "      <td>46301.0</td>\n",
       "      <td>2016</td>\n",
       "      <td>CRANSTON</td>\n",
       "      <td>RHODEISLAND</td>\n",
       "      <td>-71.437280</td>\n",
       "      <td>41.779823</td>\n",
       "    </tr>\n",
       "    <tr>\n",
       "      <th>84673</th>\n",
       "      <td>CERTIFIED</td>\n",
       "      <td>INFOSYS LIMITED</td>\n",
       "      <td>COMPUTER SYSTEMS ANALYSTS</td>\n",
       "      <td>PROJECT MANAGER - US</td>\n",
       "      <td>Y</td>\n",
       "      <td>100755.0</td>\n",
       "      <td>2016</td>\n",
       "      <td>NEW YORK</td>\n",
       "      <td>NEWYORK</td>\n",
       "      <td>-74.005941</td>\n",
       "      <td>40.712784</td>\n",
       "    </tr>\n",
       "    <tr>\n",
       "      <th>84677</th>\n",
       "      <td>CERTIFIED</td>\n",
       "      <td>INFOSYS LIMITED</td>\n",
       "      <td>COMPUTER SYSTEMS ANALYSTS</td>\n",
       "      <td>TECHNOLOGY LEAD - US</td>\n",
       "      <td>N</td>\n",
       "      <td>57824.0</td>\n",
       "      <td>2016</td>\n",
       "      <td>FORT WAYNE</td>\n",
       "      <td>INDIANA</td>\n",
       "      <td>-85.139351</td>\n",
       "      <td>41.079273</td>\n",
       "    </tr>\n",
       "  </tbody>\n",
       "</table>\n",
       "</div>"
      ],
      "text/plain": [
       "      CASE_STATUS    EMPLOYER_NAME                   SOC_NAME  \\\n",
       "84660   CERTIFIED  INFOSYS LIMITED  COMPUTER SYSTEMS ANALYSTS   \n",
       "84664   CERTIFIED  INFOSYS LIMITED  COMPUTER SYSTEMS ANALYSTS   \n",
       "84667   CERTIFIED  INFOSYS LIMITED  COMPUTER SYSTEMS ANALYSTS   \n",
       "84673   CERTIFIED  INFOSYS LIMITED  COMPUTER SYSTEMS ANALYSTS   \n",
       "84677   CERTIFIED  INFOSYS LIMITED  COMPUTER SYSTEMS ANALYSTS   \n",
       "\n",
       "                     JOB_TITLE FULL_TIME_POSITION  PREVAILING_WAGE  YEAR  \\\n",
       "84660     TECHNOLOGY LEAD - US                  Y          74443.0  2016   \n",
       "84664  TECHNOLOGY ANALYST - US                  N          62462.0  2016   \n",
       "84667  TECHNOLOGY ANALYST - US                  N          46301.0  2016   \n",
       "84673     PROJECT MANAGER - US                  Y         100755.0  2016   \n",
       "84677     TECHNOLOGY LEAD - US                  N          57824.0  2016   \n",
       "\n",
       "           WORKSITE        STATE         lon        lat  \n",
       "84660     HILLSBORO       OREGON -122.989827  45.522894  \n",
       "84664  EAST HANOVER    NEWJERSEY  -74.364725  40.820062  \n",
       "84667      CRANSTON  RHODEISLAND  -71.437280  41.779823  \n",
       "84673      NEW YORK      NEWYORK  -74.005941  40.712784  \n",
       "84677    FORT WAYNE      INDIANA  -85.139351  41.079273  "
      ]
     },
     "execution_count": 17,
     "metadata": {},
     "output_type": "execute_result"
    }
   ],
   "source": [
    "new_data.head()"
   ]
  },
  {
   "cell_type": "code",
   "execution_count": 18,
   "metadata": {
    "collapsed": false
   },
   "outputs": [
    {
     "data": {
      "text/plain": [
       "(17160, 11)"
      ]
     },
     "execution_count": 18,
     "metadata": {},
     "output_type": "execute_result"
    }
   ],
   "source": [
    "new_data.shape"
   ]
  },
  {
   "cell_type": "code",
   "execution_count": 24,
   "metadata": {
    "collapsed": false
   },
   "outputs": [
    {
     "data": {
      "text/html": [
       "<div>\n",
       "<table border=\"1\" class=\"dataframe\">\n",
       "  <thead>\n",
       "    <tr style=\"text-align: right;\">\n",
       "      <th></th>\n",
       "      <th></th>\n",
       "      <th>CASE_STATUS</th>\n",
       "    </tr>\n",
       "    <tr>\n",
       "      <th>STATE</th>\n",
       "      <th>WORKSITE</th>\n",
       "      <th></th>\n",
       "    </tr>\n",
       "  </thead>\n",
       "  <tbody>\n",
       "    <tr>\n",
       "      <th>CALIFORNIA</th>\n",
       "      <th>SUNNYVALE</th>\n",
       "      <td>878</td>\n",
       "    </tr>\n",
       "    <tr>\n",
       "      <th>ARIZONA</th>\n",
       "      <th>PHOENIX</th>\n",
       "      <td>834</td>\n",
       "    </tr>\n",
       "    <tr>\n",
       "      <th>NORTHCAROLINA</th>\n",
       "      <th>CHARLOTTE</th>\n",
       "      <td>828</td>\n",
       "    </tr>\n",
       "    <tr>\n",
       "      <th>GEORGIA</th>\n",
       "      <th>ATLANTA</th>\n",
       "      <td>516</td>\n",
       "    </tr>\n",
       "    <tr>\n",
       "      <th>TEXAS</th>\n",
       "      <th>HOUSTON</th>\n",
       "      <td>468</td>\n",
       "    </tr>\n",
       "  </tbody>\n",
       "</table>\n",
       "</div>"
      ],
      "text/plain": [
       "                         CASE_STATUS\n",
       "STATE         WORKSITE              \n",
       "CALIFORNIA    SUNNYVALE          878\n",
       "ARIZONA       PHOENIX            834\n",
       "NORTHCAROLINA CHARLOTTE          828\n",
       "GEORGIA       ATLANTA            516\n",
       "TEXAS         HOUSTON            468"
      ]
     },
     "execution_count": 24,
     "metadata": {},
     "output_type": "execute_result"
    }
   ],
   "source": [
    "new_data.groupby(['STATE','WORKSITE'])[['CASE_STATUS']].count().sort_values(by=['CASE_STATUS'],ascending=False).head()"
   ]
  },
  {
   "cell_type": "code",
   "execution_count": 26,
   "metadata": {
    "collapsed": false
   },
   "outputs": [
    {
     "name": "stderr",
     "output_type": "stream",
     "text": [
      "/Users/kvs25/anaconda3/lib/python3.5/site-packages/ipykernel/__main__.py:1: UserWarning: Boolean Series key will be reindexed to match DataFrame index.\n",
      "  if __name__ == '__main__':\n"
     ]
    }
   ],
   "source": [
    "output=new_data[new_data.STATE=='CALIFORNIA'][new_data.WORKSITE=='SUNNYVALE']"
   ]
  },
  {
   "cell_type": "code",
   "execution_count": 28,
   "metadata": {
    "collapsed": false
   },
   "outputs": [
    {
     "data": {
      "text/html": [
       "<div>\n",
       "<table border=\"1\" class=\"dataframe\">\n",
       "  <thead>\n",
       "    <tr style=\"text-align: right;\">\n",
       "      <th></th>\n",
       "      <th>CASE_STATUS</th>\n",
       "      <th>EMPLOYER_NAME</th>\n",
       "      <th>SOC_NAME</th>\n",
       "      <th>JOB_TITLE</th>\n",
       "      <th>FULL_TIME_POSITION</th>\n",
       "      <th>PREVAILING_WAGE</th>\n",
       "      <th>YEAR</th>\n",
       "      <th>WORKSITE</th>\n",
       "      <th>STATE</th>\n",
       "      <th>lon</th>\n",
       "      <th>lat</th>\n",
       "    </tr>\n",
       "  </thead>\n",
       "  <tbody>\n",
       "    <tr>\n",
       "      <th>84678</th>\n",
       "      <td>CERTIFIED</td>\n",
       "      <td>INFOSYS LIMITED</td>\n",
       "      <td>COMPUTER SYSTEMS ANALYSTS</td>\n",
       "      <td>TECHNOLOGY LEAD - US</td>\n",
       "      <td>Y</td>\n",
       "      <td>89149.0</td>\n",
       "      <td>2016</td>\n",
       "      <td>SUNNYVALE</td>\n",
       "      <td>CALIFORNIA</td>\n",
       "      <td>-122.03635</td>\n",
       "      <td>37.36883</td>\n",
       "    </tr>\n",
       "    <tr>\n",
       "      <th>84702</th>\n",
       "      <td>CERTIFIED</td>\n",
       "      <td>INFOSYS LIMITED</td>\n",
       "      <td>COMPUTER SYSTEMS ANALYSTS</td>\n",
       "      <td>TECHNOLOGY LEAD - US</td>\n",
       "      <td>Y</td>\n",
       "      <td>89149.0</td>\n",
       "      <td>2016</td>\n",
       "      <td>SUNNYVALE</td>\n",
       "      <td>CALIFORNIA</td>\n",
       "      <td>-122.03635</td>\n",
       "      <td>37.36883</td>\n",
       "    </tr>\n",
       "    <tr>\n",
       "      <th>84750</th>\n",
       "      <td>CERTIFIED</td>\n",
       "      <td>INFOSYS LIMITED</td>\n",
       "      <td>COMPUTER SYSTEMS ANALYSTS</td>\n",
       "      <td>LEAD CONSULTANT - US</td>\n",
       "      <td>Y</td>\n",
       "      <td>108493.0</td>\n",
       "      <td>2016</td>\n",
       "      <td>SUNNYVALE</td>\n",
       "      <td>CALIFORNIA</td>\n",
       "      <td>-122.03635</td>\n",
       "      <td>37.36883</td>\n",
       "    </tr>\n",
       "    <tr>\n",
       "      <th>84873</th>\n",
       "      <td>CERTIFIED</td>\n",
       "      <td>INFOSYS LIMITED</td>\n",
       "      <td>COMPUTER SYSTEMS ANALYSTS</td>\n",
       "      <td>TECHNOLOGY ANALYST - US</td>\n",
       "      <td>N</td>\n",
       "      <td>69805.0</td>\n",
       "      <td>2016</td>\n",
       "      <td>SUNNYVALE</td>\n",
       "      <td>CALIFORNIA</td>\n",
       "      <td>-122.03635</td>\n",
       "      <td>37.36883</td>\n",
       "    </tr>\n",
       "    <tr>\n",
       "      <th>84886</th>\n",
       "      <td>CERTIFIED</td>\n",
       "      <td>INFOSYS LIMITED</td>\n",
       "      <td>COMPUTER SYSTEMS ANALYSTS</td>\n",
       "      <td>TECHNOLOGY LEAD - US</td>\n",
       "      <td>Y</td>\n",
       "      <td>89149.0</td>\n",
       "      <td>2016</td>\n",
       "      <td>SUNNYVALE</td>\n",
       "      <td>CALIFORNIA</td>\n",
       "      <td>-122.03635</td>\n",
       "      <td>37.36883</td>\n",
       "    </tr>\n",
       "  </tbody>\n",
       "</table>\n",
       "</div>"
      ],
      "text/plain": [
       "      CASE_STATUS    EMPLOYER_NAME                   SOC_NAME  \\\n",
       "84678   CERTIFIED  INFOSYS LIMITED  COMPUTER SYSTEMS ANALYSTS   \n",
       "84702   CERTIFIED  INFOSYS LIMITED  COMPUTER SYSTEMS ANALYSTS   \n",
       "84750   CERTIFIED  INFOSYS LIMITED  COMPUTER SYSTEMS ANALYSTS   \n",
       "84873   CERTIFIED  INFOSYS LIMITED  COMPUTER SYSTEMS ANALYSTS   \n",
       "84886   CERTIFIED  INFOSYS LIMITED  COMPUTER SYSTEMS ANALYSTS   \n",
       "\n",
       "                     JOB_TITLE FULL_TIME_POSITION  PREVAILING_WAGE  YEAR  \\\n",
       "84678     TECHNOLOGY LEAD - US                  Y          89149.0  2016   \n",
       "84702     TECHNOLOGY LEAD - US                  Y          89149.0  2016   \n",
       "84750     LEAD CONSULTANT - US                  Y         108493.0  2016   \n",
       "84873  TECHNOLOGY ANALYST - US                  N          69805.0  2016   \n",
       "84886     TECHNOLOGY LEAD - US                  Y          89149.0  2016   \n",
       "\n",
       "        WORKSITE       STATE        lon       lat  \n",
       "84678  SUNNYVALE  CALIFORNIA -122.03635  37.36883  \n",
       "84702  SUNNYVALE  CALIFORNIA -122.03635  37.36883  \n",
       "84750  SUNNYVALE  CALIFORNIA -122.03635  37.36883  \n",
       "84873  SUNNYVALE  CALIFORNIA -122.03635  37.36883  \n",
       "84886  SUNNYVALE  CALIFORNIA -122.03635  37.36883  "
      ]
     },
     "execution_count": 28,
     "metadata": {},
     "output_type": "execute_result"
    }
   ],
   "source": [
    "output.head()"
   ]
  },
  {
   "cell_type": "code",
   "execution_count": 33,
   "metadata": {
    "collapsed": false
   },
   "outputs": [
    {
     "data": {
      "text/html": [
       "<div>\n",
       "<table border=\"1\" class=\"dataframe\">\n",
       "  <thead>\n",
       "    <tr style=\"text-align: right;\">\n",
       "      <th></th>\n",
       "      <th>PREVAILING_WAGE</th>\n",
       "    </tr>\n",
       "    <tr>\n",
       "      <th>JOB_TITLE</th>\n",
       "      <th></th>\n",
       "    </tr>\n",
       "  </thead>\n",
       "  <tbody>\n",
       "    <tr>\n",
       "      <th>LEAD CONSULTANT - US - PRACTITIONER</th>\n",
       "      <td>114795.000000</td>\n",
       "    </tr>\n",
       "    <tr>\n",
       "      <th>LEAD CONSULTANT - US - PROFESSIONAL</th>\n",
       "      <td>114795.000000</td>\n",
       "    </tr>\n",
       "    <tr>\n",
       "      <th>PROJECT MANAGER - US - PRACTITIONER</th>\n",
       "      <td>114795.000000</td>\n",
       "    </tr>\n",
       "    <tr>\n",
       "      <th>PROJECT MANAGER - US</th>\n",
       "      <td>108886.875000</td>\n",
       "    </tr>\n",
       "    <tr>\n",
       "      <th>LEAD CONSULTANT - US</th>\n",
       "      <td>108509.102041</td>\n",
       "    </tr>\n",
       "    <tr>\n",
       "      <th>TECHNOLOGY LEAD - US - PROFESSIONAL</th>\n",
       "      <td>94619.000000</td>\n",
       "    </tr>\n",
       "    <tr>\n",
       "      <th>CONSULTANT - US - PRACTITIONER</th>\n",
       "      <td>94619.000000</td>\n",
       "    </tr>\n",
       "    <tr>\n",
       "      <th>CONSULTANT - US - PROFESSIONAL</th>\n",
       "      <td>94619.000000</td>\n",
       "    </tr>\n",
       "    <tr>\n",
       "      <th>TECHNOLOGY LEAD - US - PRACTITIONER</th>\n",
       "      <td>94619.000000</td>\n",
       "    </tr>\n",
       "    <tr>\n",
       "      <th>CONSULTANT - US</th>\n",
       "      <td>89678.354839</td>\n",
       "    </tr>\n",
       "    <tr>\n",
       "      <th>PRODUCTION SUPPORT LEAD - US</th>\n",
       "      <td>89452.888889</td>\n",
       "    </tr>\n",
       "    <tr>\n",
       "      <th>TECHNOLOGY LEAD - US</th>\n",
       "      <td>89442.035714</td>\n",
       "    </tr>\n",
       "    <tr>\n",
       "      <th>PRODUCT TECHNICAL LEAD - US</th>\n",
       "      <td>89149.000000</td>\n",
       "    </tr>\n",
       "    <tr>\n",
       "      <th>ASSOCIATE CONSULTANT - US - PRACTITIONER</th>\n",
       "      <td>74443.000000</td>\n",
       "    </tr>\n",
       "    <tr>\n",
       "      <th>TECHNOLOGY ANALYST - US - PRACTITIONER</th>\n",
       "      <td>74443.000000</td>\n",
       "    </tr>\n",
       "    <tr>\n",
       "      <th>PRODUCTION SUPPORT ANALYST - US</th>\n",
       "      <td>70161.769231</td>\n",
       "    </tr>\n",
       "    <tr>\n",
       "      <th>ASSOCIATE CONSULTANT - US</th>\n",
       "      <td>69895.941176</td>\n",
       "    </tr>\n",
       "    <tr>\n",
       "      <th>TECHNOLOGY ANALYST - US</th>\n",
       "      <td>69851.691275</td>\n",
       "    </tr>\n",
       "  </tbody>\n",
       "</table>\n",
       "</div>"
      ],
      "text/plain": [
       "                                          PREVAILING_WAGE\n",
       "JOB_TITLE                                                \n",
       "LEAD CONSULTANT - US - PRACTITIONER         114795.000000\n",
       "LEAD CONSULTANT - US - PROFESSIONAL         114795.000000\n",
       "PROJECT MANAGER - US - PRACTITIONER         114795.000000\n",
       "PROJECT MANAGER - US                        108886.875000\n",
       "LEAD CONSULTANT - US                        108509.102041\n",
       "TECHNOLOGY LEAD - US - PROFESSIONAL          94619.000000\n",
       "CONSULTANT - US - PRACTITIONER               94619.000000\n",
       "CONSULTANT - US - PROFESSIONAL               94619.000000\n",
       "TECHNOLOGY LEAD - US - PRACTITIONER          94619.000000\n",
       "CONSULTANT - US                              89678.354839\n",
       "PRODUCTION SUPPORT LEAD - US                 89452.888889\n",
       "TECHNOLOGY LEAD - US                         89442.035714\n",
       "PRODUCT TECHNICAL LEAD - US                  89149.000000\n",
       "ASSOCIATE CONSULTANT - US - PRACTITIONER     74443.000000\n",
       "TECHNOLOGY ANALYST - US - PRACTITIONER       74443.000000\n",
       "PRODUCTION SUPPORT ANALYST - US              70161.769231\n",
       "ASSOCIATE CONSULTANT - US                    69895.941176\n",
       "TECHNOLOGY ANALYST - US                      69851.691275"
      ]
     },
     "execution_count": 33,
     "metadata": {},
     "output_type": "execute_result"
    }
   ],
   "source": [
    "output.groupby(['JOB_TITLE'])[['PREVAILING_WAGE']].mean().sort_values(by=['PREVAILING_WAGE'],ascending=False)"
   ]
  },
  {
   "cell_type": "code",
   "execution_count": 34,
   "metadata": {
    "collapsed": true
   },
   "outputs": [],
   "source": [
    "#draw graph of either the employer_name with count of their h1b petitions or mean salaries of several roles under Infosys"
   ]
  },
  {
   "cell_type": "code",
   "execution_count": 56,
   "metadata": {
    "collapsed": false
   },
   "outputs": [
    {
     "name": "stderr",
     "output_type": "stream",
     "text": [
      "/Users/kvs25/anaconda3/lib/python3.5/site-packages/matplotlib/axes/_axes.py:504: UserWarning: You have mixed positional and keyword arguments, some input will be discarded.\n",
      "  warnings.warn(\"You have mixed positional and keyword \"\n"
     ]
    },
    {
     "data": {
      "text/plain": [
       "<matplotlib.legend.Legend at 0x11b3bc2b0>"
      ]
     },
     "execution_count": 56,
     "metadata": {},
     "output_type": "execute_result"
    },
    {
     "data": {
      "image/png": "[encoded data removed]",
      "text/plain": [
       "<matplotlib.figure.Figure at 0x119cb57b8>"
      ]
     },
     "metadata": {},
     "output_type": "display_data"
    }
   ],
   "source": [
    "#plotting the ratio of jobs in Infosys Limited\n",
    "colors = ['yellowgreen','red','gold','lightskyblue','violet','lightcoral','blue','pink', 'darkgreen','orange']\n",
    "explode = (0.01, 0.02, 0.03, 0.04,0.05,0.06,0.07,0.08,0.09,0.1)\n",
    "temp.plot.pie(y='CASE_STATUS',colors=colors,explode=explode,shadow =True,pctdistance=1.5,use_index=False,labels=None,autopct='%1.1f%%',startangle=270,legend=False,title='Top 10 Job Titles in INFOSYS LIMITED')\n",
    "plt.legend(temp, labels=temp.SOC_NAME.unique(), loc='best', bbox_to_anchor=(-0.1, 1.),\n",
    "           fontsize=8)"
   ]
  },
  {
   "cell_type": "code",
   "execution_count": null,
   "metadata": {
    "collapsed": true
   },
   "outputs": [],
   "source": []
  }
 ],
 "metadata": {
  "anaconda-cloud": {},
  "kernelspec": {
   "display_name": "Python [conda root]",
   "language": "python",
   "name": "conda-root-py"
  },
  "language_info": {
   "codemirror_mode": {
    "name": "ipython",
    "version": 3
   },
   "file_extension": ".py",
   "mimetype": "text/x-python",
   "name": "python",
   "nbconvert_exporter": "python",
   "pygments_lexer": "ipython3",
   "version": "3.5.2"
  }
 },
 "nbformat": 4,
 "nbformat_minor": 2
}
