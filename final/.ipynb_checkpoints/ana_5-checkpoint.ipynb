{
 "cells": [
  {
   "cell_type": "markdown",
   "metadata": {},
   "source": [
    "# Analysis 5:\n",
    "- Analyzing only the petitions considered for full time positions\n",
    "- Finding the state with the highest number of H1B petitions\n",
    "- Out of the top state, finding the worksite with the highest count of H1B petitions\n",
    "- \n",
    "- Determining the Job title with the most number of H1B petitions.\n",
    "- Finding the statewise count of the petitions of that Job title"
   ]
  },
  {
   "cell_type": "code",
   "execution_count": 47,
   "metadata": {
    "collapsed": false
   },
   "outputs": [],
   "source": [
    "import pandas as pd\n",
    "import numpy as np\n",
    "import os\n",
    "import datetime\n",
    "import matplotlib.pyplot as plt\n",
    "import seaborn as sns\n",
    "%matplotlib inline"
   ]
  },
  {
   "cell_type": "code",
   "execution_count": 48,
   "metadata": {
    "collapsed": false
   },
   "outputs": [],
   "source": [
    "df = pd.read_csv('data/H1B_petition_dataset.csv', encoding = \"ISO-8859-1\")"
   ]
  },
  {
   "cell_type": "code",
   "execution_count": 49,
   "metadata": {
    "collapsed": false
   },
   "outputs": [
    {
     "data": {
      "text/html": [
       "<div>\n",
       "<table border=\"1\" class=\"dataframe\">\n",
       "  <thead>\n",
       "    <tr style=\"text-align: right;\">\n",
       "      <th></th>\n",
       "      <th>CASE_STATUS</th>\n",
       "      <th>EMPLOYER_NAME</th>\n",
       "      <th>SOC_NAME</th>\n",
       "      <th>JOB_TITLE</th>\n",
       "      <th>FULL_TIME_POSITION</th>\n",
       "      <th>PREVAILING_WAGE</th>\n",
       "      <th>YEAR</th>\n",
       "      <th>WORKSITE</th>\n",
       "      <th>STATE</th>\n",
       "      <th>lon</th>\n",
       "      <th>lat</th>\n",
       "    </tr>\n",
       "  </thead>\n",
       "  <tbody>\n",
       "    <tr>\n",
       "      <th>0</th>\n",
       "      <td>DENIED</td>\n",
       "      <td>CARNEGIE MELLON UNIVERSITY</td>\n",
       "      <td>COMPUTER AND INFORMATION RESEARCH SCIENTISTS</td>\n",
       "      <td>RESEARCH ASSOCIATE</td>\n",
       "      <td>Y</td>\n",
       "      <td>6044480.0</td>\n",
       "      <td>2016</td>\n",
       "      <td>PITTSBURGH</td>\n",
       "      <td>PENNSYLVANIA</td>\n",
       "      <td>-79.995886</td>\n",
       "      <td>40.440625</td>\n",
       "    </tr>\n",
       "    <tr>\n",
       "      <th>1</th>\n",
       "      <td>DENIED</td>\n",
       "      <td>TIGHTEN CO</td>\n",
       "      <td>WEB DEVELOPERS</td>\n",
       "      <td>WEB DEVELOPER</td>\n",
       "      <td>Y</td>\n",
       "      <td>4316000.0</td>\n",
       "      <td>2016</td>\n",
       "      <td>DALLAS</td>\n",
       "      <td>TEXAS</td>\n",
       "      <td>-96.796988</td>\n",
       "      <td>32.776664</td>\n",
       "    </tr>\n",
       "    <tr>\n",
       "      <th>2</th>\n",
       "      <td>WITHDRAWN</td>\n",
       "      <td>GLOBAL INFOTECH CORPORATION</td>\n",
       "      <td>COMPUTER PROGRAMMERS</td>\n",
       "      <td>COMPUTER PROGRAMMER</td>\n",
       "      <td>Y</td>\n",
       "      <td>4193280.0</td>\n",
       "      <td>2016</td>\n",
       "      <td>SAN FRANCISCO</td>\n",
       "      <td>CALIFORNIA</td>\n",
       "      <td>-122.419415</td>\n",
       "      <td>37.774929</td>\n",
       "    </tr>\n",
       "    <tr>\n",
       "      <th>3</th>\n",
       "      <td>DENIED</td>\n",
       "      <td>SYNTEL INC</td>\n",
       "      <td>COMPUTER SYSTEMS ANALYSTS</td>\n",
       "      <td>PROGRAMMER ANALYST</td>\n",
       "      <td>Y</td>\n",
       "      <td>4087356.0</td>\n",
       "      <td>2016</td>\n",
       "      <td>QUINCY</td>\n",
       "      <td>MASSACHUSETTS</td>\n",
       "      <td>-71.002270</td>\n",
       "      <td>42.252877</td>\n",
       "    </tr>\n",
       "    <tr>\n",
       "      <th>4</th>\n",
       "      <td>WITHDRAWN</td>\n",
       "      <td>IBM INDIA PRIVATE LIMITED</td>\n",
       "      <td>COMPUTER PROGRAMMERS</td>\n",
       "      <td>LEAD DATA SPECIALIST</td>\n",
       "      <td>Y</td>\n",
       "      <td>3277248.0</td>\n",
       "      <td>2016</td>\n",
       "      <td>TAMPA</td>\n",
       "      <td>FLORIDA</td>\n",
       "      <td>-82.457178</td>\n",
       "      <td>27.950575</td>\n",
       "    </tr>\n",
       "  </tbody>\n",
       "</table>\n",
       "</div>"
      ],
      "text/plain": [
       "  CASE_STATUS                EMPLOYER_NAME  \\\n",
       "0      DENIED   CARNEGIE MELLON UNIVERSITY   \n",
       "1      DENIED                   TIGHTEN CO   \n",
       "2   WITHDRAWN  GLOBAL INFOTECH CORPORATION   \n",
       "3      DENIED                   SYNTEL INC   \n",
       "4   WITHDRAWN    IBM INDIA PRIVATE LIMITED   \n",
       "\n",
       "                                       SOC_NAME             JOB_TITLE  \\\n",
       "0  COMPUTER AND INFORMATION RESEARCH SCIENTISTS    RESEARCH ASSOCIATE   \n",
       "1                                WEB DEVELOPERS         WEB DEVELOPER   \n",
       "2                          COMPUTER PROGRAMMERS   COMPUTER PROGRAMMER   \n",
       "3                     COMPUTER SYSTEMS ANALYSTS    PROGRAMMER ANALYST   \n",
       "4                          COMPUTER PROGRAMMERS  LEAD DATA SPECIALIST   \n",
       "\n",
       "  FULL_TIME_POSITION  PREVAILING_WAGE  YEAR       WORKSITE          STATE  \\\n",
       "0                  Y        6044480.0  2016     PITTSBURGH   PENNSYLVANIA   \n",
       "1                  Y        4316000.0  2016         DALLAS          TEXAS   \n",
       "2                  Y        4193280.0  2016  SAN FRANCISCO     CALIFORNIA   \n",
       "3                  Y        4087356.0  2016         QUINCY  MASSACHUSETTS   \n",
       "4                  Y        3277248.0  2016          TAMPA        FLORIDA   \n",
       "\n",
       "          lon        lat  \n",
       "0  -79.995886  40.440625  \n",
       "1  -96.796988  32.776664  \n",
       "2 -122.419415  37.774929  \n",
       "3  -71.002270  42.252877  \n",
       "4  -82.457178  27.950575  "
      ]
     },
     "execution_count": 49,
     "metadata": {},
     "output_type": "execute_result"
    }
   ],
   "source": [
    "df.head()"
   ]
  },
  {
   "cell_type": "code",
   "execution_count": 50,
   "metadata": {
    "collapsed": true
   },
   "outputs": [],
   "source": [
    "# taking only the petitions for full time positions\n",
    "data=df[df.FULL_TIME_POSITION=='Y']"
   ]
  },
  {
   "cell_type": "code",
   "execution_count": 51,
   "metadata": {
    "collapsed": false
   },
   "outputs": [
    {
     "data": {
      "text/html": [
       "<div>\n",
       "<table border=\"1\" class=\"dataframe\">\n",
       "  <thead>\n",
       "    <tr style=\"text-align: right;\">\n",
       "      <th></th>\n",
       "      <th>CASE_STATUS</th>\n",
       "      <th>EMPLOYER_NAME</th>\n",
       "      <th>SOC_NAME</th>\n",
       "      <th>JOB_TITLE</th>\n",
       "      <th>FULL_TIME_POSITION</th>\n",
       "      <th>PREVAILING_WAGE</th>\n",
       "      <th>YEAR</th>\n",
       "      <th>WORKSITE</th>\n",
       "      <th>STATE</th>\n",
       "      <th>lon</th>\n",
       "      <th>lat</th>\n",
       "    </tr>\n",
       "  </thead>\n",
       "  <tbody>\n",
       "    <tr>\n",
       "      <th>0</th>\n",
       "      <td>DENIED</td>\n",
       "      <td>CARNEGIE MELLON UNIVERSITY</td>\n",
       "      <td>COMPUTER AND INFORMATION RESEARCH SCIENTISTS</td>\n",
       "      <td>RESEARCH ASSOCIATE</td>\n",
       "      <td>Y</td>\n",
       "      <td>6044480.0</td>\n",
       "      <td>2016</td>\n",
       "      <td>PITTSBURGH</td>\n",
       "      <td>PENNSYLVANIA</td>\n",
       "      <td>-79.995886</td>\n",
       "      <td>40.440625</td>\n",
       "    </tr>\n",
       "    <tr>\n",
       "      <th>1</th>\n",
       "      <td>DENIED</td>\n",
       "      <td>TIGHTEN CO</td>\n",
       "      <td>WEB DEVELOPERS</td>\n",
       "      <td>WEB DEVELOPER</td>\n",
       "      <td>Y</td>\n",
       "      <td>4316000.0</td>\n",
       "      <td>2016</td>\n",
       "      <td>DALLAS</td>\n",
       "      <td>TEXAS</td>\n",
       "      <td>-96.796988</td>\n",
       "      <td>32.776664</td>\n",
       "    </tr>\n",
       "    <tr>\n",
       "      <th>2</th>\n",
       "      <td>WITHDRAWN</td>\n",
       "      <td>GLOBAL INFOTECH CORPORATION</td>\n",
       "      <td>COMPUTER PROGRAMMERS</td>\n",
       "      <td>COMPUTER PROGRAMMER</td>\n",
       "      <td>Y</td>\n",
       "      <td>4193280.0</td>\n",
       "      <td>2016</td>\n",
       "      <td>SAN FRANCISCO</td>\n",
       "      <td>CALIFORNIA</td>\n",
       "      <td>-122.419415</td>\n",
       "      <td>37.774929</td>\n",
       "    </tr>\n",
       "    <tr>\n",
       "      <th>3</th>\n",
       "      <td>DENIED</td>\n",
       "      <td>SYNTEL INC</td>\n",
       "      <td>COMPUTER SYSTEMS ANALYSTS</td>\n",
       "      <td>PROGRAMMER ANALYST</td>\n",
       "      <td>Y</td>\n",
       "      <td>4087356.0</td>\n",
       "      <td>2016</td>\n",
       "      <td>QUINCY</td>\n",
       "      <td>MASSACHUSETTS</td>\n",
       "      <td>-71.002270</td>\n",
       "      <td>42.252877</td>\n",
       "    </tr>\n",
       "    <tr>\n",
       "      <th>4</th>\n",
       "      <td>WITHDRAWN</td>\n",
       "      <td>IBM INDIA PRIVATE LIMITED</td>\n",
       "      <td>COMPUTER PROGRAMMERS</td>\n",
       "      <td>LEAD DATA SPECIALIST</td>\n",
       "      <td>Y</td>\n",
       "      <td>3277248.0</td>\n",
       "      <td>2016</td>\n",
       "      <td>TAMPA</td>\n",
       "      <td>FLORIDA</td>\n",
       "      <td>-82.457178</td>\n",
       "      <td>27.950575</td>\n",
       "    </tr>\n",
       "  </tbody>\n",
       "</table>\n",
       "</div>"
      ],
      "text/plain": [
       "  CASE_STATUS                EMPLOYER_NAME  \\\n",
       "0      DENIED   CARNEGIE MELLON UNIVERSITY   \n",
       "1      DENIED                   TIGHTEN CO   \n",
       "2   WITHDRAWN  GLOBAL INFOTECH CORPORATION   \n",
       "3      DENIED                   SYNTEL INC   \n",
       "4   WITHDRAWN    IBM INDIA PRIVATE LIMITED   \n",
       "\n",
       "                                       SOC_NAME             JOB_TITLE  \\\n",
       "0  COMPUTER AND INFORMATION RESEARCH SCIENTISTS    RESEARCH ASSOCIATE   \n",
       "1                                WEB DEVELOPERS         WEB DEVELOPER   \n",
       "2                          COMPUTER PROGRAMMERS   COMPUTER PROGRAMMER   \n",
       "3                     COMPUTER SYSTEMS ANALYSTS    PROGRAMMER ANALYST   \n",
       "4                          COMPUTER PROGRAMMERS  LEAD DATA SPECIALIST   \n",
       "\n",
       "  FULL_TIME_POSITION  PREVAILING_WAGE  YEAR       WORKSITE          STATE  \\\n",
       "0                  Y        6044480.0  2016     PITTSBURGH   PENNSYLVANIA   \n",
       "1                  Y        4316000.0  2016         DALLAS          TEXAS   \n",
       "2                  Y        4193280.0  2016  SAN FRANCISCO     CALIFORNIA   \n",
       "3                  Y        4087356.0  2016         QUINCY  MASSACHUSETTS   \n",
       "4                  Y        3277248.0  2016          TAMPA        FLORIDA   \n",
       "\n",
       "          lon        lat  \n",
       "0  -79.995886  40.440625  \n",
       "1  -96.796988  32.776664  \n",
       "2 -122.419415  37.774929  \n",
       "3  -71.002270  42.252877  \n",
       "4  -82.457178  27.950575  "
      ]
     },
     "execution_count": 51,
     "metadata": {},
     "output_type": "execute_result"
    }
   ],
   "source": [
    "data.head()"
   ]
  },
  {
   "cell_type": "code",
   "execution_count": 52,
   "metadata": {
    "collapsed": false
   },
   "outputs": [
    {
     "data": {
      "text/html": [
       "<div>\n",
       "<table border=\"1\" class=\"dataframe\">\n",
       "  <thead>\n",
       "    <tr style=\"text-align: right;\">\n",
       "      <th></th>\n",
       "      <th>CASE_STATUS</th>\n",
       "    </tr>\n",
       "    <tr>\n",
       "      <th>STATE</th>\n",
       "      <th></th>\n",
       "    </tr>\n",
       "  </thead>\n",
       "  <tbody>\n",
       "    <tr>\n",
       "      <th>CALIFORNIA</th>\n",
       "      <td>81576</td>\n",
       "    </tr>\n",
       "    <tr>\n",
       "      <th>NEWYORK</th>\n",
       "      <td>28258</td>\n",
       "    </tr>\n",
       "    <tr>\n",
       "      <th>TEXAS</th>\n",
       "      <td>25380</td>\n",
       "    </tr>\n",
       "    <tr>\n",
       "      <th>NEWJERSEY</th>\n",
       "      <td>19240</td>\n",
       "    </tr>\n",
       "    <tr>\n",
       "      <th>WASHINGTON</th>\n",
       "      <td>15999</td>\n",
       "    </tr>\n",
       "  </tbody>\n",
       "</table>\n",
       "</div>"
      ],
      "text/plain": [
       "            CASE_STATUS\n",
       "STATE                  \n",
       "CALIFORNIA        81576\n",
       "NEWYORK           28258\n",
       "TEXAS             25380\n",
       "NEWJERSEY         19240\n",
       "WASHINGTON        15999"
      ]
     },
     "execution_count": 52,
     "metadata": {},
     "output_type": "execute_result"
    }
   ],
   "source": [
    "data.groupby('STATE')[['CASE_STATUS']].count().sort_values(by=['CASE_STATUS'],ascending=False).head()"
   ]
  },
  {
   "cell_type": "code",
   "execution_count": 53,
   "metadata": {
    "collapsed": false
   },
   "outputs": [],
   "source": [
    "# As California has the maximum number of H1B petitions, analyzing the data from California\n",
    "new_data=data[data.STATE=='CALIFORNIA']"
   ]
  },
  {
   "cell_type": "code",
   "execution_count": 54,
   "metadata": {
    "collapsed": false
   },
   "outputs": [
    {
     "data": {
      "text/html": [
       "<div>\n",
       "<table border=\"1\" class=\"dataframe\">\n",
       "  <thead>\n",
       "    <tr style=\"text-align: right;\">\n",
       "      <th></th>\n",
       "      <th>CASE_STATUS</th>\n",
       "      <th>EMPLOYER_NAME</th>\n",
       "      <th>SOC_NAME</th>\n",
       "      <th>JOB_TITLE</th>\n",
       "      <th>FULL_TIME_POSITION</th>\n",
       "      <th>PREVAILING_WAGE</th>\n",
       "      <th>YEAR</th>\n",
       "      <th>WORKSITE</th>\n",
       "      <th>STATE</th>\n",
       "      <th>lon</th>\n",
       "      <th>lat</th>\n",
       "    </tr>\n",
       "  </thead>\n",
       "  <tbody>\n",
       "    <tr>\n",
       "      <th>0</th>\n",
       "      <td>WITHDRAWN</td>\n",
       "      <td>GLOBAL INFOTECH CORPORATION</td>\n",
       "      <td>COMPUTER PROGRAMMERS</td>\n",
       "      <td>COMPUTER PROGRAMMER</td>\n",
       "      <td>Y</td>\n",
       "      <td>4193280.0</td>\n",
       "      <td>2016</td>\n",
       "      <td>SAN FRANCISCO</td>\n",
       "      <td>CALIFORNIA</td>\n",
       "      <td>-122.419415</td>\n",
       "      <td>37.774929</td>\n",
       "    </tr>\n",
       "    <tr>\n",
       "      <th>1</th>\n",
       "      <td>DENIED</td>\n",
       "      <td>ZEFR, INC.</td>\n",
       "      <td>COMPUTER OCCUPATIONS, ALL OTHER</td>\n",
       "      <td>BUSINESS INTELLIGENCE ANALYST</td>\n",
       "      <td>Y</td>\n",
       "      <td>1168380.0</td>\n",
       "      <td>2016</td>\n",
       "      <td>VENICE</td>\n",
       "      <td>CALIFORNIA</td>\n",
       "      <td>-118.469483</td>\n",
       "      <td>33.985047</td>\n",
       "    </tr>\n",
       "    <tr>\n",
       "      <th>2</th>\n",
       "      <td>DENIED</td>\n",
       "      <td>ALTIUS FUTURES PTY LIMITED</td>\n",
       "      <td>FINANCIAL SPECIALISTS, ALL OTHER</td>\n",
       "      <td>FUTURES TRADER</td>\n",
       "      <td>Y</td>\n",
       "      <td>960000.0</td>\n",
       "      <td>2016</td>\n",
       "      <td>REDONDO BEACH</td>\n",
       "      <td>CALIFORNIA</td>\n",
       "      <td>-118.388408</td>\n",
       "      <td>33.849182</td>\n",
       "    </tr>\n",
       "    <tr>\n",
       "      <th>3</th>\n",
       "      <td>CERTIFIED</td>\n",
       "      <td>SAATCHI &amp; SAATCHI NORTH AMERICA, INC.</td>\n",
       "      <td>CHIEF EXECUTIVES</td>\n",
       "      <td>CHIEF CREATIVE OFFICER</td>\n",
       "      <td>Y</td>\n",
       "      <td>631700.0</td>\n",
       "      <td>2016</td>\n",
       "      <td>TORRANCE</td>\n",
       "      <td>CALIFORNIA</td>\n",
       "      <td>-118.340629</td>\n",
       "      <td>33.835849</td>\n",
       "    </tr>\n",
       "    <tr>\n",
       "      <th>4</th>\n",
       "      <td>CERTIFIED</td>\n",
       "      <td>ROCKETSPACE INC.</td>\n",
       "      <td>CHIEF EXECUTIVES</td>\n",
       "      <td>CHIEF TECHNOLOGY OFFICER</td>\n",
       "      <td>Y</td>\n",
       "      <td>292000.0</td>\n",
       "      <td>2016</td>\n",
       "      <td>SAN FRANCISCO</td>\n",
       "      <td>CALIFORNIA</td>\n",
       "      <td>-122.419415</td>\n",
       "      <td>37.774929</td>\n",
       "    </tr>\n",
       "  </tbody>\n",
       "</table>\n",
       "</div>"
      ],
      "text/plain": [
       "  CASE_STATUS                          EMPLOYER_NAME  \\\n",
       "0   WITHDRAWN            GLOBAL INFOTECH CORPORATION   \n",
       "1      DENIED                             ZEFR, INC.   \n",
       "2      DENIED             ALTIUS FUTURES PTY LIMITED   \n",
       "3   CERTIFIED  SAATCHI & SAATCHI NORTH AMERICA, INC.   \n",
       "4   CERTIFIED                       ROCKETSPACE INC.   \n",
       "\n",
       "                           SOC_NAME                      JOB_TITLE  \\\n",
       "0              COMPUTER PROGRAMMERS            COMPUTER PROGRAMMER   \n",
       "1   COMPUTER OCCUPATIONS, ALL OTHER  BUSINESS INTELLIGENCE ANALYST   \n",
       "2  FINANCIAL SPECIALISTS, ALL OTHER                 FUTURES TRADER   \n",
       "3                  CHIEF EXECUTIVES         CHIEF CREATIVE OFFICER   \n",
       "4                  CHIEF EXECUTIVES       CHIEF TECHNOLOGY OFFICER   \n",
       "\n",
       "  FULL_TIME_POSITION  PREVAILING_WAGE  YEAR       WORKSITE       STATE  \\\n",
       "0                  Y        4193280.0  2016  SAN FRANCISCO  CALIFORNIA   \n",
       "1                  Y        1168380.0  2016         VENICE  CALIFORNIA   \n",
       "2                  Y         960000.0  2016  REDONDO BEACH  CALIFORNIA   \n",
       "3                  Y         631700.0  2016       TORRANCE  CALIFORNIA   \n",
       "4                  Y         292000.0  2016  SAN FRANCISCO  CALIFORNIA   \n",
       "\n",
       "          lon        lat  \n",
       "0 -122.419415  37.774929  \n",
       "1 -118.469483  33.985047  \n",
       "2 -118.388408  33.849182  \n",
       "3 -118.340629  33.835849  \n",
       "4 -122.419415  37.774929  "
      ]
     },
     "execution_count": 54,
     "metadata": {},
     "output_type": "execute_result"
    }
   ],
   "source": [
    "new_data= new_data.reset_index(drop=True)\n",
    "new_data.head()"
   ]
  },
  {
   "cell_type": "code",
   "execution_count": 55,
   "metadata": {
    "collapsed": false
   },
   "outputs": [],
   "source": [
    "# taking the mean wages of every worksite in California who applied for H1B in 2016\n",
    "output=new_data.groupby(['WORKSITE'])[['PREVAILING_WAGE']].mean()"
   ]
  },
  {
   "cell_type": "code",
   "execution_count": 56,
   "metadata": {
    "collapsed": true
   },
   "outputs": [],
   "source": [
    "output= output.sort_values(by=['PREVAILING_WAGE'],ascending=False)"
   ]
  },
  {
   "cell_type": "code",
   "execution_count": 57,
   "metadata": {
    "collapsed": false
   },
   "outputs": [],
   "source": [
    "output =output.reset_index(level=0,drop=False)"
   ]
  },
  {
   "cell_type": "code",
   "execution_count": 58,
   "metadata": {
    "collapsed": false
   },
   "outputs": [
    {
     "data": {
      "text/html": [
       "<div>\n",
       "<table border=\"1\" class=\"dataframe\">\n",
       "  <thead>\n",
       "    <tr style=\"text-align: right;\">\n",
       "      <th></th>\n",
       "      <th>WORKSITE</th>\n",
       "      <th>PREVAILING_WAGE</th>\n",
       "    </tr>\n",
       "  </thead>\n",
       "  <tbody>\n",
       "    <tr>\n",
       "      <th>0</th>\n",
       "      <td>NEW YORK CITY</td>\n",
       "      <td>240000.0</td>\n",
       "    </tr>\n",
       "    <tr>\n",
       "      <th>1</th>\n",
       "      <td>7707 AUSTIN RD.</td>\n",
       "      <td>237864.0</td>\n",
       "    </tr>\n",
       "    <tr>\n",
       "      <th>2</th>\n",
       "      <td>NEWMAN</td>\n",
       "      <td>187200.0</td>\n",
       "    </tr>\n",
       "    <tr>\n",
       "      <th>3</th>\n",
       "      <td>GARLAND</td>\n",
       "      <td>187200.0</td>\n",
       "    </tr>\n",
       "    <tr>\n",
       "      <th>4</th>\n",
       "      <td>CRESCENT CITY</td>\n",
       "      <td>187200.0</td>\n",
       "    </tr>\n",
       "  </tbody>\n",
       "</table>\n",
       "</div>"
      ],
      "text/plain": [
       "          WORKSITE  PREVAILING_WAGE\n",
       "0    NEW YORK CITY         240000.0\n",
       "1  7707 AUSTIN RD.         237864.0\n",
       "2           NEWMAN         187200.0\n",
       "3          GARLAND         187200.0\n",
       "4    CRESCENT CITY         187200.0"
      ]
     },
     "execution_count": 58,
     "metadata": {},
     "output_type": "execute_result"
    }
   ],
   "source": [
    "output.head()"
   ]
  },
  {
   "cell_type": "code",
   "execution_count": 59,
   "metadata": {
    "collapsed": true
   },
   "outputs": [],
   "source": [
    "# Out of all the H1B applications for full time positions, found out the most application were for Software Engineers\n",
    "#data.groupby('JOB_TITLE')[['JOB_TITLE']].count().sort_values(by=['JOB_TITLE'],ascending=False).head()"
   ]
  },
  {
   "cell_type": "code",
   "execution_count": 60,
   "metadata": {
    "collapsed": false
   },
   "outputs": [],
   "source": [
    "new_data=data[data.JOB_TITLE=='SOFTWARE ENGINEER']"
   ]
  },
  {
   "cell_type": "code",
   "execution_count": 61,
   "metadata": {
    "collapsed": false
   },
   "outputs": [
    {
     "data": {
      "text/html": [
       "<div>\n",
       "<table border=\"1\" class=\"dataframe\">\n",
       "  <thead>\n",
       "    <tr style=\"text-align: right;\">\n",
       "      <th></th>\n",
       "      <th>CASE_STATUS</th>\n",
       "      <th>EMPLOYER_NAME</th>\n",
       "      <th>SOC_NAME</th>\n",
       "      <th>JOB_TITLE</th>\n",
       "      <th>FULL_TIME_POSITION</th>\n",
       "      <th>PREVAILING_WAGE</th>\n",
       "      <th>YEAR</th>\n",
       "      <th>WORKSITE</th>\n",
       "      <th>STATE</th>\n",
       "      <th>lon</th>\n",
       "      <th>lat</th>\n",
       "    </tr>\n",
       "  </thead>\n",
       "  <tbody>\n",
       "    <tr>\n",
       "      <th>20</th>\n",
       "      <td>DENIED</td>\n",
       "      <td>DATASIRE LLC</td>\n",
       "      <td>SOFTWARE DEVELOPERS, APPLICATIONS</td>\n",
       "      <td>SOFTWARE ENGINEER</td>\n",
       "      <td>Y</td>\n",
       "      <td>809952.0</td>\n",
       "      <td>2016</td>\n",
       "      <td>VIENNA</td>\n",
       "      <td>VIRGINIA</td>\n",
       "      <td>-77.265260</td>\n",
       "      <td>38.901222</td>\n",
       "    </tr>\n",
       "    <tr>\n",
       "      <th>21</th>\n",
       "      <td>DENIED</td>\n",
       "      <td>DATASIRE LLC</td>\n",
       "      <td>SOFTWARE DEVELOPERS, APPLICATIONS</td>\n",
       "      <td>SOFTWARE ENGINEER</td>\n",
       "      <td>Y</td>\n",
       "      <td>809952.0</td>\n",
       "      <td>2016</td>\n",
       "      <td>VIENNA</td>\n",
       "      <td>VIRGINIA</td>\n",
       "      <td>-77.265260</td>\n",
       "      <td>38.901222</td>\n",
       "    </tr>\n",
       "    <tr>\n",
       "      <th>769</th>\n",
       "      <td>CERTIFIED</td>\n",
       "      <td>FACEBOOK, INC.</td>\n",
       "      <td>SOFTWARE DEVELOPERS, APPLICATIONS</td>\n",
       "      <td>SOFTWARE ENGINEER</td>\n",
       "      <td>Y</td>\n",
       "      <td>221501.0</td>\n",
       "      <td>2016</td>\n",
       "      <td>MENLO PARK</td>\n",
       "      <td>CALIFORNIA</td>\n",
       "      <td>-122.181725</td>\n",
       "      <td>37.452960</td>\n",
       "    </tr>\n",
       "    <tr>\n",
       "      <th>4152</th>\n",
       "      <td>CERTIFIED-WITHDRAWN</td>\n",
       "      <td>GOOGLE INC.</td>\n",
       "      <td>COMPUTER AND INFORMATION SYSTEMS MANAGERS</td>\n",
       "      <td>SOFTWARE ENGINEER</td>\n",
       "      <td>Y</td>\n",
       "      <td>184122.0</td>\n",
       "      <td>2016</td>\n",
       "      <td>MOUNTAIN VIEW</td>\n",
       "      <td>CALIFORNIA</td>\n",
       "      <td>-122.083851</td>\n",
       "      <td>37.386052</td>\n",
       "    </tr>\n",
       "    <tr>\n",
       "      <th>4153</th>\n",
       "      <td>CERTIFIED-WITHDRAWN</td>\n",
       "      <td>GOOGLE INC.</td>\n",
       "      <td>COMPUTER AND INFORMATION SYSTEMS MANAGERS</td>\n",
       "      <td>SOFTWARE ENGINEER</td>\n",
       "      <td>Y</td>\n",
       "      <td>184122.0</td>\n",
       "      <td>2016</td>\n",
       "      <td>MOUNTAIN VIEW</td>\n",
       "      <td>CALIFORNIA</td>\n",
       "      <td>-122.083851</td>\n",
       "      <td>37.386052</td>\n",
       "    </tr>\n",
       "  </tbody>\n",
       "</table>\n",
       "</div>"
      ],
      "text/plain": [
       "              CASE_STATUS   EMPLOYER_NAME  \\\n",
       "20                 DENIED    DATASIRE LLC   \n",
       "21                 DENIED    DATASIRE LLC   \n",
       "769             CERTIFIED  FACEBOOK, INC.   \n",
       "4152  CERTIFIED-WITHDRAWN     GOOGLE INC.   \n",
       "4153  CERTIFIED-WITHDRAWN     GOOGLE INC.   \n",
       "\n",
       "                                       SOC_NAME          JOB_TITLE  \\\n",
       "20            SOFTWARE DEVELOPERS, APPLICATIONS  SOFTWARE ENGINEER   \n",
       "21            SOFTWARE DEVELOPERS, APPLICATIONS  SOFTWARE ENGINEER   \n",
       "769           SOFTWARE DEVELOPERS, APPLICATIONS  SOFTWARE ENGINEER   \n",
       "4152  COMPUTER AND INFORMATION SYSTEMS MANAGERS  SOFTWARE ENGINEER   \n",
       "4153  COMPUTER AND INFORMATION SYSTEMS MANAGERS  SOFTWARE ENGINEER   \n",
       "\n",
       "     FULL_TIME_POSITION  PREVAILING_WAGE  YEAR       WORKSITE       STATE  \\\n",
       "20                    Y         809952.0  2016         VIENNA    VIRGINIA   \n",
       "21                    Y         809952.0  2016         VIENNA    VIRGINIA   \n",
       "769                   Y         221501.0  2016     MENLO PARK  CALIFORNIA   \n",
       "4152                  Y         184122.0  2016  MOUNTAIN VIEW  CALIFORNIA   \n",
       "4153                  Y         184122.0  2016  MOUNTAIN VIEW  CALIFORNIA   \n",
       "\n",
       "             lon        lat  \n",
       "20    -77.265260  38.901222  \n",
       "21    -77.265260  38.901222  \n",
       "769  -122.181725  37.452960  \n",
       "4152 -122.083851  37.386052  \n",
       "4153 -122.083851  37.386052  "
      ]
     },
     "execution_count": 61,
     "metadata": {},
     "output_type": "execute_result"
    }
   ],
   "source": [
    "new_data.head()"
   ]
  },
  {
   "cell_type": "code",
   "execution_count": 62,
   "metadata": {
    "collapsed": false
   },
   "outputs": [],
   "source": [
    "result=new_data.groupby('STATE')[['CASE_STATUS']].count().sort_values(by=['CASE_STATUS'],ascending=False)"
   ]
  },
  {
   "cell_type": "code",
   "execution_count": 63,
   "metadata": {
    "collapsed": false,
    "scrolled": true
   },
   "outputs": [],
   "source": [
    "result=result.reset_index(level=0, drop=False)"
   ]
  },
  {
   "cell_type": "code",
   "execution_count": 64,
   "metadata": {
    "collapsed": false
   },
   "outputs": [],
   "source": [
    "wage_df=new_data.groupby(['EMPLOYER_NAME'],as_index=False)[['PREVAILING_WAGE']].min().sort_values(by=['EMPLOYER_NAME'],ascending=True)"
   ]
  },
  {
   "cell_type": "code",
   "execution_count": 65,
   "metadata": {
    "collapsed": true
   },
   "outputs": [],
   "source": [
    "#result.plot.pie(x='STATE',y='CASE_STATUS',autopct='%1.1f%%', startangle=270)"
   ]
  },
  {
   "cell_type": "code",
   "execution_count": 66,
   "metadata": {
    "collapsed": true
   },
   "outputs": [],
   "source": [
    "wage_df1=new_data.groupby(['EMPLOYER_NAME'],as_index=False)[['PREVAILING_WAGE']].max().sort_values(by=['EMPLOYER_NAME'],ascending=True)"
   ]
  },
  {
   "cell_type": "code",
   "execution_count": 67,
   "metadata": {
    "collapsed": false
   },
   "outputs": [],
   "source": [
    "wage_df2=new_data.groupby(['EMPLOYER_NAME'],as_index=False)[['PREVAILING_WAGE']].mean().sort_values(by=['EMPLOYER_NAME'],ascending=True)"
   ]
  },
  {
   "cell_type": "code",
   "execution_count": 68,
   "metadata": {
    "collapsed": false
   },
   "outputs": [],
   "source": [
    "new_wage=wage_df.merge(wage_df1,on='EMPLOYER_NAME')"
   ]
  },
  {
   "cell_type": "code",
   "execution_count": 69,
   "metadata": {
    "collapsed": true
   },
   "outputs": [],
   "source": [
    "new_wage=new_wage.rename(index=str, columns={\"PREVAILING_WAGE_x\": \"MIN_WAGE\",\"PREVAILING_WAGE_y\": \"MAX_WAGE\"})"
   ]
  },
  {
   "cell_type": "code",
   "execution_count": 70,
   "metadata": {
    "collapsed": true
   },
   "outputs": [],
   "source": [
    "new_wage=new_wage.merge(wage_df2,on='EMPLOYER_NAME')"
   ]
  },
  {
   "cell_type": "code",
   "execution_count": 71,
   "metadata": {
    "collapsed": true
   },
   "outputs": [],
   "source": [
    "new_wage=new_wage.rename(index=str, columns={\"PREVAILING_WAGE\": \"MEAN_WAGE\"})"
   ]
  },
  {
   "cell_type": "code",
   "execution_count": 72,
   "metadata": {
    "collapsed": false
   },
   "outputs": [
    {
     "data": {
      "text/html": [
       "<div>\n",
       "<table border=\"1\" class=\"dataframe\">\n",
       "  <thead>\n",
       "    <tr style=\"text-align: right;\">\n",
       "      <th></th>\n",
       "      <th>EMPLOYER_NAME</th>\n",
       "      <th>MIN_WAGE</th>\n",
       "      <th>MAX_WAGE</th>\n",
       "      <th>MEAN_WAGE</th>\n",
       "    </tr>\n",
       "  </thead>\n",
       "  <tbody>\n",
       "    <tr>\n",
       "      <th>0</th>\n",
       "      <td>1 HEMA</td>\n",
       "      <td>72000.0</td>\n",
       "      <td>72000.0</td>\n",
       "      <td>72000.0</td>\n",
       "    </tr>\n",
       "    <tr>\n",
       "      <th>1</th>\n",
       "      <td>10UP, INC.</td>\n",
       "      <td>104146.0</td>\n",
       "      <td>104146.0</td>\n",
       "      <td>104146.0</td>\n",
       "    </tr>\n",
       "    <tr>\n",
       "      <th>2</th>\n",
       "      <td>1199 NATIONAL BENEFIT FUND FOR HEALTH &amp; HUMAN ...</td>\n",
       "      <td>111114.0</td>\n",
       "      <td>111114.0</td>\n",
       "      <td>111114.0</td>\n",
       "    </tr>\n",
       "    <tr>\n",
       "      <th>3</th>\n",
       "      <td>1APP, INC.</td>\n",
       "      <td>80184.0</td>\n",
       "      <td>80184.0</td>\n",
       "      <td>80184.0</td>\n",
       "    </tr>\n",
       "    <tr>\n",
       "      <th>4</th>\n",
       "      <td>20N LABS, INC.</td>\n",
       "      <td>102357.0</td>\n",
       "      <td>102357.0</td>\n",
       "      <td>102357.0</td>\n",
       "    </tr>\n",
       "  </tbody>\n",
       "</table>\n",
       "</div>"
      ],
      "text/plain": [
       "                                       EMPLOYER_NAME  MIN_WAGE  MAX_WAGE  \\\n",
       "0                                             1 HEMA   72000.0   72000.0   \n",
       "1                                         10UP, INC.  104146.0  104146.0   \n",
       "2  1199 NATIONAL BENEFIT FUND FOR HEALTH & HUMAN ...  111114.0  111114.0   \n",
       "3                                         1APP, INC.   80184.0   80184.0   \n",
       "4                                     20N LABS, INC.  102357.0  102357.0   \n",
       "\n",
       "   MEAN_WAGE  \n",
       "0    72000.0  \n",
       "1   104146.0  \n",
       "2   111114.0  \n",
       "3    80184.0  \n",
       "4   102357.0  "
      ]
     },
     "execution_count": 72,
     "metadata": {},
     "output_type": "execute_result"
    }
   ],
   "source": [
    "new_wage.head()"
   ]
  },
  {
   "cell_type": "code",
   "execution_count": 79,
   "metadata": {
    "collapsed": false
   },
   "outputs": [],
   "source": [
    "graph_data=new_wage.sort_values(by=['MEAN_WAGE'],ascending=False).head(10)"
   ]
  },
  {
   "cell_type": "code",
   "execution_count": 80,
   "metadata": {
    "collapsed": false
   },
   "outputs": [
    {
     "data": {
      "text/plain": [
       "<matplotlib.axes._subplots.AxesSubplot at 0x115dc2cf8>"
      ]
     },
     "execution_count": 80,
     "metadata": {},
     "output_type": "execute_result"
    },
    {
     "data": {
      "image/png": "[encoded data removed]",
      "text/plain": [
       "<matplotlib.figure.Figure at 0x12e955f60>"
      ]
     },
     "metadata": {},
     "output_type": "display_data"
    }
   ],
   "source": [
    "graph_data.plot.bar(x='EMPLOYER_NAME',y=['MIN_WAGE','MAX_WAGE'],stacked=False,title='Top_Wages_Companies_California',legend=True)\n",
    "#plt.gcf().savefig('ana_5/Top10_Companies.png')"
   ]
  },
  {
   "cell_type": "code",
   "execution_count": null,
   "metadata": {
    "collapsed": true
   },
   "outputs": [],
   "source": []
  }
 ],
 "metadata": {
  "anaconda-cloud": {},
  "kernelspec": {
   "display_name": "Python [conda root]",
   "language": "python",
   "name": "conda-root-py"
  },
  "language_info": {
   "codemirror_mode": {
    "name": "ipython",
    "version": 3
   },
   "file_extension": ".py",
   "mimetype": "text/x-python",
   "name": "python",
   "nbconvert_exporter": "python",
   "pygments_lexer": "ipython3",
   "version": "3.5.2"
  }
 },
 "nbformat": 4,
 "nbformat_minor": 2
}
