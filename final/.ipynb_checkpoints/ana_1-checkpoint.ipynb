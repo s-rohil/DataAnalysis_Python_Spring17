{
 "cells": [
  {
   "cell_type": "markdown",
   "metadata": {},
   "source": [
    "# Analysis 1\n",
    "- Considering only part time position petitions for H1B in 2016.\n",
    "- Analyzing the total CERTIFIED and DENIED H1B petitions of each SOC_NAME of each state.\n",
    "- Calculating the success ratio of H1B petitions from DoL(Dept. of Labor) for each state and finding out the worst 3 SOC_NAME from each state\n",
    "- Plotting the top 10 states with the best success ratio for H1B petitions."
   ]
  },
  {
   "cell_type": "code",
   "execution_count": 60,
   "metadata": {
    "collapsed": false
   },
   "outputs": [],
   "source": [
    "import pandas as pd\n",
    "import numpy as np\n",
    "import os\n",
    "import datetime\n",
    "import seaborn as sns\n",
    "import matplotlib as mpl\n",
    "import matplotlib.pyplot as plt\n",
    "%matplotlib inline"
   ]
  },
  {
   "cell_type": "code",
   "execution_count": 3,
   "metadata": {
    "collapsed": false
   },
   "outputs": [
    {
     "data": {
      "text/plain": [
       "True"
      ]
     },
     "execution_count": 3,
     "metadata": {},
     "output_type": "execute_result"
    }
   ],
   "source": [
    "os.path.exists('data/H1B_petition_dataset.csv')"
   ]
  },
  {
   "cell_type": "code",
   "execution_count": 4,
   "metadata": {
    "collapsed": false
   },
   "outputs": [],
   "source": [
    "df = pd.read_csv('data/H1B_petition_dataset.csv', encoding = \"ISO-8859-1\")"
   ]
  },
  {
   "cell_type": "code",
   "execution_count": 5,
   "metadata": {
    "collapsed": false
   },
   "outputs": [
    {
     "data": {
      "text/html": [
       "<div>\n",
       "<table border=\"1\" class=\"dataframe\">\n",
       "  <thead>\n",
       "    <tr style=\"text-align: right;\">\n",
       "      <th></th>\n",
       "      <th>CASE_STATUS</th>\n",
       "      <th>EMPLOYER_NAME</th>\n",
       "      <th>SOC_NAME</th>\n",
       "      <th>JOB_TITLE</th>\n",
       "      <th>FULL_TIME_POSITION</th>\n",
       "      <th>PREVAILING_WAGE</th>\n",
       "      <th>YEAR</th>\n",
       "      <th>WORKSITE</th>\n",
       "      <th>STATE</th>\n",
       "      <th>lon</th>\n",
       "      <th>lat</th>\n",
       "    </tr>\n",
       "  </thead>\n",
       "  <tbody>\n",
       "    <tr>\n",
       "      <th>0</th>\n",
       "      <td>CERTIFIED-WITHDRAWN</td>\n",
       "      <td>UNIVERSITY OF MICHIGAN</td>\n",
       "      <td>BIOCHEMISTS AND BIOPHYSICISTS</td>\n",
       "      <td>POSTDOCTORAL RESEARCH FELLOW</td>\n",
       "      <td>N</td>\n",
       "      <td>36067.0</td>\n",
       "      <td>2016</td>\n",
       "      <td>ANN ARBOR</td>\n",
       "      <td>MICHIGAN</td>\n",
       "      <td>-83.743038</td>\n",
       "      <td>42.280826</td>\n",
       "    </tr>\n",
       "    <tr>\n",
       "      <th>1</th>\n",
       "      <td>CERTIFIED-WITHDRAWN</td>\n",
       "      <td>GOODMAN NETWORKS, INC.</td>\n",
       "      <td>CHIEF EXECUTIVES</td>\n",
       "      <td>CHIEF OPERATING OFFICER</td>\n",
       "      <td>Y</td>\n",
       "      <td>242674.0</td>\n",
       "      <td>2016</td>\n",
       "      <td>PLANO</td>\n",
       "      <td>TEXAS</td>\n",
       "      <td>-96.698886</td>\n",
       "      <td>33.019843</td>\n",
       "    </tr>\n",
       "    <tr>\n",
       "      <th>2</th>\n",
       "      <td>CERTIFIED-WITHDRAWN</td>\n",
       "      <td>PORTS AMERICA GROUP, INC.</td>\n",
       "      <td>CHIEF EXECUTIVES</td>\n",
       "      <td>CHIEF PROCESS OFFICER</td>\n",
       "      <td>Y</td>\n",
       "      <td>193066.0</td>\n",
       "      <td>2016</td>\n",
       "      <td>JERSEY CITY</td>\n",
       "      <td>NEWJERSEY</td>\n",
       "      <td>-74.077642</td>\n",
       "      <td>40.728158</td>\n",
       "    </tr>\n",
       "    <tr>\n",
       "      <th>3</th>\n",
       "      <td>CERTIFIED-WITHDRAWN</td>\n",
       "      <td>GATES CORPORATION, A WHOLLY-OWNED SUBSIDIARY O...</td>\n",
       "      <td>CHIEF EXECUTIVES</td>\n",
       "      <td>REGIONAL PRESIDEN, AMERICAS</td>\n",
       "      <td>Y</td>\n",
       "      <td>220314.0</td>\n",
       "      <td>2016</td>\n",
       "      <td>DENVER</td>\n",
       "      <td>COLORADO</td>\n",
       "      <td>-104.990251</td>\n",
       "      <td>39.739236</td>\n",
       "    </tr>\n",
       "    <tr>\n",
       "      <th>4</th>\n",
       "      <td>WITHDRAWN</td>\n",
       "      <td>PEABODY INVESTMENTS CORP.</td>\n",
       "      <td>CHIEF EXECUTIVES</td>\n",
       "      <td>PRESIDENT MONGOLIA AND INDIA</td>\n",
       "      <td>Y</td>\n",
       "      <td>157518.4</td>\n",
       "      <td>2016</td>\n",
       "      <td>ST. LOUIS</td>\n",
       "      <td>MISSOURI</td>\n",
       "      <td>-90.199404</td>\n",
       "      <td>38.627003</td>\n",
       "    </tr>\n",
       "  </tbody>\n",
       "</table>\n",
       "</div>"
      ],
      "text/plain": [
       "           CASE_STATUS                                      EMPLOYER_NAME  \\\n",
       "0  CERTIFIED-WITHDRAWN                             UNIVERSITY OF MICHIGAN   \n",
       "1  CERTIFIED-WITHDRAWN                             GOODMAN NETWORKS, INC.   \n",
       "2  CERTIFIED-WITHDRAWN                          PORTS AMERICA GROUP, INC.   \n",
       "3  CERTIFIED-WITHDRAWN  GATES CORPORATION, A WHOLLY-OWNED SUBSIDIARY O...   \n",
       "4            WITHDRAWN                          PEABODY INVESTMENTS CORP.   \n",
       "\n",
       "                        SOC_NAME                     JOB_TITLE  \\\n",
       "0  BIOCHEMISTS AND BIOPHYSICISTS  POSTDOCTORAL RESEARCH FELLOW   \n",
       "1               CHIEF EXECUTIVES       CHIEF OPERATING OFFICER   \n",
       "2               CHIEF EXECUTIVES         CHIEF PROCESS OFFICER   \n",
       "3               CHIEF EXECUTIVES   REGIONAL PRESIDEN, AMERICAS   \n",
       "4               CHIEF EXECUTIVES  PRESIDENT MONGOLIA AND INDIA   \n",
       "\n",
       "  FULL_TIME_POSITION  PREVAILING_WAGE  YEAR     WORKSITE      STATE  \\\n",
       "0                  N          36067.0  2016    ANN ARBOR   MICHIGAN   \n",
       "1                  Y         242674.0  2016        PLANO      TEXAS   \n",
       "2                  Y         193066.0  2016  JERSEY CITY  NEWJERSEY   \n",
       "3                  Y         220314.0  2016       DENVER   COLORADO   \n",
       "4                  Y         157518.4  2016    ST. LOUIS   MISSOURI   \n",
       "\n",
       "          lon        lat  \n",
       "0  -83.743038  42.280826  \n",
       "1  -96.698886  33.019843  \n",
       "2  -74.077642  40.728158  \n",
       "3 -104.990251  39.739236  \n",
       "4  -90.199404  38.627003  "
      ]
     },
     "execution_count": 5,
     "metadata": {},
     "output_type": "execute_result"
    }
   ],
   "source": [
    "df.head()"
   ]
  },
  {
   "cell_type": "code",
   "execution_count": 6,
   "metadata": {
    "collapsed": false
   },
   "outputs": [
    {
     "data": {
      "text/plain": [
       "(647800, 11)"
      ]
     },
     "execution_count": 6,
     "metadata": {},
     "output_type": "execute_result"
    }
   ],
   "source": [
    "df.shape"
   ]
  },
  {
   "cell_type": "code",
   "execution_count": 7,
   "metadata": {
    "collapsed": true
   },
   "outputs": [],
   "source": [
    "#Analyzing only the H1B criteria for part time positions\n",
    "data= df[df.FULL_TIME_POSITION=='N']"
   ]
  },
  {
   "cell_type": "code",
   "execution_count": 8,
   "metadata": {
    "collapsed": false
   },
   "outputs": [
    {
     "data": {
      "text/html": [
       "<div>\n",
       "<table border=\"1\" class=\"dataframe\">\n",
       "  <thead>\n",
       "    <tr style=\"text-align: right;\">\n",
       "      <th></th>\n",
       "      <th>CASE_STATUS</th>\n",
       "      <th>EMPLOYER_NAME</th>\n",
       "      <th>SOC_NAME</th>\n",
       "      <th>JOB_TITLE</th>\n",
       "      <th>FULL_TIME_POSITION</th>\n",
       "      <th>PREVAILING_WAGE</th>\n",
       "      <th>YEAR</th>\n",
       "      <th>WORKSITE</th>\n",
       "      <th>STATE</th>\n",
       "      <th>lon</th>\n",
       "      <th>lat</th>\n",
       "    </tr>\n",
       "  </thead>\n",
       "  <tbody>\n",
       "    <tr>\n",
       "      <th>0</th>\n",
       "      <td>CERTIFIED-WITHDRAWN</td>\n",
       "      <td>UNIVERSITY OF MICHIGAN</td>\n",
       "      <td>BIOCHEMISTS AND BIOPHYSICISTS</td>\n",
       "      <td>POSTDOCTORAL RESEARCH FELLOW</td>\n",
       "      <td>N</td>\n",
       "      <td>36067.0</td>\n",
       "      <td>2016</td>\n",
       "      <td>ANN ARBOR</td>\n",
       "      <td>MICHIGAN</td>\n",
       "      <td>-83.743038</td>\n",
       "      <td>42.280826</td>\n",
       "    </tr>\n",
       "    <tr>\n",
       "      <th>37</th>\n",
       "      <td>CERTIFIED</td>\n",
       "      <td>INN AT THE WICKLIFFE LLC</td>\n",
       "      <td>CHIEF EXECUTIVES</td>\n",
       "      <td>CHIEF EXECUTIVE OFFICER</td>\n",
       "      <td>N</td>\n",
       "      <td>52416.0</td>\n",
       "      <td>2016</td>\n",
       "      <td>WICKLIFFE</td>\n",
       "      <td>OHIO</td>\n",
       "      <td>-81.453449</td>\n",
       "      <td>41.605327</td>\n",
       "    </tr>\n",
       "    <tr>\n",
       "      <th>44</th>\n",
       "      <td>CERTIFIED</td>\n",
       "      <td>THE CHICAGO ATHENAEUM: CENTER FOR ARCHITECTURE...</td>\n",
       "      <td>CHIEF EXECUTIVES</td>\n",
       "      <td>EXECUTIVE DIRECTOR</td>\n",
       "      <td>N</td>\n",
       "      <td>54766.0</td>\n",
       "      <td>2016</td>\n",
       "      <td>GALENA</td>\n",
       "      <td>ILLINOIS</td>\n",
       "      <td>NaN</td>\n",
       "      <td>NaN</td>\n",
       "    </tr>\n",
       "    <tr>\n",
       "      <th>93</th>\n",
       "      <td>CERTIFIED</td>\n",
       "      <td>SD MANAGEMENT GROUP LLC</td>\n",
       "      <td>CHIEF EXECUTIVES</td>\n",
       "      <td>CHIEF SUSTAINABILITY OFFICER</td>\n",
       "      <td>N</td>\n",
       "      <td>17264.0</td>\n",
       "      <td>2016</td>\n",
       "      <td>CHARLOTTESVILLE</td>\n",
       "      <td>VIRGINIA</td>\n",
       "      <td>-78.476678</td>\n",
       "      <td>38.029306</td>\n",
       "    </tr>\n",
       "    <tr>\n",
       "      <th>107</th>\n",
       "      <td>DENIED</td>\n",
       "      <td>10012 HOLDINGS INC.</td>\n",
       "      <td>SALES AND RELATED WORKERS, ALL OTHER</td>\n",
       "      <td>SALES REPRESENTATIVE</td>\n",
       "      <td>N</td>\n",
       "      <td>27352.0</td>\n",
       "      <td>2016</td>\n",
       "      <td>NEW YORK</td>\n",
       "      <td>NEWYORK</td>\n",
       "      <td>-74.005941</td>\n",
       "      <td>40.712784</td>\n",
       "    </tr>\n",
       "  </tbody>\n",
       "</table>\n",
       "</div>"
      ],
      "text/plain": [
       "             CASE_STATUS                                      EMPLOYER_NAME  \\\n",
       "0    CERTIFIED-WITHDRAWN                             UNIVERSITY OF MICHIGAN   \n",
       "37             CERTIFIED                           INN AT THE WICKLIFFE LLC   \n",
       "44             CERTIFIED  THE CHICAGO ATHENAEUM: CENTER FOR ARCHITECTURE...   \n",
       "93             CERTIFIED                            SD MANAGEMENT GROUP LLC   \n",
       "107               DENIED                                10012 HOLDINGS INC.   \n",
       "\n",
       "                                 SOC_NAME                     JOB_TITLE  \\\n",
       "0           BIOCHEMISTS AND BIOPHYSICISTS  POSTDOCTORAL RESEARCH FELLOW   \n",
       "37                       CHIEF EXECUTIVES       CHIEF EXECUTIVE OFFICER   \n",
       "44                       CHIEF EXECUTIVES            EXECUTIVE DIRECTOR   \n",
       "93                       CHIEF EXECUTIVES  CHIEF SUSTAINABILITY OFFICER   \n",
       "107  SALES AND RELATED WORKERS, ALL OTHER          SALES REPRESENTATIVE   \n",
       "\n",
       "    FULL_TIME_POSITION  PREVAILING_WAGE  YEAR         WORKSITE     STATE  \\\n",
       "0                    N          36067.0  2016        ANN ARBOR  MICHIGAN   \n",
       "37                   N          52416.0  2016        WICKLIFFE      OHIO   \n",
       "44                   N          54766.0  2016           GALENA  ILLINOIS   \n",
       "93                   N          17264.0  2016  CHARLOTTESVILLE  VIRGINIA   \n",
       "107                  N          27352.0  2016         NEW YORK   NEWYORK   \n",
       "\n",
       "           lon        lat  \n",
       "0   -83.743038  42.280826  \n",
       "37  -81.453449  41.605327  \n",
       "44         NaN        NaN  \n",
       "93  -78.476678  38.029306  \n",
       "107 -74.005941  40.712784  "
      ]
     },
     "execution_count": 8,
     "metadata": {},
     "output_type": "execute_result"
    }
   ],
   "source": [
    "data.head()"
   ]
  },
  {
   "cell_type": "code",
   "execution_count": 9,
   "metadata": {
    "collapsed": false
   },
   "outputs": [],
   "source": [
    "#taking only cases where the status has been 'CERTIFIED' by the DoL\n",
    "success = data['CASE_STATUS'] == 'CERTIFIED'\n"
   ]
  },
  {
   "cell_type": "code",
   "execution_count": 10,
   "metadata": {
    "collapsed": false
   },
   "outputs": [],
   "source": [
    "new_data =data[success]"
   ]
  },
  {
   "cell_type": "code",
   "execution_count": 11,
   "metadata": {
    "collapsed": false
   },
   "outputs": [
    {
     "data": {
      "text/html": [
       "<div>\n",
       "<table border=\"1\" class=\"dataframe\">\n",
       "  <thead>\n",
       "    <tr style=\"text-align: right;\">\n",
       "      <th></th>\n",
       "      <th>CASE_STATUS</th>\n",
       "      <th>EMPLOYER_NAME</th>\n",
       "      <th>SOC_NAME</th>\n",
       "      <th>JOB_TITLE</th>\n",
       "      <th>FULL_TIME_POSITION</th>\n",
       "      <th>PREVAILING_WAGE</th>\n",
       "      <th>YEAR</th>\n",
       "      <th>WORKSITE</th>\n",
       "      <th>STATE</th>\n",
       "      <th>lon</th>\n",
       "      <th>lat</th>\n",
       "    </tr>\n",
       "  </thead>\n",
       "  <tbody>\n",
       "    <tr>\n",
       "      <th>37</th>\n",
       "      <td>CERTIFIED</td>\n",
       "      <td>INN AT THE WICKLIFFE LLC</td>\n",
       "      <td>CHIEF EXECUTIVES</td>\n",
       "      <td>CHIEF EXECUTIVE OFFICER</td>\n",
       "      <td>N</td>\n",
       "      <td>52416.0</td>\n",
       "      <td>2016</td>\n",
       "      <td>WICKLIFFE</td>\n",
       "      <td>OHIO</td>\n",
       "      <td>-81.453449</td>\n",
       "      <td>41.605327</td>\n",
       "    </tr>\n",
       "    <tr>\n",
       "      <th>44</th>\n",
       "      <td>CERTIFIED</td>\n",
       "      <td>THE CHICAGO ATHENAEUM: CENTER FOR ARCHITECTURE...</td>\n",
       "      <td>CHIEF EXECUTIVES</td>\n",
       "      <td>EXECUTIVE DIRECTOR</td>\n",
       "      <td>N</td>\n",
       "      <td>54766.0</td>\n",
       "      <td>2016</td>\n",
       "      <td>GALENA</td>\n",
       "      <td>ILLINOIS</td>\n",
       "      <td>NaN</td>\n",
       "      <td>NaN</td>\n",
       "    </tr>\n",
       "    <tr>\n",
       "      <th>93</th>\n",
       "      <td>CERTIFIED</td>\n",
       "      <td>SD MANAGEMENT GROUP LLC</td>\n",
       "      <td>CHIEF EXECUTIVES</td>\n",
       "      <td>CHIEF SUSTAINABILITY OFFICER</td>\n",
       "      <td>N</td>\n",
       "      <td>17264.0</td>\n",
       "      <td>2016</td>\n",
       "      <td>CHARLOTTESVILLE</td>\n",
       "      <td>VIRGINIA</td>\n",
       "      <td>-78.476678</td>\n",
       "      <td>38.029306</td>\n",
       "    </tr>\n",
       "    <tr>\n",
       "      <th>133</th>\n",
       "      <td>CERTIFIED</td>\n",
       "      <td>LIGHT &amp; STAR USA INC</td>\n",
       "      <td>CHIEF EXECUTIVES</td>\n",
       "      <td>CHIEF FINANACIAL OFFICER</td>\n",
       "      <td>N</td>\n",
       "      <td>70000.0</td>\n",
       "      <td>2016</td>\n",
       "      <td>NEW YORK</td>\n",
       "      <td>NEWYORK</td>\n",
       "      <td>-74.005941</td>\n",
       "      <td>40.712784</td>\n",
       "    </tr>\n",
       "    <tr>\n",
       "      <th>173</th>\n",
       "      <td>CERTIFIED</td>\n",
       "      <td>MEDICUS MANAGEMENT SERVICES, LLC</td>\n",
       "      <td>CHIEF EXECUTIVES</td>\n",
       "      <td>EXECUTIVE VICE PRESIDENT</td>\n",
       "      <td>N</td>\n",
       "      <td>58926.0</td>\n",
       "      <td>2016</td>\n",
       "      <td>CHESTERFIELD</td>\n",
       "      <td>MISSOURI</td>\n",
       "      <td>-90.577067</td>\n",
       "      <td>38.663108</td>\n",
       "    </tr>\n",
       "  </tbody>\n",
       "</table>\n",
       "</div>"
      ],
      "text/plain": [
       "    CASE_STATUS                                      EMPLOYER_NAME  \\\n",
       "37    CERTIFIED                           INN AT THE WICKLIFFE LLC   \n",
       "44    CERTIFIED  THE CHICAGO ATHENAEUM: CENTER FOR ARCHITECTURE...   \n",
       "93    CERTIFIED                            SD MANAGEMENT GROUP LLC   \n",
       "133   CERTIFIED                               LIGHT & STAR USA INC   \n",
       "173   CERTIFIED                   MEDICUS MANAGEMENT SERVICES, LLC   \n",
       "\n",
       "             SOC_NAME                     JOB_TITLE FULL_TIME_POSITION  \\\n",
       "37   CHIEF EXECUTIVES       CHIEF EXECUTIVE OFFICER                  N   \n",
       "44   CHIEF EXECUTIVES            EXECUTIVE DIRECTOR                  N   \n",
       "93   CHIEF EXECUTIVES  CHIEF SUSTAINABILITY OFFICER                  N   \n",
       "133  CHIEF EXECUTIVES      CHIEF FINANACIAL OFFICER                  N   \n",
       "173  CHIEF EXECUTIVES      EXECUTIVE VICE PRESIDENT                  N   \n",
       "\n",
       "     PREVAILING_WAGE  YEAR         WORKSITE     STATE        lon        lat  \n",
       "37           52416.0  2016        WICKLIFFE      OHIO -81.453449  41.605327  \n",
       "44           54766.0  2016           GALENA  ILLINOIS        NaN        NaN  \n",
       "93           17264.0  2016  CHARLOTTESVILLE  VIRGINIA -78.476678  38.029306  \n",
       "133          70000.0  2016         NEW YORK   NEWYORK -74.005941  40.712784  \n",
       "173          58926.0  2016     CHESTERFIELD  MISSOURI -90.577067  38.663108  "
      ]
     },
     "execution_count": 11,
     "metadata": {},
     "output_type": "execute_result"
    }
   ],
   "source": [
    "new_data.head()"
   ]
  },
  {
   "cell_type": "code",
   "execution_count": 12,
   "metadata": {
    "collapsed": false
   },
   "outputs": [],
   "source": [
    "output1=new_data.groupby(['STATE','SOC_NAME'],as_index=False)['CASE_STATUS'].count().sort_values(by=['STATE','CASE_STATUS'],ascending=[True,False])"
   ]
  },
  {
   "cell_type": "code",
   "execution_count": 20,
   "metadata": {
    "collapsed": false
   },
   "outputs": [
    {
     "data": {
      "text/html": [
       "<div>\n",
       "<table border=\"1\" class=\"dataframe\">\n",
       "  <thead>\n",
       "    <tr style=\"text-align: right;\">\n",
       "      <th></th>\n",
       "      <th>STATE</th>\n",
       "      <th>SOC_NAME</th>\n",
       "      <th>CASE_STATUS</th>\n",
       "    </tr>\n",
       "  </thead>\n",
       "  <tbody>\n",
       "    <tr>\n",
       "      <th>6</th>\n",
       "      <td>ALABAMA</td>\n",
       "      <td>COMPUTER PROGRAMMERS</td>\n",
       "      <td>3</td>\n",
       "    </tr>\n",
       "    <tr>\n",
       "      <th>3</th>\n",
       "      <td>ALABAMA</td>\n",
       "      <td>BUSINESS TEACHERS, POSTSECONDARY</td>\n",
       "      <td>2</td>\n",
       "    </tr>\n",
       "    <tr>\n",
       "      <th>4</th>\n",
       "      <td>ALABAMA</td>\n",
       "      <td>CHEFS AND HEAD COOKS</td>\n",
       "      <td>2</td>\n",
       "    </tr>\n",
       "    <tr>\n",
       "      <th>5</th>\n",
       "      <td>ALABAMA</td>\n",
       "      <td>CIVIL ENGINEERS</td>\n",
       "      <td>2</td>\n",
       "    </tr>\n",
       "    <tr>\n",
       "      <th>12</th>\n",
       "      <td>ALABAMA</td>\n",
       "      <td>HUMAN RESOURCES SPECIALISTS</td>\n",
       "      <td>2</td>\n",
       "    </tr>\n",
       "  </tbody>\n",
       "</table>\n",
       "</div>"
      ],
      "text/plain": [
       "      STATE                          SOC_NAME  CASE_STATUS\n",
       "6   ALABAMA              COMPUTER PROGRAMMERS            3\n",
       "3   ALABAMA  BUSINESS TEACHERS, POSTSECONDARY            2\n",
       "4   ALABAMA              CHEFS AND HEAD COOKS            2\n",
       "5   ALABAMA                   CIVIL ENGINEERS            2\n",
       "12  ALABAMA       HUMAN RESOURCES SPECIALISTS            2"
      ]
     },
     "execution_count": 20,
     "metadata": {},
     "output_type": "execute_result"
    }
   ],
   "source": [
    "#output2.head()\n",
    "#output=new_data.groupby(['STATE','SOC_NAME'], as_index=False)[['PREVAILING_WAGE']].mean().sort_values(by=['STATE','PREVAILING_WAGE'],ascending=[True,False])"
   ]
  },
  {
   "cell_type": "code",
   "execution_count": 13,
   "metadata": {
    "collapsed": true
   },
   "outputs": [],
   "source": [
    "output2=data[data.CASE_STATUS=='DENIED'].groupby(['STATE','SOC_NAME'],as_index=False)['CASE_STATUS'].count().sort_values(by=['STATE','CASE_STATUS'],ascending=[True,False])"
   ]
  },
  {
   "cell_type": "code",
   "execution_count": 14,
   "metadata": {
    "collapsed": false
   },
   "outputs": [],
   "source": [
    "#output['CERTIFIED_COUNT']= new_data.groupby(['STATE','SOC_NAME'])[['PREVAILING_WAGE']].count().PREVAILING_WAGE\n",
    "result = pd.merge(output1, output2, how='left', on=['STATE', 'SOC_NAME'])"
   ]
  },
  {
   "cell_type": "code",
   "execution_count": 15,
   "metadata": {
    "collapsed": false
   },
   "outputs": [
    {
     "data": {
      "text/html": [
       "<div>\n",
       "<table border=\"1\" class=\"dataframe\">\n",
       "  <thead>\n",
       "    <tr style=\"text-align: right;\">\n",
       "      <th></th>\n",
       "      <th>STATE</th>\n",
       "      <th>SOC_NAME</th>\n",
       "      <th>CASE_STATUS_x</th>\n",
       "      <th>CASE_STATUS_y</th>\n",
       "    </tr>\n",
       "  </thead>\n",
       "  <tbody>\n",
       "    <tr>\n",
       "      <th>0</th>\n",
       "      <td>ALABAMA</td>\n",
       "      <td>SOFTWARE DEVELOPERS, APPLICATIONS</td>\n",
       "      <td>186</td>\n",
       "      <td>NaN</td>\n",
       "    </tr>\n",
       "    <tr>\n",
       "      <th>1</th>\n",
       "      <td>ALABAMA</td>\n",
       "      <td>COMPUTER SYSTEMS ANALYSTS</td>\n",
       "      <td>156</td>\n",
       "      <td>NaN</td>\n",
       "    </tr>\n",
       "    <tr>\n",
       "      <th>2</th>\n",
       "      <td>ALABAMA</td>\n",
       "      <td>COMPUTER PROGRAMMERS</td>\n",
       "      <td>111</td>\n",
       "      <td>3.0</td>\n",
       "    </tr>\n",
       "    <tr>\n",
       "      <th>3</th>\n",
       "      <td>ALABAMA</td>\n",
       "      <td>MANAGEMENT ANALYSTS</td>\n",
       "      <td>56</td>\n",
       "      <td>NaN</td>\n",
       "    </tr>\n",
       "    <tr>\n",
       "      <th>4</th>\n",
       "      <td>ALABAMA</td>\n",
       "      <td>ACCOUNTANTS AND AUDITORS</td>\n",
       "      <td>48</td>\n",
       "      <td>1.0</td>\n",
       "    </tr>\n",
       "  </tbody>\n",
       "</table>\n",
       "</div>"
      ],
      "text/plain": [
       "     STATE                           SOC_NAME  CASE_STATUS_x  CASE_STATUS_y\n",
       "0  ALABAMA  SOFTWARE DEVELOPERS, APPLICATIONS            186            NaN\n",
       "1  ALABAMA          COMPUTER SYSTEMS ANALYSTS            156            NaN\n",
       "2  ALABAMA               COMPUTER PROGRAMMERS            111            3.0\n",
       "3  ALABAMA                MANAGEMENT ANALYSTS             56            NaN\n",
       "4  ALABAMA           ACCOUNTANTS AND AUDITORS             48            1.0"
      ]
     },
     "execution_count": 15,
     "metadata": {},
     "output_type": "execute_result"
    }
   ],
   "source": [
    "result.head()"
   ]
  },
  {
   "cell_type": "code",
   "execution_count": 16,
   "metadata": {
    "collapsed": false
   },
   "outputs": [],
   "source": [
    "result=result.rename(index=str, columns={\"CASE_STATUS_x\": \"CERTIFIED_COUNT\",\"CASE_STATUS_y\": \"DENIED_COUNT\"})"
   ]
  },
  {
   "cell_type": "code",
   "execution_count": 17,
   "metadata": {
    "collapsed": false
   },
   "outputs": [],
   "source": [
    "result=result.fillna(0)"
   ]
  },
  {
   "cell_type": "code",
   "execution_count": 18,
   "metadata": {
    "collapsed": false
   },
   "outputs": [
    {
     "data": {
      "text/html": [
       "<div>\n",
       "<table border=\"1\" class=\"dataframe\">\n",
       "  <thead>\n",
       "    <tr style=\"text-align: right;\">\n",
       "      <th></th>\n",
       "      <th>STATE</th>\n",
       "      <th>SOC_NAME</th>\n",
       "      <th>CERTIFIED_COUNT</th>\n",
       "      <th>DENIED_COUNT</th>\n",
       "    </tr>\n",
       "  </thead>\n",
       "  <tbody>\n",
       "    <tr>\n",
       "      <th>0</th>\n",
       "      <td>ALABAMA</td>\n",
       "      <td>SOFTWARE DEVELOPERS, APPLICATIONS</td>\n",
       "      <td>186</td>\n",
       "      <td>0.0</td>\n",
       "    </tr>\n",
       "    <tr>\n",
       "      <th>1</th>\n",
       "      <td>ALABAMA</td>\n",
       "      <td>COMPUTER SYSTEMS ANALYSTS</td>\n",
       "      <td>156</td>\n",
       "      <td>0.0</td>\n",
       "    </tr>\n",
       "    <tr>\n",
       "      <th>2</th>\n",
       "      <td>ALABAMA</td>\n",
       "      <td>COMPUTER PROGRAMMERS</td>\n",
       "      <td>111</td>\n",
       "      <td>3.0</td>\n",
       "    </tr>\n",
       "    <tr>\n",
       "      <th>3</th>\n",
       "      <td>ALABAMA</td>\n",
       "      <td>MANAGEMENT ANALYSTS</td>\n",
       "      <td>56</td>\n",
       "      <td>0.0</td>\n",
       "    </tr>\n",
       "    <tr>\n",
       "      <th>4</th>\n",
       "      <td>ALABAMA</td>\n",
       "      <td>ACCOUNTANTS AND AUDITORS</td>\n",
       "      <td>48</td>\n",
       "      <td>1.0</td>\n",
       "    </tr>\n",
       "  </tbody>\n",
       "</table>\n",
       "</div>"
      ],
      "text/plain": [
       "     STATE                           SOC_NAME  CERTIFIED_COUNT  DENIED_COUNT\n",
       "0  ALABAMA  SOFTWARE DEVELOPERS, APPLICATIONS              186           0.0\n",
       "1  ALABAMA          COMPUTER SYSTEMS ANALYSTS              156           0.0\n",
       "2  ALABAMA               COMPUTER PROGRAMMERS              111           3.0\n",
       "3  ALABAMA                MANAGEMENT ANALYSTS               56           0.0\n",
       "4  ALABAMA           ACCOUNTANTS AND AUDITORS               48           1.0"
      ]
     },
     "execution_count": 18,
     "metadata": {},
     "output_type": "execute_result"
    }
   ],
   "source": [
    "result.head()"
   ]
  },
  {
   "cell_type": "code",
   "execution_count": 19,
   "metadata": {
    "collapsed": false
   },
   "outputs": [],
   "source": [
    "result['success_ratio']= (result['CERTIFIED_COUNT']/(result['CERTIFIED_COUNT']+result['DENIED_COUNT']))*100"
   ]
  },
  {
   "cell_type": "code",
   "execution_count": 20,
   "metadata": {
    "collapsed": false
   },
   "outputs": [
    {
     "data": {
      "text/html": [
       "<div>\n",
       "<table border=\"1\" class=\"dataframe\">\n",
       "  <thead>\n",
       "    <tr style=\"text-align: right;\">\n",
       "      <th></th>\n",
       "      <th>STATE</th>\n",
       "      <th>SOC_NAME</th>\n",
       "      <th>CERTIFIED_COUNT</th>\n",
       "      <th>DENIED_COUNT</th>\n",
       "      <th>success_ratio</th>\n",
       "    </tr>\n",
       "  </thead>\n",
       "  <tbody>\n",
       "    <tr>\n",
       "      <th>0</th>\n",
       "      <td>ALABAMA</td>\n",
       "      <td>SOFTWARE DEVELOPERS, APPLICATIONS</td>\n",
       "      <td>186</td>\n",
       "      <td>0.0</td>\n",
       "      <td>100.000000</td>\n",
       "    </tr>\n",
       "    <tr>\n",
       "      <th>1</th>\n",
       "      <td>ALABAMA</td>\n",
       "      <td>COMPUTER SYSTEMS ANALYSTS</td>\n",
       "      <td>156</td>\n",
       "      <td>0.0</td>\n",
       "      <td>100.000000</td>\n",
       "    </tr>\n",
       "    <tr>\n",
       "      <th>2</th>\n",
       "      <td>ALABAMA</td>\n",
       "      <td>COMPUTER PROGRAMMERS</td>\n",
       "      <td>111</td>\n",
       "      <td>3.0</td>\n",
       "      <td>97.368421</td>\n",
       "    </tr>\n",
       "    <tr>\n",
       "      <th>3</th>\n",
       "      <td>ALABAMA</td>\n",
       "      <td>MANAGEMENT ANALYSTS</td>\n",
       "      <td>56</td>\n",
       "      <td>0.0</td>\n",
       "      <td>100.000000</td>\n",
       "    </tr>\n",
       "    <tr>\n",
       "      <th>4</th>\n",
       "      <td>ALABAMA</td>\n",
       "      <td>ACCOUNTANTS AND AUDITORS</td>\n",
       "      <td>48</td>\n",
       "      <td>1.0</td>\n",
       "      <td>97.959184</td>\n",
       "    </tr>\n",
       "  </tbody>\n",
       "</table>\n",
       "</div>"
      ],
      "text/plain": [
       "     STATE                           SOC_NAME  CERTIFIED_COUNT  DENIED_COUNT  \\\n",
       "0  ALABAMA  SOFTWARE DEVELOPERS, APPLICATIONS              186           0.0   \n",
       "1  ALABAMA          COMPUTER SYSTEMS ANALYSTS              156           0.0   \n",
       "2  ALABAMA               COMPUTER PROGRAMMERS              111           3.0   \n",
       "3  ALABAMA                MANAGEMENT ANALYSTS               56           0.0   \n",
       "4  ALABAMA           ACCOUNTANTS AND AUDITORS               48           1.0   \n",
       "\n",
       "   success_ratio  \n",
       "0     100.000000  \n",
       "1     100.000000  \n",
       "2      97.368421  \n",
       "3     100.000000  \n",
       "4      97.959184  "
      ]
     },
     "execution_count": 20,
     "metadata": {},
     "output_type": "execute_result"
    }
   ],
   "source": [
    "result.head()"
   ]
  },
  {
   "cell_type": "code",
   "execution_count": 21,
   "metadata": {
    "collapsed": false
   },
   "outputs": [],
   "source": [
    "r4=result.groupby(['STATE']).apply(lambda x:x.sort_values('success_ratio',ascending=True))"
   ]
  },
  {
   "cell_type": "code",
   "execution_count": 22,
   "metadata": {
    "collapsed": true
   },
   "outputs": [],
   "source": [
    "r5=r4.groupby('STATE').head(3)"
   ]
  },
  {
   "cell_type": "code",
   "execution_count": 23,
   "metadata": {
    "collapsed": false
   },
   "outputs": [
    {
     "data": {
      "text/html": [
       "<div>\n",
       "<table border=\"1\" class=\"dataframe\">\n",
       "  <thead>\n",
       "    <tr style=\"text-align: right;\">\n",
       "      <th></th>\n",
       "      <th></th>\n",
       "      <th>STATE</th>\n",
       "      <th>SOC_NAME</th>\n",
       "      <th>CERTIFIED_COUNT</th>\n",
       "      <th>DENIED_COUNT</th>\n",
       "      <th>success_ratio</th>\n",
       "    </tr>\n",
       "    <tr>\n",
       "      <th>STATE</th>\n",
       "      <th></th>\n",
       "      <th></th>\n",
       "      <th></th>\n",
       "      <th></th>\n",
       "      <th></th>\n",
       "      <th></th>\n",
       "    </tr>\n",
       "  </thead>\n",
       "  <tbody>\n",
       "    <tr>\n",
       "      <th rowspan=\"3\" valign=\"top\">ALABAMA</th>\n",
       "      <th>95</th>\n",
       "      <td>ALABAMA</td>\n",
       "      <td>CHEFS AND HEAD COOKS</td>\n",
       "      <td>1</td>\n",
       "      <td>2.0</td>\n",
       "      <td>33.333333</td>\n",
       "    </tr>\n",
       "    <tr>\n",
       "      <th>128</th>\n",
       "      <td>ALABAMA</td>\n",
       "      <td>PSYCHOLOGY TEACHERS, POSTSECONDARY</td>\n",
       "      <td>1</td>\n",
       "      <td>1.0</td>\n",
       "      <td>50.000000</td>\n",
       "    </tr>\n",
       "    <tr>\n",
       "      <th>104</th>\n",
       "      <td>ALABAMA</td>\n",
       "      <td>COUNSELORS, ALL OTHER</td>\n",
       "      <td>1</td>\n",
       "      <td>1.0</td>\n",
       "      <td>50.000000</td>\n",
       "    </tr>\n",
       "    <tr>\n",
       "      <th rowspan=\"2\" valign=\"top\">ALASKA</th>\n",
       "      <th>175</th>\n",
       "      <td>ALASKA</td>\n",
       "      <td>HEALTH SPECIALTIES TEACHERS, POSTSECONDARY</td>\n",
       "      <td>1</td>\n",
       "      <td>1.0</td>\n",
       "      <td>50.000000</td>\n",
       "    </tr>\n",
       "    <tr>\n",
       "      <th>151</th>\n",
       "      <td>ALASKA</td>\n",
       "      <td>ENGINEERS, ALL OTHER</td>\n",
       "      <td>2</td>\n",
       "      <td>2.0</td>\n",
       "      <td>50.000000</td>\n",
       "    </tr>\n",
       "  </tbody>\n",
       "</table>\n",
       "</div>"
      ],
      "text/plain": [
       "               STATE                                    SOC_NAME  \\\n",
       "STATE                                                              \n",
       "ALABAMA 95   ALABAMA                        CHEFS AND HEAD COOKS   \n",
       "        128  ALABAMA          PSYCHOLOGY TEACHERS, POSTSECONDARY   \n",
       "        104  ALABAMA                       COUNSELORS, ALL OTHER   \n",
       "ALASKA  175   ALASKA  HEALTH SPECIALTIES TEACHERS, POSTSECONDARY   \n",
       "        151   ALASKA                        ENGINEERS, ALL OTHER   \n",
       "\n",
       "             CERTIFIED_COUNT  DENIED_COUNT  success_ratio  \n",
       "STATE                                                      \n",
       "ALABAMA 95                 1           2.0      33.333333  \n",
       "        128                1           1.0      50.000000  \n",
       "        104                1           1.0      50.000000  \n",
       "ALASKA  175                1           1.0      50.000000  \n",
       "        151                2           2.0      50.000000  "
      ]
     },
     "execution_count": 23,
     "metadata": {},
     "output_type": "execute_result"
    }
   ],
   "source": [
    "r5.head()"
   ]
  },
  {
   "cell_type": "code",
   "execution_count": 24,
   "metadata": {
    "collapsed": false
   },
   "outputs": [],
   "source": [
    "r6=r5.reset_index(level=1, drop=False)"
   ]
  },
  {
   "cell_type": "code",
   "execution_count": 25,
   "metadata": {
    "collapsed": false
   },
   "outputs": [],
   "source": [
    "del r6['level_1']"
   ]
  },
  {
   "cell_type": "code",
   "execution_count": 26,
   "metadata": {
    "collapsed": false
   },
   "outputs": [],
   "source": [
    "r7=r6.reset_index(level=0, drop=True)"
   ]
  },
  {
   "cell_type": "code",
   "execution_count": 27,
   "metadata": {
    "collapsed": false
   },
   "outputs": [
    {
     "data": {
      "text/html": [
       "<div>\n",
       "<table border=\"1\" class=\"dataframe\">\n",
       "  <thead>\n",
       "    <tr style=\"text-align: right;\">\n",
       "      <th></th>\n",
       "      <th>STATE</th>\n",
       "      <th>SOC_NAME</th>\n",
       "      <th>CERTIFIED_COUNT</th>\n",
       "      <th>DENIED_COUNT</th>\n",
       "      <th>success_ratio</th>\n",
       "    </tr>\n",
       "  </thead>\n",
       "  <tbody>\n",
       "    <tr>\n",
       "      <th>0</th>\n",
       "      <td>ALABAMA</td>\n",
       "      <td>CHEFS AND HEAD COOKS</td>\n",
       "      <td>1</td>\n",
       "      <td>2.0</td>\n",
       "      <td>33.333333</td>\n",
       "    </tr>\n",
       "    <tr>\n",
       "      <th>1</th>\n",
       "      <td>ALABAMA</td>\n",
       "      <td>PSYCHOLOGY TEACHERS, POSTSECONDARY</td>\n",
       "      <td>1</td>\n",
       "      <td>1.0</td>\n",
       "      <td>50.000000</td>\n",
       "    </tr>\n",
       "    <tr>\n",
       "      <th>2</th>\n",
       "      <td>ALABAMA</td>\n",
       "      <td>COUNSELORS, ALL OTHER</td>\n",
       "      <td>1</td>\n",
       "      <td>1.0</td>\n",
       "      <td>50.000000</td>\n",
       "    </tr>\n",
       "    <tr>\n",
       "      <th>3</th>\n",
       "      <td>ALASKA</td>\n",
       "      <td>HEALTH SPECIALTIES TEACHERS, POSTSECONDARY</td>\n",
       "      <td>1</td>\n",
       "      <td>1.0</td>\n",
       "      <td>50.000000</td>\n",
       "    </tr>\n",
       "    <tr>\n",
       "      <th>4</th>\n",
       "      <td>ALASKA</td>\n",
       "      <td>ENGINEERS, ALL OTHER</td>\n",
       "      <td>2</td>\n",
       "      <td>2.0</td>\n",
       "      <td>50.000000</td>\n",
       "    </tr>\n",
       "  </tbody>\n",
       "</table>\n",
       "</div>"
      ],
      "text/plain": [
       "     STATE                                    SOC_NAME  CERTIFIED_COUNT  \\\n",
       "0  ALABAMA                        CHEFS AND HEAD COOKS                1   \n",
       "1  ALABAMA          PSYCHOLOGY TEACHERS, POSTSECONDARY                1   \n",
       "2  ALABAMA                       COUNSELORS, ALL OTHER                1   \n",
       "3   ALASKA  HEALTH SPECIALTIES TEACHERS, POSTSECONDARY                1   \n",
       "4   ALASKA                        ENGINEERS, ALL OTHER                2   \n",
       "\n",
       "   DENIED_COUNT  success_ratio  \n",
       "0           2.0      33.333333  \n",
       "1           1.0      50.000000  \n",
       "2           1.0      50.000000  \n",
       "3           1.0      50.000000  \n",
       "4           2.0      50.000000  "
      ]
     },
     "execution_count": 27,
     "metadata": {},
     "output_type": "execute_result"
    }
   ],
   "source": [
    "r7.head()"
   ]
  },
  {
   "cell_type": "code",
   "execution_count": 42,
   "metadata": {
    "collapsed": false
   },
   "outputs": [
    {
     "data": {
      "text/html": [
       "<div>\n",
       "<table border=\"1\" class=\"dataframe\">\n",
       "  <thead>\n",
       "    <tr style=\"text-align: right;\">\n",
       "      <th></th>\n",
       "      <th>STATE</th>\n",
       "      <th>SOC_NAME</th>\n",
       "      <th>CERTIFIED_COUNT</th>\n",
       "      <th>DENIED_COUNT</th>\n",
       "      <th>success_ratio</th>\n",
       "    </tr>\n",
       "  </thead>\n",
       "  <tbody>\n",
       "    <tr>\n",
       "      <th>0</th>\n",
       "      <td>ALABAMA</td>\n",
       "      <td>SOFTWARE DEVELOPERS, APPLICATIONS</td>\n",
       "      <td>186</td>\n",
       "      <td>0.0</td>\n",
       "      <td>100.000000</td>\n",
       "    </tr>\n",
       "    <tr>\n",
       "      <th>1</th>\n",
       "      <td>ALABAMA</td>\n",
       "      <td>COMPUTER SYSTEMS ANALYSTS</td>\n",
       "      <td>156</td>\n",
       "      <td>0.0</td>\n",
       "      <td>100.000000</td>\n",
       "    </tr>\n",
       "    <tr>\n",
       "      <th>2</th>\n",
       "      <td>ALABAMA</td>\n",
       "      <td>COMPUTER PROGRAMMERS</td>\n",
       "      <td>111</td>\n",
       "      <td>3.0</td>\n",
       "      <td>97.368421</td>\n",
       "    </tr>\n",
       "    <tr>\n",
       "      <th>3</th>\n",
       "      <td>ALABAMA</td>\n",
       "      <td>MANAGEMENT ANALYSTS</td>\n",
       "      <td>56</td>\n",
       "      <td>0.0</td>\n",
       "      <td>100.000000</td>\n",
       "    </tr>\n",
       "    <tr>\n",
       "      <th>4</th>\n",
       "      <td>ALABAMA</td>\n",
       "      <td>ACCOUNTANTS AND AUDITORS</td>\n",
       "      <td>48</td>\n",
       "      <td>1.0</td>\n",
       "      <td>97.959184</td>\n",
       "    </tr>\n",
       "  </tbody>\n",
       "</table>\n",
       "</div>"
      ],
      "text/plain": [
       "     STATE                           SOC_NAME  CERTIFIED_COUNT  DENIED_COUNT  \\\n",
       "0  ALABAMA  SOFTWARE DEVELOPERS, APPLICATIONS              186           0.0   \n",
       "1  ALABAMA          COMPUTER SYSTEMS ANALYSTS              156           0.0   \n",
       "2  ALABAMA               COMPUTER PROGRAMMERS              111           3.0   \n",
       "3  ALABAMA                MANAGEMENT ANALYSTS               56           0.0   \n",
       "4  ALABAMA           ACCOUNTANTS AND AUDITORS               48           1.0   \n",
       "\n",
       "   success_ratio  \n",
       "0     100.000000  \n",
       "1     100.000000  \n",
       "2      97.368421  \n",
       "3     100.000000  \n",
       "4      97.959184  "
      ]
     },
     "execution_count": 42,
     "metadata": {},
     "output_type": "execute_result"
    }
   ],
   "source": [
    "result.head()"
   ]
  },
  {
   "cell_type": "code",
   "execution_count": 72,
   "metadata": {
    "collapsed": false
   },
   "outputs": [],
   "source": [
    "#finding statewise H1B petitions reject and success rate and sorting according to the best places"
   ]
  },
  {
   "cell_type": "code",
   "execution_count": 62,
   "metadata": {
    "collapsed": false
   },
   "outputs": [],
   "source": [
    "graph_data=new_data.groupby('STATE')[['CASE_STATUS']].count()"
   ]
  },
  {
   "cell_type": "code",
   "execution_count": 63,
   "metadata": {
    "collapsed": true
   },
   "outputs": [],
   "source": [
    "graph_data['DENIED']=data[data.CASE_STATUS=='DENIED'].groupby('STATE')[['CASE_STATUS']].count()"
   ]
  },
  {
   "cell_type": "code",
   "execution_count": 66,
   "metadata": {
    "collapsed": false
   },
   "outputs": [],
   "source": [
    "graph_data['ratio']= (graph_data['CASE_STATUS']/(graph_data['CASE_STATUS']+graph_data['DENIED']))*100"
   ]
  },
  {
   "cell_type": "code",
   "execution_count": 73,
   "metadata": {
    "collapsed": false
   },
   "outputs": [],
   "source": [
    "graph_data=graph_data.sort_values(by=['ratio'],ascending=False)"
   ]
  },
  {
   "cell_type": "code",
   "execution_count": 76,
   "metadata": {
    "collapsed": true
   },
   "outputs": [],
   "source": [
    "graph_data=graph_data.reset_index(level=0, drop=False).head(10)"
   ]
  },
  {
   "cell_type": "code",
   "execution_count": 78,
   "metadata": {
    "collapsed": true
   },
   "outputs": [],
   "source": [
    "del graph_data['index']"
   ]
  },
  {
   "cell_type": "code",
   "execution_count": 80,
   "metadata": {
    "collapsed": false
   },
   "outputs": [
    {
     "data": {
      "text/html": [
       "<div>\n",
       "<table border=\"1\" class=\"dataframe\">\n",
       "  <thead>\n",
       "    <tr style=\"text-align: right;\">\n",
       "      <th></th>\n",
       "      <th>STATE</th>\n",
       "      <th>CASE_STATUS</th>\n",
       "      <th>DENIED</th>\n",
       "      <th>ratio</th>\n",
       "    </tr>\n",
       "  </thead>\n",
       "  <tbody>\n",
       "    <tr>\n",
       "      <th>0</th>\n",
       "      <td>MAINE</td>\n",
       "      <td>411</td>\n",
       "      <td>3</td>\n",
       "      <td>99.275362</td>\n",
       "    </tr>\n",
       "    <tr>\n",
       "      <th>1</th>\n",
       "      <td>NEWHAMPSHIRE</td>\n",
       "      <td>939</td>\n",
       "      <td>7</td>\n",
       "      <td>99.260042</td>\n",
       "    </tr>\n",
       "    <tr>\n",
       "      <th>2</th>\n",
       "      <td>DELAWARE</td>\n",
       "      <td>1461</td>\n",
       "      <td>12</td>\n",
       "      <td>99.185336</td>\n",
       "    </tr>\n",
       "    <tr>\n",
       "      <th>3</th>\n",
       "      <td>MISSOURI</td>\n",
       "      <td>4810</td>\n",
       "      <td>45</td>\n",
       "      <td>99.073120</td>\n",
       "    </tr>\n",
       "    <tr>\n",
       "      <th>4</th>\n",
       "      <td>NEWJERSEY</td>\n",
       "      <td>25787</td>\n",
       "      <td>245</td>\n",
       "      <td>99.058851</td>\n",
       "    </tr>\n",
       "    <tr>\n",
       "      <th>5</th>\n",
       "      <td>WISCONSIN</td>\n",
       "      <td>4097</td>\n",
       "      <td>39</td>\n",
       "      <td>99.057060</td>\n",
       "    </tr>\n",
       "    <tr>\n",
       "      <th>6</th>\n",
       "      <td>RHODEISLAND</td>\n",
       "      <td>1342</td>\n",
       "      <td>13</td>\n",
       "      <td>99.040590</td>\n",
       "    </tr>\n",
       "    <tr>\n",
       "      <th>7</th>\n",
       "      <td>NEBRASKA</td>\n",
       "      <td>1212</td>\n",
       "      <td>13</td>\n",
       "      <td>98.938776</td>\n",
       "    </tr>\n",
       "    <tr>\n",
       "      <th>8</th>\n",
       "      <td>ILLINOIS</td>\n",
       "      <td>20489</td>\n",
       "      <td>240</td>\n",
       "      <td>98.842202</td>\n",
       "    </tr>\n",
       "    <tr>\n",
       "      <th>9</th>\n",
       "      <td>INDIANA</td>\n",
       "      <td>4110</td>\n",
       "      <td>50</td>\n",
       "      <td>98.798077</td>\n",
       "    </tr>\n",
       "  </tbody>\n",
       "</table>\n",
       "</div>"
      ],
      "text/plain": [
       "          STATE  CASE_STATUS  DENIED      ratio\n",
       "0         MAINE          411       3  99.275362\n",
       "1  NEWHAMPSHIRE          939       7  99.260042\n",
       "2      DELAWARE         1461      12  99.185336\n",
       "3      MISSOURI         4810      45  99.073120\n",
       "4     NEWJERSEY        25787     245  99.058851\n",
       "5     WISCONSIN         4097      39  99.057060\n",
       "6   RHODEISLAND         1342      13  99.040590\n",
       "7      NEBRASKA         1212      13  98.938776\n",
       "8      ILLINOIS        20489     240  98.842202\n",
       "9       INDIANA         4110      50  98.798077"
      ]
     },
     "execution_count": 80,
     "metadata": {},
     "output_type": "execute_result"
    }
   ],
   "source": [
    "graph_data"
   ]
  },
  {
   "cell_type": "code",
   "execution_count": 92,
   "metadata": {
    "collapsed": false
   },
   "outputs": [
    {
     "data": {
      "text/plain": [
       "<matplotlib.axes._subplots.AxesSubplot at 0x1189caa58>"
      ]
     },
     "execution_count": 92,
     "metadata": {},
     "output_type": "execute_result"
    },
    {
     "data": {
      "image/png": "[encoded data removed]",
      "text/plain": [
       "<matplotlib.figure.Figure at 0x118a0c0f0>"
      ]
     },
     "metadata": {},
     "output_type": "display_data"
    }
   ],
   "source": [
    "graph_data.plot.bar(x='STATE',stacked=True,title='demo',legend=True)"
   ]
  },
  {
   "cell_type": "code",
   "execution_count": 98,
   "metadata": {
    "collapsed": false
   },
   "outputs": [
    {
     "data": {
      "text/plain": [
       "<matplotlib.axes._subplots.AxesSubplot at 0x119af7898>"
      ]
     },
     "execution_count": 98,
     "metadata": {},
     "output_type": "execute_result"
    },
    {
     "data": {
      "image/png": "[encoded data removed]",
      "text/plain": [
       "<matplotlib.figure.Figure at 0x119b326a0>"
      ]
     },
     "metadata": {},
     "output_type": "display_data"
    }
   ],
   "source": [
    "graph_data.plot.line(x='STATE',y='ratio',title='Top 10 H1B approval rate',legend=True, rot=90,marker='o', color='g')"
   ]
  },
  {
   "cell_type": "code",
   "execution_count": null,
   "metadata": {
    "collapsed": true
   },
   "outputs": [],
   "source": []
  }
 ],
 "metadata": {
  "anaconda-cloud": {},
  "kernelspec": {
   "display_name": "Python [conda root]",
   "language": "python",
   "name": "conda-root-py"
  },
  "language_info": {
   "codemirror_mode": {
    "name": "ipython",
    "version": 3
   },
   "file_extension": ".py",
   "mimetype": "text/x-python",
   "name": "python",
   "nbconvert_exporter": "python",
   "pygments_lexer": "ipython3",
   "version": "3.5.2"
  }
 },
 "nbformat": 4,
 "nbformat_minor": 1
}
