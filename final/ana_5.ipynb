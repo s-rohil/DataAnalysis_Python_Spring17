{
 "cells": [
  {
   "cell_type": "markdown",
   "metadata": {},
   "source": [
    "# Analysis 5:\n",
    "- take only full time \n",
    "- take the top state \n",
    "- sort with \n",
    "- find mean values for the wages\n",
    "- (optional) does not make sense.check if value less than mean of the same position. check if certified or certified/withdrawn. take the ratio. if high then one of the likely reasons why it could have got certified\n",
    "- "
   ]
  },
  {
   "cell_type": "code",
   "execution_count": 1,
   "metadata": {
    "collapsed": false
   },
   "outputs": [
    {
     "name": "stderr",
     "output_type": "stream",
     "text": [
      "/Users/kvs25/anaconda3/lib/python3.5/site-packages/numexpr/cpuinfo.py:53: UserWarning: [Errno 2] No such file or directory: 'arch'\n",
      "  stacklevel=stacklevel + 1)\n",
      "/Users/kvs25/anaconda3/lib/python3.5/site-packages/numexpr/cpuinfo.py:53: UserWarning: [Errno 2] No such file or directory: 'machine'\n",
      "  stacklevel=stacklevel + 1)\n",
      "/Users/kvs25/anaconda3/lib/python3.5/site-packages/numexpr/cpuinfo.py:76: UserWarning: [Errno 2] No such file or directory: 'sysctl'\n",
      "  stacklevel=stacklevel + 1):\n"
     ]
    }
   ],
   "source": [
    "import pandas as pd\n",
    "import numpy as np\n",
    "import os\n",
    "import datetime"
   ]
  },
  {
   "cell_type": "code",
   "execution_count": 2,
   "metadata": {
    "collapsed": true
   },
   "outputs": [],
   "source": [
    "df = pd.read_csv('data/H1B_petition_dataset.csv', encoding = \"ISO-8859-1\")"
   ]
  },
  {
   "cell_type": "code",
   "execution_count": 3,
   "metadata": {
    "collapsed": false
   },
   "outputs": [
    {
     "data": {
      "text/html": [
       "<div>\n",
       "<table border=\"1\" class=\"dataframe\">\n",
       "  <thead>\n",
       "    <tr style=\"text-align: right;\">\n",
       "      <th></th>\n",
       "      <th>CASE_STATUS</th>\n",
       "      <th>EMPLOYER_NAME</th>\n",
       "      <th>SOC_NAME</th>\n",
       "      <th>JOB_TITLE</th>\n",
       "      <th>FULL_TIME_POSITION</th>\n",
       "      <th>PREVAILING_WAGE</th>\n",
       "      <th>YEAR</th>\n",
       "      <th>WORKSITE</th>\n",
       "      <th>STATE</th>\n",
       "      <th>lon</th>\n",
       "      <th>lat</th>\n",
       "    </tr>\n",
       "  </thead>\n",
       "  <tbody>\n",
       "    <tr>\n",
       "      <th>0</th>\n",
       "      <td>CERTIFIED-WITHDRAWN</td>\n",
       "      <td>UNIVERSITY OF MICHIGAN</td>\n",
       "      <td>BIOCHEMISTS AND BIOPHYSICISTS</td>\n",
       "      <td>POSTDOCTORAL RESEARCH FELLOW</td>\n",
       "      <td>N</td>\n",
       "      <td>36067.0</td>\n",
       "      <td>2016</td>\n",
       "      <td>ANN ARBOR</td>\n",
       "      <td>MICHIGAN</td>\n",
       "      <td>-83.743038</td>\n",
       "      <td>42.280826</td>\n",
       "    </tr>\n",
       "    <tr>\n",
       "      <th>1</th>\n",
       "      <td>CERTIFIED-WITHDRAWN</td>\n",
       "      <td>GOODMAN NETWORKS, INC.</td>\n",
       "      <td>CHIEF EXECUTIVES</td>\n",
       "      <td>CHIEF OPERATING OFFICER</td>\n",
       "      <td>Y</td>\n",
       "      <td>242674.0</td>\n",
       "      <td>2016</td>\n",
       "      <td>PLANO</td>\n",
       "      <td>TEXAS</td>\n",
       "      <td>-96.698886</td>\n",
       "      <td>33.019843</td>\n",
       "    </tr>\n",
       "    <tr>\n",
       "      <th>2</th>\n",
       "      <td>CERTIFIED-WITHDRAWN</td>\n",
       "      <td>PORTS AMERICA GROUP, INC.</td>\n",
       "      <td>CHIEF EXECUTIVES</td>\n",
       "      <td>CHIEF PROCESS OFFICER</td>\n",
       "      <td>Y</td>\n",
       "      <td>193066.0</td>\n",
       "      <td>2016</td>\n",
       "      <td>JERSEY CITY</td>\n",
       "      <td>NEWJERSEY</td>\n",
       "      <td>-74.077642</td>\n",
       "      <td>40.728158</td>\n",
       "    </tr>\n",
       "    <tr>\n",
       "      <th>3</th>\n",
       "      <td>CERTIFIED-WITHDRAWN</td>\n",
       "      <td>GATES CORPORATION, A WHOLLY-OWNED SUBSIDIARY O...</td>\n",
       "      <td>CHIEF EXECUTIVES</td>\n",
       "      <td>REGIONAL PRESIDEN, AMERICAS</td>\n",
       "      <td>Y</td>\n",
       "      <td>220314.0</td>\n",
       "      <td>2016</td>\n",
       "      <td>DENVER</td>\n",
       "      <td>COLORADO</td>\n",
       "      <td>-104.990251</td>\n",
       "      <td>39.739236</td>\n",
       "    </tr>\n",
       "    <tr>\n",
       "      <th>4</th>\n",
       "      <td>WITHDRAWN</td>\n",
       "      <td>PEABODY INVESTMENTS CORP.</td>\n",
       "      <td>CHIEF EXECUTIVES</td>\n",
       "      <td>PRESIDENT MONGOLIA AND INDIA</td>\n",
       "      <td>Y</td>\n",
       "      <td>157518.4</td>\n",
       "      <td>2016</td>\n",
       "      <td>ST. LOUIS</td>\n",
       "      <td>MISSOURI</td>\n",
       "      <td>-90.199404</td>\n",
       "      <td>38.627003</td>\n",
       "    </tr>\n",
       "  </tbody>\n",
       "</table>\n",
       "</div>"
      ],
      "text/plain": [
       "           CASE_STATUS                                      EMPLOYER_NAME  \\\n",
       "0  CERTIFIED-WITHDRAWN                             UNIVERSITY OF MICHIGAN   \n",
       "1  CERTIFIED-WITHDRAWN                             GOODMAN NETWORKS, INC.   \n",
       "2  CERTIFIED-WITHDRAWN                          PORTS AMERICA GROUP, INC.   \n",
       "3  CERTIFIED-WITHDRAWN  GATES CORPORATION, A WHOLLY-OWNED SUBSIDIARY O...   \n",
       "4            WITHDRAWN                          PEABODY INVESTMENTS CORP.   \n",
       "\n",
       "                        SOC_NAME                     JOB_TITLE  \\\n",
       "0  BIOCHEMISTS AND BIOPHYSICISTS  POSTDOCTORAL RESEARCH FELLOW   \n",
       "1               CHIEF EXECUTIVES       CHIEF OPERATING OFFICER   \n",
       "2               CHIEF EXECUTIVES         CHIEF PROCESS OFFICER   \n",
       "3               CHIEF EXECUTIVES   REGIONAL PRESIDEN, AMERICAS   \n",
       "4               CHIEF EXECUTIVES  PRESIDENT MONGOLIA AND INDIA   \n",
       "\n",
       "  FULL_TIME_POSITION  PREVAILING_WAGE  YEAR     WORKSITE      STATE  \\\n",
       "0                  N          36067.0  2016    ANN ARBOR   MICHIGAN   \n",
       "1                  Y         242674.0  2016        PLANO      TEXAS   \n",
       "2                  Y         193066.0  2016  JERSEY CITY  NEWJERSEY   \n",
       "3                  Y         220314.0  2016       DENVER   COLORADO   \n",
       "4                  Y         157518.4  2016    ST. LOUIS   MISSOURI   \n",
       "\n",
       "          lon        lat  \n",
       "0  -83.743038  42.280826  \n",
       "1  -96.698886  33.019843  \n",
       "2  -74.077642  40.728158  \n",
       "3 -104.990251  39.739236  \n",
       "4  -90.199404  38.627003  "
      ]
     },
     "execution_count": 3,
     "metadata": {},
     "output_type": "execute_result"
    }
   ],
   "source": [
    "df.head()"
   ]
  },
  {
   "cell_type": "code",
   "execution_count": 4,
   "metadata": {
    "collapsed": true
   },
   "outputs": [],
   "source": [
    "data=df[df.FULL_TIME_POSITION=='Y']"
   ]
  },
  {
   "cell_type": "code",
   "execution_count": 5,
   "metadata": {
    "collapsed": false
   },
   "outputs": [
    {
     "data": {
      "text/html": [
       "<div>\n",
       "<table border=\"1\" class=\"dataframe\">\n",
       "  <thead>\n",
       "    <tr style=\"text-align: right;\">\n",
       "      <th></th>\n",
       "      <th>CASE_STATUS</th>\n",
       "      <th>EMPLOYER_NAME</th>\n",
       "      <th>SOC_NAME</th>\n",
       "      <th>JOB_TITLE</th>\n",
       "      <th>FULL_TIME_POSITION</th>\n",
       "      <th>PREVAILING_WAGE</th>\n",
       "      <th>YEAR</th>\n",
       "      <th>WORKSITE</th>\n",
       "      <th>STATE</th>\n",
       "      <th>lon</th>\n",
       "      <th>lat</th>\n",
       "    </tr>\n",
       "  </thead>\n",
       "  <tbody>\n",
       "    <tr>\n",
       "      <th>1</th>\n",
       "      <td>CERTIFIED-WITHDRAWN</td>\n",
       "      <td>GOODMAN NETWORKS, INC.</td>\n",
       "      <td>CHIEF EXECUTIVES</td>\n",
       "      <td>CHIEF OPERATING OFFICER</td>\n",
       "      <td>Y</td>\n",
       "      <td>242674.0</td>\n",
       "      <td>2016</td>\n",
       "      <td>PLANO</td>\n",
       "      <td>TEXAS</td>\n",
       "      <td>-96.698886</td>\n",
       "      <td>33.019843</td>\n",
       "    </tr>\n",
       "    <tr>\n",
       "      <th>2</th>\n",
       "      <td>CERTIFIED-WITHDRAWN</td>\n",
       "      <td>PORTS AMERICA GROUP, INC.</td>\n",
       "      <td>CHIEF EXECUTIVES</td>\n",
       "      <td>CHIEF PROCESS OFFICER</td>\n",
       "      <td>Y</td>\n",
       "      <td>193066.0</td>\n",
       "      <td>2016</td>\n",
       "      <td>JERSEY CITY</td>\n",
       "      <td>NEWJERSEY</td>\n",
       "      <td>-74.077642</td>\n",
       "      <td>40.728158</td>\n",
       "    </tr>\n",
       "    <tr>\n",
       "      <th>3</th>\n",
       "      <td>CERTIFIED-WITHDRAWN</td>\n",
       "      <td>GATES CORPORATION, A WHOLLY-OWNED SUBSIDIARY O...</td>\n",
       "      <td>CHIEF EXECUTIVES</td>\n",
       "      <td>REGIONAL PRESIDEN, AMERICAS</td>\n",
       "      <td>Y</td>\n",
       "      <td>220314.0</td>\n",
       "      <td>2016</td>\n",
       "      <td>DENVER</td>\n",
       "      <td>COLORADO</td>\n",
       "      <td>-104.990251</td>\n",
       "      <td>39.739236</td>\n",
       "    </tr>\n",
       "    <tr>\n",
       "      <th>4</th>\n",
       "      <td>WITHDRAWN</td>\n",
       "      <td>PEABODY INVESTMENTS CORP.</td>\n",
       "      <td>CHIEF EXECUTIVES</td>\n",
       "      <td>PRESIDENT MONGOLIA AND INDIA</td>\n",
       "      <td>Y</td>\n",
       "      <td>157518.4</td>\n",
       "      <td>2016</td>\n",
       "      <td>ST. LOUIS</td>\n",
       "      <td>MISSOURI</td>\n",
       "      <td>-90.199404</td>\n",
       "      <td>38.627003</td>\n",
       "    </tr>\n",
       "    <tr>\n",
       "      <th>5</th>\n",
       "      <td>CERTIFIED-WITHDRAWN</td>\n",
       "      <td>BURGER KING CORPORATION</td>\n",
       "      <td>CHIEF EXECUTIVES</td>\n",
       "      <td>EXECUTIVE V P, GLOBAL DEVELOPMENT AND PRESIDEN...</td>\n",
       "      <td>Y</td>\n",
       "      <td>225000.0</td>\n",
       "      <td>2016</td>\n",
       "      <td>MIAMI</td>\n",
       "      <td>FLORIDA</td>\n",
       "      <td>-80.191790</td>\n",
       "      <td>25.761680</td>\n",
       "    </tr>\n",
       "  </tbody>\n",
       "</table>\n",
       "</div>"
      ],
      "text/plain": [
       "           CASE_STATUS                                      EMPLOYER_NAME  \\\n",
       "1  CERTIFIED-WITHDRAWN                             GOODMAN NETWORKS, INC.   \n",
       "2  CERTIFIED-WITHDRAWN                          PORTS AMERICA GROUP, INC.   \n",
       "3  CERTIFIED-WITHDRAWN  GATES CORPORATION, A WHOLLY-OWNED SUBSIDIARY O...   \n",
       "4            WITHDRAWN                          PEABODY INVESTMENTS CORP.   \n",
       "5  CERTIFIED-WITHDRAWN                            BURGER KING CORPORATION   \n",
       "\n",
       "           SOC_NAME                                          JOB_TITLE  \\\n",
       "1  CHIEF EXECUTIVES                            CHIEF OPERATING OFFICER   \n",
       "2  CHIEF EXECUTIVES                              CHIEF PROCESS OFFICER   \n",
       "3  CHIEF EXECUTIVES                        REGIONAL PRESIDEN, AMERICAS   \n",
       "4  CHIEF EXECUTIVES                       PRESIDENT MONGOLIA AND INDIA   \n",
       "5  CHIEF EXECUTIVES  EXECUTIVE V P, GLOBAL DEVELOPMENT AND PRESIDEN...   \n",
       "\n",
       "  FULL_TIME_POSITION  PREVAILING_WAGE  YEAR     WORKSITE      STATE  \\\n",
       "1                  Y         242674.0  2016        PLANO      TEXAS   \n",
       "2                  Y         193066.0  2016  JERSEY CITY  NEWJERSEY   \n",
       "3                  Y         220314.0  2016       DENVER   COLORADO   \n",
       "4                  Y         157518.4  2016    ST. LOUIS   MISSOURI   \n",
       "5                  Y         225000.0  2016        MIAMI    FLORIDA   \n",
       "\n",
       "          lon        lat  \n",
       "1  -96.698886  33.019843  \n",
       "2  -74.077642  40.728158  \n",
       "3 -104.990251  39.739236  \n",
       "4  -90.199404  38.627003  \n",
       "5  -80.191790  25.761680  "
      ]
     },
     "execution_count": 5,
     "metadata": {},
     "output_type": "execute_result"
    }
   ],
   "source": [
    "data.head()"
   ]
  },
  {
   "cell_type": "code",
   "execution_count": 7,
   "metadata": {
    "collapsed": false
   },
   "outputs": [
    {
     "data": {
      "text/html": [
       "<div>\n",
       "<table border=\"1\" class=\"dataframe\">\n",
       "  <thead>\n",
       "    <tr style=\"text-align: right;\">\n",
       "      <th></th>\n",
       "      <th>CASE_STATUS</th>\n",
       "    </tr>\n",
       "    <tr>\n",
       "      <th>STATE</th>\n",
       "      <th></th>\n",
       "    </tr>\n",
       "  </thead>\n",
       "  <tbody>\n",
       "    <tr>\n",
       "      <th>CALIFORNIA</th>\n",
       "      <td>81586</td>\n",
       "    </tr>\n",
       "    <tr>\n",
       "      <th>NEWYORK</th>\n",
       "      <td>28263</td>\n",
       "    </tr>\n",
       "    <tr>\n",
       "      <th>TEXAS</th>\n",
       "      <td>25390</td>\n",
       "    </tr>\n",
       "    <tr>\n",
       "      <th>NEWJERSEY</th>\n",
       "      <td>19245</td>\n",
       "    </tr>\n",
       "    <tr>\n",
       "      <th>WASHINGTON</th>\n",
       "      <td>16002</td>\n",
       "    </tr>\n",
       "  </tbody>\n",
       "</table>\n",
       "</div>"
      ],
      "text/plain": [
       "            CASE_STATUS\n",
       "STATE                  \n",
       "CALIFORNIA        81586\n",
       "NEWYORK           28263\n",
       "TEXAS             25390\n",
       "NEWJERSEY         19245\n",
       "WASHINGTON        16002"
      ]
     },
     "execution_count": 7,
     "metadata": {},
     "output_type": "execute_result"
    }
   ],
   "source": [
    "data.groupby('STATE')[['CASE_STATUS']].count().sort_values(by=['CASE_STATUS'],ascending=False).head()"
   ]
  },
  {
   "cell_type": "code",
   "execution_count": 9,
   "metadata": {
    "collapsed": false
   },
   "outputs": [],
   "source": [
    "new_data=data[data.STATE=='CALIFORNIA']"
   ]
  },
  {
   "cell_type": "code",
   "execution_count": 27,
   "metadata": {
    "collapsed": false
   },
   "outputs": [
    {
     "data": {
      "text/html": [
       "<div>\n",
       "<table border=\"1\" class=\"dataframe\">\n",
       "  <thead>\n",
       "    <tr style=\"text-align: right;\">\n",
       "      <th></th>\n",
       "      <th>CASE_STATUS</th>\n",
       "      <th>EMPLOYER_NAME</th>\n",
       "      <th>SOC_NAME</th>\n",
       "      <th>JOB_TITLE</th>\n",
       "      <th>FULL_TIME_POSITION</th>\n",
       "      <th>PREVAILING_WAGE</th>\n",
       "      <th>YEAR</th>\n",
       "      <th>WORKSITE</th>\n",
       "      <th>STATE</th>\n",
       "      <th>lon</th>\n",
       "      <th>lat</th>\n",
       "    </tr>\n",
       "  </thead>\n",
       "  <tbody>\n",
       "    <tr>\n",
       "      <th>0</th>\n",
       "      <td>CERTIFIED-WITHDRAWN</td>\n",
       "      <td>GLOBO MOBILE TECHNOLOGIES, INC.</td>\n",
       "      <td>CHIEF EXECUTIVES</td>\n",
       "      <td>CHIEF OPERATIONS OFFICER</td>\n",
       "      <td>Y</td>\n",
       "      <td>150000.0</td>\n",
       "      <td>2016</td>\n",
       "      <td>SAN JOSE</td>\n",
       "      <td>CALIFORNIA</td>\n",
       "      <td>-121.886329</td>\n",
       "      <td>37.338208</td>\n",
       "    </tr>\n",
       "    <tr>\n",
       "      <th>1</th>\n",
       "      <td>CERTIFIED-WITHDRAWN</td>\n",
       "      <td>WESTFIELD CORPORATION</td>\n",
       "      <td>CHIEF EXECUTIVES</td>\n",
       "      <td>GENERAL MANAGER, OPERATIONS</td>\n",
       "      <td>Y</td>\n",
       "      <td>164050.0</td>\n",
       "      <td>2016</td>\n",
       "      <td>LOS ANGELES</td>\n",
       "      <td>CALIFORNIA</td>\n",
       "      <td>-118.243685</td>\n",
       "      <td>34.052234</td>\n",
       "    </tr>\n",
       "    <tr>\n",
       "      <th>2</th>\n",
       "      <td>CERTIFIED</td>\n",
       "      <td>QUICKLOGIX LLC</td>\n",
       "      <td>CHIEF EXECUTIVES</td>\n",
       "      <td>CEO</td>\n",
       "      <td>Y</td>\n",
       "      <td>187200.0</td>\n",
       "      <td>2016</td>\n",
       "      <td>SANTA CLARA</td>\n",
       "      <td>CALIFORNIA</td>\n",
       "      <td>-121.955236</td>\n",
       "      <td>37.354108</td>\n",
       "    </tr>\n",
       "    <tr>\n",
       "      <th>3</th>\n",
       "      <td>CERTIFIED-WITHDRAWN</td>\n",
       "      <td>CUDDLE BARN, INC.</td>\n",
       "      <td>CHIEF EXECUTIVES</td>\n",
       "      <td>CHIEF OPERATING OFFICER (COO)</td>\n",
       "      <td>Y</td>\n",
       "      <td>117998.0</td>\n",
       "      <td>2016</td>\n",
       "      <td>COMMERCE</td>\n",
       "      <td>CALIFORNIA</td>\n",
       "      <td>-118.159793</td>\n",
       "      <td>34.000569</td>\n",
       "    </tr>\n",
       "    <tr>\n",
       "      <th>4</th>\n",
       "      <td>CERTIFIED-WITHDRAWN</td>\n",
       "      <td>WESTFIELD CORPORATION</td>\n",
       "      <td>CHIEF EXECUTIVES</td>\n",
       "      <td>GENERAL MANAGER, OPERATIONS</td>\n",
       "      <td>Y</td>\n",
       "      <td>164050.0</td>\n",
       "      <td>2016</td>\n",
       "      <td>LOS ANGELES</td>\n",
       "      <td>CALIFORNIA</td>\n",
       "      <td>-118.243685</td>\n",
       "      <td>34.052234</td>\n",
       "    </tr>\n",
       "  </tbody>\n",
       "</table>\n",
       "</div>"
      ],
      "text/plain": [
       "           CASE_STATUS                    EMPLOYER_NAME          SOC_NAME  \\\n",
       "0  CERTIFIED-WITHDRAWN  GLOBO MOBILE TECHNOLOGIES, INC.  CHIEF EXECUTIVES   \n",
       "1  CERTIFIED-WITHDRAWN            WESTFIELD CORPORATION  CHIEF EXECUTIVES   \n",
       "2            CERTIFIED                   QUICKLOGIX LLC  CHIEF EXECUTIVES   \n",
       "3  CERTIFIED-WITHDRAWN                CUDDLE BARN, INC.  CHIEF EXECUTIVES   \n",
       "4  CERTIFIED-WITHDRAWN            WESTFIELD CORPORATION  CHIEF EXECUTIVES   \n",
       "\n",
       "                       JOB_TITLE FULL_TIME_POSITION  PREVAILING_WAGE  YEAR  \\\n",
       "0       CHIEF OPERATIONS OFFICER                  Y         150000.0  2016   \n",
       "1    GENERAL MANAGER, OPERATIONS                  Y         164050.0  2016   \n",
       "2                            CEO                  Y         187200.0  2016   \n",
       "3  CHIEF OPERATING OFFICER (COO)                  Y         117998.0  2016   \n",
       "4    GENERAL MANAGER, OPERATIONS                  Y         164050.0  2016   \n",
       "\n",
       "      WORKSITE       STATE         lon        lat  \n",
       "0     SAN JOSE  CALIFORNIA -121.886329  37.338208  \n",
       "1  LOS ANGELES  CALIFORNIA -118.243685  34.052234  \n",
       "2  SANTA CLARA  CALIFORNIA -121.955236  37.354108  \n",
       "3     COMMERCE  CALIFORNIA -118.159793  34.000569  \n",
       "4  LOS ANGELES  CALIFORNIA -118.243685  34.052234  "
      ]
     },
     "execution_count": 27,
     "metadata": {},
     "output_type": "execute_result"
    }
   ],
   "source": [
    "new_data= new_data.reset_index(drop=True)\n",
    "new_data.head()"
   ]
  },
  {
   "cell_type": "code",
   "execution_count": 28,
   "metadata": {
    "collapsed": false
   },
   "outputs": [],
   "source": [
    "output=new_data.groupby(['WORKSITE','SOC_NAME'],as_index=False)[['PREVAILING_WAGE']].mean()"
   ]
  },
  {
   "cell_type": "code",
   "execution_count": 31,
   "metadata": {
    "collapsed": false
   },
   "outputs": [
    {
     "data": {
      "text/html": [
       "<div>\n",
       "<table border=\"1\" class=\"dataframe\">\n",
       "  <thead>\n",
       "    <tr style=\"text-align: right;\">\n",
       "      <th></th>\n",
       "      <th>WORKSITE</th>\n",
       "      <th>SOC_NAME</th>\n",
       "      <th>PREVAILING_WAGE</th>\n",
       "    </tr>\n",
       "  </thead>\n",
       "  <tbody>\n",
       "    <tr>\n",
       "      <th>0</th>\n",
       "      <td>#29G</td>\n",
       "      <td>SOFTWARE DEVELOPERS, APPLICATIONS</td>\n",
       "      <td>138362.0</td>\n",
       "    </tr>\n",
       "    <tr>\n",
       "      <th>1</th>\n",
       "      <td>&amp;NBSP;PLEASANTON</td>\n",
       "      <td>SOFTWARE DEVELOPERS, APPLICATIONS</td>\n",
       "      <td>100360.0</td>\n",
       "    </tr>\n",
       "    <tr>\n",
       "      <th>2</th>\n",
       "      <td>210A NEWARK</td>\n",
       "      <td>SOFTWARE DEVELOPERS, APPLICATIONS</td>\n",
       "      <td>79498.0</td>\n",
       "    </tr>\n",
       "    <tr>\n",
       "      <th>3</th>\n",
       "      <td>7707 AUSTIN RD.</td>\n",
       "      <td>PSYCHIATRISTS</td>\n",
       "      <td>237864.0</td>\n",
       "    </tr>\n",
       "    <tr>\n",
       "      <th>4</th>\n",
       "      <td>ADDISON</td>\n",
       "      <td>COMPUTER OCCUPATIONS, ALL OTHER</td>\n",
       "      <td>97698.0</td>\n",
       "    </tr>\n",
       "  </tbody>\n",
       "</table>\n",
       "</div>"
      ],
      "text/plain": [
       "           WORKSITE                           SOC_NAME  PREVAILING_WAGE\n",
       "0              #29G  SOFTWARE DEVELOPERS, APPLICATIONS         138362.0\n",
       "1  &NBSP;PLEASANTON  SOFTWARE DEVELOPERS, APPLICATIONS         100360.0\n",
       "2       210A NEWARK  SOFTWARE DEVELOPERS, APPLICATIONS          79498.0\n",
       "3   7707 AUSTIN RD.                      PSYCHIATRISTS         237864.0\n",
       "4           ADDISON    COMPUTER OCCUPATIONS, ALL OTHER          97698.0"
      ]
     },
     "execution_count": 31,
     "metadata": {},
     "output_type": "execute_result"
    }
   ],
   "source": [
    "output.head()"
   ]
  },
  {
   "cell_type": "code",
   "execution_count": 38,
   "metadata": {
    "collapsed": false
   },
   "outputs": [
    {
     "data": {
      "text/html": [
       "<div>\n",
       "<table border=\"1\" class=\"dataframe\">\n",
       "  <thead>\n",
       "    <tr style=\"text-align: right;\">\n",
       "      <th></th>\n",
       "      <th>JOB_TITLE</th>\n",
       "    </tr>\n",
       "    <tr>\n",
       "      <th>JOB_TITLE</th>\n",
       "      <th></th>\n",
       "    </tr>\n",
       "  </thead>\n",
       "  <tbody>\n",
       "    <tr>\n",
       "      <th>SOFTWARE ENGINEER</th>\n",
       "      <td>19423</td>\n",
       "    </tr>\n",
       "    <tr>\n",
       "      <th>PROGRAMMER ANALYST</th>\n",
       "      <td>9308</td>\n",
       "    </tr>\n",
       "    <tr>\n",
       "      <th>SENIOR SOFTWARE ENGINEER</th>\n",
       "      <td>5748</td>\n",
       "    </tr>\n",
       "    <tr>\n",
       "      <th>SOFTWARE DEVELOPER</th>\n",
       "      <td>5295</td>\n",
       "    </tr>\n",
       "    <tr>\n",
       "      <th>TECHNOLOGY LEAD - US</th>\n",
       "      <td>4173</td>\n",
       "    </tr>\n",
       "  </tbody>\n",
       "</table>\n",
       "</div>"
      ],
      "text/plain": [
       "                          JOB_TITLE\n",
       "JOB_TITLE                          \n",
       "SOFTWARE ENGINEER             19423\n",
       "PROGRAMMER ANALYST             9308\n",
       "SENIOR SOFTWARE ENGINEER       5748\n",
       "SOFTWARE DEVELOPER             5295\n",
       "TECHNOLOGY LEAD - US           4173"
      ]
     },
     "execution_count": 38,
     "metadata": {},
     "output_type": "execute_result"
    }
   ],
   "source": [
    "data.groupby('JOB_TITLE')[['JOB_TITLE']].count().sort_values(by=['JOB_TITLE'],ascending=False).head()"
   ]
  },
  {
   "cell_type": "code",
   "execution_count": 6,
   "metadata": {
    "collapsed": true
   },
   "outputs": [],
   "source": [
    "#TRYING SOME OTHER ANALYSIS\n"
   ]
  },
  {
   "cell_type": "code",
   "execution_count": 16,
   "metadata": {
    "collapsed": true
   },
   "outputs": [],
   "source": [
    "new_data=data[data.JOB_TITLE=='SOFTWARE ENGINEER']"
   ]
  },
  {
   "cell_type": "code",
   "execution_count": 17,
   "metadata": {
    "collapsed": false
   },
   "outputs": [
    {
     "data": {
      "text/html": [
       "<div>\n",
       "<table border=\"1\" class=\"dataframe\">\n",
       "  <thead>\n",
       "    <tr style=\"text-align: right;\">\n",
       "      <th></th>\n",
       "      <th>CASE_STATUS</th>\n",
       "      <th>EMPLOYER_NAME</th>\n",
       "      <th>SOC_NAME</th>\n",
       "      <th>JOB_TITLE</th>\n",
       "      <th>FULL_TIME_POSITION</th>\n",
       "      <th>PREVAILING_WAGE</th>\n",
       "      <th>YEAR</th>\n",
       "      <th>WORKSITE</th>\n",
       "      <th>STATE</th>\n",
       "      <th>lon</th>\n",
       "      <th>lat</th>\n",
       "    </tr>\n",
       "  </thead>\n",
       "  <tbody>\n",
       "    <tr>\n",
       "      <th>89</th>\n",
       "      <td>DENIED</td>\n",
       "      <td>1 HEMA</td>\n",
       "      <td>SOFTWARE DEVELOPERS APPLICATIONS</td>\n",
       "      <td>SOFTWARE ENGINEER</td>\n",
       "      <td>Y</td>\n",
       "      <td>72000.0</td>\n",
       "      <td>2016</td>\n",
       "      <td>NEW YORK</td>\n",
       "      <td>NEWYORK</td>\n",
       "      <td>-74.005941</td>\n",
       "      <td>40.712784</td>\n",
       "    </tr>\n",
       "    <tr>\n",
       "      <th>491</th>\n",
       "      <td>DENIED</td>\n",
       "      <td>3E CONSULTING, INC.</td>\n",
       "      <td>SOFTWARE DEVELOPERS, APPLICATIONS</td>\n",
       "      <td>SOFTWARE ENGINEER</td>\n",
       "      <td>Y</td>\n",
       "      <td>72946.0</td>\n",
       "      <td>2016</td>\n",
       "      <td>PLANTATION</td>\n",
       "      <td>FLORIDA</td>\n",
       "      <td>-80.233104</td>\n",
       "      <td>26.127586</td>\n",
       "    </tr>\n",
       "    <tr>\n",
       "      <th>1618</th>\n",
       "      <td>DENIED</td>\n",
       "      <td>A.J. BOGGS &amp; COMPANY</td>\n",
       "      <td>SOFTWARE DEVELOPERS, SYSTEMS SOFTWARE</td>\n",
       "      <td>SOFTWARE ENGINEER</td>\n",
       "      <td>Y</td>\n",
       "      <td>92352.0</td>\n",
       "      <td>2016</td>\n",
       "      <td>LANSING</td>\n",
       "      <td>MICHIGAN</td>\n",
       "      <td>-84.555535</td>\n",
       "      <td>42.732535</td>\n",
       "    </tr>\n",
       "    <tr>\n",
       "      <th>9156</th>\n",
       "      <td>CERTIFIED-WITHDRAWN</td>\n",
       "      <td>GOOGLE INC.</td>\n",
       "      <td>COMPUTER AND INFORMATION SYSTEMS MANAGERS</td>\n",
       "      <td>SOFTWARE ENGINEER</td>\n",
       "      <td>Y</td>\n",
       "      <td>154440.0</td>\n",
       "      <td>2016</td>\n",
       "      <td>MOUNTAIN VIEW</td>\n",
       "      <td>CALIFORNIA</td>\n",
       "      <td>-122.083851</td>\n",
       "      <td>37.386052</td>\n",
       "    </tr>\n",
       "    <tr>\n",
       "      <th>9162</th>\n",
       "      <td>CERTIFIED</td>\n",
       "      <td>GOOGLE INC.</td>\n",
       "      <td>COMPUTER AND INFORMATION SYSTEMS MANAGERS</td>\n",
       "      <td>SOFTWARE ENGINEER</td>\n",
       "      <td>Y</td>\n",
       "      <td>154440.0</td>\n",
       "      <td>2016</td>\n",
       "      <td>MOUNTAIN VIEW</td>\n",
       "      <td>CALIFORNIA</td>\n",
       "      <td>-122.083851</td>\n",
       "      <td>37.386052</td>\n",
       "    </tr>\n",
       "  </tbody>\n",
       "</table>\n",
       "</div>"
      ],
      "text/plain": [
       "              CASE_STATUS         EMPLOYER_NAME  \\\n",
       "89                 DENIED                1 HEMA   \n",
       "491                DENIED   3E CONSULTING, INC.   \n",
       "1618               DENIED  A.J. BOGGS & COMPANY   \n",
       "9156  CERTIFIED-WITHDRAWN           GOOGLE INC.   \n",
       "9162            CERTIFIED           GOOGLE INC.   \n",
       "\n",
       "                                       SOC_NAME          JOB_TITLE  \\\n",
       "89             SOFTWARE DEVELOPERS APPLICATIONS  SOFTWARE ENGINEER   \n",
       "491           SOFTWARE DEVELOPERS, APPLICATIONS  SOFTWARE ENGINEER   \n",
       "1618      SOFTWARE DEVELOPERS, SYSTEMS SOFTWARE  SOFTWARE ENGINEER   \n",
       "9156  COMPUTER AND INFORMATION SYSTEMS MANAGERS  SOFTWARE ENGINEER   \n",
       "9162  COMPUTER AND INFORMATION SYSTEMS MANAGERS  SOFTWARE ENGINEER   \n",
       "\n",
       "     FULL_TIME_POSITION  PREVAILING_WAGE  YEAR       WORKSITE       STATE  \\\n",
       "89                    Y          72000.0  2016       NEW YORK     NEWYORK   \n",
       "491                   Y          72946.0  2016     PLANTATION     FLORIDA   \n",
       "1618                  Y          92352.0  2016        LANSING    MICHIGAN   \n",
       "9156                  Y         154440.0  2016  MOUNTAIN VIEW  CALIFORNIA   \n",
       "9162                  Y         154440.0  2016  MOUNTAIN VIEW  CALIFORNIA   \n",
       "\n",
       "             lon        lat  \n",
       "89    -74.005941  40.712784  \n",
       "491   -80.233104  26.127586  \n",
       "1618  -84.555535  42.732535  \n",
       "9156 -122.083851  37.386052  \n",
       "9162 -122.083851  37.386052  "
      ]
     },
     "execution_count": 17,
     "metadata": {},
     "output_type": "execute_result"
    }
   ],
   "source": [
    "new_data.head()"
   ]
  },
  {
   "cell_type": "code",
   "execution_count": 26,
   "metadata": {
    "collapsed": false
   },
   "outputs": [],
   "source": [
    "result=new_data.groupby('STATE')[['CASE_STATUS']].count().sort_values(by=['CASE_STATUS'],ascending=False)"
   ]
  },
  {
   "cell_type": "code",
   "execution_count": 29,
   "metadata": {
    "collapsed": false
   },
   "outputs": [
    {
     "data": {
      "text/html": [
       "<div>\n",
       "<table border=\"1\" class=\"dataframe\">\n",
       "  <thead>\n",
       "    <tr style=\"text-align: right;\">\n",
       "      <th></th>\n",
       "      <th>STATE</th>\n",
       "      <th>CASE_STATUS</th>\n",
       "    </tr>\n",
       "  </thead>\n",
       "  <tbody>\n",
       "    <tr>\n",
       "      <th>0</th>\n",
       "      <td>CALIFORNIA</td>\n",
       "      <td>9530</td>\n",
       "    </tr>\n",
       "    <tr>\n",
       "      <th>1</th>\n",
       "      <td>WASHINGTON</td>\n",
       "      <td>2392</td>\n",
       "    </tr>\n",
       "    <tr>\n",
       "      <th>2</th>\n",
       "      <td>NEWYORK</td>\n",
       "      <td>1385</td>\n",
       "    </tr>\n",
       "    <tr>\n",
       "      <th>3</th>\n",
       "      <td>MASSACHUSETTS</td>\n",
       "      <td>943</td>\n",
       "    </tr>\n",
       "    <tr>\n",
       "      <th>4</th>\n",
       "      <td>TEXAS</td>\n",
       "      <td>651</td>\n",
       "    </tr>\n",
       "  </tbody>\n",
       "</table>\n",
       "</div>"
      ],
      "text/plain": [
       "           STATE  CASE_STATUS\n",
       "0     CALIFORNIA         9530\n",
       "1     WASHINGTON         2392\n",
       "2        NEWYORK         1385\n",
       "3  MASSACHUSETTS          943\n",
       "4          TEXAS          651"
      ]
     },
     "execution_count": 29,
     "metadata": {},
     "output_type": "execute_result"
    }
   ],
   "source": [
    "result.head()"
   ]
  },
  {
   "cell_type": "code",
   "execution_count": 31,
   "metadata": {
    "collapsed": true
   },
   "outputs": [],
   "source": [
    "import matplotlib.pyplot as plt\n",
    "%matplotlib inline"
   ]
  },
  {
   "cell_type": "code",
   "execution_count": 28,
   "metadata": {
    "collapsed": true
   },
   "outputs": [],
   "source": [
    "result=result.reset_index(level=0, drop=False)"
   ]
  },
  {
   "cell_type": "code",
   "execution_count": 35,
   "metadata": {
    "collapsed": false
   },
   "outputs": [
    {
     "data": {
      "image/png": "[encoded data removed]",
      "text/plain": [
       "<matplotlib.figure.Figure at 0x1127c03c8>"
      ]
     },
     "metadata": {},
     "output_type": "display_data"
    }
   ],
   "source": [
    "result.plot(x='STATE',y='CASE_STATUS',kind='pie',autopct='%1.1f%%', startangle=270)\n",
    "plt.show()"
   ]
  },
  {
   "cell_type": "code",
   "execution_count": 36,
   "metadata": {
    "collapsed": false
   },
   "outputs": [
    {
     "data": {
      "text/plain": [
       "<matplotlib.legend.Legend at 0x122ebe7f0>"
      ]
     },
     "execution_count": 36,
     "metadata": {},
     "output_type": "execute_result"
    },
    {
     "data": {
      "image/png": "[encoded data removed]",
      "text/plain": [
       "<matplotlib.figure.Figure at 0x1175b1ba8>"
      ]
     },
     "metadata": {},
     "output_type": "display_data"
    }
   ],
   "source": [
    "plt.legend(labels=result.index, loc=\"best\")"
   ]
  },
  {
   "cell_type": "code",
   "execution_count": null,
   "metadata": {
    "collapsed": true
   },
   "outputs": [],
   "source": []
  },
  {
   "cell_type": "code",
   "execution_count": null,
   "metadata": {
    "collapsed": true
   },
   "outputs": [],
   "source": []
  }
 ],
 "metadata": {
  "anaconda-cloud": {},
  "kernelspec": {
   "display_name": "Python [conda root]",
   "language": "python",
   "name": "conda-root-py"
  },
  "language_info": {
   "codemirror_mode": {
    "name": "ipython",
    "version": 3
   },
   "file_extension": ".py",
   "mimetype": "text/x-python",
   "name": "python",
   "nbconvert_exporter": "python",
   "pygments_lexer": "ipython3",
   "version": "3.5.2"
  }
 },
 "nbformat": 4,
 "nbformat_minor": 2
}
